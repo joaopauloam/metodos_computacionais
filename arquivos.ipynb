{
 "cells": [
  {
   "cell_type": "markdown",
   "metadata": {},
   "source": [
    "# Arquivos"
   ]
  },
  {
   "cell_type": "code",
   "execution_count": 1,
   "metadata": {},
   "outputs": [
    {
     "name": "stdout",
     "output_type": "stream",
     "text": [
      "@<TRIPOS>MOLECULE\n",
      "D:\\Documents\\PROJETO\n",
      "   33    34     1     0     0\n",
      "SMALL\n",
      "bcc\n",
      "\n",
      "\n",
      "@<TRIPOS>ATOM\n",
      "      1 S          -0.8790   -1.4290   -0.0740 S.3       1 LIG     -0.300200\n",
      "      2 O          -4.7320   -1.2760   -0.7270 O.2       1 LIG     -0.611100\n",
      "      3 N          -3.6270   -1.3330    1.2540 N.am      1 LIG     -0.665000\n",
      "      4 H          -4.4600   -1.6170    1.7450 H         1 LIG      0.318500\n",
      "      5 H1         -2.7470   -1.2830    1.7440 H         1 LIG      0.318500\n",
      "      6 C           0.3930   -0.1980   -0.6770 C.3       1 LIG      0.122000\n",
      "      7 H2          0.3210   -0.2180   -1.7660 H         1 LIG      0.081700\n",
      "      8 C1          1.7770   -0.7110   -0.3070 C.ar      1 LIG     -0.081800\n",
      "      9 C2          2.8010   -0.6220   -1.2570 C.ar      1 LIG     -0.116750\n",
      "     10 H3          2.5830   -0.2200   -2.2410 H         1 LIG      0.138000\n",
      "     11 C3          4.0950   -1.0400   -0.9580 C.ar      1 LIG     -0.127750\n",
      "     12 H4          4.8720   -0.9630   -1.7090 H         1 LIG      0.135250\n",
      "     13 C4          4.3870   -1.5610    0.3010 C.ar      1 LIG     -0.122000\n",
      "     14 H5          5.3920   -1.8920    0.5360 H         1 LIG      0.134500\n",
      "     15 C5          3.3740   -1.6630    1.2530 C.ar      1 LIG     -0.127750\n",
      "     16 H6          3.5880   -2.0770    2.2320 H         1 LIG      0.135250\n",
      "     17 C6          2.0800   -1.2420    0.9520 C.ar      1 LIG     -0.116750\n",
      "     18 H7          1.3020   -1.3430    1.6990 H         1 LIG      0.138000\n",
      "     19 C7          0.1130    1.2240   -0.2220 C.ar      1 LIG     -0.081800\n",
      "     20 C8          0.1740    1.6050    1.1240 C.ar      1 LIG     -0.116750\n",
      "     21 H8          0.4200    0.8700    1.8810 H         1 LIG      0.138000\n",
      "     22 C9         -0.0760    2.9190    1.5030 C.ar      1 LIG     -0.127750\n",
      "     23 H9         -0.0200    3.1960    2.5500 H         1 LIG      0.135250\n",
      "     24 C10        -0.3960    3.8810    0.5430 C.ar      1 LIG     -0.122000\n",
      "     25 H10        -0.5910    4.9050    0.8400 H         1 LIG      0.134500\n",
      "     26 C11        -0.4630    3.5160   -0.7980 C.ar      1 LIG     -0.127750\n",
      "     27 H11        -0.7120    4.2530   -1.5530 H         1 LIG      0.135250\n",
      "     28 C12        -0.2110    2.1960   -1.1750 C.ar      1 LIG     -0.116750\n",
      "     29 H12        -0.2630    1.9200   -2.2230 H         1 LIG      0.138000\n",
      "     30 C13        -2.4120   -0.7070   -0.7870 C.3       1 LIG     -0.108300\n",
      "     31 H13        -2.3530    0.3820   -0.6990 H         1 LIG      0.098700\n",
      "     32 H14        -2.5090   -0.9720   -1.8390 H         1 LIG      0.098700\n",
      "     33 C14        -3.7000   -1.1520   -0.0920 C.2       1 LIG      0.673100\n",
      "@<TRIPOS>BOND\n",
      "     1   10    9 1   \n",
      "     2   29   28 1   \n",
      "     3   32   30 1   \n",
      "     4    7    6 1   \n",
      "     5   12   11 1   \n",
      "     6   27   26 1   \n",
      "     7    9   11 ar  \n",
      "     8    9    8 ar  \n",
      "     9   28   26 ar  \n",
      "    10   28   19 ar  \n",
      "    11   11   13 ar  \n",
      "    12   26   24 ar  \n",
      "    13   30   31 1   \n",
      "    14   30   33 1   \n",
      "    15   30    1 1   \n",
      "    16    2   33 2   \n",
      "    17    6    8 1   \n",
      "    18    6   19 1   \n",
      "    19    6    1 1   \n",
      "    20    8   17 ar  \n",
      "    21   19   20 ar  \n",
      "    22   33    3 am  \n",
      "    23   13   14 1   \n",
      "    24   13   15 ar  \n",
      "    25   24   25 1   \n",
      "    26   24   22 ar  \n",
      "    27   17   15 ar  \n",
      "    28   17   18 1   \n",
      "    29   20   22 ar  \n",
      "    30   20   21 1   \n",
      "    31   15   16 1   \n",
      "    32    3    5 1   \n",
      "    33    3    4 1   \n",
      "    34   22   23 1   \n",
      "@<TRIPOS>SUBSTRUCTURE\n",
      "     1 LIG         1 TEMP              0 ****  ****    0 ROOT\n",
      "\n"
     ]
    }
   ],
   "source": [
    "f = open(\"01.mol2\",'r')\n",
    "s = f.read()\n",
    "print(s)\n",
    "f.close()"
   ]
  },
  {
   "cell_type": "code",
   "execution_count": 2,
   "metadata": {},
   "outputs": [
    {
     "data": {
      "text/plain": [
       "['@<TRIPOS>MOLECULE\\n',\n",
       " 'D:\\\\Documents\\\\PROJETO\\n',\n",
       " '   33    34     1     0     0\\n',\n",
       " 'SMALL\\n',\n",
       " 'bcc\\n',\n",
       " '\\n',\n",
       " '\\n',\n",
       " '@<TRIPOS>ATOM\\n',\n",
       " '      1 S          -0.8790   -1.4290   -0.0740 S.3       1 LIG     -0.300200\\n',\n",
       " '      2 O          -4.7320   -1.2760   -0.7270 O.2       1 LIG     -0.611100\\n',\n",
       " '      3 N          -3.6270   -1.3330    1.2540 N.am      1 LIG     -0.665000\\n',\n",
       " '      4 H          -4.4600   -1.6170    1.7450 H         1 LIG      0.318500\\n',\n",
       " '      5 H1         -2.7470   -1.2830    1.7440 H         1 LIG      0.318500\\n',\n",
       " '      6 C           0.3930   -0.1980   -0.6770 C.3       1 LIG      0.122000\\n',\n",
       " '      7 H2          0.3210   -0.2180   -1.7660 H         1 LIG      0.081700\\n',\n",
       " '      8 C1          1.7770   -0.7110   -0.3070 C.ar      1 LIG     -0.081800\\n',\n",
       " '      9 C2          2.8010   -0.6220   -1.2570 C.ar      1 LIG     -0.116750\\n',\n",
       " '     10 H3          2.5830   -0.2200   -2.2410 H         1 LIG      0.138000\\n',\n",
       " '     11 C3          4.0950   -1.0400   -0.9580 C.ar      1 LIG     -0.127750\\n',\n",
       " '     12 H4          4.8720   -0.9630   -1.7090 H         1 LIG      0.135250\\n',\n",
       " '     13 C4          4.3870   -1.5610    0.3010 C.ar      1 LIG     -0.122000\\n',\n",
       " '     14 H5          5.3920   -1.8920    0.5360 H         1 LIG      0.134500\\n',\n",
       " '     15 C5          3.3740   -1.6630    1.2530 C.ar      1 LIG     -0.127750\\n',\n",
       " '     16 H6          3.5880   -2.0770    2.2320 H         1 LIG      0.135250\\n',\n",
       " '     17 C6          2.0800   -1.2420    0.9520 C.ar      1 LIG     -0.116750\\n',\n",
       " '     18 H7          1.3020   -1.3430    1.6990 H         1 LIG      0.138000\\n',\n",
       " '     19 C7          0.1130    1.2240   -0.2220 C.ar      1 LIG     -0.081800\\n',\n",
       " '     20 C8          0.1740    1.6050    1.1240 C.ar      1 LIG     -0.116750\\n',\n",
       " '     21 H8          0.4200    0.8700    1.8810 H         1 LIG      0.138000\\n',\n",
       " '     22 C9         -0.0760    2.9190    1.5030 C.ar      1 LIG     -0.127750\\n',\n",
       " '     23 H9         -0.0200    3.1960    2.5500 H         1 LIG      0.135250\\n',\n",
       " '     24 C10        -0.3960    3.8810    0.5430 C.ar      1 LIG     -0.122000\\n',\n",
       " '     25 H10        -0.5910    4.9050    0.8400 H         1 LIG      0.134500\\n',\n",
       " '     26 C11        -0.4630    3.5160   -0.7980 C.ar      1 LIG     -0.127750\\n',\n",
       " '     27 H11        -0.7120    4.2530   -1.5530 H         1 LIG      0.135250\\n',\n",
       " '     28 C12        -0.2110    2.1960   -1.1750 C.ar      1 LIG     -0.116750\\n',\n",
       " '     29 H12        -0.2630    1.9200   -2.2230 H         1 LIG      0.138000\\n',\n",
       " '     30 C13        -2.4120   -0.7070   -0.7870 C.3       1 LIG     -0.108300\\n',\n",
       " '     31 H13        -2.3530    0.3820   -0.6990 H         1 LIG      0.098700\\n',\n",
       " '     32 H14        -2.5090   -0.9720   -1.8390 H         1 LIG      0.098700\\n',\n",
       " '     33 C14        -3.7000   -1.1520   -0.0920 C.2       1 LIG      0.673100\\n',\n",
       " '@<TRIPOS>BOND\\n',\n",
       " '     1   10    9 1   \\n',\n",
       " '     2   29   28 1   \\n',\n",
       " '     3   32   30 1   \\n',\n",
       " '     4    7    6 1   \\n',\n",
       " '     5   12   11 1   \\n',\n",
       " '     6   27   26 1   \\n',\n",
       " '     7    9   11 ar  \\n',\n",
       " '     8    9    8 ar  \\n',\n",
       " '     9   28   26 ar  \\n',\n",
       " '    10   28   19 ar  \\n',\n",
       " '    11   11   13 ar  \\n',\n",
       " '    12   26   24 ar  \\n',\n",
       " '    13   30   31 1   \\n',\n",
       " '    14   30   33 1   \\n',\n",
       " '    15   30    1 1   \\n',\n",
       " '    16    2   33 2   \\n',\n",
       " '    17    6    8 1   \\n',\n",
       " '    18    6   19 1   \\n',\n",
       " '    19    6    1 1   \\n',\n",
       " '    20    8   17 ar  \\n',\n",
       " '    21   19   20 ar  \\n',\n",
       " '    22   33    3 am  \\n',\n",
       " '    23   13   14 1   \\n',\n",
       " '    24   13   15 ar  \\n',\n",
       " '    25   24   25 1   \\n',\n",
       " '    26   24   22 ar  \\n',\n",
       " '    27   17   15 ar  \\n',\n",
       " '    28   17   18 1   \\n',\n",
       " '    29   20   22 ar  \\n',\n",
       " '    30   20   21 1   \\n',\n",
       " '    31   15   16 1   \\n',\n",
       " '    32    3    5 1   \\n',\n",
       " '    33    3    4 1   \\n',\n",
       " '    34   22   23 1   \\n',\n",
       " '@<TRIPOS>SUBSTRUCTURE\\n',\n",
       " '     1 LIG         1 TEMP              0 ****  ****    0 ROOT\\n']"
      ]
     },
     "execution_count": 2,
     "metadata": {},
     "output_type": "execute_result"
    }
   ],
   "source": [
    "with open(\"01.mol2\",'r') as f:\n",
    "    linhas = f.readlines()\n",
    "linhas"
   ]
  },
  {
   "cell_type": "code",
   "execution_count": 3,
   "metadata": {},
   "outputs": [
    {
     "name": "stdout",
     "output_type": "stream",
     "text": [
      "@<TRIPOS>MOLECULE\n",
      "\n",
      "D:\\Documents\\PROJETO\n",
      "\n",
      "   33    34     1     0     0\n",
      "\n",
      "SMALL\n",
      "\n",
      "bcc\n",
      "\n",
      "\n",
      "\n",
      "\n",
      "\n",
      "@<TRIPOS>ATOM\n",
      "\n",
      "      1 S          -0.8790   -1.4290   -0.0740 S.3       1 LIG     -0.300200\n",
      "\n",
      "      2 O          -4.7320   -1.2760   -0.7270 O.2       1 LIG     -0.611100\n",
      "\n",
      "      3 N          -3.6270   -1.3330    1.2540 N.am      1 LIG     -0.665000\n",
      "\n",
      "      4 H          -4.4600   -1.6170    1.7450 H         1 LIG      0.318500\n",
      "\n",
      "      5 H1         -2.7470   -1.2830    1.7440 H         1 LIG      0.318500\n",
      "\n",
      "      6 C           0.3930   -0.1980   -0.6770 C.3       1 LIG      0.122000\n",
      "\n",
      "      7 H2          0.3210   -0.2180   -1.7660 H         1 LIG      0.081700\n",
      "\n",
      "      8 C1          1.7770   -0.7110   -0.3070 C.ar      1 LIG     -0.081800\n",
      "\n",
      "      9 C2          2.8010   -0.6220   -1.2570 C.ar      1 LIG     -0.116750\n",
      "\n",
      "     10 H3          2.5830   -0.2200   -2.2410 H         1 LIG      0.138000\n",
      "\n",
      "     11 C3          4.0950   -1.0400   -0.9580 C.ar      1 LIG     -0.127750\n",
      "\n",
      "     12 H4          4.8720   -0.9630   -1.7090 H         1 LIG      0.135250\n",
      "\n",
      "     13 C4          4.3870   -1.5610    0.3010 C.ar      1 LIG     -0.122000\n",
      "\n",
      "     14 H5          5.3920   -1.8920    0.5360 H         1 LIG      0.134500\n",
      "\n",
      "     15 C5          3.3740   -1.6630    1.2530 C.ar      1 LIG     -0.127750\n",
      "\n",
      "     16 H6          3.5880   -2.0770    2.2320 H         1 LIG      0.135250\n",
      "\n",
      "     17 C6          2.0800   -1.2420    0.9520 C.ar      1 LIG     -0.116750\n",
      "\n",
      "     18 H7          1.3020   -1.3430    1.6990 H         1 LIG      0.138000\n",
      "\n",
      "     19 C7          0.1130    1.2240   -0.2220 C.ar      1 LIG     -0.081800\n",
      "\n",
      "     20 C8          0.1740    1.6050    1.1240 C.ar      1 LIG     -0.116750\n",
      "\n",
      "     21 H8          0.4200    0.8700    1.8810 H         1 LIG      0.138000\n",
      "\n",
      "     22 C9         -0.0760    2.9190    1.5030 C.ar      1 LIG     -0.127750\n",
      "\n",
      "     23 H9         -0.0200    3.1960    2.5500 H         1 LIG      0.135250\n",
      "\n",
      "     24 C10        -0.3960    3.8810    0.5430 C.ar      1 LIG     -0.122000\n",
      "\n",
      "     25 H10        -0.5910    4.9050    0.8400 H         1 LIG      0.134500\n",
      "\n",
      "     26 C11        -0.4630    3.5160   -0.7980 C.ar      1 LIG     -0.127750\n",
      "\n",
      "     27 H11        -0.7120    4.2530   -1.5530 H         1 LIG      0.135250\n",
      "\n",
      "     28 C12        -0.2110    2.1960   -1.1750 C.ar      1 LIG     -0.116750\n",
      "\n",
      "     29 H12        -0.2630    1.9200   -2.2230 H         1 LIG      0.138000\n",
      "\n",
      "     30 C13        -2.4120   -0.7070   -0.7870 C.3       1 LIG     -0.108300\n",
      "\n",
      "     31 H13        -2.3530    0.3820   -0.6990 H         1 LIG      0.098700\n",
      "\n",
      "     32 H14        -2.5090   -0.9720   -1.8390 H         1 LIG      0.098700\n",
      "\n",
      "     33 C14        -3.7000   -1.1520   -0.0920 C.2       1 LIG      0.673100\n",
      "\n",
      "@<TRIPOS>BOND\n",
      "\n",
      "     1   10    9 1   \n",
      "\n",
      "     2   29   28 1   \n",
      "\n",
      "     3   32   30 1   \n",
      "\n",
      "     4    7    6 1   \n",
      "\n",
      "     5   12   11 1   \n",
      "\n",
      "     6   27   26 1   \n",
      "\n",
      "     7    9   11 ar  \n",
      "\n",
      "     8    9    8 ar  \n",
      "\n",
      "     9   28   26 ar  \n",
      "\n",
      "    10   28   19 ar  \n",
      "\n",
      "    11   11   13 ar  \n",
      "\n",
      "    12   26   24 ar  \n",
      "\n",
      "    13   30   31 1   \n",
      "\n",
      "    14   30   33 1   \n",
      "\n",
      "    15   30    1 1   \n",
      "\n",
      "    16    2   33 2   \n",
      "\n",
      "    17    6    8 1   \n",
      "\n",
      "    18    6   19 1   \n",
      "\n",
      "    19    6    1 1   \n",
      "\n",
      "    20    8   17 ar  \n",
      "\n",
      "    21   19   20 ar  \n",
      "\n",
      "    22   33    3 am  \n",
      "\n",
      "    23   13   14 1   \n",
      "\n",
      "    24   13   15 ar  \n",
      "\n",
      "    25   24   25 1   \n",
      "\n",
      "    26   24   22 ar  \n",
      "\n",
      "    27   17   15 ar  \n",
      "\n",
      "    28   17   18 1   \n",
      "\n",
      "    29   20   22 ar  \n",
      "\n",
      "    30   20   21 1   \n",
      "\n",
      "    31   15   16 1   \n",
      "\n",
      "    32    3    5 1   \n",
      "\n",
      "    33    3    4 1   \n",
      "\n",
      "    34   22   23 1   \n",
      "\n",
      "@<TRIPOS>SUBSTRUCTURE\n",
      "\n",
      "     1 LIG         1 TEMP              0 ****  ****    0 ROOT\n",
      "\n"
     ]
    }
   ],
   "source": [
    "for linha in linhas:\n",
    "    print(linha)"
   ]
  },
  {
   "cell_type": "code",
   "execution_count": 4,
   "metadata": {},
   "outputs": [
    {
     "name": "stdout",
     "output_type": "stream",
     "text": [
      "@<TRIPOS>ATOM\n",
      "\n"
     ]
    }
   ],
   "source": [
    "pos = 0\n",
    "while not linhas[pos].startswith(\"@<TRIPOS>ATOM\"):\n",
    "    pos += 1\n",
    "print(linhas[pos])"
   ]
  },
  {
   "cell_type": "code",
   "execution_count": 5,
   "metadata": {},
   "outputs": [],
   "source": [
    "pos += 1"
   ]
  },
  {
   "cell_type": "code",
   "execution_count": 6,
   "metadata": {},
   "outputs": [
    {
     "name": "stdout",
     "output_type": "stream",
     "text": [
      "      1 S          -0.8790   -1.4290   -0.0740 S.3       1 LIG     -0.300200\n",
      "\n"
     ]
    }
   ],
   "source": [
    "print(linhas[pos])"
   ]
  },
  {
   "cell_type": "code",
   "execution_count": 7,
   "metadata": {},
   "outputs": [],
   "source": [
    "partes = linhas[pos].split()"
   ]
  },
  {
   "cell_type": "code",
   "execution_count": 8,
   "metadata": {},
   "outputs": [
    {
     "data": {
      "text/plain": [
       "['1', 'S', '-0.8790', '-1.4290', '-0.0740', 'S.3', '1', 'LIG', '-0.300200']"
      ]
     },
     "execution_count": 8,
     "metadata": {},
     "output_type": "execute_result"
    }
   ],
   "source": [
    "partes"
   ]
  },
  {
   "cell_type": "code",
   "execution_count": 9,
   "metadata": {},
   "outputs": [
    {
     "data": {
      "text/plain": [
       "-0.879"
      ]
     },
     "execution_count": 9,
     "metadata": {},
     "output_type": "execute_result"
    }
   ],
   "source": [
    "float(partes[2])"
   ]
  },
  {
   "cell_type": "code",
   "execution_count": 10,
   "metadata": {},
   "outputs": [],
   "source": [
    "prop_atomo = {\"atomo\":partes[1],\n",
    " \"coordenadas\":(float(partes[2]),float(partes[3]),float(partes[4])),\n",
    " \"carga\":float(partes[8])}"
   ]
  },
  {
   "cell_type": "code",
   "execution_count": 11,
   "metadata": {},
   "outputs": [
    {
     "data": {
      "text/plain": [
       "{'atomo': 'S', 'coordenadas': (-0.879, -1.429, -0.074), 'carga': -0.3002}"
      ]
     },
     "execution_count": 11,
     "metadata": {},
     "output_type": "execute_result"
    }
   ],
   "source": [
    "prop_atomo"
   ]
  },
  {
   "cell_type": "code",
   "execution_count": 12,
   "metadata": {},
   "outputs": [
    {
     "name": "stdout",
     "output_type": "stream",
     "text": [
      "@<TRIPOS>BOND\n",
      "\n"
     ]
    }
   ],
   "source": [
    "atomos = []\n",
    "while not linhas[pos].startswith(\"@<TRIPOS>BOND\"):\n",
    "    partes = linhas[pos].split()\n",
    "    atomos.append({\"atomo\":partes[1],\n",
    "                   \"coordenadas\":(float(partes[2]),float(partes[3]),float(partes[4])),\n",
    "                   \"carga\":float(partes[8])})\n",
    "    pos += 1\n",
    "print(linhas[pos])"
   ]
  },
  {
   "cell_type": "code",
   "execution_count": 13,
   "metadata": {},
   "outputs": [
    {
     "data": {
      "text/plain": [
       "[{'atomo': 'S', 'coordenadas': (-0.879, -1.429, -0.074), 'carga': -0.3002},\n",
       " {'atomo': 'O', 'coordenadas': (-4.732, -1.276, -0.727), 'carga': -0.6111},\n",
       " {'atomo': 'N', 'coordenadas': (-3.627, -1.333, 1.254), 'carga': -0.665},\n",
       " {'atomo': 'H', 'coordenadas': (-4.46, -1.617, 1.745), 'carga': 0.3185},\n",
       " {'atomo': 'H1', 'coordenadas': (-2.747, -1.283, 1.744), 'carga': 0.3185},\n",
       " {'atomo': 'C', 'coordenadas': (0.393, -0.198, -0.677), 'carga': 0.122},\n",
       " {'atomo': 'H2', 'coordenadas': (0.321, -0.218, -1.766), 'carga': 0.0817},\n",
       " {'atomo': 'C1', 'coordenadas': (1.777, -0.711, -0.307), 'carga': -0.0818},\n",
       " {'atomo': 'C2', 'coordenadas': (2.801, -0.622, -1.257), 'carga': -0.11675},\n",
       " {'atomo': 'H3', 'coordenadas': (2.583, -0.22, -2.241), 'carga': 0.138},\n",
       " {'atomo': 'C3', 'coordenadas': (4.095, -1.04, -0.958), 'carga': -0.12775},\n",
       " {'atomo': 'H4', 'coordenadas': (4.872, -0.963, -1.709), 'carga': 0.13525},\n",
       " {'atomo': 'C4', 'coordenadas': (4.387, -1.561, 0.301), 'carga': -0.122},\n",
       " {'atomo': 'H5', 'coordenadas': (5.392, -1.892, 0.536), 'carga': 0.1345},\n",
       " {'atomo': 'C5', 'coordenadas': (3.374, -1.663, 1.253), 'carga': -0.12775},\n",
       " {'atomo': 'H6', 'coordenadas': (3.588, -2.077, 2.232), 'carga': 0.13525},\n",
       " {'atomo': 'C6', 'coordenadas': (2.08, -1.242, 0.952), 'carga': -0.11675},\n",
       " {'atomo': 'H7', 'coordenadas': (1.302, -1.343, 1.699), 'carga': 0.138},\n",
       " {'atomo': 'C7', 'coordenadas': (0.113, 1.224, -0.222), 'carga': -0.0818},\n",
       " {'atomo': 'C8', 'coordenadas': (0.174, 1.605, 1.124), 'carga': -0.11675},\n",
       " {'atomo': 'H8', 'coordenadas': (0.42, 0.87, 1.881), 'carga': 0.138},\n",
       " {'atomo': 'C9', 'coordenadas': (-0.076, 2.919, 1.503), 'carga': -0.12775},\n",
       " {'atomo': 'H9', 'coordenadas': (-0.02, 3.196, 2.55), 'carga': 0.13525},\n",
       " {'atomo': 'C10', 'coordenadas': (-0.396, 3.881, 0.543), 'carga': -0.122},\n",
       " {'atomo': 'H10', 'coordenadas': (-0.591, 4.905, 0.84), 'carga': 0.1345},\n",
       " {'atomo': 'C11', 'coordenadas': (-0.463, 3.516, -0.798), 'carga': -0.12775},\n",
       " {'atomo': 'H11', 'coordenadas': (-0.712, 4.253, -1.553), 'carga': 0.13525},\n",
       " {'atomo': 'C12', 'coordenadas': (-0.211, 2.196, -1.175), 'carga': -0.11675},\n",
       " {'atomo': 'H12', 'coordenadas': (-0.263, 1.92, -2.223), 'carga': 0.138},\n",
       " {'atomo': 'C13', 'coordenadas': (-2.412, -0.707, -0.787), 'carga': -0.1083},\n",
       " {'atomo': 'H13', 'coordenadas': (-2.353, 0.382, -0.699), 'carga': 0.0987},\n",
       " {'atomo': 'H14', 'coordenadas': (-2.509, -0.972, -1.839), 'carga': 0.0987},\n",
       " {'atomo': 'C14', 'coordenadas': (-3.7, -1.152, -0.092), 'carga': 0.6731}]"
      ]
     },
     "execution_count": 13,
     "metadata": {},
     "output_type": "execute_result"
    }
   ],
   "source": [
    "atomos"
   ]
  },
  {
   "cell_type": "code",
   "execution_count": 14,
   "metadata": {},
   "outputs": [
    {
     "name": "stdout",
     "output_type": "stream",
     "text": [
      "     1   10    9 1   \n",
      "\n"
     ]
    }
   ],
   "source": [
    "pos += 1\n",
    "print(linhas[pos])\n",
    "ligacoes = []\n",
    "while not linhas[pos].startswith(\"@<TRIPOS>SUBSTRUCTURE\"):\n",
    "    partes = linhas[pos].split()\n",
    "    ligacoes.append({\"atomo1\":int(partes[1]),\"atomo2\":int(partes[2])})\n",
    "    pos += 1"
   ]
  },
  {
   "cell_type": "code",
   "execution_count": 15,
   "metadata": {},
   "outputs": [
    {
     "data": {
      "text/plain": [
       "[{'atomo1': 10, 'atomo2': 9},\n",
       " {'atomo1': 29, 'atomo2': 28},\n",
       " {'atomo1': 32, 'atomo2': 30},\n",
       " {'atomo1': 7, 'atomo2': 6},\n",
       " {'atomo1': 12, 'atomo2': 11},\n",
       " {'atomo1': 27, 'atomo2': 26},\n",
       " {'atomo1': 9, 'atomo2': 11},\n",
       " {'atomo1': 9, 'atomo2': 8},\n",
       " {'atomo1': 28, 'atomo2': 26},\n",
       " {'atomo1': 28, 'atomo2': 19},\n",
       " {'atomo1': 11, 'atomo2': 13},\n",
       " {'atomo1': 26, 'atomo2': 24},\n",
       " {'atomo1': 30, 'atomo2': 31},\n",
       " {'atomo1': 30, 'atomo2': 33},\n",
       " {'atomo1': 30, 'atomo2': 1},\n",
       " {'atomo1': 2, 'atomo2': 33},\n",
       " {'atomo1': 6, 'atomo2': 8},\n",
       " {'atomo1': 6, 'atomo2': 19},\n",
       " {'atomo1': 6, 'atomo2': 1},\n",
       " {'atomo1': 8, 'atomo2': 17},\n",
       " {'atomo1': 19, 'atomo2': 20},\n",
       " {'atomo1': 33, 'atomo2': 3},\n",
       " {'atomo1': 13, 'atomo2': 14},\n",
       " {'atomo1': 13, 'atomo2': 15},\n",
       " {'atomo1': 24, 'atomo2': 25},\n",
       " {'atomo1': 24, 'atomo2': 22},\n",
       " {'atomo1': 17, 'atomo2': 15},\n",
       " {'atomo1': 17, 'atomo2': 18},\n",
       " {'atomo1': 20, 'atomo2': 22},\n",
       " {'atomo1': 20, 'atomo2': 21},\n",
       " {'atomo1': 15, 'atomo2': 16},\n",
       " {'atomo1': 3, 'atomo2': 5},\n",
       " {'atomo1': 3, 'atomo2': 4},\n",
       " {'atomo1': 22, 'atomo2': 23}]"
      ]
     },
     "execution_count": 15,
     "metadata": {},
     "output_type": "execute_result"
    }
   ],
   "source": [
    "ligacoes"
   ]
  },
  {
   "cell_type": "code",
   "execution_count": 16,
   "metadata": {},
   "outputs": [
    {
     "name": "stdout",
     "output_type": "stream",
     "text": [
      "H3 - C2\n",
      "H12 - C12\n",
      "H14 - C13\n",
      "H2 - C\n",
      "H4 - C3\n",
      "H11 - C11\n",
      "C2 - C3\n",
      "C2 - C1\n",
      "C12 - C11\n",
      "C12 - C7\n",
      "C3 - C4\n",
      "C11 - C10\n",
      "C13 - H13\n",
      "C13 - C14\n",
      "C13 - S\n",
      "O - C14\n",
      "C - C1\n",
      "C - C7\n",
      "C - S\n",
      "C1 - C6\n",
      "C7 - C8\n",
      "C14 - N\n",
      "C4 - H5\n",
      "C4 - C5\n",
      "C10 - H10\n",
      "C10 - C9\n",
      "C6 - C5\n",
      "C6 - H7\n",
      "C8 - C9\n",
      "C8 - H8\n",
      "C5 - H6\n",
      "N - H1\n",
      "N - H\n",
      "C9 - H9\n"
     ]
    }
   ],
   "source": [
    "for ligacao in ligacoes:\n",
    "    print(\"{} - {}\".format(atomos[ligacao[\"atomo1\"]-1][\"atomo\"],atomos[ligacao[\"atomo2\"]-1][\"atomo\"]))"
   ]
  },
  {
   "cell_type": "code",
   "execution_count": 21,
   "metadata": {},
   "outputs": [],
   "source": [
    "s = \"\"\n",
    "for ligacao in ligacoes:\n",
    "    s += \"{} - {}\\n\".format(atomos[ligacao[\"atomo1\"]-1][\"atomo\"],atomos[ligacao[\"atomo2\"]-1][\"atomo\"])"
   ]
  },
  {
   "cell_type": "code",
   "execution_count": 22,
   "metadata": {},
   "outputs": [
    {
     "data": {
      "text/plain": [
       "'H3 - C2\\nH12 - C12\\nH14 - C13\\nH2 - C\\nH4 - C3\\nH11 - C11\\nC2 - C3\\nC2 - C1\\nC12 - C11\\nC12 - C7\\nC3 - C4\\nC11 - C10\\nC13 - H13\\nC13 - C14\\nC13 - S\\nO - C14\\nC - C1\\nC - C7\\nC - S\\nC1 - C6\\nC7 - C8\\nC14 - N\\nC4 - H5\\nC4 - C5\\nC10 - H10\\nC10 - C9\\nC6 - C5\\nC6 - H7\\nC8 - C9\\nC8 - H8\\nC5 - H6\\nN - H1\\nN - H\\nC9 - H9\\n'"
      ]
     },
     "execution_count": 22,
     "metadata": {},
     "output_type": "execute_result"
    }
   ],
   "source": [
    "s"
   ]
  },
  {
   "cell_type": "code",
   "execution_count": 23,
   "metadata": {},
   "outputs": [],
   "source": [
    "with open(\"ligacoes.txt\",'w') as f:\n",
    "    f.write(s)"
   ]
  },
  {
   "cell_type": "code",
   "execution_count": null,
   "metadata": {},
   "outputs": [],
   "source": []
  }
 ],
 "metadata": {
  "kernelspec": {
   "display_name": "Python 3",
   "language": "python",
   "name": "python3"
  },
  "language_info": {
   "codemirror_mode": {
    "name": "ipython",
    "version": 3
   },
   "file_extension": ".py",
   "mimetype": "text/x-python",
   "name": "python",
   "nbconvert_exporter": "python",
   "pygments_lexer": "ipython3",
   "version": "3.7.6"
  }
 },
 "nbformat": 4,
 "nbformat_minor": 4
}
