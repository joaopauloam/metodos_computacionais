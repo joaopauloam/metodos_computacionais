{
 "cells": [
  {
   "cell_type": "markdown",
   "metadata": {},
   "source": [
    "# Exercícios NumPy"
   ]
  },
  {
   "cell_type": "markdown",
   "metadata": {},
   "source": [
    "1. Faça _n_ = 200 e gere uma matriz *n X n* e dois vetores em $\\mathbb{R}^n$, ambos com elementos inteiros fazendo:\n",
    "    + A = np.floor(10\\*rp.random.random((6,6))\n",
    "    + b = np.sum(A,axis = 1)\n",
    "    + z = np.ones((n,1))"
   ]
  },
  {
   "cell_type": "code",
   "execution_count": 2,
   "metadata": {},
   "outputs": [],
   "source": [
    "import numpy as np"
   ]
  },
  {
   "cell_type": "markdown",
   "metadata": {},
   "source": [
    "a. A solução exata de Ax = b deveria ser o vetor **z**. Por que? Explique. Pode-se calcular a solução usando numpy com o método solve do pacote linalg ou calculando $A^{-1}$ e então multiplicando $A^{-1}$ por __b__. Vamos comparar os dois métodos computacionais tanto para velocidade quanto para precisão. Pode-se usar o método *time()* do pacote time para medir o tempo decorrido em cada computação. Para isso use os comandos"
   ]
  },
  {
   "cell_type": "code",
   "execution_count": 24,
   "metadata": {},
   "outputs": [],
   "source": [
    "n = 1000\n",
    "A = np.floor(10*np.random.random((n,n)))\n",
    "b = np.sum(A,axis = 1)\n",
    "z = np.ones((n,1))"
   ]
  },
  {
   "cell_type": "code",
   "execution_count": null,
   "metadata": {},
   "outputs": [],
   "source": [
    "A"
   ]
  },
  {
   "cell_type": "code",
   "execution_count": null,
   "metadata": {},
   "outputs": [],
   "source": [
    "b"
   ]
  },
  {
   "cell_type": "code",
   "execution_count": 25,
   "metadata": {},
   "outputs": [
    {
     "name": "stdout",
     "output_type": "stream",
     "text": [
      "0.0678873062133789\n",
      "0.09311056137084961\n"
     ]
    }
   ],
   "source": [
    "import time\n",
    "inicio = time.time()\n",
    "x = np.linalg.solve(A,b)\n",
    "fim = time.time()\n",
    "print(fim-inicio)\n",
    "inicio = time.time()\n",
    "y = np.linalg.inv(A).dot(b)\n",
    "fim = time.time()\n",
    "print(fim-inicio)"
   ]
  },
  {
   "cell_type": "markdown",
   "metadata": {},
   "source": [
    "Que método é mais rápido?\n",
    "\n",
    "Para comparar a precisão dos métodos podemos medir quão próximas as soluções **x** e __y__ estão da solução exata **z**. Faça isso com os comandos"
   ]
  },
  {
   "cell_type": "code",
   "execution_count": 26,
   "metadata": {},
   "outputs": [
    {
     "name": "stdout",
     "output_type": "stream",
     "text": [
      "1.7811307984061386e-12\n",
      "4.254161467542872e-10\n"
     ]
    }
   ],
   "source": [
    "print(np.max(np.abs(x-z)))\n",
    "print(np.max(np.abs(y-z)))"
   ]
  },
  {
   "cell_type": "markdown",
   "metadata": {},
   "source": [
    "Que método produz a soulução mais precisa?\n",
    "\n",
    "b. Repita a parte a usando n = 500 e n = 1000."
   ]
  },
  {
   "cell_type": "markdown",
   "metadata": {},
   "source": [
    "2. Faça A = np.floor(10\\*np.random.random((6,6))). Por construção a matriz A terá elementos inteiros. Vamos mudar a sexta coluna de A de modo a tornar a matriz singular. Faça"
   ]
  },
  {
   "cell_type": "code",
   "execution_count": 27,
   "metadata": {},
   "outputs": [],
   "source": [
    "A = np.floor(10*np.random.random((6,6)))\n",
    "B = A.T\n",
    "A[:,5] = -np.sum(B[0:5,:],axis=0)"
   ]
  },
  {
   "cell_type": "markdown",
   "metadata": {},
   "source": [
    "a. Faça x = np.ones((6,1)) e calcule Ax. Como sabemos que A deve ser singular? Explique."
   ]
  },
  {
   "cell_type": "markdown",
   "metadata": {},
   "source": [
    "b. Faça B = x.dot(np.arange(1,7))\n",
    "O produto AB deve ser igual à matriz nula. Por que? Explique. Verifique que isso é verdadeiro calculando AB com o método *dot*."
   ]
  },
  {
   "cell_type": "code",
   "execution_count": 32,
   "metadata": {},
   "outputs": [],
   "source": [
    "x = np.ones((6,1))"
   ]
  },
  {
   "cell_type": "code",
   "execution_count": 29,
   "metadata": {},
   "outputs": [
    {
     "data": {
      "text/plain": [
       "array([[0.],\n",
       "       [0.],\n",
       "       [0.],\n",
       "       [0.],\n",
       "       [0.],\n",
       "       [0.]])"
      ]
     },
     "execution_count": 29,
     "metadata": {},
     "output_type": "execute_result"
    }
   ],
   "source": [
    "A.dot(x)"
   ]
  },
  {
   "cell_type": "code",
   "execution_count": 37,
   "metadata": {},
   "outputs": [
    {
     "data": {
      "text/plain": [
       "array([[1., 2., 3., 4., 5., 6.]])"
      ]
     },
     "execution_count": 37,
     "metadata": {},
     "output_type": "execute_result"
    }
   ],
   "source": [
    "C = np.zeros((1,6))\n",
    "C[0,:] = np.arange(1,7)\n",
    "C"
   ]
  },
  {
   "cell_type": "code",
   "execution_count": 38,
   "metadata": {},
   "outputs": [
    {
     "data": {
      "text/plain": [
       "array([[1., 2., 3., 4., 5., 6.],\n",
       "       [1., 2., 3., 4., 5., 6.],\n",
       "       [1., 2., 3., 4., 5., 6.],\n",
       "       [1., 2., 3., 4., 5., 6.],\n",
       "       [1., 2., 3., 4., 5., 6.],\n",
       "       [1., 2., 3., 4., 5., 6.]])"
      ]
     },
     "execution_count": 38,
     "metadata": {},
     "output_type": "execute_result"
    }
   ],
   "source": [
    "B = x.dot(C)\n",
    "B"
   ]
  },
  {
   "cell_type": "code",
   "execution_count": 39,
   "metadata": {},
   "outputs": [
    {
     "data": {
      "text/plain": [
       "array([[0., 0., 0., 0., 0., 0.],\n",
       "       [0., 0., 0., 0., 0., 0.],\n",
       "       [0., 0., 0., 0., 0., 0.],\n",
       "       [0., 0., 0., 0., 0., 0.],\n",
       "       [0., 0., 0., 0., 0., 0.],\n",
       "       [0., 0., 0., 0., 0., 0.]])"
      ]
     },
     "execution_count": 39,
     "metadata": {},
     "output_type": "execute_result"
    }
   ],
   "source": [
    "A.dot(B)"
   ]
  },
  {
   "cell_type": "code",
   "execution_count": null,
   "metadata": {},
   "outputs": [],
   "source": []
  }
 ],
 "metadata": {
  "kernelspec": {
   "display_name": "Python 3",
   "language": "python",
   "name": "python3"
  },
  "language_info": {
   "codemirror_mode": {
    "name": "ipython",
    "version": 3
   },
   "file_extension": ".py",
   "mimetype": "text/x-python",
   "name": "python",
   "nbconvert_exporter": "python",
   "pygments_lexer": "ipython3",
   "version": "3.7.6"
  }
 },
 "nbformat": 4,
 "nbformat_minor": 2
}
