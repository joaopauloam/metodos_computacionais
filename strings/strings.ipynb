{
 "cells": [
  {
   "cell_type": "markdown",
   "metadata": {
    "slideshow": {
     "slide_type": "slide"
    }
   },
   "source": [
    "# Strings em Python"
   ]
  },
  {
   "cell_type": "markdown",
   "metadata": {
    "slideshow": {
     "slide_type": "fragment"
    }
   },
   "source": [
    "+ Uma String é uma lista de caracteres\n",
    "+ Cada caractere é um elemento independente da lista e pode ser acessado por meio de um índice\n",
    "+ Sempre que o interpretador encontra qualquer coisa entre aspas sim ples ou duplas ele reconhece que se trata de uma string"
   ]
  },
  {
   "cell_type": "markdown",
   "metadata": {
    "slideshow": {
     "slide_type": "slide"
    }
   },
   "source": [
    "+ As strings possuem diversos métodos que podem ser usados para manipulá-las.\n",
    "+ Vamos ver diversos exemplos de métodos para manipular strings.\n",
    "+ Referência: https://wiki.python.org.br/ManipulandoStringsComPython"
   ]
  },
  {
   "cell_type": "code",
   "execution_count": null,
   "metadata": {
    "slideshow": {
     "slide_type": "fragment"
    }
   },
   "outputs": [],
   "source": [
    "test = 'This is just a simple string.'"
   ]
  },
  {
   "cell_type": "markdown",
   "metadata": {
    "slideshow": {
     "slide_type": "slide"
    }
   },
   "source": [
    "O tamanho da string é dado pelo método *len*"
   ]
  },
  {
   "cell_type": "code",
   "execution_count": null,
   "metadata": {
    "slideshow": {
     "slide_type": "fragment"
    }
   },
   "outputs": [],
   "source": [
    "print(len(test))"
   ]
  },
  {
   "cell_type": "markdown",
   "metadata": {
    "slideshow": {
     "slide_type": "slide"
    }
   },
   "source": [
    "O método *replace* substitui na string a primeira substring passada como parâmetro pela segunda"
   ]
  },
  {
   "cell_type": "code",
   "execution_count": null,
   "metadata": {
    "slideshow": {
     "slide_type": "fragment"
    }
   },
   "outputs": [],
   "source": [
    "test = test.replace('simple', 'short')\n",
    "print(test)"
   ]
  },
  {
   "cell_type": "markdown",
   "metadata": {
    "slideshow": {
     "slide_type": "slide"
    }
   },
   "source": [
    "O método *count* retorna o número de vezes que uma substring aparece na string."
   ]
  },
  {
   "cell_type": "code",
   "execution_count": null,
   "metadata": {
    "slideshow": {
     "slide_type": "fragment"
    }
   },
   "outputs": [],
   "source": [
    "print(test.count('i'))\n",
    "print(test.count('is'))"
   ]
  },
  {
   "cell_type": "markdown",
   "metadata": {
    "slideshow": {
     "slide_type": "slide"
    }
   },
   "source": [
    "O método *find* retorna a posição na qual uma substring aparece pela primeira vez"
   ]
  },
  {
   "cell_type": "code",
   "execution_count": null,
   "metadata": {
    "slideshow": {
     "slide_type": "fragment"
    }
   },
   "outputs": [],
   "source": [
    "print(test.find('j'))\n",
    "print(test.find('is'))"
   ]
  },
  {
   "cell_type": "markdown",
   "metadata": {
    "slideshow": {
     "slide_type": "slide"
    }
   },
   "source": [
    "O método *split* divide uma string em uma lista de strings."
   ]
  },
  {
   "cell_type": "code",
   "execution_count": null,
   "metadata": {
    "slideshow": {
     "slide_type": "fragment"
    }
   },
   "outputs": [],
   "source": [
    "print(test.split())\n",
    "print(test.split('a'))"
   ]
  },
  {
   "cell_type": "markdown",
   "metadata": {
    "slideshow": {
     "slide_type": "slide"
    }
   },
   "source": [
    "O método *join* forma uma string intercalando a string com as que estão na lista passada como parâmetro."
   ]
  },
  {
   "cell_type": "code",
   "execution_count": null,
   "metadata": {
    "slideshow": {
     "slide_type": "fragment"
    }
   },
   "outputs": [],
   "source": [
    "print(' some '.join(test.split('a')))\n",
    "print(' some '.join(test.split()))"
   ]
  },
  {
   "cell_type": "markdown",
   "metadata": {
    "slideshow": {
     "slide_type": "slide"
    }
   },
   "source": [
    "O método *upper* transforma todos os caracteres da string em maiúsculos."
   ]
  },
  {
   "cell_type": "code",
   "execution_count": null,
   "metadata": {
    "slideshow": {
     "slide_type": "fragment"
    }
   },
   "outputs": [],
   "source": [
    "print(test.upper())"
   ]
  },
  {
   "cell_type": "markdown",
   "metadata": {
    "slideshow": {
     "slide_type": "slide"
    }
   },
   "source": [
    "O método *lower* transforma todos os caracteres da string em minúsculos."
   ]
  },
  {
   "cell_type": "code",
   "execution_count": null,
   "metadata": {
    "slideshow": {
     "slide_type": "subslide"
    }
   },
   "outputs": [],
   "source": [
    "print(test.lower())"
   ]
  },
  {
   "cell_type": "markdown",
   "metadata": {
    "slideshow": {
     "slide_type": "slide"
    }
   },
   "source": [
    "O método *capitalize* deixa apenas a primeira letra maiúscula para uma string toda minúscula."
   ]
  },
  {
   "cell_type": "code",
   "execution_count": null,
   "metadata": {
    "slideshow": {
     "slide_type": "fragment"
    }
   },
   "outputs": [],
   "source": [
    "print(test.lower().capitalize())"
   ]
  },
  {
   "cell_type": "markdown",
   "metadata": {
    "slideshow": {
     "slide_type": "slide"
    }
   },
   "source": [
    "O método *title* deixa as letras de cada palavra da string maiúscula."
   ]
  },
  {
   "cell_type": "code",
   "execution_count": null,
   "metadata": {
    "slideshow": {
     "slide_type": "fragment"
    }
   },
   "outputs": [],
   "source": [
    "print(test.title())"
   ]
  },
  {
   "cell_type": "markdown",
   "metadata": {
    "slideshow": {
     "slide_type": "slide"
    }
   },
   "source": [
    "O método *swapcase* troca os caracteres maiúsculos para minúsculos e vice-versa."
   ]
  },
  {
   "cell_type": "code",
   "execution_count": null,
   "metadata": {
    "slideshow": {
     "slide_type": "fragment"
    }
   },
   "outputs": [],
   "source": [
    "print(test.swapcase())"
   ]
  },
  {
   "cell_type": "markdown",
   "metadata": {
    "slideshow": {
     "slide_type": "slide"
    }
   },
   "source": [
    "Você pode testar se uma string é toda maiúscula ou toda minúscula com os métodos *isupper* e *islower*"
   ]
  },
  {
   "cell_type": "code",
   "execution_count": null,
   "metadata": {
    "slideshow": {
     "slide_type": "fragment"
    }
   },
   "outputs": [],
   "source": [
    "print('UPPER'.isupper())\n",
    "print('UppER'.isupper())\n",
    "print('lower'.islower())\n",
    "print('Lower'.islower())"
   ]
  },
  {
   "cell_type": "markdown",
   "metadata": {
    "slideshow": {
     "slide_type": "slide"
    }
   },
   "source": [
    "Você pode ainda testar se o primeiro caractere de cada palavra na string é maiúscula com o método *istitle*."
   ]
  },
  {
   "cell_type": "code",
   "execution_count": null,
   "metadata": {
    "slideshow": {
     "slide_type": "fragment"
    }
   },
   "outputs": [],
   "source": [
    "print('This Is A Title'.istitle())\n",
    "print('This is A title'.istitle())"
   ]
  },
  {
   "cell_type": "markdown",
   "metadata": {
    "slideshow": {
     "slide_type": "slide"
    }
   },
   "source": [
    "O método *isalnum* testa  se a string é alfa-numérica, ou seja, contém apenas letras e números, sem caracteres especiais"
   ]
  },
  {
   "cell_type": "code",
   "execution_count": null,
   "metadata": {
    "slideshow": {
     "slide_type": "fragment"
    }
   },
   "outputs": [],
   "source": [
    "print('aa44'.isalnum())\n",
    "print('aa$4'.isalnum())"
   ]
  },
  {
   "cell_type": "markdown",
   "metadata": {
    "slideshow": {
     "slide_type": "slide"
    }
   },
   "source": [
    "O método *isalpha* testa se uma string contém apenas letras."
   ]
  },
  {
   "cell_type": "code",
   "execution_count": null,
   "metadata": {
    "slideshow": {
     "slide_type": "fragment"
    }
   },
   "outputs": [],
   "source": [
    "print('letters'.isalpha())\n",
    "print('letters8'.isalpha())"
   ]
  },
  {
   "cell_type": "markdown",
   "metadata": {
    "slideshow": {
     "slide_type": "slide"
    }
   },
   "source": [
    "O método *isdigit* testa se uma string contém apenas números."
   ]
  },
  {
   "cell_type": "code",
   "execution_count": null,
   "metadata": {
    "slideshow": {
     "slide_type": "fragment"
    }
   },
   "outputs": [],
   "source": [
    "print('306090'.isdigit())\n",
    "print('30-60-90 Triangle'.isdigit())"
   ]
  },
  {
   "cell_type": "markdown",
   "metadata": {
    "slideshow": {
     "slide_type": "slide"
    }
   },
   "source": [
    "O método *isspace* testa se uma string contém apenas espacos."
   ]
  },
  {
   "cell_type": "code",
   "execution_count": null,
   "metadata": {
    "slideshow": {
     "slide_type": "fragment"
    }
   },
   "outputs": [],
   "source": [
    "print('   '.isspace())\n",
    "print(' ab  '.isspace())\n",
    "print(''.isspace())"
   ]
  },
  {
   "cell_type": "markdown",
   "metadata": {
    "slideshow": {
     "slide_type": "slide"
    }
   },
   "source": [
    "Podemos adicionar espacos em ambos os lados de uma string com os métodos *ljust* e *rjust*. "
   ]
  },
  {
   "cell_type": "code",
   "execution_count": null,
   "metadata": {
    "slideshow": {
     "slide_type": "fragment"
    }
   },
   "outputs": [],
   "source": [
    "print('A string.'.ljust(15))\n",
    "print('A string.'.rjust(15))"
   ]
  },
  {
   "cell_type": "markdown",
   "metadata": {
    "slideshow": {
     "slide_type": "slide"
    }
   },
   "source": [
    "O método *center* é usado para centralizar uma string dentro de espacos. "
   ]
  },
  {
   "cell_type": "code",
   "execution_count": null,
   "metadata": {
    "slideshow": {
     "slide_type": "fragment"
    }
   },
   "outputs": [],
   "source": [
    "print('A string.'.center(15))"
   ]
  },
  {
   "cell_type": "markdown",
   "metadata": {
    "slideshow": {
     "slide_type": "slide"
    }
   },
   "source": [
    "Os métodos *rstrip*, *lstrip* e *strip* eliminam espaços à esquerda, à direita e de ambos os lados, respectivamente."
   ]
  },
  {
   "cell_type": "code",
   "execution_count": null,
   "metadata": {
    "slideshow": {
     "slide_type": "fragment"
    }
   },
   "outputs": [],
   "source": [
    "print('        A string.'.lstrip())\n",
    "print('A string.       '.rstrip())\n",
    "print('        A string.        '.strip())"
   ]
  },
  {
   "cell_type": "markdown",
   "metadata": {
    "slideshow": {
     "slide_type": "slide"
    }
   },
   "source": [
    "O método *endswith* testa se uma string termina com a string passada como parâmetro para o método."
   ]
  },
  {
   "cell_type": "code",
   "execution_count": null,
   "metadata": {
    "slideshow": {
     "slide_type": "fragment"
    }
   },
   "outputs": [],
   "source": [
    "print(test)\n",
    "print(test.endswith(\"ing.\"))\n",
    "print(test.endswith(\"This\"))"
   ]
  },
  {
   "cell_type": "markdown",
   "metadata": {
    "slideshow": {
     "slide_type": "slide"
    }
   },
   "source": [
    "O método *startswith* testa se uma string começa com a string passada como parâmetro para o método."
   ]
  },
  {
   "cell_type": "code",
   "execution_count": null,
   "metadata": {
    "slideshow": {
     "slide_type": "fragment"
    }
   },
   "outputs": [],
   "source": [
    "print(test)\n",
    "print(test.startswith(\"ing.\"))\n",
    "print(test.startswith(\"This\"))"
   ]
  },
  {
   "cell_type": "markdown",
   "metadata": {
    "slideshow": {
     "slide_type": "slide"
    }
   },
   "source": [
    "Como uma string em Python é uma lista, para testar se uma substring aparece em uma string basta usar o operador in."
   ]
  },
  {
   "cell_type": "code",
   "execution_count": null,
   "metadata": {
    "slideshow": {
     "slide_type": "fragment"
    }
   },
   "outputs": [],
   "source": [
    "print(test)\n",
    "print(\"just\" in test)\n",
    "print(\"test\" in test)"
   ]
  },
  {
   "cell_type": "markdown",
   "metadata": {
    "slideshow": {
     "slide_type": "slide"
    }
   },
   "source": [
    "O exemplo a seguir mostra uma função que monta um arquivo de entrada para o programa de estrutura eletrônica gaussian."
   ]
  },
  {
   "cell_type": "code",
   "execution_count": null,
   "metadata": {
    "slideshow": {
     "slide_type": "fragment"
    }
   },
   "outputs": [],
   "source": [
    "import os\n",
    "def monta_input(file_to_read,directory,extension,charge,multiplicity):\n",
    "    with open(file_to_read, 'r') as f:\n",
    "        linesToAdd = f.readlines()\n",
    "    l = [f for f in os.listdir(directory) if f.endswith(extension)]\n",
    "    for file_to_write in l:\n",
    "        with open(directory+'/'+file_to_write, 'r') as f:\n",
    "            lines = f.readlines()\n",
    "        with open(directory+'/'+file_to_write, 'w') as f:\n",
    "            for line in linesToAdd:\n",
    "                if line.startswith(\"%chk\"):\n",
    "                    line = line.replace(\"file\",file_to_write[:-4])\n",
    "                f.write(line)\n",
    "            f.write(\"\\n\")\n",
    "            f.write(file_to_write[:-4]+\"\\n\\n\")\n",
    "            f.write(\"{}  {}\\n\".format(charge,multiplicity))\n",
    "            for line in lines[5:]:\n",
    "                f.write(line)\n",
    "\n",
    "monta_input(\"input.txt\",'.','gjf',1,1)\n"
   ]
  },
  {
   "cell_type": "markdown",
   "metadata": {
    "slideshow": {
     "slide_type": "slide"
    }
   },
   "source": [
    "# Expressões regulares\n",
    "+ Expressões regulares descrevem conjuntos de *palavras*\n",
    "+ Uma palavra é uma sequência de símbolos retirados de um dado *alfabeto*\n",
    "+ Aos conjuntos de palavras dá-se o nome de *linguagem*\n",
    "+ As expressões regulares que nos interessam descrevem padrões de procura, sendo frequentemente utilizadas em operações de procura e substituição\n",
    "+ Expressões regulares descrevem conjuntos de palavras\n",
    "+ Em python o módulo que manipula expressões regulares é o módulo *re*"
   ]
  },
  {
   "cell_type": "markdown",
   "metadata": {
    "slideshow": {
     "slide_type": "slide"
    }
   },
   "source": [
    "+ O método *search* retorna um objeto caso o padrão expresso por uma expressão regular seja encontrado em uma string\n",
    "+ Por exemplo, o conjunto de dígitos de 0 a 9 pode ser descrito como [0-9]"
   ]
  },
  {
   "cell_type": "code",
   "execution_count": null,
   "metadata": {
    "slideshow": {
     "slide_type": "fragment"
    }
   },
   "outputs": [],
   "source": [
    "import re\n",
    "print(re.search('[0-9]','85'))\n",
    "print(re.search('[0-9]','casa'))"
   ]
  },
  {
   "cell_type": "markdown",
   "metadata": {
    "slideshow": {
     "slide_type": "slide"
    }
   },
   "source": [
    "O * em uma expressão regular significa que aquele padrão deve ocorrer 0 ou mais vezes"
   ]
  },
  {
   "cell_type": "code",
   "execution_count": null,
   "metadata": {
    "slideshow": {
     "slide_type": "fragment"
    }
   },
   "outputs": [],
   "source": [
    "print(re.search('[02468]*','646632848'))"
   ]
  },
  {
   "cell_type": "markdown",
   "metadata": {
    "slideshow": {
     "slide_type": "slide"
    }
   },
   "source": [
    "O \\^ em uma expressão regular serve para testar se o padrão ocorre no início da string enquanto que o \\$ serve para testar se o padrão ocorre no final da string"
   ]
  },
  {
   "cell_type": "code",
   "execution_count": null,
   "metadata": {
    "slideshow": {
     "slide_type": "fragment"
    }
   },
   "outputs": [],
   "source": [
    "print(re.search('^[02468]*','646632848'))\n",
    "print(re.search('[02468]*$','646632848'))"
   ]
  },
  {
   "cell_type": "markdown",
   "metadata": {
    "slideshow": {
     "slide_type": "slide"
    }
   },
   "source": [
    "+ Por exemplo, podemos verificar se uma string obedece ao padrão de placas de automóveis utilizado no Brasil. As placas apresentam uma sequência de 3 letras, um hífen e 4 dígitos (OZZ-8026, por exemplo).\n",
    "+ Assim uma expressão regular para testar se uma string é uma placa válida seria:"
   ]
  },
  {
   "cell_type": "code",
   "execution_count": null,
   "metadata": {
    "slideshow": {
     "slide_type": "fragment"
    }
   },
   "outputs": [],
   "source": [
    "re.search('[A-Z][A-Z][A-Z]-[0-9][0-9][0-9][0-9]','Minha placa é OZZ-8026')"
   ]
  },
  {
   "cell_type": "markdown",
   "metadata": {
    "slideshow": {
     "slide_type": "slide"
    }
   },
   "source": [
    "Ou ainda"
   ]
  },
  {
   "cell_type": "code",
   "execution_count": null,
   "metadata": {
    "slideshow": {
     "slide_type": "fragment"
    }
   },
   "outputs": [],
   "source": [
    "re.search('[A-Z]{3}-[0-9]{4}','Minha placa é OZZ-8026')"
   ]
  },
  {
   "cell_type": "markdown",
   "metadata": {
    "slideshow": {
     "slide_type": "slide"
    }
   },
   "source": [
    "+ Podemos testar se um número é inteiro usando expressões regulares. Um número pode começar com um sinal (+ ou -) e tem uma sequência de 1 ou mais dígitos.\n",
    "+ O \\+ testa se um padrão ocorre uma ou mais vezes\n",
    "+ A interrogação testa se um caractere ocorre zero ou uma vez"
   ]
  },
  {
   "cell_type": "code",
   "execution_count": null,
   "metadata": {
    "slideshow": {
     "slide_type": "fragment"
    }
   },
   "outputs": [],
   "source": [
    "print(re.search('^[+-]?[0-9]+','-526'))\n",
    "print(re.search('^[+-]?[0-9]+','8527'))\n",
    "print(re.search('^[+-]?[0-9]+','+320'))\n",
    "print(re.search('^[+-]?[0-9]+','95j8'))"
   ]
  },
  {
   "cell_type": "markdown",
   "metadata": {
    "slideshow": {
     "slide_type": "slide"
    }
   },
   "source": [
    "Se você quiser testar se o padrão \"casa\" exatamente com a string você deve usar \\^ no início e $ no fim"
   ]
  },
  {
   "cell_type": "code",
   "execution_count": null,
   "metadata": {
    "slideshow": {
     "slide_type": "fragment"
    }
   },
   "outputs": [],
   "source": [
    "print(re.search('^[+-]?[0-9]+$','95j8'))"
   ]
  },
  {
   "cell_type": "markdown",
   "metadata": {
    "slideshow": {
     "slide_type": "slide"
    }
   },
   "source": [
    "Exemplo para testar se um CPF é válido:"
   ]
  },
  {
   "cell_type": "code",
   "execution_count": null,
   "metadata": {
    "slideshow": {
     "slide_type": "fragment"
    }
   },
   "outputs": [],
   "source": [
    "print(re.search('[0-9]{3}.[0-9]{3}.[0-9]{3}-[0-9]{2}','123.456.789-12'))"
   ]
  },
  {
   "cell_type": "markdown",
   "metadata": {
    "slideshow": {
     "slide_type": "slide"
    }
   },
   "source": [
    "O exemplo a seguir testa se o arquivo de saída de uma tentativa de otimização de geometria com o programa GAMESS foi bem sucedida"
   ]
  },
  {
   "cell_type": "code",
   "execution_count": null,
   "metadata": {
    "slideshow": {
     "slide_type": "fragment"
    }
   },
   "outputs": [],
   "source": [
    "import os\n",
    "import re\n",
    "def verifica_otimizacao(directory,extension):\n",
    "    l = [f for f in os.listdir(directory) if f.endswith(extension)]\n",
    "    for arq in l:\n",
    "        with open (arq) as f:\n",
    "            if (re.search('EQUILIBRIUM GEOMETRY LOCATED',f.read())):\n",
    "                print(\"{}: Geometria otimizada com sucesso\".format(arq))\n",
    "            else:\n",
    "                print(\"{}: Falha na otimização da geometria\".format(arq))\n",
    "verifica_otimizacao('.','gamout')                "
   ]
  },
  {
   "cell_type": "markdown",
   "metadata": {
    "slideshow": {
     "slide_type": "slide"
    }
   },
   "source": [
    "+ Para além de reconhecer padrões, a operação *search* também pode classificar os vários grupos existentes numa expressão regular.\n",
    "+ Para isso basta separar os grupos desejados usando parênteses"
   ]
  },
  {
   "cell_type": "code",
   "execution_count": null,
   "metadata": {
    "slideshow": {
     "slide_type": "fragment"
    }
   },
   "outputs": [],
   "source": [
    "placa = re.search('^([A-Z]{3})-(\\d{4})$','OZZ-8026')\n",
    "print(placa.group(1),',',placa.group(2))"
   ]
  },
  {
   "cell_type": "markdown",
   "metadata": {
    "slideshow": {
     "slide_type": "slide"
    }
   },
   "source": [
    "+ Outra tarefa comum é procurar e alterar parte de uma string utilizando expressões regulares\n",
    "+ O método sub recebe três parâmetros obrigatórios:o padrão, o padrão de substituição e a string e Devolve uma nova string com a alteração efetuada."
   ]
  },
  {
   "cell_type": "code",
   "execution_count": null,
   "metadata": {
    "slideshow": {
     "slide_type": "fragment"
    }
   },
   "outputs": [],
   "source": [
    "data = '15/04/2019'\n",
    "print(re.sub('/','-',data))\n",
    "print(re.sub(r'(\\d{2})/(\\d{2})/(\\d{4})',r'\\3-\\2-\\1',data))"
   ]
  },
  {
   "cell_type": "markdown",
   "metadata": {
    "slideshow": {
     "slide_type": "slide"
    }
   },
   "source": [
    "O exemplo a seguir renomeia arquivos com caracteres especiais substituindo-os pelo caractere \"_\""
   ]
  },
  {
   "cell_type": "code",
   "execution_count": null,
   "metadata": {
    "slideshow": {
     "slide_type": "subslide"
    }
   },
   "outputs": [],
   "source": [
    "%ls"
   ]
  },
  {
   "cell_type": "code",
   "execution_count": null,
   "metadata": {
    "slideshow": {
     "slide_type": "subslide"
    }
   },
   "outputs": [],
   "source": [
    "import os\n",
    "import re\n",
    "import shutil\n",
    "def renomeia_arquivos(extensao):\n",
    "    l = os.listdir(os.getcwd())\n",
    "    for filename in l:\n",
    "        if filename.endswith('.'+extensao):\n",
    "            shutil.move(filename, re.sub('[^a-zA-Z0-9\\-\\.]', '_', filename))\n",
    "renomeia_arquivos(\"txt\")"
   ]
  },
  {
   "cell_type": "code",
   "execution_count": null,
   "metadata": {
    "slideshow": {
     "slide_type": "subslide"
    }
   },
   "outputs": [],
   "source": [
    "%ls"
   ]
  }
 ],
 "metadata": {
  "celltoolbar": "Slideshow",
  "kernelspec": {
   "display_name": "Python 3",
   "language": "python",
   "name": "python3"
  },
  "language_info": {
   "codemirror_mode": {
    "name": "ipython",
    "version": 3
   },
   "file_extension": ".py",
   "mimetype": "text/x-python",
   "name": "python",
   "nbconvert_exporter": "python",
   "pygments_lexer": "ipython3",
   "version": "3.6.8"
  }
 },
 "nbformat": 4,
 "nbformat_minor": 2
}
