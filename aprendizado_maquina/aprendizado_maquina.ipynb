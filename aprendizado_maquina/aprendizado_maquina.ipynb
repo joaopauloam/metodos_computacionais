{
 "cells": [
  {
   "cell_type": "markdown",
   "metadata": {
    "slideshow": {
     "slide_type": "slide"
    }
   },
   "source": [
    "# Aprendizado de Máquina\n",
    "\n",
    "+ Aprendizado de Máquina é uma área de IA cujo objetivo é o desenvolvimento de técnicas computacionais sobre o aprendizado bem como a construção de sistemas capazes de adquirir conhecimento de forma automática\n",
    "+ Um sistema de aprendizado é um programa de computador que toma decisões baseado em experiências acumuladas através da solução bem sucedida de problemas anteriores\n",
    "+ Nas últimas décadas o aprendizado de máquina tornou-se um dos pilares em tecnologia da informação\n",
    "+ Embora hoje seja parte central do nosso cotidiano, seus conceitos não são claros para a maioria da pessoas"
   ]
  },
  {
   "cell_type": "markdown",
   "metadata": {
    "slideshow": {
     "slide_type": "slide"
    }
   },
   "source": [
    "## Exemplos\n",
    "\n",
    "+ Ranqueamento de páginas web\n",
    "    + Em uma busca na web o motor de busca retorna os resultados mais relevantes\n",
    "    + Como classificar a relevância das páginas encontradas?\n",
    "![alt_text](ranqueamento.png)    "
   ]
  },
  {
   "cell_type": "markdown",
   "metadata": {
    "slideshow": {
     "slide_type": "slide"
    }
   },
   "source": [
    "## Exemplos\n",
    "\n",
    "+ Filtro colaborativo\n",
    "    + Livrarias como a Amazon ou serviços de streaming como o Netflix usam essa informação para sugerir livros, filmes ou séries\n",
    "    + Essa sugestão pode ser \"aprendida\" com base em compras passadas do próprio usuário ou de decisões tomadas por usuários parecidos\n",
    "![alt_text](filtro_colaborativo.png)        "
   ]
  },
  {
   "cell_type": "markdown",
   "metadata": {
    "slideshow": {
     "slide_type": "slide"
    }
   },
   "source": [
    "## Exemplos\n",
    "\n",
    "+ Tradução automática\n",
    "    + Documentos traduzidos podem servir de exemplo para a aprendizagem de um tradutor automático\n",
    "+ Reconhecimento de discurso\n",
    "    + Traduzir um áudio em texto\n",
    "    + Traduzir um texto escrito a mão em um texto digitado    "
   ]
  },
  {
   "cell_type": "markdown",
   "metadata": {
    "slideshow": {
     "slide_type": "slide"
    }
   },
   "source": [
    "## Exemplos\n",
    "\n",
    "+ Classificador\n",
    "    + Dada a foto de uma pessoa um sistema de segurança pode tentar identificar em sua base de dados quem é aquela pessoa\n",
    "    + Ou ainda, o sistema pode verificar se aquela pessoa é quem realmente diz ser\n",
    "![alt_text](verificacao.png)"
   ]
  },
  {
   "cell_type": "markdown",
   "metadata": {
    "slideshow": {
     "slide_type": "slide"
    }
   },
   "source": [
    "[![O dilema das fritas enroladas](video.png)](https://www.ted.com/talks/jennifer_golbeck_the_curly_fry_conundrum_why_social_media_likes_say_more_than_you_might_think?language=pt-br#t-1752 \"O dilema das fritas enroladas\")"
   ]
  },
  {
   "cell_type": "markdown",
   "metadata": {
    "slideshow": {
     "slide_type": "slide"
    }
   },
   "source": [
    "### Classificação\n",
    "\n",
    "+ Problema comum em aprendizado de máquina\n",
    "+ Exemplo: filtro de spam\n",
    "    + Depende do usuário a classificação de um e-mail em spam ou não\n",
    "+ Exemplo: Diagnosticar câncer em um paciente com base em dados histológicos\n",
    "+ Estes são exemplos de classificação binária\n",
    "![alt_text](classificacao_binaria.png)"
   ]
  },
  {
   "cell_type": "markdown",
   "metadata": {
    "slideshow": {
     "slide_type": "slide"
    }
   },
   "source": [
    "### Dados\n",
    "\n",
    "+ É útil caracterizar os problemas de aprendizagem de acordo com o tipo de dados que eles trabalham\n",
    "+ Isso possibilita que quando novos desfios são encontrados com tipos de dados similares, técnicas similares possam ser utilizadas\n",
    "+ Por exemplo, processamento de linguagem natural e bioinformática usam técnicas bastante similares para tratarem as strings enconytradas nos textos de linguagem natural e nas sequências de DNA\n",
    "+ Os **vetores** constituem a entidade básica para codificar os dados trabalhados em aprendizado de máquina."
   ]
  },
  {
   "cell_type": "markdown",
   "metadata": {
    "slideshow": {
     "slide_type": "slide"
    }
   },
   "source": [
    "### Dados\n",
    "\n",
    "+ Por exemplo, para uma companhia de seguro de vida seria interessante obter um vetor de variáveis  (pressão sanguínea, batimentos cardíacos, altura, peso, nível de colesterol, fumante, gênero) para inferir a expectativa de vida de um cliente em potencial.\n",
    "+ Um engenheiro pode querer descobrir dependências entre pares (voltagem, corrente)."
   ]
  },
  {
   "cell_type": "markdown",
   "metadata": {
    "slideshow": {
     "slide_type": "slide"
    }
   },
   "source": [
    "### Dados\n",
    "\n",
    "+ Referência: http://dcm.ffclrp.usp.br/~augusto/teaching/ami/AM-I-Conceitos-Definicoes.pdf\n",
    "+ De maneira geral, dados pares (x,f(x)), inferir f.\n",
    "![alt_text](dados.png)"
   ]
  },
  {
   "cell_type": "markdown",
   "metadata": {
    "slideshow": {
     "slide_type": "slide"
    }
   },
   "source": [
    "### Dados\n",
    "\n",
    "+ Dada uma amostra finita, normalmente é impossível determinar a verdadeira função f.\n",
    "+ Abordagem: Encontre uma hipótese ( modelo ) nos exemplos de treinamento e assuma que a hipótese se repita para exemplos futuros também"
   ]
  },
  {
   "cell_type": "markdown",
   "metadata": {
    "slideshow": {
     "slide_type": "slide"
    }
   },
   "source": [
    "### Exemplos\n",
    "\n",
    "+ [Chemistry world](https://www.chemistryworld.com/1616.tag)\n",
    "    + [Ligand selector steers C–N cross-couplings down most sustainable path](Ligand.pdf)\n",
    "    + [Neural network folds proteins a million times faster than its competitors](Neural.pdf)\n",
    "    + [Algorithm accurately predicts mechanical properties of existing and theoretical MOFs](MOF.pdf)\n",
    "    + [Lithium–ion battery book written by machine learning algorithm](Lithium.pdf)\n"
   ]
  },
  {
   "cell_type": "markdown",
   "metadata": {
    "slideshow": {
     "slide_type": "slide"
    }
   },
   "source": [
    "### Dados\n",
    "\n",
    "![alt_text](dados2.png)\n",
    "+ $f: X_1 \\times X_2 \\times X_3 \\times X_4 \\rightarrow Y$"
   ]
  },
  {
   "cell_type": "markdown",
   "metadata": {
    "slideshow": {
     "slide_type": "slide"
    }
   },
   "source": [
    "## Problemas\n",
    "\n",
    "+ Classificação binária\n",
    "+ Classificação multiclasse\n",
    "+ Estimativa estruturada\n",
    "+ Regressão\n",
    "+ Detecção de novidades"
   ]
  },
  {
   "cell_type": "markdown",
   "metadata": {
    "slideshow": {
     "slide_type": "slide"
    }
   },
   "source": [
    "## Hierarquia do aprendizado\n",
    "![alt_text](hierarquia_aprendizado.png)"
   ]
  },
  {
   "cell_type": "markdown",
   "metadata": {
    "slideshow": {
     "slide_type": "slide"
    }
   },
   "source": [
    "## Como funciona o aprendizado de máquina\n",
    "![alt_text](aprendizado.png)"
   ]
  },
  {
   "cell_type": "markdown",
   "metadata": {
    "slideshow": {
     "slide_type": "slide"
    }
   },
   "source": [
    "## Como funciona o aprendizado de máquina\n",
    "![alt_text](aprendizado2.png)"
   ]
  },
  {
   "cell_type": "markdown",
   "metadata": {
    "slideshow": {
     "slide_type": "slide"
    }
   },
   "source": [
    "## Como funciona o aprendizado de máquina\n",
    "![alt_text](aprendizado3.png)"
   ]
  },
  {
   "cell_type": "markdown",
   "metadata": {
    "slideshow": {
     "slide_type": "slide"
    }
   },
   "source": [
    "## Como funciona o aprendizado de máquina\n",
    "![alt_text](aprendizado4.png)"
   ]
  },
  {
   "cell_type": "markdown",
   "metadata": {
    "slideshow": {
     "slide_type": "slide"
    }
   },
   "source": [
    "## AS X AnS\n",
    "+ Aprendizado Supervisionado\n",
    "    + Compreender o relacionamento entre os atributos e a classe\n",
    "    + Predizer a classe de novos exemplos o melhor possível\n",
    "+ Aprendizado Não Supervisionado\n",
    "    + Encontrar representações úteis dos exemplos, tais como:\n",
    "        + Encontrar agrupamentos (clusters)\n",
    "        + Redução da dimensão\n",
    "        + Encontrar as causas ou as fontes ocultas dos exemplos\n",
    "        + Modelar a densidade dos exemplos"
   ]
  },
  {
   "cell_type": "markdown",
   "metadata": {
    "slideshow": {
     "slide_type": "slide"
    }
   },
   "source": [
    "## Exemplo, Atributo e Classe\n",
    "+ Exemplo\n",
    "    + Exemplo, caso, registro ou instância\n",
    "    + É um conjunto fixo de atributos\n",
    "    + Um exemplo descreve o objeto de interesse, tal como um paciente, exemplos médicos sobre uma determinada doença ou histórico de clientes de uma dada companhia\n",
    "+ Atributo\n",
    "    + Atributo, campo ou característica (feature)\n",
    "    + Uma única característica de um exemplo\n",
    "+ Classe\n",
    "    + Atributo especial que descreve o fenômeno de interesse (somente no Aprendizado Supervisionado)"
   ]
  },
  {
   "cell_type": "markdown",
   "metadata": {
    "slideshow": {
     "slide_type": "slide"
    }
   },
   "source": [
    "## Exemplo, Atributo e Classe\n",
    "![alt_text](exemplos.png)"
   ]
  },
  {
   "cell_type": "markdown",
   "metadata": {
    "slideshow": {
     "slide_type": "slide"
    }
   },
   "source": [
    "## Conjuntos de Exemplos\n",
    "\n",
    "+ Em geral, um conjunto de exemplos é dividido em dois subconjuntos disjuntos:\n",
    "    + conjunto de treinamento que é usado para o aprendizado do conceito e o\n",
    "    + conjunto de teste que é usado para medir o grau de efetividade do conceito aprendido\n",
    "+     Os subconjuntos são disjuntos para assegurar que as medidas obtidas utilizando o conjunto de teste sejam de um conjunto diferente do usado para realizar o aprendizado, tornando a medida estatisticamente válida"
   ]
  },
  {
   "cell_type": "markdown",
   "metadata": {
    "slideshow": {
     "slide_type": "slide"
    }
   },
   "source": [
    "## Erro aparente\n",
    "![alt_text](erro1.png)"
   ]
  },
  {
   "cell_type": "markdown",
   "metadata": {
    "slideshow": {
     "slide_type": "slide"
    }
   },
   "source": [
    "## Erro verdadeiro\n",
    "![alt_text](erro2.png)"
   ]
  },
  {
   "cell_type": "markdown",
   "metadata": {
    "slideshow": {
     "slide_type": "slide"
    }
   },
   "source": [
    "## Preparação de dados\n",
    "\n",
    "+ Fase que antecede o processo de aprendizagem, para facilitar ou melhorar o processo.\n",
    "+ Exemplos:\n",
    "    + remover exemplos incorretos\n",
    "    + transformar o formato dos exemplos para que possam ser usados com um determinado indutor\n",
    "    + selecionar um subconjunto de atributos relevantes (FSS – Feature Subset Selection)"
   ]
  },
  {
   "cell_type": "markdown",
   "metadata": {
    "slideshow": {
     "slide_type": "slide"
    }
   },
   "source": [
    "## Sobreajuste (overfitting)\n",
    "\n",
    "+ A hipótese extraída a partir dos exemplos é muito específica para o conjunto de treinamento\n",
    "+ A hipótese apresenta um bom desempenho para o conjunto de treinamento, mas um desempenho ruim para os casos fora desse conjunto\n",
    "![alt_text](overfitting.png)"
   ]
  },
  {
   "cell_type": "markdown",
   "metadata": {
    "slideshow": {
     "slide_type": "slide"
    }
   },
   "source": [
    "## Subajuste (underfitting)\n",
    "\n",
    "+ A hipótese induzida apresenta um desempenho ruim tanto no conjunto de treinamento como no de teste\n",
    "![alt_text](overfitting_underfitting.png)"
   ]
  },
  {
   "cell_type": "markdown",
   "metadata": {
    "slideshow": {
     "slide_type": "slide"
    }
   },
   "source": [
    "## Dado, Informação, Conhecimento\n",
    "\n",
    "+ Dado: é a estrutura fundamental sobre a qual um sistema de informação é construído\n",
    "+ Informação: a transformação de dados em informação é freqüentemente realizada através da apresentação dos dados em uma forma compreensível ao usuário\n",
    "+ Conhecimento:\n",
    "    + Fornece a capacidade de resolver problemas, inovar e aprender baseado em experiências prévias\n",
    "    + Uma combinação de instintos, idéias, regras e procedimentos que guiam as ações e decisões"
   ]
  },
  {
   "cell_type": "markdown",
   "metadata": {
    "slideshow": {
     "slide_type": "slide"
    }
   },
   "source": [
    "## Estrutura\n",
    "![alt_text](estrutura.png)"
   ]
  },
  {
   "cell_type": "markdown",
   "metadata": {
    "slideshow": {
     "slide_type": "slide"
    }
   },
   "source": [
    "## Importante\n",
    "\n",
    "+ Dado não é Informação\n",
    "+ Informação não é Conhecimento\n",
    "+ Conhecimento não é Inteligência\n",
    "+ Inteligência não é Sabedoria"
   ]
  },
  {
   "cell_type": "markdown",
   "metadata": {
    "slideshow": {
     "slide_type": "slide"
    }
   },
   "source": [
    "## Quimiometria\n",
    "\n",
    "+ Talvez a principal aplicação de aprendizado de máquina em química se dê no campo de pesquisa conhecido como **quimiometria**.\n",
    "+ Algumas definições de quimiometria:\n",
    "    + A quimiometria é a aplicação de ferramentas matemáticas e estatísticas à química (Bruce Kowalski).\n",
    "    + Quimiometria é a aplicação de estatística  à análise de dados químicos (de química orgânica, analítica ou de química medicinal) e o planejamento de experimentos químicos e simulações (IUPAC).\n",
    "    + Quimiometria é a disciplina química que usa métodos matemáticos e estatísticos para:\n",
    "        + planejar ou otimizar procedimentos experimentais; e\n",
    "        + extrair o máximo da informação química relevante, através da análise dos dados (Bruce Kowalski).\n",
    "    + Quimiometria é o que os quimiometristas fazem (Quimiometrista anônimo)."
   ]
  },
  {
   "cell_type": "markdown",
   "metadata": {
    "slideshow": {
     "slide_type": "slide"
    }
   },
   "source": [
    "## Quimiometria\n",
    "\n",
    "+ Na parte de análise de dados os principais métodos usados em quimiometria são:\n",
    "    + Análise exploratória (aprendizado não supervisionado)\n",
    "        + HCA\n",
    "        + PCA\n",
    "    + Métodos de regressão (aprendizado supervisionado)\n",
    "        + MLR\n",
    "        + PCR\n",
    "        + PLS\n",
    "    + Métodos de classificação (aprendizado supervisionado)\n",
    "        + KNN\n",
    "        + SIMCA\n",
    "        + PLS-DA\n",
    "        + SVM"
   ]
  },
  {
   "cell_type": "markdown",
   "metadata": {
    "slideshow": {
     "slide_type": "slide"
    }
   },
   "source": [
    "## Scikit-learn\n",
    "https://scikit-learn.org/stable/index.html"
   ]
  },
  {
   "cell_type": "markdown",
   "metadata": {
    "slideshow": {
     "slide_type": "slide"
    }
   },
   "source": [
    "## Análise de Agrupamentos por métodos hierárquicos (HCA)\n",
    "\n",
    "+ A nálise de agrupamentos por métodos hierárquicos (HCA, do inglês *hierarquical cluster analysis*), teve origem na taxonomia numérica\n",
    "+ É um método de aprendizado não-supervisionado de reconhecimento de padrões, adequado para descobrir \"padrões naturais\" de comportamento entre amostras\n",
    "+ HCA é útil para reduzir a dimensionalidade dos dados de grande porte, por exemplo, permitindo que dezenas de milhares de genes possam ser representados por poucos grupos de genes de comportamento semelhante\n",
    "+ Outro exemplo uso do HCA é na detecção de amostras com comportamento anômalo em um conjunto de dados\n",
    "+ Outro exemplo na busca por estruturas cristalográficas similares"
   ]
  },
  {
   "cell_type": "markdown",
   "metadata": {
    "slideshow": {
     "slide_type": "slide"
    }
   },
   "source": [
    "## Análise de Agrupamentos por métodos hierárquicos (HCA)\n",
    "\n",
    "+ O HCA é uma técnica interessante porque permite a visualização de dados multidimensionais por meio de um esquema bidimensional\n",
    "+ Os resultados são apresentados na forma de uma árvore hierárquica também conhecida como **dendrograma**\n",
    "+ O HCA é uma técnica algomerativa, na qual cada objeto é considerado um grupo unitário. A seguir eles vão sendo agrupados sistematicamente por ordem de similaridade, em um processo iterativo, até que todos eles formem um único grupo\n",
    "+ É muito razoável assumir que amostras próximas entre si no espaço multidimensional, $R^J$, sejam semelhantes em relação às variáveis selecionadas\n",
    "+ Isso quer dizer que uma maneira de determinar o quanto um objeto é semelhante a outro é por meio do cálculo da distância entre eles"
   ]
  },
  {
   "cell_type": "markdown",
   "metadata": {
    "slideshow": {
     "slide_type": "slide"
    }
   },
   "source": [
    "## Análise de Agrupamentos por métodos hierárquicos (HCA)\n",
    "\n",
    "+ Essa distância pode ser:\n",
    "    + Euclideana\n",
    "        $d_{AB}^M = [(\\mathbf{x_A}-\\mathbf{x_B})^T (\\mathbf{x_A}-\\mathbf{x_B})]^{1/2} = \\|\\mathbf{x_A}-\\mathbf{x_B} \\|_2$\n",
    "    + Manhattan\n",
    "        $d_{AB}^M = \\|\\mathbf{x_A}-\\mathbf{x_B} \\|_1 = \\sum_{j=1}^{J}|x_{aj}-x_{bj}|$\n",
    "    + Mahalanobis\n",
    "        $d_{AB}^M = [(\\mathbf{x_A}-\\mathbf{x_B})^T \\mathbf{Var}^{-1}(\\mathbf{x_A}-\\mathbf{x_B})]^{1/2}$"
   ]
  },
  {
   "cell_type": "code",
   "execution_count": null,
   "metadata": {
    "slideshow": {
     "slide_type": "slide"
    }
   },
   "outputs": [],
   "source": [
    "import pandas as pd"
   ]
  },
  {
   "cell_type": "code",
   "execution_count": null,
   "metadata": {
    "slideshow": {
     "slide_type": "slide"
    }
   },
   "outputs": [],
   "source": [
    "df = pd.read_excel(\"liquens.xls\")"
   ]
  },
  {
   "cell_type": "code",
   "execution_count": null,
   "metadata": {
    "slideshow": {
     "slide_type": "slide"
    }
   },
   "outputs": [],
   "source": [
    "df"
   ]
  },
  {
   "cell_type": "code",
   "execution_count": null,
   "metadata": {
    "slideshow": {
     "slide_type": "slide"
    }
   },
   "outputs": [],
   "source": [
    "df_numbers = df.iloc[2:,2:]"
   ]
  },
  {
   "cell_type": "code",
   "execution_count": null,
   "metadata": {
    "slideshow": {
     "slide_type": "slide"
    }
   },
   "outputs": [],
   "source": [
    "df_numbers.index = range(1,len(df_numbers)+1)\n",
    "df_numbers"
   ]
  },
  {
   "cell_type": "code",
   "execution_count": null,
   "metadata": {
    "slideshow": {
     "slide_type": "slide"
    }
   },
   "outputs": [],
   "source": [
    "for i in range (df_numbers.shape[0]):\n",
    "    for j in range (df_numbers.shape[1]):\n",
    "        if df_numbers.iloc[i,j] == \"<LD\":\n",
    "            df_numbers.iloc[i,j] = 0"
   ]
  },
  {
   "cell_type": "code",
   "execution_count": null,
   "metadata": {
    "slideshow": {
     "slide_type": "slide"
    }
   },
   "outputs": [],
   "source": [
    "df_numbers"
   ]
  },
  {
   "cell_type": "code",
   "execution_count": null,
   "metadata": {},
   "outputs": [],
   "source": [
    "df.iloc[2,1]"
   ]
  },
  {
   "cell_type": "code",
   "execution_count": null,
   "metadata": {},
   "outputs": [],
   "source": [
    "[(df_numbers.index[i],df.iloc[2:,1][i]) for i in range(len(df_numbers))]"
   ]
  },
  {
   "cell_type": "code",
   "execution_count": null,
   "metadata": {},
   "outputs": [],
   "source": [
    "[(df.iloc[2:,1][i]) for i in range(len(df_numbers))]"
   ]
  },
  {
   "cell_type": "code",
   "execution_count": null,
   "metadata": {
    "slideshow": {
     "slide_type": "slide"
    }
   },
   "outputs": [],
   "source": [
    "from scipy.cluster.hierarchy import dendrogram, linkage\n",
    "from matplotlib import pyplot as plt\n",
    "\n",
    "Z = linkage(df_numbers, 'ward')\n",
    "fig = plt.figure(figsize=(25, 10))\n",
    "dn = dendrogram(Z,orientation=\"right\",labels=[(df_numbers.index[i],df.iloc[2+i,1],df.iloc[2+i,0]) for i in range(len(df_numbers))])"
   ]
  },
  {
   "cell_type": "markdown",
   "metadata": {
    "slideshow": {
     "slide_type": "slide"
    }
   },
   "source": [
    "## Análise de componentes principais (PCA)\n",
    "\n",
    "+ A análise de componentes principais (PCA, do inglês *principal component analysis*) é um método utilizado para projetar os dados multivariados em um espaço de menor dimensão reduzindo, assim, a dimensionalidade do espaço original do conjunto de dados, sem que a relação entre as amostras seja afetada\n",
    "+ Utilizando essa metodologia é possível descobrir, visualizar e interpretar as diferenças existentes entre as variáveis e examinar as relações que podem existir entre as amostras\n",
    "+ Esa análise também nos permite detectar amostras que apresentam um comportamento distinto (atípico)\n",
    "+ Os metodos de projeção são importantes na área de meteorologia para o tratamento de imagens de satélite\n",
    "+ Em química são importantes para o tratamento de dados de espectroscopia e cromatografia"
   ]
  },
  {
   "cell_type": "markdown",
   "metadata": {
    "slideshow": {
     "slide_type": "slide"
    }
   },
   "source": [
    "## Análise de componentes principais (PCA)\n",
    "\n",
    "+ Em PCA é possível fazer uma \"compressão\" dos dados por meio da criação de um novo conjunto de variáveis que são combinações lineares das variáveis originais\n",
    "+ Essas novas variáveis são as componentes principais, PC, também conhecidas por fatores ou autovetores\n",
    "+ Um propriedades importante das PCs é que são não correlacionadas e ortogonais entre si\n",
    "+ Outra propriedade importante é que a primeira PC (PC1) é definida pela direção que descreve a máxima variância dos dados originais\n",
    "+ PC2 tem a direção de máxima variância dos dados no subespaço ortogonal à PC1 e assim sucessivamente\n",
    "+ O número de componentes principais, *A*, que é necessário para descrever adequadamente o sistema em estudo, é chamado de dimensão intrínseca, pseudoposto ou posto químico"
   ]
  },
  {
   "cell_type": "markdown",
   "metadata": {
    "slideshow": {
     "slide_type": "slide"
    }
   },
   "source": [
    "## Análise de componentes principais (PCA)\n",
    "\n",
    "+ Matematicamente PCA equivale a decompor a matriz  **X**(*I* X *J*) em duas matrizes, uma de escores **T** e uma matriz ortonormal de pesos (*loadings*) **L**, de tal maneira que\n",
    "\n",
    "$\\mathbf{X} = \\mathbf{T}\\mathbf{L}^T$\n",
    "\n",
    "+ em que os escores expressam as relações entre as amostras, enquanto que os pesos indicam as relações entre as variáveis."
   ]
  },
  {
   "cell_type": "code",
   "execution_count": null,
   "metadata": {
    "scrolled": false,
    "slideshow": {
     "slide_type": "slide"
    }
   },
   "outputs": [],
   "source": [
    "import pandas as pd\n",
    "from sklearn.decomposition import PCA\n",
    "from sklearn.preprocessing import StandardScaler \n",
    "df = pd.read_excel(\"liquens.xls\")\n",
    "df_numbers = df.iloc[2:,2:]\n",
    "df_numbers = df_numbers.replace(\"<LD\",0)\n",
    "Xa = StandardScaler().fit_transform(df_numbers)"
   ]
  },
  {
   "cell_type": "code",
   "execution_count": null,
   "metadata": {
    "slideshow": {
     "slide_type": "slide"
    }
   },
   "outputs": [],
   "source": [
    "pca = PCA(n_components=6)\n",
    "pca.fit(Xa)  \n",
    "print(pca.explained_variance_ratio_)  \n",
    "print(pca.singular_values_) "
   ]
  },
  {
   "cell_type": "code",
   "execution_count": null,
   "metadata": {
    "slideshow": {
     "slide_type": "slide"
    }
   },
   "outputs": [],
   "source": [
    "L= pca.components_.T\n",
    "L"
   ]
  },
  {
   "cell_type": "code",
   "execution_count": null,
   "metadata": {
    "slideshow": {
     "slide_type": "slide"
    }
   },
   "outputs": [],
   "source": [
    "T = pca.transform(Xa)\n",
    "T"
   ]
  },
  {
   "cell_type": "code",
   "execution_count": null,
   "metadata": {
    "slideshow": {
     "slide_type": "slide"
    }
   },
   "outputs": [],
   "source": [
    "# PCA\n",
    "\n",
    "from bokeh.plotting import figure, output_notebook, show\n",
    "from bokeh.models import LabelSet, Label, ColumnDataSource\n",
    "import numpy as np\n",
    "source = ColumnDataSource(data=dict(PC1=T[:,0],\n",
    "                                    PC2=T[:,1],\n",
    "                                    names=df_numbers.index))\n",
    "\n",
    "output_notebook()\n",
    "p = figure(title=\"Gráfico de escores\", x_axis_label='PC1', y_axis_label='PC2')\n",
    "p.scatter('PC1','PC2',color='blue',size=6, source=source)\n",
    "labels = LabelSet(x='PC1', y='PC2', text='names', level='glyph',\n",
    "              x_offset=5, y_offset=5, source=source, render_mode='canvas')    \n",
    "p.add_layout(labels)\n",
    "show(p)"
   ]
  },
  {
   "cell_type": "code",
   "execution_count": null,
   "metadata": {
    "slideshow": {
     "slide_type": "slide"
    }
   },
   "outputs": [],
   "source": [
    "# PCA\n",
    "\n",
    "source = ColumnDataSource(data=dict(PC1=L[:,0],\n",
    "                                    PC2=L[:,1],\n",
    "                                    names=df_numbers.columns))\n",
    "\n",
    "output_notebook()\n",
    "p = figure(title=\"Gráfico de pesos(loadings)\", x_axis_label='PC1', y_axis_label='PC2')\n",
    "p.scatter('PC1','PC2',color='blue',size=6, source=source)\n",
    "labels = LabelSet(x='PC1', y='PC2', text='names', level='glyph',\n",
    "              x_offset=5, y_offset=5, source=source, render_mode='canvas')    \n",
    "p.add_layout(labels)\n",
    "show(p)"
   ]
  },
  {
   "cell_type": "code",
   "execution_count": null,
   "metadata": {
    "slideshow": {
     "slide_type": "slide"
    }
   },
   "outputs": [],
   "source": [
    "# Novo conjunto de dados\n",
    "flav = pd.read_csv(\"flavonoides.csv\",sep='\\t',index_col=0)\n",
    "flav"
   ]
  },
  {
   "cell_type": "code",
   "execution_count": null,
   "metadata": {
    "slideshow": {
     "slide_type": "slide"
    }
   },
   "outputs": [],
   "source": [
    "X = flav.iloc[:,:-1]\n",
    "y = flav.iloc[:,-1]\n",
    "y"
   ]
  },
  {
   "cell_type": "code",
   "execution_count": null,
   "metadata": {
    "slideshow": {
     "slide_type": "slide"
    }
   },
   "outputs": [],
   "source": [
    "## PCA\n",
    "\n",
    "from bokeh.plotting import figure, output_notebook, show\n",
    "from bokeh.models import LabelSet, Label, ColumnDataSource\n",
    "import numpy as np\n",
    "pca = PCA(n_components=6)\n",
    "Xa = StandardScaler().fit_transform(X)\n",
    "pca.fit(Xa)\n",
    "#T = Xa.dot(pca.components_.T)\n",
    "T = pca.fit_transform(Xa)\n",
    "source = ColumnDataSource(data=dict(PC1=T[:,0],\n",
    "                                    PC2=T[:,1],\n",
    "                                    names=flav.index))\n",
    "\n",
    "output_notebook()\n",
    "p = figure(title=\"Gráfico de escores\", x_axis_label='PC1', y_axis_label='PC2')\n",
    "p.scatter('PC1','PC2',color='blue',size=6, source=source)\n",
    "labels = LabelSet(x='PC1', y='PC2', text='names', level='glyph',\n",
    "              x_offset=5, y_offset=5, source=source, render_mode='canvas')    \n",
    "p.add_layout(labels)\n",
    "show(p)"
   ]
  },
  {
   "cell_type": "code",
   "execution_count": null,
   "metadata": {
    "slideshow": {
     "slide_type": "slide"
    }
   },
   "outputs": [],
   "source": [
    "L = pca.components_.T\n",
    "source = ColumnDataSource(data=dict(PC1=L[:,0],\n",
    "                                    PC2=L[:,1],\n",
    "                                    names=flav.columns[:-1]))\n",
    "\n",
    "output_notebook()\n",
    "p = figure(title=\"Gráfico de pesos(loadings)\", x_axis_label='PC1', y_axis_label='PC2')\n",
    "# for i in range(np.shape(T)[0]):\n",
    "#     x = T[i,0]\n",
    "#     y = T[i,1]\n",
    "#     p.circle(x,y,color='blue')\n",
    "    #p.text(x+0.3,y+0.3,flav.index[i])\n",
    "p.scatter('PC1','PC2',color='blue',size=6, source=source)\n",
    "labels = LabelSet(x='PC1', y='PC2', text='names', level='glyph',\n",
    "              x_offset=5, y_offset=5, source=source, render_mode='canvas')    \n",
    "p.add_layout(labels)\n",
    "show(p)"
   ]
  },
  {
   "cell_type": "code",
   "execution_count": null,
   "metadata": {
    "slideshow": {
     "slide_type": "slide"
    }
   },
   "outputs": [],
   "source": [
    "# HCA\n",
    "\n",
    "from scipy.cluster.hierarchy import dendrogram, linkage\n",
    "from matplotlib import pyplot as plt\n",
    "\n",
    "Z = linkage(Xa,'ward')\n",
    "fig = plt.figure(figsize=(25, 10))\n",
    "dn = dendrogram(Z,orientation=\"right\", labels=flav.index)"
   ]
  },
  {
   "cell_type": "markdown",
   "metadata": {
    "slideshow": {
     "slide_type": "slide"
    }
   },
   "source": [
    "## Modelos de regressão\n",
    "\n",
    "+ Um modelo de regressão é obtido por meio da resolução do sistema linear\n",
    "\n",
    "$\\mathbf{Xb} = \\mathbf{y}$\n",
    "\n",
    "+ Solução\n",
    "    + $\\mathbf{X^{+}Xb} = \\mathbf{X^{+}y}$\n",
    "    + $\\mathbf{b} = \\mathbf{X^{+}y}$\n",
    "+ Em que $\\mathbf{X^{+}}$ é a inversa generalizada de Moore-Penrose    "
   ]
  },
  {
   "cell_type": "markdown",
   "metadata": {
    "slideshow": {
     "slide_type": "slide"
    }
   },
   "source": [
    "## Modelos de regressão\n",
    "\n",
    "+ A resolução do sistema inclui as seguintes soluções:\n",
    "    1. $\\mathbf{X^{+}} = \\mathbf{X^{-1}}$ quando $\\mathbf{X}$ é quadrada e inversível\n",
    "    2. $\\Arrowvert {\\mathbf{y-Xb}} \\Arrowvert^2_{2} = min$ Solução de quadrados mínimos\n",
    "+ Normalmente essa equação linear é obtida através de um dos seguintes métodos:\n",
    "    + MLR\n",
    "    + PCR\n",
    "    + PLS"
   ]
  },
  {
   "cell_type": "markdown",
   "metadata": {
    "slideshow": {
     "slide_type": "slide"
    }
   },
   "source": [
    "## MLR (do inglês, Muliple Linear Regression)\n",
    "\n",
    "+ Nada mais é que a resolução direta do problema de quadrados mínimos\n",
    "+ A matriz $\\mathbf{X}$ deve ter mais linhas (amostras) que colunas (variáveis)\n",
    "+ As colunas (variáveis) não podem ser correlacionadas, pois assim o sistema não terá uma solução estável"
   ]
  },
  {
   "cell_type": "markdown",
   "metadata": {
    "slideshow": {
     "slide_type": "slide"
    }
   },
   "source": [
    "## Métodos de projeção\n",
    "\n",
    "+ Devido às limitações impostas pelo método MLR, uma solução é projetar as variáveis da matriz $\\mathbf{X}$ em um espaço de dimensão menor\n",
    "+ Se $\\mathbf{X}$ é uma matriz ($I \\times J$) de posto $P$, ela pode ser decomposta em\n",
    "\n",
    "$\\mathbf{X} = \\mathbf{URW^{t}}$\n",
    "\n",
    "+ $\\mathbf{U}$ é ortonormal de dimensões ($I \\times P$)\n",
    "+ $\\mathbf{W}$ é ortonormal de dimensões ($J \\times P$)\n",
    "+ $\\mathbf{R}$ é não singular de dimensões ($P \\times P$)"
   ]
  },
  {
   "cell_type": "markdown",
   "metadata": {
    "slideshow": {
     "slide_type": "slide"
    }
   },
   "source": [
    "## Métodos de projeção\n",
    "\n",
    "+ Assim temos\n",
    "    + $\\mathbf{R} = \\mathbf{U^{t}XW}$\n",
    "    + $\\mathbf{X^{+}} = \\mathbf{WR^{-1}U^{t}}$\n",
    "+ e, portanto\n",
    "    + $\\mathbf{b} = \\mathbf{WR^{-1}U^{t}y}$"
   ]
  },
  {
   "cell_type": "markdown",
   "metadata": {
    "slideshow": {
     "slide_type": "slide"
    }
   },
   "source": [
    "## Métodos de projeção\n",
    "\n",
    "+ Essa formulação é geral e cobre uma infinidade de métodos, dentre os quais destacam-se:\n",
    "    + PCR (A matriz R é diagonal)\n",
    "    + PLS (A matriz R é bidiagonal)\n",
    "+ O método PLS costuma ser mais usado, pois ele projeta as variáveis originais em um espaço de menor dimensão formado pelas variáveis latentes levando em consideração a informação contida na variável dependente   "
   ]
  },
  {
   "cell_type": "code",
   "execution_count": 5,
   "metadata": {
    "slideshow": {
     "slide_type": "slide"
    }
   },
   "outputs": [
    {
     "name": "stdout",
     "output_type": "stream",
     "text": [
      "Dimensões de X\n",
      "(49, 564)\n",
      "Dimensões de y\n",
      "(49, 1)\n",
      "Médias de X\n",
      "[-1.88838980e+01 -5.61240816e+00 -5.23306122e+00 -3.96867347e+00\n",
      " -3.61908163e+00 -3.60193878e+00 -3.92946939e+00 -3.30730612e+00\n",
      " -1.48059184e+00 -1.16526531e+00 -2.14581633e+00 -2.14010204e+00\n",
      " -2.36453061e+00 -4.79469388e-01 -1.07085714e+00  2.62040816e-02\n",
      " -1.03659184e+00 -1.24959184e+00 -9.07367347e-01 -9.45244898e-01\n",
      " -9.94306122e-01 -2.73061224e-02 -7.50959184e-01 -2.30097959e+00\n",
      " -1.52183673e-01 -6.35326531e-01 -4.72632653e-01 -5.04530612e-01\n",
      " -3.26224490e-01 -6.88367347e-01 -4.62122449e-01 -4.73122449e-01\n",
      "  1.93959184e-01 -4.55775510e-01 -5.42836735e-01 -4.52653061e-01\n",
      " -1.45000000e-01 -7.63530612e-01 -4.46836735e-01 -1.91551020e-01\n",
      " -4.35714286e-01 -5.78244898e-01 -4.68163265e-01 -3.07367347e-01\n",
      "  1.81224490e-02 -1.91224490e-01 -1.74061224e-01 -1.84857143e-01\n",
      " -1.00669388e+00 -1.05857143e-01 -4.65918367e-02 -1.56653061e-01\n",
      " -6.62653061e-02  8.08897959e-01 -6.46734694e-02  3.25102041e-02\n",
      " -7.63061224e-02 -7.83469388e-02 -4.67755102e-02 -2.44081633e-01\n",
      " -4.05714286e-02  1.36734694e-03 -2.85714286e-04 -7.76530612e-02\n",
      "  1.53469388e-02 -4.08163265e-04 -3.72653061e-02 -1.97755102e-02\n",
      "  3.77551020e-02 -5.39591837e-02 -4.12857143e-02 -2.70612245e-02\n",
      " -3.52244898e-02 -3.25306122e-02  5.44897959e-03 -2.00612245e-02\n",
      "  3.32265306e-01  9.19979592e-01  1.18653061e-01 -7.75510204e-03\n",
      "  1.53061224e-03 -2.58367347e-02 -1.96122449e-02  8.97551020e-02\n",
      "  4.81020408e-02  1.04081633e+00  5.30612245e-01  1.36734694e+00\n",
      "  1.51020408e+00  7.95918367e-01  4.48979592e-01  1.46938776e+00\n",
      "  1.54379592e+00  1.65306122e+00  9.41897959e-01  4.69387755e-01\n",
      "  1.32436735e+00  2.05659184e+00  1.97757143e+00  2.42857143e+00\n",
      "  1.61138776e+00  2.82257143e+00  2.30608163e+00  1.98612245e+00\n",
      "  3.35559184e+00  3.42648980e+00  3.02471429e+00  5.32653061e+00\n",
      "  5.74561224e+00  2.20408163e+00  9.17769388e+00  8.18010204e+00\n",
      "  1.46938776e+00  5.22448980e+00  7.84259184e+00  1.36125306e+01\n",
      "  7.55885714e+00  1.02839388e+01  1.55418776e+01  1.67718163e+01\n",
      "  7.26530612e+00  2.42059388e+01  3.07007551e+01  8.14693878e-02\n",
      "  8.56938776e-02  5.16881633e+00  4.59489796e+00  2.23673469e-02\n",
      "  1.02346939e-01  1.85734694e-01  4.59591837e-02  2.81836735e-02\n",
      "  3.54081633e-02  4.03061224e-02  3.62653061e-02 -4.16938776e-02\n",
      "  1.58163265e-02  1.14081633e-01 -1.13061224e-02  9.48979592e-03\n",
      " -1.02877551e-01  6.37142857e-02  7.10816327e-02  1.92408163e-01\n",
      "  2.52591837e-01  6.94897959e-02  8.30408163e-02  2.88775510e-02\n",
      "  1.27569388e+00 -1.31857143e-01  1.22949592e+01  1.84285714e-01\n",
      "  3.60000000e-02 -6.18775510e-02  2.99183673e-02  8.95714286e-02\n",
      "  1.51448980e-01  9.42244898e-02 -5.07551020e-02 -1.33061224e-02\n",
      "  1.73530612e-01  2.51632653e-02  1.47755102e-01 -2.27612245e-01\n",
      "  1.00693878e-01  2.65020408e-01  2.14081633e-02  1.07346939e-01\n",
      "  8.99183673e-02  1.56142857e-01  1.51877551e-01 -2.12244898e-03\n",
      " -5.65306122e-02  6.28163265e-02  8.91632653e-02  1.14387755e-01\n",
      "  2.41530612e-01  1.00377551e+00  1.65265306e-01  1.66693878e-01\n",
      "  1.58489796e-01  1.58836735e-01  1.73000000e-01  1.66897959e-01\n",
      "  1.69693878e-01  1.65387755e-01  1.73571429e-01  8.97967347e+00\n",
      "  2.66918367e-01  1.59979592e-01  1.64326531e-01  1.59367347e-01\n",
      "  1.60775510e-01  1.66734694e-01  1.72285714e-01  1.75081633e-01\n",
      "  1.85571429e-01  1.94489796e-01  1.15897959e-01  2.54408163e-01\n",
      "  8.70408163e-02  1.77489796e-01  2.62653061e-01  1.74938776e-01\n",
      "  1.80795918e-01  1.75367347e-01  1.49959184e-01  1.40040816e-01\n",
      "  2.56489796e-01  2.67285714e-01  1.75408163e-01  3.04530612e-01\n",
      "  3.97938776e-01  1.79510204e-01  1.46591837e-01  2.12836735e-01\n",
      "  2.37959184e-01  2.85244898e-01  7.72183673e-01  1.91551020e-01\n",
      "  2.09734694e-01  4.30571429e-01  5.07183673e-01  2.73408163e-01\n",
      "  3.24244898e-01  2.11979592e-01  9.71142857e-01  3.73469388e-01\n",
      "  2.48183673e-01  5.68224490e-01  4.04102041e-01  5.37836735e-01\n",
      "  7.68163265e-01  2.02759184e+00  3.80224490e-01  4.22367347e-01\n",
      "  3.53653061e-01  3.74693878e-01  6.89673469e-01  5.05142857e-01\n",
      "  6.09734694e-01  3.48510204e-01  4.03571429e-01  4.98408163e-01\n",
      "  2.85653061e-01  5.86755102e-01  4.21755102e-01  2.82714286e-01\n",
      "  3.82408163e-01  3.63693878e-01  3.98285714e-01  4.27285714e-01\n",
      "  5.20877551e-01  4.06040816e-01  3.24000000e-01  5.43122449e-01\n",
      "  4.27857143e-01  6.82636735e+00  4.78102041e-01  7.83775510e-01\n",
      "  4.72959184e-01  5.75244898e-01  4.53693878e-01  6.59040816e-01\n",
      "  4.58244898e-01  7.31346939e-01  5.62346939e-01  1.90089796e+00\n",
      "  4.99252245e+01  7.27714286e-01  3.16063265e+00  7.56632653e-01\n",
      "  1.52518367e+00  8.28877551e-01  6.49408163e-01  6.81081633e-01\n",
      "  9.22632653e-01  5.26775510e-01  6.46632653e-01  9.75387755e-01\n",
      "  9.98142857e-01  6.39816327e-01  1.14302041e+00  6.30612245e-01\n",
      "  7.27836735e-01  4.76122449e-01  6.20673469e-01  9.20081633e-01\n",
      "  1.44608163e+00  1.00110204e+00  1.65051020e+00  6.40183673e-01\n",
      "  6.69142857e-01  6.62163265e-01 -9.47387755e-01  7.93122449e-01\n",
      "  7.85510204e-01  8.70469388e-01  5.14918367e-01  9.25285714e-01\n",
      "  8.26571429e-01  1.02591837e+00  7.91612245e-01  4.18551020e-01\n",
      "  8.32938776e-01  9.01979592e-01  8.14775510e-01  6.25530612e-01\n",
      "  1.03685714e+00  8.71897959e-01  1.00571429e+00  1.01971429e+00\n",
      "  1.00912245e+00  7.89326531e-01  1.06685714e+00  7.74775510e-01\n",
      "  8.75591837e-01  2.93387755e-01  9.53183673e-01  9.62163265e-01\n",
      "  9.66530612e-01  1.17657143e+00  9.36591837e-01  1.22885714e+00\n",
      "  9.94632653e-01  9.51000000e-01  1.26695918e+00  1.71428571e+00\n",
      "  5.12244898e+00  9.99448980e-01  1.51034694e+00  1.01979592e+00\n",
      "  9.05938776e+00  1.11051020e+00  1.03179592e+00  9.97448980e-01\n",
      "  1.06222449e+00  1.11632653e+00  9.88551020e-01  1.03859184e+00\n",
      "  1.09595918e+00  7.70306122e-01  1.10608163e+00  2.92163265e-01\n",
      "  1.00555102e+00  1.42140816e+00  1.43048980e+00  1.11724490e+00\n",
      "  1.19638776e+00  9.36142857e-01  1.18665306e+00  6.64571429e-01\n",
      "  1.33304082e+00  1.55891837e+00  1.34402041e+00  3.47338776e+00\n",
      "  6.73081633e+00  1.36120408e+00  2.17795918e+00  2.23653061e+00\n",
      "  1.52057143e+00  2.06638776e+00  1.34477551e+00  1.04957143e+00\n",
      "  1.49606122e+00  1.11421633e+01  1.92665306e+00  1.56671429e+00\n",
      "  1.84836735e+00  1.89763265e+00  5.90673469e-01  1.87112245e+00\n",
      "  1.21222449e+00  2.22287755e+00  2.81957143e+00  1.80626531e+00\n",
      "  1.86932653e+00  1.60685714e+00  1.94932653e+00  1.72597959e+00\n",
      "  4.12571429e+00  1.59448980e+00  1.92685714e+00  9.18367347e-01\n",
      "  1.65306122e+00  3.18367347e+00  2.51020408e+00  2.14285714e+00\n",
      "  6.16326531e+00  2.02253061e+00  2.08328571e+00  1.90957143e+00\n",
      "  2.99246939e+00  3.38677551e+00  5.03797959e+00  2.13159184e+00\n",
      "  2.30693878e+00  2.56773469e+00  2.38826531e+00  1.01056939e+01\n",
      "  7.77234694e+00  9.35730612e+00  2.77330612e+00  3.18318367e+00\n",
      "  2.40814286e+00  2.80512245e+00  2.58744898e+00  2.83224490e+00\n",
      "  2.74053061e+00  2.94877551e+00  3.05775510e+00  5.53255102e+00\n",
      "  2.96348980e+00  3.51138776e+00  2.70000000e+00  4.65306122e+00\n",
      "  2.87755102e+00  4.69516327e+00  2.90406122e+00  3.79867347e+00\n",
      "  3.64769388e+00  5.14597959e+00  4.19287755e+00  3.44006122e+00\n",
      "  3.78238776e+00  8.89255102e+00  3.92100000e+00  3.67755102e+00\n",
      "  3.49826531e+00  3.74469388e+00  4.24710204e+00  3.57448980e+00\n",
      "  5.46944898e+00  3.78846939e+00  5.11987755e+00  3.90542857e+00\n",
      "  4.11155102e+00  2.86485714e+00  4.11857143e+00  3.94526531e+00\n",
      "  3.84616327e+00  3.90993878e+00  4.32214286e+00  4.56702041e+00\n",
      "  7.87953061e+00  4.28571429e+00  3.81632653e+00  4.06416327e+00\n",
      "  4.72997959e+00  1.02676327e+01  5.49742857e+00  1.04099592e+01\n",
      "  4.98628571e+00  7.71428571e+00  5.02653061e+00  5.22634694e+00\n",
      "  7.41636735e+00  5.47402041e+00  7.81318367e+00  5.72648980e+00\n",
      "  7.60991837e+00  9.52938776e+00  6.24387755e+00  1.26898980e+01\n",
      "  9.37520408e+00  9.93195918e+00  9.34497959e+00  8.21171429e+00\n",
      "  1.36838776e+01  8.73446939e+00  7.60755102e+00  8.24559184e+00\n",
      "  1.26938776e+01  1.51354694e+01  1.34655306e+01  1.13297551e+01\n",
      "  2.09497347e+01  2.20330612e+01  2.31422245e+01  1.39210612e+01\n",
      "  1.33673469e+01  1.03673469e+01  1.24321224e+01  1.52448980e+01\n",
      "  1.83190408e+01  2.23018367e+01  1.64285714e+01  4.15181429e+01\n",
      "  1.61146735e+01  2.73569184e+01  6.04689592e+01  2.08986531e+01\n",
      "  2.06665714e+01  3.16384490e+01  5.57683061e+01  4.26487755e+01\n",
      "  5.13965510e+01  6.32318776e+01  1.96576327e+01  2.76350204e+01\n",
      "  5.67505306e+01  5.68074286e+01  5.37015918e+01  5.43541429e+01\n",
      "  4.71311429e+01  4.36959184e+01  7.30278163e+01  3.82468571e+01\n",
      "  5.01537959e+01  5.39808571e+01  1.06725918e+02  1.48750510e+02\n",
      "  1.92326735e+02  1.96150102e+02  3.99282449e+02  3.09240816e+00\n",
      " -7.62448980e-02  4.34040816e-01 -3.28571429e-01 -2.46108910e+03\n",
      " -2.45265306e-01 -2.32551020e-01 -4.39387755e-02 -4.13673469e-02\n",
      "  1.88612245e-01  9.45510204e-02  2.32551020e-01 -4.77816327e-01\n",
      "  4.39387755e-02  5.45457143e+00  5.31455102e+00  1.38489796e-01\n",
      "  5.07755102e-02  1.01653061e-01  5.57346939e-02 -1.06142857e-01\n",
      " -4.67959184e-02  1.24285714e-02 -6.75306122e-02 -6.64897959e-02\n",
      "  8.35306122e-02 -7.72244898e-02 -7.52244898e-02  7.71428571e-03\n",
      " -6.06122449e-02 -1.18571429e-01  5.36530612e-02 -1.96163265e-01\n",
      " -1.51020408e-02 -3.37959184e-02 -1.76530612e-01 -2.04142857e-01\n",
      "  5.53265306e-02 -1.98836735e-01 -1.69204082e-01 -4.00816327e-02\n",
      " -1.90448980e-01 -2.00408163e-01  5.42040816e-02 -2.01734694e-01\n",
      " -1.69408163e-01 -3.08938776e-01  2.00795918e-01 -4.23367347e-01]\n",
      "Varâncias de X\n",
      "[1.20325409e+01 2.48609769e+01 2.74818683e+00 2.69069744e+00\n",
      " 4.70943708e-01 1.53536451e+00 1.91546033e+00 6.68982213e+00\n",
      " 1.58793143e+00 4.63395517e+00 2.14211538e-01 5.42559724e-01\n",
      " 1.91369878e+00 3.94795960e-02 2.23135612e+00 2.78249669e+00\n",
      " 2.19961262e-01 1.92717670e-01 2.53424436e-01 5.89788380e-02\n",
      " 2.30360988e-01 4.20988702e-01 4.10262840e-02 3.15997835e+00\n",
      " 2.68368799e+00 3.26038934e-02 6.57151712e-02 2.57602082e-02\n",
      " 1.93860925e-02 7.11531712e-02 5.14362707e-02 1.80832503e-02\n",
      " 3.76920529e-01 1.21316843e-02 4.87988305e-02 5.95937776e-02\n",
      " 5.53672653e-02 3.41198616e-01 2.51332795e-02 6.06400002e-01\n",
      " 4.21213061e-02 6.22326747e-02 2.42175769e-01 3.01704365e-02\n",
      " 1.11134136e-02 7.71915618e-02 2.86532278e-03 1.01522898e-01\n",
      " 6.78238976e+00 8.67722449e-03 4.35395585e-03 2.70041858e-02\n",
      " 2.36717451e-03 1.04634711e+00 5.60030154e-03 7.29212745e-03\n",
      " 3.09943690e-03 2.96838984e-03 6.35352103e-03 3.46331770e-02\n",
      " 2.85326531e-03 3.58944365e-02 4.83081633e-03 5.10096127e-03\n",
      " 7.80157351e-03 5.34362932e-03 3.95811329e-03 1.47299042e-03\n",
      " 8.74920533e-03 2.20212078e-03 4.53770612e-02 2.41548605e-03\n",
      " 3.05535777e-03 3.39633070e-03 9.33710454e-03 2.81797584e-03\n",
      " 9.96922357e-02 1.92425857e-01 5.30509204e-02 5.25096043e-03\n",
      " 3.73735110e-03 3.02132028e-03 6.54639925e-02 4.37173594e-03\n",
      " 1.23878875e-02 9.77925864e-01 9.83756768e-01 1.08954602e+00\n",
      " 1.35193669e+00 1.38692212e+00 1.83923365e+00 2.04498126e+00\n",
      " 2.32312882e+00 3.08371512e+00 3.55867103e+00 3.59600167e+00\n",
      " 4.02035582e+00 5.47101510e+00 5.56480861e+00 5.83673469e+00\n",
      " 6.26755040e+00 8.15187894e+00 8.34662799e+00 1.07465804e+01\n",
      " 1.12077315e+01 1.30922990e+01 1.44824647e+01 2.47505206e+01\n",
      " 2.94290446e+01 3.48154935e+01 3.99808662e+01 4.16335894e+01\n",
      " 5.07388588e+01 1.12133278e+02 1.32055421e+02 2.18579406e+02\n",
      " 2.18908068e+02 2.69379893e+02 2.78430496e+02 3.04787250e+02\n",
      " 3.75950021e+02 5.28295422e+02 5.86622349e+02 9.28094294e-03\n",
      " 2.07758042e-02 1.34965123e+01 1.26627141e+01 3.08566097e-03\n",
      " 1.31925939e-02 1.60043990e-02 2.17477384e-03 2.51251978e-04\n",
      " 3.57302791e-04 1.19751853e-03 4.49052062e-04 2.09588588e-03\n",
      " 2.10006830e-03 7.00574844e-03 6.80294711e-03 3.03673969e-03\n",
      " 1.17280666e-02 1.11439184e-02 1.33870887e-04 7.90979259e-03\n",
      " 3.38342524e-03 1.19719284e-04 6.98569763e-04 2.08063807e-03\n",
      " 2.90261437e-01 7.19464082e-02 4.97317969e+01 5.06175510e-03\n",
      " 4.39142857e-04 6.84071970e-03 2.34992995e-02 1.92530612e-04\n",
      " 2.83681658e-02 6.88745523e-04 1.36301328e-01 4.76082466e-03\n",
      " 4.81890212e-03 6.35695294e-03 1.20269604e-02 4.54831354e-02\n",
      " 2.68743024e-04 1.61358567e-02 4.06432320e-03 2.71818409e-04\n",
      " 1.08221974e-02 2.96979592e-04 2.99576843e-04 1.10145564e-02\n",
      " 1.51035514e-01 1.02852112e-02 1.14864300e-01 3.78441483e-04\n",
      " 1.27535110e-03 1.74096133e-01 1.37541858e-04 1.37967514e-04\n",
      " 1.48535610e-04 1.53401916e-04 1.63469388e-04 1.95071220e-04\n",
      " 2.12620575e-04 2.24155768e-04 2.54775510e-04 3.82153539e+01\n",
      " 1.55994219e-02 1.27571012e-04 1.25607663e-04 1.49946689e-04\n",
      " 1.62418992e-04 2.05705123e-04 2.11673469e-04 2.21585173e-04\n",
      " 3.45673469e-04 3.78535610e-04 4.13005081e-03 1.51877218e-03\n",
      " 3.65258759e-02 1.88413161e-04 3.15024307e-02 1.62506456e-04\n",
      " 3.56165298e-02 3.49864057e-03 2.11334527e-03 8.64039150e-04\n",
      " 1.46176010e-03 3.28163265e-04 3.66705681e-02 3.22441233e-03\n",
      " 3.37959758e-02 4.67518867e-03 3.68069055e-03 5.84936110e-03\n",
      " 3.71420800e-02 9.52348188e-04 1.43387946e-01 3.30016576e-03\n",
      " 1.23501949e-02 6.88512245e-02 1.19575456e-01 1.01771095e-03\n",
      " 1.49613695e-01 1.47047367e-01 4.61672612e-01 1.38318784e-03\n",
      " 7.30280300e-03 8.01833736e-03 1.10813569e-02 4.16053611e-02\n",
      " 3.17044631e-02 2.01458040e+00 1.42168430e-03 5.45933444e-03\n",
      " 3.98855310e-03 3.93262057e-03 1.00614383e-01 8.30995918e-03\n",
      " 9.74982357e-02 8.13800916e-04 7.67183673e-04 2.11233436e-02\n",
      " 3.60128780e-03 2.99276135e-02 3.11776760e-04 3.69602041e-01\n",
      " 1.65501708e-03 1.30253894e-03 8.35510204e-04 9.16326531e-05\n",
      " 1.07724748e-02 1.03252895e-03 1.59723673e-02 2.83414827e-03\n",
      " 1.11074857e-01 2.95836589e+01 1.03564265e-03 7.72709904e-02\n",
      " 7.69222824e-04 2.32483798e-03 1.26396751e-03 6.55185289e-02\n",
      " 1.41961349e-03 2.35794757e-01 1.65736776e-04 8.53936541e-01\n",
      " 1.64443735e+03 2.53926122e-02 1.69251252e+00 7.21688546e-03\n",
      " 4.14337946e-01 2.94117087e-01 4.56569763e-02 2.15436068e-03\n",
      " 4.18308681e-01 4.46392920e-03 6.79375260e-04 2.31505231e-02\n",
      " 6.10780000e-02 5.26729279e-03 1.21755081e-01 4.80680883e-03\n",
      " 6.10014161e-04 1.08452503e-02 2.48710771e-02 1.08328913e-02\n",
      " 6.00875830e-01 6.10751937e-02 2.94455801e-01 3.45143540e-02\n",
      " 2.34675102e-02 2.22529938e-02 1.08969956e+01 7.06352353e-04\n",
      " 7.39678467e-04 1.57480208e-01 1.81080750e-02 6.09821633e-02\n",
      " 6.26938776e-04 1.28486401e-01 3.05571762e-02 7.65494719e-02\n",
      " 9.80949963e-02 4.16056935e-02 4.61503124e-03 1.91060042e-02\n",
      " 2.24628980e-02 5.90647855e-02 1.29640408e-02 7.38926531e-03\n",
      " 1.41707985e-01 5.40495460e-03 8.05824490e-03 5.19131695e-03\n",
      " 1.15726197e-03 6.41707339e-01 7.20272387e-04 3.76259059e-04\n",
      " 3.65432736e-04 2.08502857e-02 7.74742524e-03 1.82846041e-01\n",
      " 1.14803832e-04 4.44024490e-03 9.93082432e-02 9.38775510e-01\n",
      " 1.51278634e+01 1.85592087e-03 2.56530553e-01 5.24114202e-03\n",
      " 2.85186046e+01 5.41020908e-03 1.08591828e-02 3.59975760e-03\n",
      " 6.18613328e-03 1.16301541e-04 5.48424740e-03 6.51832320e-03\n",
      " 3.15763099e-03 1.10525763e-01 7.02415660e-03 1.27575312e+00\n",
      " 2.06471045e-02 3.23882824e-02 1.18570254e-02 5.08369513e-03\n",
      " 2.17071762e-02 3.49229388e-01 3.71663474e-03 1.69201302e+00\n",
      " 3.24896293e-04 1.58165239e-02 6.72305706e-04 2.32919150e+00\n",
      " 1.10248268e+01 8.50529779e-04 4.35447469e+00 1.64087302e+00\n",
      " 1.76873469e-02 1.96416972e-01 8.53086797e-03 8.11263265e-02\n",
      " 9.91486047e-04 4.90122968e+01 1.18224006e+00 9.52081633e-04\n",
      " 2.06392120e-02 9.70717118e-03 2.14246302e-01 8.85149521e-03\n",
      " 1.88305358e-01 7.09618626e-02 1.14549678e+00 1.25673991e-01\n",
      " 2.44532195e-03 1.37866082e-01 7.09956685e-03 4.16164224e-01\n",
      " 5.72537551e+00 4.80693025e-01 2.63911429e-02 3.60683049e-01\n",
      " 1.69596002e+00 3.90503957e+00 4.08663057e+00 4.36734694e+00\n",
      " 5.93252811e+00 2.68392253e-03 5.66510204e-03 2.61085592e-01\n",
      " 5.24759800e-01 8.65029929e-01 1.66611310e+01 4.48853811e-04\n",
      " 2.92687105e-02 2.02796807e-01 8.99472553e-03 1.82541602e+01\n",
      " 1.14402324e+01 3.01396132e+01 5.44713145e-02 1.60634848e+00\n",
      " 7.37330612e-03 2.05068830e-02 7.01826574e-01 1.46654502e-02\n",
      " 1.12534736e-02 4.26964190e-02 3.94424706e-02 3.07046490e+00\n",
      " 2.21608621e-02 8.95657068e-02 3.35510204e-01 2.14493961e+00\n",
      " 8.06663890e+00 8.30313320e-01 2.35958588e-01 6.27224240e-02\n",
      " 2.56698451e-02 2.89321892e+00 6.63562761e-01 1.75058809e-03\n",
      " 3.94383190e-02 1.09140862e+01 4.96648163e-02 1.36149413e-02\n",
      " 1.36480716e-03 2.83830696e-02 8.20955202e-02 3.41113928e-02\n",
      " 6.28384029e+00 6.07718784e-03 1.42107962e+00 1.05201633e-02\n",
      " 8.77910229e-02 3.21570612e-01 9.55903265e-02 1.91305214e-02\n",
      " 2.53062641e-03 2.40609829e-03 3.48771020e-01 2.09973333e+00\n",
      " 7.86511923e+00 5.63265306e+00 6.59891712e+00 1.00666722e-03\n",
      " 5.16450673e-01 1.25272983e+01 1.45870416e+00 2.27150087e+01\n",
      " 2.81771429e-03 2.81632653e+00 1.84624906e-03 3.76434902e-03\n",
      " 5.17129374e+00 6.04388771e-02 4.04683064e+00 5.04958417e-02\n",
      " 6.57999865e+00 3.13996628e+01 2.86165564e-02 5.74493593e+01\n",
      " 3.43703690e+00 6.79337730e+00 1.37858367e+01 9.58874833e+00\n",
      " 1.48110712e+01 1.02732884e+01 2.82362819e-01 1.86755702e+00\n",
      " 7.25389421e+01 1.88031293e+01 4.24263183e+01 3.50653001e-01\n",
      " 4.62202650e+01 5.26009281e+01 4.68903663e+01 1.87336622e+00\n",
      " 3.70179092e+00 4.96709704e+00 1.09907807e+00 8.06247397e+00\n",
      " 6.78055307e+01 3.78631325e+01 1.08163265e+01 4.81611111e+02\n",
      " 2.19852403e-02 8.31791689e+01 1.19567518e+03 9.98447757e+00\n",
      " 3.37457578e+01 3.60468005e+01 5.25162418e+02 3.18295905e+02\n",
      " 3.40440733e+02 5.27471204e+02 2.08992681e+02 2.26431778e+02\n",
      " 2.84545700e+02 1.08304442e+03 3.24996579e+02 2.11637166e+02\n",
      " 2.23547602e+02 3.20692212e+00 9.54269655e+02 3.07392035e+02\n",
      " 3.75714211e+02 1.58245592e+03 5.02349793e+02 1.50151190e+03\n",
      " 1.53319198e+03 1.44280344e+03 6.05712303e+03 9.42716691e-01\n",
      " 3.75664635e+00 2.69855408e+00 3.74608816e+00 3.21676162e+06\n",
      " 1.36154102e-04 1.87063723e-04 6.79350271e-05 1.60374261e-03\n",
      " 8.37884215e-05 2.15127030e-05 1.87063723e-04 6.16966264e-04\n",
      " 6.79350271e-05 8.31355714e-01 6.87581658e-02 1.07066222e-04\n",
      " 3.96434819e-05 1.58879633e-04 2.93672561e-02 1.15832245e-02\n",
      " 7.80595835e-03 3.68912653e-02 1.15269429e-02 5.49331112e-03\n",
      " 5.35057185e-02 1.85375618e-02 8.68911287e-03 4.32644898e-02\n",
      " 1.16395435e-02 2.23771837e-02 1.44754919e-02 7.94238151e-03\n",
      " 3.67911937e-02 2.74493794e-03 9.20249063e-04 7.94224490e-03\n",
      " 7.53596893e-02 7.30160600e-03 6.43673386e-03 2.82807497e-03\n",
      " 9.97145356e-04 8.76632320e-03 7.52923257e-02 6.73648063e-03\n",
      " 6.46481299e-03 2.14217718e-02 3.34937943e-04 1.01223988e-01]\n",
      "Médias de X autoescalado\n",
      "[ 5.89097931e-17 -1.26882631e-16  3.73850610e-17  3.39864191e-16\n",
      " -8.97241465e-16  3.62521804e-17 -7.02385995e-17 -7.25043608e-17\n",
      "  4.53152255e-17 -3.35615889e-17  1.34812796e-16 -4.98467480e-17\n",
      "  9.96934961e-17  1.13288064e-16  6.57070770e-17  0.00000000e+00\n",
      "  2.80954398e-16 -1.35945676e-17  1.81260902e-17 -1.71064976e-16\n",
      " -9.51619735e-17  2.03918515e-17  4.44089210e-16 -5.43782706e-17\n",
      " -4.07837029e-17 -9.96934961e-17  1.99386992e-16  5.12062048e-16\n",
      " -1.67666334e-16 -2.62828308e-16  1.40477199e-16  3.28535385e-16\n",
      " -5.66440319e-17 -4.97901040e-16  2.95965067e-16 -4.75809868e-17\n",
      "  6.23084351e-17  3.08143533e-16 -2.01086313e-16  6.25916552e-17\n",
      "  5.43782706e-17 -4.53152255e-17 -9.06304510e-17 -1.57612019e-16\n",
      " -6.23084351e-18 -1.47274483e-16 -9.51619735e-17 -1.81260902e-17\n",
      "  7.02385995e-17 -1.69932096e-16 -1.04225019e-16 -2.49233740e-17\n",
      "  2.03918515e-16 -1.31414154e-16 -1.81260902e-17 -2.94548966e-17\n",
      " -9.06304510e-18 -3.62521804e-17 -8.38331672e-17  4.07837029e-17\n",
      " -4.98467480e-17  3.30659536e-17 -9.06304510e-18  6.79728382e-18\n",
      "  1.58603289e-17  2.26576127e-17 -2.71891353e-17  2.71891353e-17\n",
      "  8.60989284e-17 -1.88058186e-16  2.40737135e-18  6.57070770e-17\n",
      "  4.07837029e-17  7.70358833e-17 -4.02172626e-17  6.91057189e-17\n",
      " -9.06304510e-18 -1.45008722e-16  7.25043608e-17 -2.71891353e-17\n",
      " -4.53152255e-18  7.25043608e-17 -4.53152255e-18 -1.35945676e-16\n",
      "  2.71891353e-17 -7.25043608e-17 -8.15674059e-17  3.17206578e-17\n",
      "  6.34413157e-17 -2.03918515e-17  0.00000000e+00  9.06304510e-18\n",
      "  5.89097931e-17 -3.39864191e-17 -2.37904934e-17 -3.62521804e-17\n",
      "  1.01959257e-17  1.11022302e-16  7.56197825e-17  1.13288064e-16\n",
      " -1.81260902e-17 -1.26882631e-16 -1.92589708e-17  9.74277348e-17\n",
      " -3.62521804e-17  4.53152255e-18  3.79515014e-17 -2.60562547e-17\n",
      "  1.55204647e-16  1.13288064e-17  2.26576127e-17 -2.40170695e-16\n",
      " -1.30281273e-17  3.51192998e-17 -2.91716764e-17 -1.33679915e-16\n",
      " -1.04225019e-16 -5.43782706e-17 -6.79728382e-17  1.75596499e-17\n",
      "  1.92589708e-17  1.04225019e-16  4.19165836e-17 -1.42742960e-16\n",
      " -1.06490780e-16  9.06304510e-17  5.77769125e-17 -4.30494642e-17\n",
      " -7.25043608e-17 -1.35945676e-16 -1.17819586e-16  9.96934961e-17\n",
      "  3.12675056e-16 -1.26882631e-16  8.60989284e-17  8.38331672e-17\n",
      "  3.39864191e-17 -2.62828308e-16  1.81260902e-17  4.53152255e-18\n",
      "  1.11022302e-16  3.03045570e-17  3.16073698e-16 -1.45008722e-16\n",
      "  1.35945676e-16  5.02715783e-17  7.70358833e-17  1.35945676e-17\n",
      " -1.26882631e-16 -8.60989284e-17 -4.53152255e-17  1.94855470e-16\n",
      " -1.63134812e-16  1.13288064e-17 -1.35945676e-17 -4.62215300e-16\n",
      " -9.06304510e-18  2.26576127e-17 -4.53152255e-18 -4.53152255e-18\n",
      " -7.25043608e-17 -3.05877772e-17  3.62521804e-17  4.07837029e-17\n",
      "  7.36372414e-16 -1.60869051e-16  1.35945676e-17  2.62828308e-16\n",
      " -4.98467480e-17 -1.43649265e-15  9.42556690e-16  2.26576127e-18\n",
      "  3.39864191e-17  3.17206578e-17  2.71891353e-17 -4.80341390e-16\n",
      " -2.10715799e-16 -2.58296785e-16 -1.44555569e-15 -2.71891353e-15\n",
      "  5.66440319e-17  2.73024234e-16 -3.19019187e-15 -6.52539247e-16\n",
      "  1.30961002e-15  1.62228507e-15 -1.78513666e-15 -2.49233740e-17\n",
      " -2.17513082e-16 -1.85339272e-15 -2.11168951e-15 -1.01506105e-15\n",
      " -1.59962746e-15 -1.79448293e-15 -5.65307438e-16 -4.81332661e-16\n",
      "  2.32523751e-15 -2.12981560e-16  1.38211438e-16 -1.22351109e-16\n",
      "  7.25043608e-17  1.00826377e-15  8.15674059e-17  1.42289808e-15\n",
      "  1.94855470e-16  7.47701221e-17 -6.16287067e-16 -2.37904934e-16\n",
      " -1.45915026e-15 -2.34506292e-16 -8.80106645e-17  7.93016446e-16\n",
      " -2.40170695e-16 -1.81260902e-17  2.08450037e-16 -1.91456828e-16\n",
      " -1.99386992e-16  2.71891353e-17  2.80954398e-16  4.22281258e-16\n",
      "  1.55487867e-16  5.43782706e-17  2.92283204e-16  1.02412410e-15\n",
      "  4.53152255e-17 -9.06304510e-18  7.25043608e-17 -1.10115998e-15\n",
      "  1.08756541e-16  3.57990281e-16  2.80954398e-16  2.71891353e-16\n",
      "  7.37505295e-16 -1.49540244e-16 -4.53152255e-16 -2.35639173e-16\n",
      " -1.26882631e-16  9.06304510e-18  7.70358833e-17  2.46967979e-16\n",
      " -1.71631417e-16 -1.55204647e-15  1.78541988e-15  3.71584849e-16\n",
      " -9.06304510e-17 -2.44702218e-16 -1.17026570e-15  4.53152255e-18\n",
      " -1.88907846e-16  1.94458961e-15  3.42583105e-15 -3.67506479e-15\n",
      "  4.84872913e-16 -1.07623661e-17 -8.60989284e-17 -2.02105906e-15\n",
      " -6.67957045e-17 -2.71891353e-17  8.38331672e-16 -8.60989284e-17\n",
      " -4.03305507e-16  3.12675056e-16 -3.39864191e-16  2.67359830e-16\n",
      "  2.67359830e-16  2.71891353e-17 -2.11622103e-15  3.08143533e-16\n",
      "  6.85392786e-17 -2.79821517e-16 -1.72197857e-16  1.11248879e-15\n",
      "  3.60256043e-16  1.85792425e-16  4.53152255e-16  4.71278345e-16\n",
      " -1.24616870e-16  1.57696985e-15  2.93869237e-15  1.90323947e-16\n",
      "  1.04225019e-16 -2.24310366e-16 -1.20651788e-16 -2.39037814e-16\n",
      "  1.99386992e-16 -4.30494642e-17 -2.65094069e-16  2.12981560e-16\n",
      "  3.62521804e-17  2.08450037e-16  2.15247321e-17 -6.97854473e-16\n",
      " -7.52232743e-16 -4.53152255e-17 -3.85179417e-17  3.17206578e-16\n",
      "  4.99373785e-15  1.90323947e-16 -6.19685709e-16 -3.78382133e-16\n",
      "  2.26576127e-15  8.15674059e-17 -2.53765263e-16 -4.30494642e-17\n",
      " -1.40477199e-16 -1.58497082e-16 -6.95588711e-16  2.33373411e-16\n",
      "  1.10002710e-15 -6.78595502e-16 -6.61602292e-16 -9.56151258e-16\n",
      "  7.70358833e-17  1.34812796e-16  1.51466141e-15 -2.53765263e-16\n",
      " -3.44395714e-15  2.71891353e-17 -2.09483791e-15 -2.79141789e-15\n",
      " -8.27795882e-15 -9.28962123e-17 -5.51996091e-16  1.58603289e-17\n",
      " -1.24163718e-15 -1.01052953e-15  3.48927236e-16  7.25043608e-17\n",
      "  9.74277348e-17 -5.73804043e-16  4.98467480e-16  1.51919293e-15\n",
      "  4.53152255e-17  8.07319064e-16  8.09159995e-16 -4.37291926e-16\n",
      " -2.36318901e-15  1.38670254e-14  5.61908796e-16 -1.71744705e-15\n",
      " -1.00713089e-15  1.54071767e-16 -1.54694851e-15 -9.06304510e-18\n",
      "  1.39910759e-16 -1.60869051e-16 -1.77579040e-15 -1.79901445e-15\n",
      "  1.72197857e-16 -4.57400557e-17 -1.51806005e-15  3.78806963e-18\n",
      "  1.22521041e-15 -2.74199597e-15 -3.34426364e-15  7.93016446e-17\n",
      "  2.85485921e-16  4.19392412e-15  6.11755544e-17  3.03612011e-16\n",
      "  9.06304510e-16  4.37291926e-16 -5.55111512e-16 -8.60989284e-17\n",
      " -8.51926239e-16  4.98467480e-17 -5.89097931e-17 -1.67666334e-16\n",
      "  1.02638986e-15 -1.32716967e-15 -1.13288064e-17  1.66604259e-15\n",
      " -2.31107650e-16  2.47421131e-15 -2.35639173e-16 -5.57377274e-16\n",
      "  8.24737104e-16 -3.08143533e-16 -3.02252554e-15  6.73798460e-17\n",
      "  1.22351109e-16 -2.62828308e-16  2.99080488e-16  9.62948542e-18\n",
      " -3.62521804e-17  3.17206578e-17  1.81260902e-17  1.81260902e-17\n",
      " -1.17819586e-16 -1.91683404e-15  1.21444804e-15 -2.44135777e-16\n",
      " -6.66700255e-16 -4.07837029e-17  1.08756541e-16 -1.62545714e-14\n",
      "  1.67213182e-15  7.15980563e-16  1.73557314e-15  3.35332669e-16\n",
      "  2.12981560e-16 -4.48620732e-16 -5.91363693e-16 -4.59241488e-16\n",
      "  2.51952654e-15 -1.70385248e-15 -5.09796287e-18 -2.99080488e-16\n",
      "  3.79288437e-15 -1.98933840e-15 -5.52845751e-16  2.07883597e-16\n",
      " -2.18419387e-15 -1.59056441e-15  4.12368552e-16  9.96934961e-17\n",
      "  9.96934961e-17  5.21125093e-16 -2.17513082e-16  1.04225019e-15\n",
      " -4.00813170e-15 -3.85179417e-17  1.03318714e-15 -5.41063792e-15\n",
      "  1.91683404e-15 -3.62521804e-17 -1.48633940e-15  3.07237229e-15\n",
      "  8.08197047e-15 -1.30507849e-15  7.06917518e-16 -1.25070022e-15\n",
      " -3.00213369e-17  1.63587964e-15 -2.85910751e-16  1.60189322e-15\n",
      " -8.88178420e-16  1.54071767e-16  6.20818589e-16  1.65853725e-15\n",
      "  7.03745452e-15  2.05051395e-15 -6.93889390e-16  5.89097931e-17\n",
      " -4.84872913e-16  5.89097931e-17  2.71891353e-17 -5.12062048e-15\n",
      "  3.71584849e-16  2.06184276e-16 -6.19685709e-16  2.53765263e-16\n",
      " -6.15380762e-15 -6.79728382e-17  2.96134999e-15 -1.44555569e-15\n",
      " -5.16593571e-16  3.71584849e-15 -2.58296785e-16 -9.65214303e-16\n",
      "  2.53765263e-16  2.62828308e-16 -4.44089210e-16 -1.99386992e-16\n",
      "  1.45008722e-16 -3.53458759e-16  4.88271555e-16 -3.62521804e-16\n",
      " -1.00826377e-16 -4.62215300e-16 -3.44395714e-16  4.97334600e-16\n",
      " -9.06304510e-18 -3.28535385e-16 -4.50886494e-16 -4.42276601e-15\n",
      " -1.40477199e-16  5.53978632e-16  5.66440319e-19  2.35639173e-16\n",
      "  3.62521804e-17  3.17206578e-17  7.43452918e-16  1.97121231e-16\n",
      "  3.94242462e-16 -9.01772987e-16  4.72411226e-16  6.79728382e-17\n",
      " -1.34767481e-14 -3.93676021e-16 -2.10715799e-16 -1.18272739e-15\n",
      " -2.03918515e-16 -3.89710939e-16 -5.07530526e-16 -4.53152255e-17\n",
      "  1.17819586e-16 -1.15553825e-16 -4.07837029e-17  1.08756541e-16\n",
      "  1.76729379e-16 -2.79821517e-16 -2.76422876e-16  7.69225953e-16\n",
      " -2.62828308e-16  2.67359830e-15  4.78075629e-16 -4.53152255e-17\n",
      " -9.51619735e-17  9.06304510e-17  1.90323947e-16  3.21738101e-16\n",
      "  1.03771866e-15  5.21125093e-16  1.81260902e-17  9.96934961e-17\n",
      "  4.53152255e-17 -1.35945676e-17  5.43782706e-17  1.88058186e-16\n",
      "  4.33893284e-16 -1.25183310e-15 -2.29974769e-16  1.11163913e-16\n",
      "  2.03125498e-15  3.09389702e-15  1.25183310e-15 -8.10009656e-16\n",
      "  2.29974769e-16  8.23604223e-16 -1.88511338e-15  2.20005420e-15\n",
      "  1.73897178e-15  5.08663406e-16  0.00000000e+00  5.55111512e-17\n",
      "  5.83433528e-17  4.07837029e-17 -5.89097931e-17 -4.53152255e-18\n",
      "  5.66440319e-18 -1.92589708e-17 -4.58816658e-17 -6.23084351e-18\n",
      "  6.79728382e-18  8.15674059e-17 -1.13288064e-17  1.17819586e-16\n",
      " -9.06304510e-18 -3.05877772e-17  1.99386992e-16  1.11022302e-16\n",
      "  9.06304510e-18  9.06304510e-18  4.96201719e-16 -3.85179417e-17\n",
      " -7.28442250e-16  1.38211438e-16  0.00000000e+00  3.71584849e-16\n",
      "  1.81260902e-16  1.74463618e-16 -6.25350112e-16 -6.34413157e-17]\n",
      "Desvios padrão de X autoescalado\n",
      "[1. 1. 1. 1. 1. 1. 1. 1. 1. 1. 1. 1. 1. 1. 1. 1. 1. 1. 1. 1. 1. 1. 1. 1.\n",
      " 1. 1. 1. 1. 1. 1. 1. 1. 1. 1. 1. 1. 1. 1. 1. 1. 1. 1. 1. 1. 1. 1. 1. 1.\n",
      " 1. 1. 1. 1. 1. 1. 1. 1. 1. 1. 1. 1. 1. 1. 1. 1. 1. 1. 1. 1. 1. 1. 1. 1.\n",
      " 1. 1. 1. 1. 1. 1. 1. 1. 1. 1. 1. 1. 1. 1. 1. 1. 1. 1. 1. 1. 1. 1. 1. 1.\n",
      " 1. 1. 1. 1. 1. 1. 1. 1. 1. 1. 1. 1. 1. 1. 1. 1. 1. 1. 1. 1. 1. 1. 1. 1.\n",
      " 1. 1. 1. 1. 1. 1. 1. 1. 1. 1. 1. 1. 1. 1. 1. 1. 1. 1. 1. 1. 1. 1. 1. 1.\n",
      " 1. 1. 1. 1. 1. 1. 1. 1. 1. 1. 1. 1. 1. 1. 1. 1. 1. 1. 1. 1. 1. 1. 1. 1.\n",
      " 1. 1. 1. 1. 1. 1. 1. 1. 1. 1. 1. 1. 1. 1. 1. 1. 1. 1. 1. 1. 1. 1. 1. 1.\n",
      " 1. 1. 1. 1. 1. 1. 1. 1. 1. 1. 1. 1. 1. 1. 1. 1. 1. 1. 1. 1. 1. 1. 1. 1.\n",
      " 1. 1. 1. 1. 1. 1. 1. 1. 1. 1. 1. 1. 1. 1. 1. 1. 1. 1. 1. 1. 1. 1. 1. 1.\n",
      " 1. 1. 1. 1. 1. 1. 1. 1. 1. 1. 1. 1. 1. 1. 1. 1. 1. 1. 1. 1. 1. 1. 1. 1.\n",
      " 1. 1. 1. 1. 1. 1. 1. 1. 1. 1. 1. 1. 1. 1. 1. 1. 1. 1. 1. 1. 1. 1. 1. 1.\n",
      " 1. 1. 1. 1. 1. 1. 1. 1. 1. 1. 1. 1. 1. 1. 1. 1. 1. 1. 1. 1. 1. 1. 1. 1.\n",
      " 1. 1. 1. 1. 1. 1. 1. 1. 1. 1. 1. 1. 1. 1. 1. 1. 1. 1. 1. 1. 1. 1. 1. 1.\n",
      " 1. 1. 1. 1. 1. 1. 1. 1. 1. 1. 1. 1. 1. 1. 1. 1. 1. 1. 1. 1. 1. 1. 1. 1.\n",
      " 1. 1. 1. 1. 1. 1. 1. 1. 1. 1. 1. 1. 1. 1. 1. 1. 1. 1. 1. 1. 1. 1. 1. 1.\n",
      " 1. 1. 1. 1. 1. 1. 1. 1. 1. 1. 1. 1. 1. 1. 1. 1. 1. 1. 1. 1. 1. 1. 1. 1.\n",
      " 1. 1. 1. 1. 1. 1. 1. 1. 1. 1. 1. 1. 1. 1. 1. 1. 1. 1. 1. 1. 1. 1. 1. 1.\n",
      " 1. 1. 1. 1. 1. 1. 1. 1. 1. 1. 1. 1. 1. 1. 1. 1. 1. 1. 1. 1. 1. 1. 1. 1.\n",
      " 1. 1. 1. 1. 1. 1. 1. 1. 1. 1. 1. 1. 1. 1. 1. 1. 1. 1. 1. 1. 1. 1. 1. 1.\n",
      " 1. 1. 1. 1. 1. 1. 1. 1. 1. 1. 1. 1. 1. 1. 1. 1. 1. 1. 1. 1. 1. 1. 1. 1.\n",
      " 1. 1. 1. 1. 1. 1. 1. 1. 1. 1. 1. 1. 1. 1. 1. 1. 1. 1. 1. 1. 1. 1. 1. 1.\n",
      " 1. 1. 1. 1. 1. 1. 1. 1. 1. 1. 1. 1. 1. 1. 1. 1. 1. 1. 1. 1. 1. 1. 1. 1.\n",
      " 1. 1. 1. 1. 1. 1. 1. 1. 1. 1. 1. 1.]\n"
     ]
    }
   ],
   "source": [
    "import pandas as pd\n",
    "from sklearn.preprocessing import StandardScaler\n",
    "# Carregando novos dados\n",
    "X = pd.read_csv(\"Xdat.txt\",sep='\\t',index_col=0)\n",
    "print(\"Dimensões de X\")\n",
    "print(X.shape)\n",
    "y = pd.read_csv(\"pIC50dat.txt\",sep='\\t')\n",
    "print(\"Dimensões de y\")\n",
    "print(y.shape)\n",
    "\n",
    "# Autoescalando os dados\n",
    "scaler = StandardScaler().fit(X)\n",
    "print(\"Médias de X\")\n",
    "print(scaler.mean_)\n",
    "print(\"Varâncias de X\")\n",
    "print(scaler.var_)\n",
    "# Autoescalando de fato\n",
    "Xa = scaler.transform(X)\n",
    "print(\"Médias de X autoescalado\")\n",
    "print(Xa.mean(axis=0))\n",
    "print(\"Desvios padrão de X autoescalado\")\n",
    "print(Xa.std(axis=0))"
   ]
  },
  {
   "cell_type": "code",
   "execution_count": 6,
   "metadata": {
    "slideshow": {
     "slide_type": "slide"
    }
   },
   "outputs": [
    {
     "data": {
      "text/plain": [
       "array([[4.907],\n",
       "       [6.561],\n",
       "       [4.714],\n",
       "       [5.384],\n",
       "       [5.521],\n",
       "       [5.077],\n",
       "       [4.684],\n",
       "       [4.932],\n",
       "       [5.907],\n",
       "       [6.229],\n",
       "       [4.866],\n",
       "       [5.174],\n",
       "       [6.011],\n",
       "       [4.627],\n",
       "       [5.194],\n",
       "       [6.141],\n",
       "       [5.695],\n",
       "       [6.355],\n",
       "       [6.652],\n",
       "       [6.623],\n",
       "       [5.939],\n",
       "       [6.393],\n",
       "       [6.848],\n",
       "       [6.529],\n",
       "       [6.316],\n",
       "       [6.362],\n",
       "       [6.509],\n",
       "       [6.53 ],\n",
       "       [6.943],\n",
       "       [6.213],\n",
       "       [5.658],\n",
       "       [8.446],\n",
       "       [8.347],\n",
       "       [7.305],\n",
       "       [7.777],\n",
       "       [8.131],\n",
       "       [8.303],\n",
       "       [7.575],\n",
       "       [7.714],\n",
       "       [6.845],\n",
       "       [8.595],\n",
       "       [8.173],\n",
       "       [7.326],\n",
       "       [7.544],\n",
       "       [6.67 ],\n",
       "       [6.558],\n",
       "       [7.27 ],\n",
       "       [7.231],\n",
       "       [6.039]])"
      ]
     },
     "execution_count": 6,
     "metadata": {},
     "output_type": "execute_result"
    }
   ],
   "source": [
    "# MLR\n",
    "\n",
    "from sklearn import linear_model \n",
    "from sklearn.model_selection import cross_val_predict \n",
    "from sklearn.metrics import mean_squared_error, r2_score\n",
    "\n",
    "mlr = linear_model.LinearRegression()\n",
    "\n",
    "# Fit\n",
    "mlr.fit(Xa, y)\n",
    " \n",
    "# # Calibration\n",
    "y_c = mlr.predict(Xa)\n",
    "y_c\n"
   ]
  },
  {
   "cell_type": "code",
   "execution_count": 7,
   "metadata": {
    "slideshow": {
     "slide_type": "slide"
    }
   },
   "outputs": [
    {
     "data": {
      "text/plain": [
       "array([[4.9081935 ],\n",
       "       [4.65415664],\n",
       "       [4.58461414],\n",
       "       [5.8189706 ],\n",
       "       [5.66780251],\n",
       "       [4.77229173],\n",
       "       [5.16108239],\n",
       "       [5.45230639],\n",
       "       [5.55899   ],\n",
       "       [6.15834374],\n",
       "       [6.12376923],\n",
       "       [4.82297934],\n",
       "       [5.77483494],\n",
       "       [5.20391486],\n",
       "       [5.0010293 ],\n",
       "       [6.06906848],\n",
       "       [5.90849668],\n",
       "       [6.72133703],\n",
       "       [6.42062402],\n",
       "       [5.89974734],\n",
       "       [6.01361386],\n",
       "       [6.77274082],\n",
       "       [6.67249491],\n",
       "       [6.18991528],\n",
       "       [6.35540051],\n",
       "       [4.69180563],\n",
       "       [6.19907561],\n",
       "       [7.04078512],\n",
       "       [6.78360809],\n",
       "       [7.11226907],\n",
       "       [7.08124094],\n",
       "       [8.44980925],\n",
       "       [8.06279777],\n",
       "       [5.15843565],\n",
       "       [7.27004257],\n",
       "       [7.95938501],\n",
       "       [7.5838598 ],\n",
       "       [7.24400701],\n",
       "       [8.07710854],\n",
       "       [8.06264596],\n",
       "       [8.0718885 ],\n",
       "       [8.65961821],\n",
       "       [7.32023418],\n",
       "       [7.52125487],\n",
       "       [6.71569244],\n",
       "       [6.52534078],\n",
       "       [7.46207881],\n",
       "       [7.0864605 ],\n",
       "       [7.07919828]])"
      ]
     },
     "execution_count": 7,
     "metadata": {},
     "output_type": "execute_result"
    }
   ],
   "source": [
    "y_cv = cross_val_predict(mlr, Xa, y, cv=len(Xa))\n",
    "y_cv"
   ]
  },
  {
   "cell_type": "code",
   "execution_count": 8,
   "metadata": {
    "slideshow": {
     "slide_type": "slide"
    }
   },
   "outputs": [
    {
     "name": "stdout",
     "output_type": "stream",
     "text": [
      "1.0\n",
      "0.6012151105291657\n"
     ]
    }
   ],
   "source": [
    "score_c = r2_score(y, y_c)\n",
    "print(score_c)\n",
    "score_cv = r2_score(y, y_cv)\n",
    "print(score_cv)"
   ]
  },
  {
   "cell_type": "code",
   "execution_count": 9,
   "metadata": {
    "slideshow": {
     "slide_type": "slide"
    }
   },
   "outputs": [
    {
     "name": "stderr",
     "output_type": "stream",
     "text": [
      "/home/jpam/anaconda3/lib/python3.7/site-packages/sklearn/utils/validation.py:761: DataConversionWarning: A column-vector y was passed when a 1d array was expected. Please change the shape of y to (n_samples, ), for example using ravel().\n",
      "  y = column_or_1d(y, warn=True)\n"
     ]
    },
    {
     "data": {
      "text/plain": [
       "(49, 6)"
      ]
     },
     "execution_count": 9,
     "metadata": {},
     "output_type": "execute_result"
    }
   ],
   "source": [
    "import numpy as np\n",
    "from sklearn.feature_selection import SelectKBest, f_regression\n",
    "X_new = SelectKBest(f_regression, k=6).fit_transform(Xa, y)\n",
    "np.shape(X_new)"
   ]
  },
  {
   "cell_type": "code",
   "execution_count": 10,
   "metadata": {
    "slideshow": {
     "slide_type": "slide"
    }
   },
   "outputs": [
    {
     "name": "stdout",
     "output_type": "stream",
     "text": [
      "0.7310450799473478\n",
      "0.6086009775035843\n"
     ]
    }
   ],
   "source": [
    "# Fit\n",
    "mlr.fit(X_new, y)\n",
    " \n",
    "# # Calibration\n",
    "y_c = mlr.predict(X_new)\n",
    "\n",
    "\n",
    "score_c = r2_score(y, y_c)\n",
    "print(score_c)\n",
    "y_cv = cross_val_predict(mlr, X_new, y, cv=len(y))\n",
    "score_cv = r2_score(y, y_cv)\n",
    "print(score_cv)"
   ]
  },
  {
   "cell_type": "code",
   "execution_count": 13,
   "metadata": {
    "slideshow": {
     "slide_type": "slide"
    }
   },
   "outputs": [
    {
     "name": "stdout",
     "output_type": "stream",
     "text": [
      "0.7550987098859961\n",
      "0.6133993647606086\n"
     ]
    }
   ],
   "source": [
    "# PCR\n",
    "\n",
    "from sklearn.decomposition import PCA\n",
    "pca = PCA(n_components = 8)\n",
    "pca.fit(Xa)\n",
    "T = pca.fit_transform(Xa)\n",
    "\n",
    "pcr = linear_model.LinearRegression()\n",
    "\n",
    "# Fit\n",
    "pcr.fit(T, y)\n",
    "\n",
    "# Calibration\n",
    "y_c_pcr = pcr.predict(T)\n",
    "\n",
    "# Cross-validation\n",
    "y_cv_pcr = cross_val_predict(pcr, T, y, cv=len(y))\n",
    "\n",
    "# Calculate scores for calibration and cross-validation\n",
    "score_c_pcr = r2_score(y, y_c_pcr)\n",
    "print(score_c_pcr)\n",
    "score_cv_pcr = r2_score(y, y_cv_pcr)\n",
    "print(score_cv_pcr)\n"
   ]
  },
  {
   "cell_type": "code",
   "execution_count": 14,
   "metadata": {
    "slideshow": {
     "slide_type": "slide"
    }
   },
   "outputs": [],
   "source": [
    "cv_scores = []\n",
    "c_scores = []\n",
    "mse_c = []\n",
    "mse_cv = []\n",
    "for i in range(8):\n",
    "    Tp = T[:,:i+1]\n",
    "    # Calibration\n",
    "    pcr.fit(Tp,y)\n",
    "    y_c_pcr = pcr.predict(Tp)\n",
    "\n",
    "    # Cross-validation\n",
    "    y_cv_pcr = cross_val_predict(pcr, Tp, y, cv=len(Xa))\n",
    "\n",
    "    # Calculate scores for calibration and cross-validation\n",
    "    c_scores.append(r2_score(y, y_c_pcr))\n",
    "    cv_scores.append(r2_score(y, y_cv_pcr))\n",
    "    mse_c.append(mean_squared_error(y, y_c_pcr))\n",
    "    mse_cv.append(mean_squared_error(y, y_cv_pcr))\n",
    "    "
   ]
  },
  {
   "cell_type": "code",
   "execution_count": 16,
   "metadata": {
    "slideshow": {
     "slide_type": "slide"
    }
   },
   "outputs": [],
   "source": [
    "from bokeh.plotting import figure, output_notebook, show\n",
    "p = figure(title=\"Erro Quadrático médio\", x_axis_label='Número de componentes', y_axis_label='RMSECV ou RMSEC')\n",
    "    #p.text(x+0.3,y+0.3,flav.index[i])\n",
    "p.line(range(1,len(c_scores)+1),mse_c,legend=\"RMSEC\")\n",
    "p.circle(range(1,len(c_scores)+1),mse_c,legend=\"RMSEC\")\n",
    "p.line(range(1,len(cv_scores)+1),mse_cv,color=\"red\", legend=\"RMSECV\")\n",
    "p.circle(range(1,len(cv_scores)+1),mse_cv,color=\"red\", legend=\"RMSECV\")\n",
    "show(p)"
   ]
  },
  {
   "cell_type": "code",
   "execution_count": 17,
   "metadata": {
    "slideshow": {
     "slide_type": "slide"
    }
   },
   "outputs": [],
   "source": [
    "p = figure(title=\"Erro Validação cruzada\", x_axis_label='Número de componentes', y_axis_label='Q² ou R²')\n",
    "    #p.text(x+0.3,y+0.3,flav.index[i])\n",
    "p.line(range(1,len(c_scores)+1),c_scores,legend=\"R²\")\n",
    "p.circle(range(1,len(c_scores)+1),c_scores,legend=\"R²\")\n",
    "p.line(range(1,len(cv_scores)+1),cv_scores,color=\"red\", legend=\"Q²\")\n",
    "p.circle(range(1,len(cv_scores)+1),cv_scores,color=\"red\", legend=\"Q²\")\n",
    "show(p)"
   ]
  },
  {
   "cell_type": "code",
   "execution_count": 21,
   "metadata": {
    "slideshow": {
     "slide_type": "slide"
    }
   },
   "outputs": [
    {
     "name": "stdout",
     "output_type": "stream",
     "text": [
      "0.7115470511764513\n",
      "0.6408294817188853\n"
     ]
    }
   ],
   "source": [
    "Tp = T[:,:4]\n",
    "# Calibration\n",
    "pcr.fit(Tp,y)\n",
    "y_c_pcr = pcr.predict(Tp)\n",
    "\n",
    "# Cross-validation\n",
    "y_cv_pcr = cross_val_predict(pcr, Tp, y, cv=len(Xa))\n",
    "print(r2_score(y, y_c_pcr))\n",
    "print(r2_score(y, y_cv_pcr))"
   ]
  },
  {
   "cell_type": "code",
   "execution_count": 22,
   "metadata": {
    "slideshow": {
     "slide_type": "slide"
    }
   },
   "outputs": [
    {
     "name": "stdout",
     "output_type": "stream",
     "text": [
      "[[0.06663294 0.01782176 0.02309218 0.47726992 0.36243019 0.0922794 ]]\n",
      "[6.47638776]\n"
     ]
    }
   ],
   "source": [
    "print(mlr.coef_)\n",
    "print(mlr.intercept_)"
   ]
  },
  {
   "cell_type": "code",
   "execution_count": 23,
   "metadata": {
    "slideshow": {
     "slide_type": "slide"
    }
   },
   "outputs": [
    {
     "name": "stdout",
     "output_type": "stream",
     "text": [
      "[[0.06500488 0.01600644 0.00885195 0.06944058]]\n",
      "[6.47638776]\n"
     ]
    }
   ],
   "source": [
    "print(pcr.coef_)\n",
    "print(pcr.intercept_)"
   ]
  },
  {
   "cell_type": "code",
   "execution_count": 24,
   "metadata": {
    "slideshow": {
     "slide_type": "slide"
    }
   },
   "outputs": [
    {
     "name": "stdout",
     "output_type": "stream",
     "text": [
      "[[4.85751955]\n",
      " [6.51569509]\n",
      " [4.65276814]\n",
      " [5.47804304]\n",
      " [5.55267518]\n",
      " [4.99992799]\n",
      " [4.82400849]\n",
      " [5.01996344]\n",
      " [5.77290263]\n",
      " [6.25541198]\n",
      " [5.21416046]\n",
      " [4.99105864]\n",
      " [5.96225767]\n",
      " [4.57184954]\n",
      " [5.01189489]\n",
      " [6.22068227]\n",
      " [5.75765921]\n",
      " [6.50187777]\n",
      " [6.54296495]\n",
      " [6.60868238]\n",
      " [5.9716825 ]\n",
      " [6.48983321]\n",
      " [6.91138758]\n",
      " [6.48023544]\n",
      " [6.33818577]\n",
      " [6.16251189]\n",
      " [6.4438897 ]\n",
      " [6.65542944]\n",
      " [6.91020525]\n",
      " [6.17694902]\n",
      " [5.76731531]\n",
      " [8.40392758]\n",
      " [8.24097184]\n",
      " [7.31230796]\n",
      " [7.67403134]\n",
      " [8.17901663]\n",
      " [8.34127477]\n",
      " [7.45394711]\n",
      " [7.86745307]\n",
      " [6.81272507]\n",
      " [8.39105637]\n",
      " [8.27470098]\n",
      " [7.26926404]\n",
      " [7.6125891 ]\n",
      " [6.696221  ]\n",
      " [6.50647547]\n",
      " [7.43762808]\n",
      " [7.27970352]\n",
      " [5.97007764]]\n",
      "0.9900722851746842\n",
      "[[5.08540595]\n",
      " [4.69949844]\n",
      " [4.7685322 ]\n",
      " [5.68548731]\n",
      " [5.75534036]\n",
      " [4.71150338]\n",
      " [5.1340913 ]\n",
      " [5.29427489]\n",
      " [5.63445442]\n",
      " [6.03054214]\n",
      " [6.19997979]\n",
      " [4.95860423]\n",
      " [5.59786676]\n",
      " [5.30379575]\n",
      " [4.93889116]\n",
      " [5.94209929]\n",
      " [5.90652974]\n",
      " [6.49287717]\n",
      " [6.142486  ]\n",
      " [5.95505604]\n",
      " [6.12972521]\n",
      " [6.87421358]\n",
      " [6.46614087]\n",
      " [6.26198153]\n",
      " [6.38941771]\n",
      " [4.67525315]\n",
      " [6.23865756]\n",
      " [6.9817879 ]\n",
      " [6.89397291]\n",
      " [7.1814107 ]\n",
      " [7.09409848]\n",
      " [8.23136693]\n",
      " [8.03193574]\n",
      " [5.22538207]\n",
      " [7.24296252]\n",
      " [8.0403592 ]\n",
      " [7.60359877]\n",
      " [7.24374648]\n",
      " [8.04483457]\n",
      " [7.87780123]\n",
      " [8.09944385]\n",
      " [8.63452133]\n",
      " [7.21369289]\n",
      " [7.7642685 ]\n",
      " [6.77947595]\n",
      " [6.4806417 ]\n",
      " [7.50084236]\n",
      " [7.26359729]\n",
      " [6.90236911]]\n",
      "0.6117783534897309\n"
     ]
    }
   ],
   "source": [
    "# PLS\n",
    "\n",
    "from sklearn.cross_decomposition import PLSRegression\n",
    "pls2 = PLSRegression(n_components=8)\n",
    "pls2.fit(Xa, y)\n",
    "\n",
    "y_pls = pls2.predict(Xa)\n",
    "print(y_pls)\n",
    "print(pls2.score(Xa,y))\n",
    "\n",
    "y_cv_pls = cross_val_predict(pls2, Xa, y, cv=len(Xa))\n",
    "print(y_cv_pls)\n",
    "print(r2_score(y,y_cv_pls))"
   ]
  },
  {
   "cell_type": "code",
   "execution_count": 25,
   "metadata": {
    "slideshow": {
     "slide_type": "slide"
    }
   },
   "outputs": [
    {
     "name": "stdout",
     "output_type": "stream",
     "text": [
      "[[5.08540595]\n",
      " [4.69949844]\n",
      " [4.7685322 ]\n",
      " [5.68548731]\n",
      " [5.75534036]\n",
      " [4.71150338]\n",
      " [5.1340913 ]\n",
      " [5.29427489]\n",
      " [5.63445442]\n",
      " [6.03054214]\n",
      " [6.19997979]\n",
      " [4.95860423]\n",
      " [5.59786676]\n",
      " [5.30379575]\n",
      " [4.93889116]\n",
      " [5.94209929]\n",
      " [5.90652974]\n",
      " [6.49287717]\n",
      " [6.142486  ]\n",
      " [5.95505604]\n",
      " [6.12972521]\n",
      " [6.87421358]\n",
      " [6.46614087]\n",
      " [6.26198153]\n",
      " [6.38941771]\n",
      " [4.67525315]\n",
      " [6.23865756]\n",
      " [6.9817879 ]\n",
      " [6.89397291]\n",
      " [7.1814107 ]\n",
      " [7.09409848]\n",
      " [8.23136693]\n",
      " [8.03193574]\n",
      " [5.22538207]\n",
      " [7.24296252]\n",
      " [8.0403592 ]\n",
      " [7.60359877]\n",
      " [7.24374648]\n",
      " [8.04483457]\n",
      " [7.87780123]\n",
      " [8.09944385]\n",
      " [8.63452133]\n",
      " [7.21369289]\n",
      " [7.7642685 ]\n",
      " [6.77947595]\n",
      " [6.4806417 ]\n",
      " [7.50084236]\n",
      " [7.26359729]\n",
      " [6.90236911]]\n",
      "0.6117783534897309\n"
     ]
    }
   ],
   "source": [
    "y_cv_pls = cross_val_predict(pls2, Xa, y, cv=len(Xa))\n",
    "print(y_cv_pls)\n",
    "print(r2_score(y,y_cv_pls))"
   ]
  },
  {
   "cell_type": "code",
   "execution_count": 26,
   "metadata": {
    "slideshow": {
     "slide_type": "slide"
    }
   },
   "outputs": [],
   "source": [
    "cv_scores = []\n",
    "c_scores = []\n",
    "mse_c = []\n",
    "mse_cv = []\n",
    "for i in range(8):\n",
    "    # Calibration\n",
    "    pls2 = PLSRegression(n_components=i+1)\n",
    "    pls2.fit(Xa,y)\n",
    "    y_c_pcr = pls2.predict(Xa)\n",
    "\n",
    "    # Cross-validation\n",
    "    y_cv_pcr = cross_val_predict(pls2, Xa, y, cv=len(Xa))\n",
    "\n",
    "    c_scores.append(r2_score(y, y_c_pcr))\n",
    "    cv_scores.append(r2_score(y, y_cv_pcr))\n",
    "    mse_c.append(mean_squared_error(y, y_c_pcr))\n",
    "    mse_cv.append(mean_squared_error(y, y_cv_pcr))"
   ]
  },
  {
   "cell_type": "code",
   "execution_count": 27,
   "metadata": {
    "slideshow": {
     "slide_type": "slide"
    }
   },
   "outputs": [],
   "source": [
    "p = figure(title=\"Erro Quadrático médio\", x_axis_label='Número de varáveis latentes', y_axis_label='RMSECV ou RMSEC')\n",
    "    #p.text(x+0.3,y+0.3,flav.index[i])\n",
    "p.line(range(1,len(c_scores)+1),mse_c,legend=\"RMSEC\")\n",
    "p.circle(range(1,len(c_scores)+1),mse_c,legend=\"RMSEC\")\n",
    "p.line(range(1,len(cv_scores)+1),mse_cv,color=\"red\", legend=\"RMSECV\")\n",
    "p.circle(range(1,len(cv_scores)+1),mse_cv,color=\"red\", legend=\"RMSECV\")\n",
    "show(p)"
   ]
  },
  {
   "cell_type": "code",
   "execution_count": 29,
   "metadata": {
    "slideshow": {
     "slide_type": "slide"
    }
   },
   "outputs": [],
   "source": [
    "from bokeh.models import LabelSet, Label, ColumnDataSource\n",
    "source = ColumnDataSource(data=dict(\n",
    "    lv=range(1,len(c_scores)+1),\n",
    "    R2=c_scores,\n",
    "    Q2=cv_scores,\n",
    "))\n",
    "\n",
    "TOOLTIPS = [\n",
    "    (\"LV\", \"@lv\"),\n",
    "    (\"R2\", \"@R2\"),\n",
    "    (\"Q2\", \"@Q2\")\n",
    "]\n",
    "\n",
    "p = figure(title=\"Erro Validação cruzada - PLS\", x_axis_label='Número de variáveis latentes', y_axis_label='Q² ou R²',\n",
    "          tooltips = TOOLTIPS)\n",
    "    #p.text(x+0.3,y+0.3,flav.index[i])\n",
    "p.line(\"lv\",\"R2\",legend=\"R²\", source=source)\n",
    "p.circle(\"lv\",\"R2\",legend=\"R²\", source=source)\n",
    "p.line(\"lv\",\"Q2\",color=\"red\", legend=\"Q²\", source=source)\n",
    "p.circle(\"lv\",\"Q2\",color=\"red\", legend=\"Q²\", source=source)\n",
    "show(p)"
   ]
  },
  {
   "cell_type": "code",
   "execution_count": 30,
   "metadata": {
    "slideshow": {
     "slide_type": "slide"
    }
   },
   "outputs": [
    {
     "name": "stdout",
     "output_type": "stream",
     "text": [
      "0.8174558870530874\n",
      "0.6491099511827483\n"
     ]
    }
   ],
   "source": [
    "pls2 = PLSRegression(n_components=2)\n",
    "pls2.fit(Xa, y)\n",
    "\n",
    "y_pls = pls2.predict(Xa)\n",
    "print(pls2.score(Xa,y))\n",
    "\n",
    "y_cv_pls = cross_val_predict(pls2, Xa, y, cv=len(Xa))\n",
    "print(r2_score(y,y_cv_pls))"
   ]
  },
  {
   "cell_type": "code",
   "execution_count": 37,
   "metadata": {
    "slideshow": {
     "slide_type": "slide"
    }
   },
   "outputs": [],
   "source": [
    "from sklearn.model_selection import train_test_split\n",
    "X_train, X_test, y_train, y_test = train_test_split(X, y, test_size=0.33)"
   ]
  },
  {
   "cell_type": "code",
   "execution_count": 38,
   "metadata": {
    "slideshow": {
     "slide_type": "slide"
    }
   },
   "outputs": [
    {
     "name": "stdout",
     "output_type": "stream",
     "text": [
      "0.8582186626155891\n",
      "0.5840497947778153\n"
     ]
    }
   ],
   "source": [
    "scaler = StandardScaler().fit(X_train)\n",
    "X_train_a = scaler.transform(X_train)\n",
    "pls2 = PLSRegression(n_components=2)\n",
    "pls2.fit(X_train_a, y_train)\n",
    "\n",
    "y_pls = pls2.predict(X_train_a)\n",
    "print(pls2.score(X_train_a,y_train))\n",
    "\n",
    "y_cv_pls = cross_val_predict(pls2, X_train_a, y_train, cv=len(X_train_a))\n",
    "print(r2_score(y_train,y_cv_pls))"
   ]
  },
  {
   "cell_type": "code",
   "execution_count": 39,
   "metadata": {
    "slideshow": {
     "slide_type": "slide"
    }
   },
   "outputs": [
    {
     "name": "stdout",
     "output_type": "stream",
     "text": [
      "0.5714420328362703\n"
     ]
    }
   ],
   "source": [
    "X_test_a = scaler.transform(X_test)\n",
    "y_p = pls2.predict(X_test_a)\n",
    "print(pls2.score(X_test_a,y_test))"
   ]
  },
  {
   "cell_type": "code",
   "execution_count": 35,
   "metadata": {
    "slideshow": {
     "slide_type": "slide"
    }
   },
   "outputs": [
    {
     "data": {
      "image/png": "[encoded data removed]",
      "text/plain": [
       "<Figure size 1800x720 with 1 Axes>"
      ]
     },
     "metadata": {
      "needs_background": "light"
     },
     "output_type": "display_data"
    }
   ],
   "source": [
    "from scipy.cluster.hierarchy import dendrogram, linkage\n",
    "from matplotlib import pyplot as plt\n",
    "\n",
    "Z = linkage(Xa,'ward')\n",
    "fig = plt.figure(figsize=(25, 10))\n",
    "dn = dendrogram(Z,orientation=\"right\", labels=[(int(X.index[i]),\"{:.2f}\".format(y[\"pIC50\"][i])) for i in range(len(y))])"
   ]
  },
  {
   "cell_type": "code",
   "execution_count": 36,
   "metadata": {
    "slideshow": {
     "slide_type": "slide"
    }
   },
   "outputs": [
    {
     "data": {
      "text/html": [
       "\n",
       "    <div class=\"bk-root\">\n",
       "        <a href=\"https://bokeh.pydata.org\" target=\"_blank\" class=\"bk-logo bk-logo-small bk-logo-notebook\"></a>\n",
       "        <span id=\"1783\">Loading BokehJS ...</span>\n",
       "    </div>"
      ]
     },
     "metadata": {},
     "output_type": "display_data"
    },
    {
     "data": {
      "application/javascript": [
       "\n",
       "(function(root) {\n",
       "  function now() {\n",
       "    return new Date();\n",
       "  }\n",
       "\n",
       "  var force = true;\n",
       "\n",
       "  if (typeof (root._bokeh_onload_callbacks) === \"undefined\" || force === true) {\n",
       "    root._bokeh_onload_callbacks = [];\n",
       "    root._bokeh_is_loading = undefined;\n",
       "  }\n",
       "\n",
       "  var JS_MIME_TYPE = 'application/javascript';\n",
       "  var HTML_MIME_TYPE = 'text/html';\n",
       "  var EXEC_MIME_TYPE = 'application/vnd.bokehjs_exec.v0+json';\n",
       "  var CLASS_NAME = 'output_bokeh rendered_html';\n",
       "\n",
       "  /**\n",
       "   * Render data to the DOM node\n",
       "   */\n",
       "  function render(props, node) {\n",
       "    var script = document.createElement(\"script\");\n",
       "    node.appendChild(script);\n",
       "  }\n",
       "\n",
       "  /**\n",
       "   * Handle when an output is cleared or removed\n",
       "   */\n",
       "  function handleClearOutput(event, handle) {\n",
       "    var cell = handle.cell;\n",
       "\n",
       "    var id = cell.output_area._bokeh_element_id;\n",
       "    var server_id = cell.output_area._bokeh_server_id;\n",
       "    // Clean up Bokeh references\n",
       "    if (id != null && id in Bokeh.index) {\n",
       "      Bokeh.index[id].model.document.clear();\n",
       "      delete Bokeh.index[id];\n",
       "    }\n",
       "\n",
       "    if (server_id !== undefined) {\n",
       "      // Clean up Bokeh references\n",
       "      var cmd = \"from bokeh.io.state import curstate; print(curstate().uuid_to_server['\" + server_id + \"'].get_sessions()[0].document.roots[0]._id)\";\n",
       "      cell.notebook.kernel.execute(cmd, {\n",
       "        iopub: {\n",
       "          output: function(msg) {\n",
       "            var id = msg.content.text.trim();\n",
       "            if (id in Bokeh.index) {\n",
       "              Bokeh.index[id].model.document.clear();\n",
       "              delete Bokeh.index[id];\n",
       "            }\n",
       "          }\n",
       "        }\n",
       "      });\n",
       "      // Destroy server and session\n",
       "      var cmd = \"import bokeh.io.notebook as ion; ion.destroy_server('\" + server_id + \"')\";\n",
       "      cell.notebook.kernel.execute(cmd);\n",
       "    }\n",
       "  }\n",
       "\n",
       "  /**\n",
       "   * Handle when a new output is added\n",
       "   */\n",
       "  function handleAddOutput(event, handle) {\n",
       "    var output_area = handle.output_area;\n",
       "    var output = handle.output;\n",
       "\n",
       "    // limit handleAddOutput to display_data with EXEC_MIME_TYPE content only\n",
       "    if ((output.output_type != \"display_data\") || (!output.data.hasOwnProperty(EXEC_MIME_TYPE))) {\n",
       "      return\n",
       "    }\n",
       "\n",
       "    var toinsert = output_area.element.find(\".\" + CLASS_NAME.split(' ')[0]);\n",
       "\n",
       "    if (output.metadata[EXEC_MIME_TYPE][\"id\"] !== undefined) {\n",
       "      toinsert[toinsert.length - 1].firstChild.textContent = output.data[JS_MIME_TYPE];\n",
       "      // store reference to embed id on output_area\n",
       "      output_area._bokeh_element_id = output.metadata[EXEC_MIME_TYPE][\"id\"];\n",
       "    }\n",
       "    if (output.metadata[EXEC_MIME_TYPE][\"server_id\"] !== undefined) {\n",
       "      var bk_div = document.createElement(\"div\");\n",
       "      bk_div.innerHTML = output.data[HTML_MIME_TYPE];\n",
       "      var script_attrs = bk_div.children[0].attributes;\n",
       "      for (var i = 0; i < script_attrs.length; i++) {\n",
       "        toinsert[toinsert.length - 1].firstChild.setAttribute(script_attrs[i].name, script_attrs[i].value);\n",
       "      }\n",
       "      // store reference to server id on output_area\n",
       "      output_area._bokeh_server_id = output.metadata[EXEC_MIME_TYPE][\"server_id\"];\n",
       "    }\n",
       "  }\n",
       "\n",
       "  function register_renderer(events, OutputArea) {\n",
       "\n",
       "    function append_mime(data, metadata, element) {\n",
       "      // create a DOM node to render to\n",
       "      var toinsert = this.create_output_subarea(\n",
       "        metadata,\n",
       "        CLASS_NAME,\n",
       "        EXEC_MIME_TYPE\n",
       "      );\n",
       "      this.keyboard_manager.register_events(toinsert);\n",
       "      // Render to node\n",
       "      var props = {data: data, metadata: metadata[EXEC_MIME_TYPE]};\n",
       "      render(props, toinsert[toinsert.length - 1]);\n",
       "      element.append(toinsert);\n",
       "      return toinsert\n",
       "    }\n",
       "\n",
       "    /* Handle when an output is cleared or removed */\n",
       "    events.on('clear_output.CodeCell', handleClearOutput);\n",
       "    events.on('delete.Cell', handleClearOutput);\n",
       "\n",
       "    /* Handle when a new output is added */\n",
       "    events.on('output_added.OutputArea', handleAddOutput);\n",
       "\n",
       "    /**\n",
       "     * Register the mime type and append_mime function with output_area\n",
       "     */\n",
       "    OutputArea.prototype.register_mime_type(EXEC_MIME_TYPE, append_mime, {\n",
       "      /* Is output safe? */\n",
       "      safe: true,\n",
       "      /* Index of renderer in `output_area.display_order` */\n",
       "      index: 0\n",
       "    });\n",
       "  }\n",
       "\n",
       "  // register the mime type if in Jupyter Notebook environment and previously unregistered\n",
       "  if (root.Jupyter !== undefined) {\n",
       "    var events = require('base/js/events');\n",
       "    var OutputArea = require('notebook/js/outputarea').OutputArea;\n",
       "\n",
       "    if (OutputArea.prototype.mime_types().indexOf(EXEC_MIME_TYPE) == -1) {\n",
       "      register_renderer(events, OutputArea);\n",
       "    }\n",
       "  }\n",
       "\n",
       "  \n",
       "  if (typeof (root._bokeh_timeout) === \"undefined\" || force === true) {\n",
       "    root._bokeh_timeout = Date.now() + 5000;\n",
       "    root._bokeh_failed_load = false;\n",
       "  }\n",
       "\n",
       "  var NB_LOAD_WARNING = {'data': {'text/html':\n",
       "     \"<div style='background-color: #fdd'>\\n\"+\n",
       "     \"<p>\\n\"+\n",
       "     \"BokehJS does not appear to have successfully loaded. If loading BokehJS from CDN, this \\n\"+\n",
       "     \"may be due to a slow or bad network connection. Possible fixes:\\n\"+\n",
       "     \"</p>\\n\"+\n",
       "     \"<ul>\\n\"+\n",
       "     \"<li>re-rerun `output_notebook()` to attempt to load from CDN again, or</li>\\n\"+\n",
       "     \"<li>use INLINE resources instead, as so:</li>\\n\"+\n",
       "     \"</ul>\\n\"+\n",
       "     \"<code>\\n\"+\n",
       "     \"from bokeh.resources import INLINE\\n\"+\n",
       "     \"output_notebook(resources=INLINE)\\n\"+\n",
       "     \"</code>\\n\"+\n",
       "     \"</div>\"}};\n",
       "\n",
       "  function display_loaded() {\n",
       "    var el = document.getElementById(\"1783\");\n",
       "    if (el != null) {\n",
       "      el.textContent = \"BokehJS is loading...\";\n",
       "    }\n",
       "    if (root.Bokeh !== undefined) {\n",
       "      if (el != null) {\n",
       "        el.textContent = \"BokehJS \" + root.Bokeh.version + \" successfully loaded.\";\n",
       "      }\n",
       "    } else if (Date.now() < root._bokeh_timeout) {\n",
       "      setTimeout(display_loaded, 100)\n",
       "    }\n",
       "  }\n",
       "\n",
       "\n",
       "  function run_callbacks() {\n",
       "    try {\n",
       "      root._bokeh_onload_callbacks.forEach(function(callback) { callback() });\n",
       "    }\n",
       "    finally {\n",
       "      delete root._bokeh_onload_callbacks\n",
       "    }\n",
       "    console.info(\"Bokeh: all callbacks have finished\");\n",
       "  }\n",
       "\n",
       "  function load_libs(js_urls, callback) {\n",
       "    root._bokeh_onload_callbacks.push(callback);\n",
       "    if (root._bokeh_is_loading > 0) {\n",
       "      console.log(\"Bokeh: BokehJS is being loaded, scheduling callback at\", now());\n",
       "      return null;\n",
       "    }\n",
       "    if (js_urls == null || js_urls.length === 0) {\n",
       "      run_callbacks();\n",
       "      return null;\n",
       "    }\n",
       "    console.log(\"Bokeh: BokehJS not loaded, scheduling load and callback at\", now());\n",
       "    root._bokeh_is_loading = js_urls.length;\n",
       "    for (var i = 0; i < js_urls.length; i++) {\n",
       "      var url = js_urls[i];\n",
       "      var s = document.createElement('script');\n",
       "      s.src = url;\n",
       "      s.async = false;\n",
       "      s.onreadystatechange = s.onload = function() {\n",
       "        root._bokeh_is_loading--;\n",
       "        if (root._bokeh_is_loading === 0) {\n",
       "          console.log(\"Bokeh: all BokehJS libraries loaded\");\n",
       "          run_callbacks()\n",
       "        }\n",
       "      };\n",
       "      s.onerror = function() {\n",
       "        console.warn(\"failed to load library \" + url);\n",
       "      };\n",
       "      console.log(\"Bokeh: injecting script tag for BokehJS library: \", url);\n",
       "      document.getElementsByTagName(\"head\")[0].appendChild(s);\n",
       "    }\n",
       "  };var element = document.getElementById(\"1783\");\n",
       "  if (element == null) {\n",
       "    console.log(\"Bokeh: ERROR: autoload.js configured with elementid '1783' but no matching script tag was found. \")\n",
       "    return false;\n",
       "  }\n",
       "\n",
       "  var js_urls = [\"https://cdn.pydata.org/bokeh/release/bokeh-1.0.2.min.js\", \"https://cdn.pydata.org/bokeh/release/bokeh-widgets-1.0.2.min.js\", \"https://cdn.pydata.org/bokeh/release/bokeh-tables-1.0.2.min.js\", \"https://cdn.pydata.org/bokeh/release/bokeh-gl-1.0.2.min.js\"];\n",
       "\n",
       "  var inline_js = [\n",
       "    function(Bokeh) {\n",
       "      Bokeh.set_log_level(\"info\");\n",
       "    },\n",
       "    \n",
       "    function(Bokeh) {\n",
       "      \n",
       "    },\n",
       "    function(Bokeh) {\n",
       "      console.log(\"Bokeh: injecting CSS: https://cdn.pydata.org/bokeh/release/bokeh-1.0.2.min.css\");\n",
       "      Bokeh.embed.inject_css(\"https://cdn.pydata.org/bokeh/release/bokeh-1.0.2.min.css\");\n",
       "      console.log(\"Bokeh: injecting CSS: https://cdn.pydata.org/bokeh/release/bokeh-widgets-1.0.2.min.css\");\n",
       "      Bokeh.embed.inject_css(\"https://cdn.pydata.org/bokeh/release/bokeh-widgets-1.0.2.min.css\");\n",
       "      console.log(\"Bokeh: injecting CSS: https://cdn.pydata.org/bokeh/release/bokeh-tables-1.0.2.min.css\");\n",
       "      Bokeh.embed.inject_css(\"https://cdn.pydata.org/bokeh/release/bokeh-tables-1.0.2.min.css\");\n",
       "    }\n",
       "  ];\n",
       "\n",
       "  function run_inline_js() {\n",
       "    \n",
       "    if ((root.Bokeh !== undefined) || (force === true)) {\n",
       "      for (var i = 0; i < inline_js.length; i++) {\n",
       "        inline_js[i].call(root, root.Bokeh);\n",
       "      }if (force === true) {\n",
       "        display_loaded();\n",
       "      }} else if (Date.now() < root._bokeh_timeout) {\n",
       "      setTimeout(run_inline_js, 100);\n",
       "    } else if (!root._bokeh_failed_load) {\n",
       "      console.log(\"Bokeh: BokehJS failed to load within specified timeout.\");\n",
       "      root._bokeh_failed_load = true;\n",
       "    } else if (force !== true) {\n",
       "      var cell = $(document.getElementById(\"1783\")).parents('.cell').data().cell;\n",
       "      cell.output_area.append_execute_result(NB_LOAD_WARNING)\n",
       "    }\n",
       "\n",
       "  }\n",
       "\n",
       "  if (root._bokeh_is_loading === 0) {\n",
       "    console.log(\"Bokeh: BokehJS loaded, going straight to plotting\");\n",
       "    run_inline_js();\n",
       "  } else {\n",
       "    load_libs(js_urls, function() {\n",
       "      console.log(\"Bokeh: BokehJS plotting callback run at\", now());\n",
       "      run_inline_js();\n",
       "    });\n",
       "  }\n",
       "}(window));"
      ],
      "application/vnd.bokehjs_load.v0+json": "\n(function(root) {\n  function now() {\n    return new Date();\n  }\n\n  var force = true;\n\n  if (typeof (root._bokeh_onload_callbacks) === \"undefined\" || force === true) {\n    root._bokeh_onload_callbacks = [];\n    root._bokeh_is_loading = undefined;\n  }\n\n  \n\n  \n  if (typeof (root._bokeh_timeout) === \"undefined\" || force === true) {\n    root._bokeh_timeout = Date.now() + 5000;\n    root._bokeh_failed_load = false;\n  }\n\n  var NB_LOAD_WARNING = {'data': {'text/html':\n     \"<div style='background-color: #fdd'>\\n\"+\n     \"<p>\\n\"+\n     \"BokehJS does not appear to have successfully loaded. If loading BokehJS from CDN, this \\n\"+\n     \"may be due to a slow or bad network connection. Possible fixes:\\n\"+\n     \"</p>\\n\"+\n     \"<ul>\\n\"+\n     \"<li>re-rerun `output_notebook()` to attempt to load from CDN again, or</li>\\n\"+\n     \"<li>use INLINE resources instead, as so:</li>\\n\"+\n     \"</ul>\\n\"+\n     \"<code>\\n\"+\n     \"from bokeh.resources import INLINE\\n\"+\n     \"output_notebook(resources=INLINE)\\n\"+\n     \"</code>\\n\"+\n     \"</div>\"}};\n\n  function display_loaded() {\n    var el = document.getElementById(\"1783\");\n    if (el != null) {\n      el.textContent = \"BokehJS is loading...\";\n    }\n    if (root.Bokeh !== undefined) {\n      if (el != null) {\n        el.textContent = \"BokehJS \" + root.Bokeh.version + \" successfully loaded.\";\n      }\n    } else if (Date.now() < root._bokeh_timeout) {\n      setTimeout(display_loaded, 100)\n    }\n  }\n\n\n  function run_callbacks() {\n    try {\n      root._bokeh_onload_callbacks.forEach(function(callback) { callback() });\n    }\n    finally {\n      delete root._bokeh_onload_callbacks\n    }\n    console.info(\"Bokeh: all callbacks have finished\");\n  }\n\n  function load_libs(js_urls, callback) {\n    root._bokeh_onload_callbacks.push(callback);\n    if (root._bokeh_is_loading > 0) {\n      console.log(\"Bokeh: BokehJS is being loaded, scheduling callback at\", now());\n      return null;\n    }\n    if (js_urls == null || js_urls.length === 0) {\n      run_callbacks();\n      return null;\n    }\n    console.log(\"Bokeh: BokehJS not loaded, scheduling load and callback at\", now());\n    root._bokeh_is_loading = js_urls.length;\n    for (var i = 0; i < js_urls.length; i++) {\n      var url = js_urls[i];\n      var s = document.createElement('script');\n      s.src = url;\n      s.async = false;\n      s.onreadystatechange = s.onload = function() {\n        root._bokeh_is_loading--;\n        if (root._bokeh_is_loading === 0) {\n          console.log(\"Bokeh: all BokehJS libraries loaded\");\n          run_callbacks()\n        }\n      };\n      s.onerror = function() {\n        console.warn(\"failed to load library \" + url);\n      };\n      console.log(\"Bokeh: injecting script tag for BokehJS library: \", url);\n      document.getElementsByTagName(\"head\")[0].appendChild(s);\n    }\n  };var element = document.getElementById(\"1783\");\n  if (element == null) {\n    console.log(\"Bokeh: ERROR: autoload.js configured with elementid '1783' but no matching script tag was found. \")\n    return false;\n  }\n\n  var js_urls = [\"https://cdn.pydata.org/bokeh/release/bokeh-1.0.2.min.js\", \"https://cdn.pydata.org/bokeh/release/bokeh-widgets-1.0.2.min.js\", \"https://cdn.pydata.org/bokeh/release/bokeh-tables-1.0.2.min.js\", \"https://cdn.pydata.org/bokeh/release/bokeh-gl-1.0.2.min.js\"];\n\n  var inline_js = [\n    function(Bokeh) {\n      Bokeh.set_log_level(\"info\");\n    },\n    \n    function(Bokeh) {\n      \n    },\n    function(Bokeh) {\n      console.log(\"Bokeh: injecting CSS: https://cdn.pydata.org/bokeh/release/bokeh-1.0.2.min.css\");\n      Bokeh.embed.inject_css(\"https://cdn.pydata.org/bokeh/release/bokeh-1.0.2.min.css\");\n      console.log(\"Bokeh: injecting CSS: https://cdn.pydata.org/bokeh/release/bokeh-widgets-1.0.2.min.css\");\n      Bokeh.embed.inject_css(\"https://cdn.pydata.org/bokeh/release/bokeh-widgets-1.0.2.min.css\");\n      console.log(\"Bokeh: injecting CSS: https://cdn.pydata.org/bokeh/release/bokeh-tables-1.0.2.min.css\");\n      Bokeh.embed.inject_css(\"https://cdn.pydata.org/bokeh/release/bokeh-tables-1.0.2.min.css\");\n    }\n  ];\n\n  function run_inline_js() {\n    \n    if ((root.Bokeh !== undefined) || (force === true)) {\n      for (var i = 0; i < inline_js.length; i++) {\n        inline_js[i].call(root, root.Bokeh);\n      }if (force === true) {\n        display_loaded();\n      }} else if (Date.now() < root._bokeh_timeout) {\n      setTimeout(run_inline_js, 100);\n    } else if (!root._bokeh_failed_load) {\n      console.log(\"Bokeh: BokehJS failed to load within specified timeout.\");\n      root._bokeh_failed_load = true;\n    } else if (force !== true) {\n      var cell = $(document.getElementById(\"1783\")).parents('.cell').data().cell;\n      cell.output_area.append_execute_result(NB_LOAD_WARNING)\n    }\n\n  }\n\n  if (root._bokeh_is_loading === 0) {\n    console.log(\"Bokeh: BokehJS loaded, going straight to plotting\");\n    run_inline_js();\n  } else {\n    load_libs(js_urls, function() {\n      console.log(\"Bokeh: BokehJS plotting callback run at\", now());\n      run_inline_js();\n    });\n  }\n}(window));"
     },
     "metadata": {},
     "output_type": "display_data"
    },
    {
     "data": {
      "text/html": [
       "\n",
       "\n",
       "\n",
       "\n",
       "\n",
       "\n",
       "  <div class=\"bk-root\" id=\"456050e2-dc76-4582-a6af-ff5e5cc8068e\"></div>\n"
      ]
     },
     "metadata": {},
     "output_type": "display_data"
    },
    {
     "data": {
      "application/javascript": [
       "(function(root) {\n",
       "  function embed_document(root) {\n",
       "    \n",
       "  var docs_json = {\"e5ffc9b8-8800-41cc-8776-f29e61add9cb\":{\"roots\":{\"references\":[{\"attributes\":{\"below\":[{\"id\":\"1795\",\"type\":\"LinearAxis\"}],\"left\":[{\"id\":\"1800\",\"type\":\"LinearAxis\"}],\"renderers\":[{\"id\":\"1795\",\"type\":\"LinearAxis\"},{\"id\":\"1799\",\"type\":\"Grid\"},{\"id\":\"1800\",\"type\":\"LinearAxis\"},{\"id\":\"1804\",\"type\":\"Grid\"},{\"id\":\"1813\",\"type\":\"BoxAnnotation\"},{\"id\":\"1823\",\"type\":\"GlyphRenderer\"},{\"id\":\"1825\",\"type\":\"LabelSet\"}],\"title\":{\"id\":\"1784\",\"type\":\"Title\"},\"toolbar\":{\"id\":\"1811\",\"type\":\"Toolbar\"},\"x_range\":{\"id\":\"1787\",\"type\":\"DataRange1d\"},\"x_scale\":{\"id\":\"1791\",\"type\":\"LinearScale\"},\"y_range\":{\"id\":\"1789\",\"type\":\"DataRange1d\"},\"y_scale\":{\"id\":\"1793\",\"type\":\"LinearScale\"}},\"id\":\"1785\",\"subtype\":\"Figure\",\"type\":\"Plot\"},{\"attributes\":{},\"id\":\"1801\",\"type\":\"BasicTicker\"},{\"attributes\":{\"callback\":null},\"id\":\"1787\",\"type\":\"DataRange1d\"},{\"attributes\":{},\"id\":\"1808\",\"type\":\"SaveTool\"},{\"attributes\":{\"callback\":null},\"id\":\"1789\",\"type\":\"DataRange1d\"},{\"attributes\":{\"dimension\":1,\"plot\":{\"id\":\"1785\",\"subtype\":\"Figure\",\"type\":\"Plot\"},\"ticker\":{\"id\":\"1801\",\"type\":\"BasicTicker\"}},\"id\":\"1804\",\"type\":\"Grid\"},{\"attributes\":{},\"id\":\"1793\",\"type\":\"LinearScale\"},{\"attributes\":{\"overlay\":{\"id\":\"1813\",\"type\":\"BoxAnnotation\"}},\"id\":\"1807\",\"type\":\"BoxZoomTool\"},{\"attributes\":{},\"id\":\"1810\",\"type\":\"HelpTool\"},{\"attributes\":{\"axis_label\":\"Amostras\",\"formatter\":{\"id\":\"1828\",\"type\":\"BasicTickFormatter\"},\"plot\":{\"id\":\"1785\",\"subtype\":\"Figure\",\"type\":\"Plot\"},\"ticker\":{\"id\":\"1796\",\"type\":\"BasicTicker\"}},\"id\":\"1795\",\"type\":\"LinearAxis\"},{\"attributes\":{\"plot\":{\"id\":\"1785\",\"subtype\":\"Figure\",\"type\":\"Plot\"},\"ticker\":{\"id\":\"1796\",\"type\":\"BasicTicker\"}},\"id\":\"1799\",\"type\":\"Grid\"},{\"attributes\":{},\"id\":\"1809\",\"type\":\"ResetTool\"},{\"attributes\":{\"active_drag\":\"auto\",\"active_inspect\":\"auto\",\"active_multi\":null,\"active_scroll\":\"auto\",\"active_tap\":\"auto\",\"tools\":[{\"id\":\"1805\",\"type\":\"PanTool\"},{\"id\":\"1806\",\"type\":\"WheelZoomTool\"},{\"id\":\"1807\",\"type\":\"BoxZoomTool\"},{\"id\":\"1808\",\"type\":\"SaveTool\"},{\"id\":\"1809\",\"type\":\"ResetTool\"},{\"id\":\"1810\",\"type\":\"HelpTool\"}]},\"id\":\"1811\",\"type\":\"Toolbar\"},{\"attributes\":{},\"id\":\"1791\",\"type\":\"LinearScale\"},{\"attributes\":{\"callback\":null,\"data\":{\"names\":{\"__ndarray__\":\"AAAAAAAA8D8AAAAAAAAAQAAAAAAAAAhAAAAAAAAAEEAAAAAAAAAUQAAAAAAAABhAAAAAAAAAHEAAAAAAAAAgQAAAAAAAACJAAAAAAAAAJEAAAAAAAAAmQAAAAAAAAChAAAAAAAAAKkAAAAAAAAAsQAAAAAAAAC5AAAAAAAAAMEAAAAAAAAAxQAAAAAAAADJAAAAAAAAAM0AAAAAAAAA0QAAAAAAAADVAAAAAAAAANkAAAAAAAAA3QAAAAAAAADhAAAAAAAAAOUAAAAAAAAA6QAAAAAAAADtAAAAAAAAAPEAAAAAAAAA9QAAAAAAAAD5AAAAAAAAAP0AAAAAAAABAQAAAAAAAgEBAAAAAAAAAQUAAAAAAAIBBQAAAAAAAAEJAAAAAAACAQkAAAAAAAABDQAAAAAAAgENAAAAAAAAAREAAAAAAAIBEQAAAAAAAAEVAAAAAAACARUAAAAAAAABGQAAAAAAAgEZAAAAAAAAAR0AAAAAAAIBHQAAAAAAAAEhAAAAAAACASEA=\",\"dtype\":\"float64\",\"shape\":[49]},\"x\":[1,2,3,4,5,6,7,8,9,10,11,12,13,14,15,16,17,18,19,20,21,22,23,24,25,26,27,28,29,30,31,32,33,34,35,36,37,38,39,40,41,42,43,44,45,46,47,48,49],\"y\":{\"__ndarray__\":\"VOOlm8SgE0BYObTIdj4aQEFg5dAi2xJA76fGSzeJFUAv3SQGgRUWQAIrhxbZThRAI9v5fmq8EkDtfD81XroTQFTjpZvEoBdA0SLb+X7qGEARWDm0yHYTQBgEVg4tshRAJQaBlUMLGEA1XrpJDIISQC2yne+nxhRAqvHSTWKQGEBI4XoUrscWQOxRuB6FaxlAz/dT46WbGkDKoUW2830aQKjGSzeJwRdA30+Nl26SGUAxCKwcWmQbQARWDi2yHRpA3SQGgZVDGUCmm8QgsHIZQO+nxks3CRpAH4XrUbgeGkASg8DKocUbQCYxCKwc2hhAbhKDwMqhFkAxCKwcWuQgQIxs5/upsSBAuB6F61E4HUDP91PjpRsfQFCNl24SQyBAQWDl0CKbIEDNzMzMzEweQEFg5dAi2x5A4XoUrkdhG0BxPQrXozAhQH9qvHSTWCBA6Pup8dJNHUCTGARWDi0eQK5H4XoUrhpACKwcWmQ7GkAUrkfhehQdQAaBlUOL7BxADi2yne8nGEA=\",\"dtype\":\"float64\",\"shape\":[49]}},\"selected\":{\"id\":\"1833\",\"type\":\"Selection\"},\"selection_policy\":{\"id\":\"1832\",\"type\":\"UnionRenderers\"}},\"id\":\"1782\",\"type\":\"ColumnDataSource\"},{\"attributes\":{\"data_source\":{\"id\":\"1782\",\"type\":\"ColumnDataSource\"},\"glyph\":{\"id\":\"1821\",\"type\":\"Scatter\"},\"hover_glyph\":null,\"muted_glyph\":null,\"nonselection_glyph\":{\"id\":\"1822\",\"type\":\"Scatter\"},\"selection_glyph\":null,\"view\":{\"id\":\"1824\",\"type\":\"CDSView\"}},\"id\":\"1823\",\"type\":\"GlyphRenderer\"},{\"attributes\":{\"fill_alpha\":{\"value\":0.1},\"fill_color\":{\"value\":\"#1f77b4\"},\"line_alpha\":{\"value\":0.1},\"line_color\":{\"value\":\"#1f77b4\"},\"x\":{\"field\":\"x\"},\"y\":{\"field\":\"y\"}},\"id\":\"1822\",\"type\":\"Scatter\"},{\"attributes\":{\"bottom_units\":\"screen\",\"fill_alpha\":{\"value\":0.5},\"fill_color\":{\"value\":\"lightgrey\"},\"left_units\":\"screen\",\"level\":\"overlay\",\"line_alpha\":{\"value\":1.0},\"line_color\":{\"value\":\"black\"},\"line_dash\":[4,4],\"line_width\":{\"value\":2},\"plot\":null,\"render_mode\":\"css\",\"right_units\":\"screen\",\"top_units\":\"screen\"},\"id\":\"1813\",\"type\":\"BoxAnnotation\"},{\"attributes\":{},\"id\":\"1806\",\"type\":\"WheelZoomTool\"},{\"attributes\":{\"level\":\"glyph\",\"plot\":{\"id\":\"1785\",\"subtype\":\"Figure\",\"type\":\"Plot\"},\"source\":{\"id\":\"1782\",\"type\":\"ColumnDataSource\"},\"text\":{\"field\":\"names\"},\"x\":{\"field\":\"x\"},\"x_offset\":{\"value\":5},\"y\":{\"field\":\"y\"},\"y_offset\":{\"value\":5}},\"id\":\"1825\",\"type\":\"LabelSet\"},{\"attributes\":{\"plot\":null,\"text\":\"Atividades\"},\"id\":\"1784\",\"type\":\"Title\"},{\"attributes\":{\"source\":{\"id\":\"1782\",\"type\":\"ColumnDataSource\"}},\"id\":\"1824\",\"type\":\"CDSView\"},{\"attributes\":{},\"id\":\"1796\",\"type\":\"BasicTicker\"},{\"attributes\":{},\"id\":\"1828\",\"type\":\"BasicTickFormatter\"},{\"attributes\":{},\"id\":\"1805\",\"type\":\"PanTool\"},{\"attributes\":{},\"id\":\"1830\",\"type\":\"BasicTickFormatter\"},{\"attributes\":{\"fill_color\":{\"value\":\"blue\"},\"line_color\":{\"value\":\"blue\"},\"x\":{\"field\":\"x\"},\"y\":{\"field\":\"y\"}},\"id\":\"1821\",\"type\":\"Scatter\"},{\"attributes\":{\"axis_label\":\"pIC50\",\"formatter\":{\"id\":\"1830\",\"type\":\"BasicTickFormatter\"},\"plot\":{\"id\":\"1785\",\"subtype\":\"Figure\",\"type\":\"Plot\"},\"ticker\":{\"id\":\"1801\",\"type\":\"BasicTicker\"}},\"id\":\"1800\",\"type\":\"LinearAxis\"},{\"attributes\":{},\"id\":\"1832\",\"type\":\"UnionRenderers\"},{\"attributes\":{},\"id\":\"1833\",\"type\":\"Selection\"}],\"root_ids\":[\"1785\"]},\"title\":\"Bokeh Application\",\"version\":\"1.0.2\"}};\n",
       "  var render_items = [{\"docid\":\"e5ffc9b8-8800-41cc-8776-f29e61add9cb\",\"roots\":{\"1785\":\"456050e2-dc76-4582-a6af-ff5e5cc8068e\"}}];\n",
       "  root.Bokeh.embed.embed_items_notebook(docs_json, render_items);\n",
       "\n",
       "  }\n",
       "  if (root.Bokeh !== undefined) {\n",
       "    embed_document(root);\n",
       "  } else {\n",
       "    var attempts = 0;\n",
       "    var timer = setInterval(function(root) {\n",
       "      if (root.Bokeh !== undefined) {\n",
       "        embed_document(root);\n",
       "        clearInterval(timer);\n",
       "      }\n",
       "      attempts++;\n",
       "      if (attempts > 100) {\n",
       "        console.log(\"Bokeh: ERROR: Unable to run BokehJS code because BokehJS library is missing\");\n",
       "        clearInterval(timer);\n",
       "      }\n",
       "    }, 10, root)\n",
       "  }\n",
       "})(window);"
      ],
      "application/vnd.bokehjs_exec.v0+json": ""
     },
     "metadata": {
      "application/vnd.bokehjs_exec.v0+json": {
       "id": "1785"
      }
     },
     "output_type": "display_data"
    }
   ],
   "source": [
    "from bokeh.plotting import figure, output_notebook, show\n",
    "from bokeh.models import LabelSet, Label, ColumnDataSource\n",
    "source = ColumnDataSource(data=dict(x=range(1,1+len(y)),\n",
    "                                    y=y[\"pIC50\"],\n",
    "                                    names=X.index))\n",
    "\n",
    "output_notebook()\n",
    "p = figure(title=\"Atividades\", x_axis_label='Amostras', y_axis_label='pIC50')\n",
    "p.scatter('x','y',color='blue',source=source)\n",
    "labels = LabelSet(x='x', y='y', text='names', level='glyph',\n",
    "              x_offset=5, y_offset=5, source=source, render_mode='canvas')    \n",
    "p.add_layout(labels)\n",
    "show(p)"
   ]
  },
  {
   "cell_type": "code",
   "execution_count": 40,
   "metadata": {
    "slideshow": {
     "slide_type": "slide"
    }
   },
   "outputs": [
    {
     "data": {
      "text/html": [
       "\n",
       "    <div class=\"bk-root\">\n",
       "        <a href=\"https://bokeh.pydata.org\" target=\"_blank\" class=\"bk-logo bk-logo-small bk-logo-notebook\"></a>\n",
       "        <span id=\"1884\">Loading BokehJS ...</span>\n",
       "    </div>"
      ]
     },
     "metadata": {},
     "output_type": "display_data"
    },
    {
     "data": {
      "application/javascript": [
       "\n",
       "(function(root) {\n",
       "  function now() {\n",
       "    return new Date();\n",
       "  }\n",
       "\n",
       "  var force = true;\n",
       "\n",
       "  if (typeof (root._bokeh_onload_callbacks) === \"undefined\" || force === true) {\n",
       "    root._bokeh_onload_callbacks = [];\n",
       "    root._bokeh_is_loading = undefined;\n",
       "  }\n",
       "\n",
       "  var JS_MIME_TYPE = 'application/javascript';\n",
       "  var HTML_MIME_TYPE = 'text/html';\n",
       "  var EXEC_MIME_TYPE = 'application/vnd.bokehjs_exec.v0+json';\n",
       "  var CLASS_NAME = 'output_bokeh rendered_html';\n",
       "\n",
       "  /**\n",
       "   * Render data to the DOM node\n",
       "   */\n",
       "  function render(props, node) {\n",
       "    var script = document.createElement(\"script\");\n",
       "    node.appendChild(script);\n",
       "  }\n",
       "\n",
       "  /**\n",
       "   * Handle when an output is cleared or removed\n",
       "   */\n",
       "  function handleClearOutput(event, handle) {\n",
       "    var cell = handle.cell;\n",
       "\n",
       "    var id = cell.output_area._bokeh_element_id;\n",
       "    var server_id = cell.output_area._bokeh_server_id;\n",
       "    // Clean up Bokeh references\n",
       "    if (id != null && id in Bokeh.index) {\n",
       "      Bokeh.index[id].model.document.clear();\n",
       "      delete Bokeh.index[id];\n",
       "    }\n",
       "\n",
       "    if (server_id !== undefined) {\n",
       "      // Clean up Bokeh references\n",
       "      var cmd = \"from bokeh.io.state import curstate; print(curstate().uuid_to_server['\" + server_id + \"'].get_sessions()[0].document.roots[0]._id)\";\n",
       "      cell.notebook.kernel.execute(cmd, {\n",
       "        iopub: {\n",
       "          output: function(msg) {\n",
       "            var id = msg.content.text.trim();\n",
       "            if (id in Bokeh.index) {\n",
       "              Bokeh.index[id].model.document.clear();\n",
       "              delete Bokeh.index[id];\n",
       "            }\n",
       "          }\n",
       "        }\n",
       "      });\n",
       "      // Destroy server and session\n",
       "      var cmd = \"import bokeh.io.notebook as ion; ion.destroy_server('\" + server_id + \"')\";\n",
       "      cell.notebook.kernel.execute(cmd);\n",
       "    }\n",
       "  }\n",
       "\n",
       "  /**\n",
       "   * Handle when a new output is added\n",
       "   */\n",
       "  function handleAddOutput(event, handle) {\n",
       "    var output_area = handle.output_area;\n",
       "    var output = handle.output;\n",
       "\n",
       "    // limit handleAddOutput to display_data with EXEC_MIME_TYPE content only\n",
       "    if ((output.output_type != \"display_data\") || (!output.data.hasOwnProperty(EXEC_MIME_TYPE))) {\n",
       "      return\n",
       "    }\n",
       "\n",
       "    var toinsert = output_area.element.find(\".\" + CLASS_NAME.split(' ')[0]);\n",
       "\n",
       "    if (output.metadata[EXEC_MIME_TYPE][\"id\"] !== undefined) {\n",
       "      toinsert[toinsert.length - 1].firstChild.textContent = output.data[JS_MIME_TYPE];\n",
       "      // store reference to embed id on output_area\n",
       "      output_area._bokeh_element_id = output.metadata[EXEC_MIME_TYPE][\"id\"];\n",
       "    }\n",
       "    if (output.metadata[EXEC_MIME_TYPE][\"server_id\"] !== undefined) {\n",
       "      var bk_div = document.createElement(\"div\");\n",
       "      bk_div.innerHTML = output.data[HTML_MIME_TYPE];\n",
       "      var script_attrs = bk_div.children[0].attributes;\n",
       "      for (var i = 0; i < script_attrs.length; i++) {\n",
       "        toinsert[toinsert.length - 1].firstChild.setAttribute(script_attrs[i].name, script_attrs[i].value);\n",
       "      }\n",
       "      // store reference to server id on output_area\n",
       "      output_area._bokeh_server_id = output.metadata[EXEC_MIME_TYPE][\"server_id\"];\n",
       "    }\n",
       "  }\n",
       "\n",
       "  function register_renderer(events, OutputArea) {\n",
       "\n",
       "    function append_mime(data, metadata, element) {\n",
       "      // create a DOM node to render to\n",
       "      var toinsert = this.create_output_subarea(\n",
       "        metadata,\n",
       "        CLASS_NAME,\n",
       "        EXEC_MIME_TYPE\n",
       "      );\n",
       "      this.keyboard_manager.register_events(toinsert);\n",
       "      // Render to node\n",
       "      var props = {data: data, metadata: metadata[EXEC_MIME_TYPE]};\n",
       "      render(props, toinsert[toinsert.length - 1]);\n",
       "      element.append(toinsert);\n",
       "      return toinsert\n",
       "    }\n",
       "\n",
       "    /* Handle when an output is cleared or removed */\n",
       "    events.on('clear_output.CodeCell', handleClearOutput);\n",
       "    events.on('delete.Cell', handleClearOutput);\n",
       "\n",
       "    /* Handle when a new output is added */\n",
       "    events.on('output_added.OutputArea', handleAddOutput);\n",
       "\n",
       "    /**\n",
       "     * Register the mime type and append_mime function with output_area\n",
       "     */\n",
       "    OutputArea.prototype.register_mime_type(EXEC_MIME_TYPE, append_mime, {\n",
       "      /* Is output safe? */\n",
       "      safe: true,\n",
       "      /* Index of renderer in `output_area.display_order` */\n",
       "      index: 0\n",
       "    });\n",
       "  }\n",
       "\n",
       "  // register the mime type if in Jupyter Notebook environment and previously unregistered\n",
       "  if (root.Jupyter !== undefined) {\n",
       "    var events = require('base/js/events');\n",
       "    var OutputArea = require('notebook/js/outputarea').OutputArea;\n",
       "\n",
       "    if (OutputArea.prototype.mime_types().indexOf(EXEC_MIME_TYPE) == -1) {\n",
       "      register_renderer(events, OutputArea);\n",
       "    }\n",
       "  }\n",
       "\n",
       "  \n",
       "  if (typeof (root._bokeh_timeout) === \"undefined\" || force === true) {\n",
       "    root._bokeh_timeout = Date.now() + 5000;\n",
       "    root._bokeh_failed_load = false;\n",
       "  }\n",
       "\n",
       "  var NB_LOAD_WARNING = {'data': {'text/html':\n",
       "     \"<div style='background-color: #fdd'>\\n\"+\n",
       "     \"<p>\\n\"+\n",
       "     \"BokehJS does not appear to have successfully loaded. If loading BokehJS from CDN, this \\n\"+\n",
       "     \"may be due to a slow or bad network connection. Possible fixes:\\n\"+\n",
       "     \"</p>\\n\"+\n",
       "     \"<ul>\\n\"+\n",
       "     \"<li>re-rerun `output_notebook()` to attempt to load from CDN again, or</li>\\n\"+\n",
       "     \"<li>use INLINE resources instead, as so:</li>\\n\"+\n",
       "     \"</ul>\\n\"+\n",
       "     \"<code>\\n\"+\n",
       "     \"from bokeh.resources import INLINE\\n\"+\n",
       "     \"output_notebook(resources=INLINE)\\n\"+\n",
       "     \"</code>\\n\"+\n",
       "     \"</div>\"}};\n",
       "\n",
       "  function display_loaded() {\n",
       "    var el = document.getElementById(\"1884\");\n",
       "    if (el != null) {\n",
       "      el.textContent = \"BokehJS is loading...\";\n",
       "    }\n",
       "    if (root.Bokeh !== undefined) {\n",
       "      if (el != null) {\n",
       "        el.textContent = \"BokehJS \" + root.Bokeh.version + \" successfully loaded.\";\n",
       "      }\n",
       "    } else if (Date.now() < root._bokeh_timeout) {\n",
       "      setTimeout(display_loaded, 100)\n",
       "    }\n",
       "  }\n",
       "\n",
       "\n",
       "  function run_callbacks() {\n",
       "    try {\n",
       "      root._bokeh_onload_callbacks.forEach(function(callback) { callback() });\n",
       "    }\n",
       "    finally {\n",
       "      delete root._bokeh_onload_callbacks\n",
       "    }\n",
       "    console.info(\"Bokeh: all callbacks have finished\");\n",
       "  }\n",
       "\n",
       "  function load_libs(js_urls, callback) {\n",
       "    root._bokeh_onload_callbacks.push(callback);\n",
       "    if (root._bokeh_is_loading > 0) {\n",
       "      console.log(\"Bokeh: BokehJS is being loaded, scheduling callback at\", now());\n",
       "      return null;\n",
       "    }\n",
       "    if (js_urls == null || js_urls.length === 0) {\n",
       "      run_callbacks();\n",
       "      return null;\n",
       "    }\n",
       "    console.log(\"Bokeh: BokehJS not loaded, scheduling load and callback at\", now());\n",
       "    root._bokeh_is_loading = js_urls.length;\n",
       "    for (var i = 0; i < js_urls.length; i++) {\n",
       "      var url = js_urls[i];\n",
       "      var s = document.createElement('script');\n",
       "      s.src = url;\n",
       "      s.async = false;\n",
       "      s.onreadystatechange = s.onload = function() {\n",
       "        root._bokeh_is_loading--;\n",
       "        if (root._bokeh_is_loading === 0) {\n",
       "          console.log(\"Bokeh: all BokehJS libraries loaded\");\n",
       "          run_callbacks()\n",
       "        }\n",
       "      };\n",
       "      s.onerror = function() {\n",
       "        console.warn(\"failed to load library \" + url);\n",
       "      };\n",
       "      console.log(\"Bokeh: injecting script tag for BokehJS library: \", url);\n",
       "      document.getElementsByTagName(\"head\")[0].appendChild(s);\n",
       "    }\n",
       "  };var element = document.getElementById(\"1884\");\n",
       "  if (element == null) {\n",
       "    console.log(\"Bokeh: ERROR: autoload.js configured with elementid '1884' but no matching script tag was found. \")\n",
       "    return false;\n",
       "  }\n",
       "\n",
       "  var js_urls = [\"https://cdn.pydata.org/bokeh/release/bokeh-1.0.2.min.js\", \"https://cdn.pydata.org/bokeh/release/bokeh-widgets-1.0.2.min.js\", \"https://cdn.pydata.org/bokeh/release/bokeh-tables-1.0.2.min.js\", \"https://cdn.pydata.org/bokeh/release/bokeh-gl-1.0.2.min.js\"];\n",
       "\n",
       "  var inline_js = [\n",
       "    function(Bokeh) {\n",
       "      Bokeh.set_log_level(\"info\");\n",
       "    },\n",
       "    \n",
       "    function(Bokeh) {\n",
       "      \n",
       "    },\n",
       "    function(Bokeh) {\n",
       "      console.log(\"Bokeh: injecting CSS: https://cdn.pydata.org/bokeh/release/bokeh-1.0.2.min.css\");\n",
       "      Bokeh.embed.inject_css(\"https://cdn.pydata.org/bokeh/release/bokeh-1.0.2.min.css\");\n",
       "      console.log(\"Bokeh: injecting CSS: https://cdn.pydata.org/bokeh/release/bokeh-widgets-1.0.2.min.css\");\n",
       "      Bokeh.embed.inject_css(\"https://cdn.pydata.org/bokeh/release/bokeh-widgets-1.0.2.min.css\");\n",
       "      console.log(\"Bokeh: injecting CSS: https://cdn.pydata.org/bokeh/release/bokeh-tables-1.0.2.min.css\");\n",
       "      Bokeh.embed.inject_css(\"https://cdn.pydata.org/bokeh/release/bokeh-tables-1.0.2.min.css\");\n",
       "    }\n",
       "  ];\n",
       "\n",
       "  function run_inline_js() {\n",
       "    \n",
       "    if ((root.Bokeh !== undefined) || (force === true)) {\n",
       "      for (var i = 0; i < inline_js.length; i++) {\n",
       "        inline_js[i].call(root, root.Bokeh);\n",
       "      }if (force === true) {\n",
       "        display_loaded();\n",
       "      }} else if (Date.now() < root._bokeh_timeout) {\n",
       "      setTimeout(run_inline_js, 100);\n",
       "    } else if (!root._bokeh_failed_load) {\n",
       "      console.log(\"Bokeh: BokehJS failed to load within specified timeout.\");\n",
       "      root._bokeh_failed_load = true;\n",
       "    } else if (force !== true) {\n",
       "      var cell = $(document.getElementById(\"1884\")).parents('.cell').data().cell;\n",
       "      cell.output_area.append_execute_result(NB_LOAD_WARNING)\n",
       "    }\n",
       "\n",
       "  }\n",
       "\n",
       "  if (root._bokeh_is_loading === 0) {\n",
       "    console.log(\"Bokeh: BokehJS loaded, going straight to plotting\");\n",
       "    run_inline_js();\n",
       "  } else {\n",
       "    load_libs(js_urls, function() {\n",
       "      console.log(\"Bokeh: BokehJS plotting callback run at\", now());\n",
       "      run_inline_js();\n",
       "    });\n",
       "  }\n",
       "}(window));"
      ],
      "application/vnd.bokehjs_load.v0+json": "\n(function(root) {\n  function now() {\n    return new Date();\n  }\n\n  var force = true;\n\n  if (typeof (root._bokeh_onload_callbacks) === \"undefined\" || force === true) {\n    root._bokeh_onload_callbacks = [];\n    root._bokeh_is_loading = undefined;\n  }\n\n  \n\n  \n  if (typeof (root._bokeh_timeout) === \"undefined\" || force === true) {\n    root._bokeh_timeout = Date.now() + 5000;\n    root._bokeh_failed_load = false;\n  }\n\n  var NB_LOAD_WARNING = {'data': {'text/html':\n     \"<div style='background-color: #fdd'>\\n\"+\n     \"<p>\\n\"+\n     \"BokehJS does not appear to have successfully loaded. If loading BokehJS from CDN, this \\n\"+\n     \"may be due to a slow or bad network connection. Possible fixes:\\n\"+\n     \"</p>\\n\"+\n     \"<ul>\\n\"+\n     \"<li>re-rerun `output_notebook()` to attempt to load from CDN again, or</li>\\n\"+\n     \"<li>use INLINE resources instead, as so:</li>\\n\"+\n     \"</ul>\\n\"+\n     \"<code>\\n\"+\n     \"from bokeh.resources import INLINE\\n\"+\n     \"output_notebook(resources=INLINE)\\n\"+\n     \"</code>\\n\"+\n     \"</div>\"}};\n\n  function display_loaded() {\n    var el = document.getElementById(\"1884\");\n    if (el != null) {\n      el.textContent = \"BokehJS is loading...\";\n    }\n    if (root.Bokeh !== undefined) {\n      if (el != null) {\n        el.textContent = \"BokehJS \" + root.Bokeh.version + \" successfully loaded.\";\n      }\n    } else if (Date.now() < root._bokeh_timeout) {\n      setTimeout(display_loaded, 100)\n    }\n  }\n\n\n  function run_callbacks() {\n    try {\n      root._bokeh_onload_callbacks.forEach(function(callback) { callback() });\n    }\n    finally {\n      delete root._bokeh_onload_callbacks\n    }\n    console.info(\"Bokeh: all callbacks have finished\");\n  }\n\n  function load_libs(js_urls, callback) {\n    root._bokeh_onload_callbacks.push(callback);\n    if (root._bokeh_is_loading > 0) {\n      console.log(\"Bokeh: BokehJS is being loaded, scheduling callback at\", now());\n      return null;\n    }\n    if (js_urls == null || js_urls.length === 0) {\n      run_callbacks();\n      return null;\n    }\n    console.log(\"Bokeh: BokehJS not loaded, scheduling load and callback at\", now());\n    root._bokeh_is_loading = js_urls.length;\n    for (var i = 0; i < js_urls.length; i++) {\n      var url = js_urls[i];\n      var s = document.createElement('script');\n      s.src = url;\n      s.async = false;\n      s.onreadystatechange = s.onload = function() {\n        root._bokeh_is_loading--;\n        if (root._bokeh_is_loading === 0) {\n          console.log(\"Bokeh: all BokehJS libraries loaded\");\n          run_callbacks()\n        }\n      };\n      s.onerror = function() {\n        console.warn(\"failed to load library \" + url);\n      };\n      console.log(\"Bokeh: injecting script tag for BokehJS library: \", url);\n      document.getElementsByTagName(\"head\")[0].appendChild(s);\n    }\n  };var element = document.getElementById(\"1884\");\n  if (element == null) {\n    console.log(\"Bokeh: ERROR: autoload.js configured with elementid '1884' but no matching script tag was found. \")\n    return false;\n  }\n\n  var js_urls = [\"https://cdn.pydata.org/bokeh/release/bokeh-1.0.2.min.js\", \"https://cdn.pydata.org/bokeh/release/bokeh-widgets-1.0.2.min.js\", \"https://cdn.pydata.org/bokeh/release/bokeh-tables-1.0.2.min.js\", \"https://cdn.pydata.org/bokeh/release/bokeh-gl-1.0.2.min.js\"];\n\n  var inline_js = [\n    function(Bokeh) {\n      Bokeh.set_log_level(\"info\");\n    },\n    \n    function(Bokeh) {\n      \n    },\n    function(Bokeh) {\n      console.log(\"Bokeh: injecting CSS: https://cdn.pydata.org/bokeh/release/bokeh-1.0.2.min.css\");\n      Bokeh.embed.inject_css(\"https://cdn.pydata.org/bokeh/release/bokeh-1.0.2.min.css\");\n      console.log(\"Bokeh: injecting CSS: https://cdn.pydata.org/bokeh/release/bokeh-widgets-1.0.2.min.css\");\n      Bokeh.embed.inject_css(\"https://cdn.pydata.org/bokeh/release/bokeh-widgets-1.0.2.min.css\");\n      console.log(\"Bokeh: injecting CSS: https://cdn.pydata.org/bokeh/release/bokeh-tables-1.0.2.min.css\");\n      Bokeh.embed.inject_css(\"https://cdn.pydata.org/bokeh/release/bokeh-tables-1.0.2.min.css\");\n    }\n  ];\n\n  function run_inline_js() {\n    \n    if ((root.Bokeh !== undefined) || (force === true)) {\n      for (var i = 0; i < inline_js.length; i++) {\n        inline_js[i].call(root, root.Bokeh);\n      }if (force === true) {\n        display_loaded();\n      }} else if (Date.now() < root._bokeh_timeout) {\n      setTimeout(run_inline_js, 100);\n    } else if (!root._bokeh_failed_load) {\n      console.log(\"Bokeh: BokehJS failed to load within specified timeout.\");\n      root._bokeh_failed_load = true;\n    } else if (force !== true) {\n      var cell = $(document.getElementById(\"1884\")).parents('.cell').data().cell;\n      cell.output_area.append_execute_result(NB_LOAD_WARNING)\n    }\n\n  }\n\n  if (root._bokeh_is_loading === 0) {\n    console.log(\"Bokeh: BokehJS loaded, going straight to plotting\");\n    run_inline_js();\n  } else {\n    load_libs(js_urls, function() {\n      console.log(\"Bokeh: BokehJS plotting callback run at\", now());\n      run_inline_js();\n    });\n  }\n}(window));"
     },
     "metadata": {},
     "output_type": "display_data"
    },
    {
     "data": {
      "text/html": [
       "\n",
       "\n",
       "\n",
       "\n",
       "\n",
       "\n",
       "  <div class=\"bk-root\" id=\"9017c92d-0f62-4b2a-80bc-4dd506f5b09e\"></div>\n"
      ]
     },
     "metadata": {},
     "output_type": "display_data"
    },
    {
     "data": {
      "application/javascript": [
       "(function(root) {\n",
       "  function embed_document(root) {\n",
       "    \n",
       "  var docs_json = {\"ddccbd28-673f-4a64-a0d6-a96e8c260354\":{\"roots\":{\"references\":[{\"attributes\":{\"below\":[{\"id\":\"1896\",\"type\":\"LinearAxis\"}],\"left\":[{\"id\":\"1901\",\"type\":\"LinearAxis\"}],\"renderers\":[{\"id\":\"1896\",\"type\":\"LinearAxis\"},{\"id\":\"1900\",\"type\":\"Grid\"},{\"id\":\"1901\",\"type\":\"LinearAxis\"},{\"id\":\"1905\",\"type\":\"Grid\"},{\"id\":\"1914\",\"type\":\"BoxAnnotation\"},{\"id\":\"1924\",\"type\":\"GlyphRenderer\"},{\"id\":\"1926\",\"type\":\"LabelSet\"}],\"title\":{\"id\":\"1885\",\"type\":\"Title\"},\"toolbar\":{\"id\":\"1912\",\"type\":\"Toolbar\"},\"x_range\":{\"id\":\"1888\",\"type\":\"DataRange1d\"},\"x_scale\":{\"id\":\"1892\",\"type\":\"LinearScale\"},\"y_range\":{\"id\":\"1890\",\"type\":\"DataRange1d\"},\"y_scale\":{\"id\":\"1894\",\"type\":\"LinearScale\"}},\"id\":\"1886\",\"subtype\":\"Figure\",\"type\":\"Plot\"},{\"attributes\":{},\"id\":\"1911\",\"type\":\"HelpTool\"},{\"attributes\":{\"active_drag\":\"auto\",\"active_inspect\":\"auto\",\"active_multi\":null,\"active_scroll\":\"auto\",\"active_tap\":\"auto\",\"tools\":[{\"id\":\"1906\",\"type\":\"PanTool\"},{\"id\":\"1907\",\"type\":\"WheelZoomTool\"},{\"id\":\"1908\",\"type\":\"BoxZoomTool\"},{\"id\":\"1909\",\"type\":\"SaveTool\"},{\"id\":\"1910\",\"type\":\"ResetTool\"},{\"id\":\"1911\",\"type\":\"HelpTool\"}]},\"id\":\"1912\",\"type\":\"Toolbar\"},{\"attributes\":{\"plot\":null,\"text\":\"PCA\"},\"id\":\"1885\",\"type\":\"Title\"},{\"attributes\":{\"bottom_units\":\"screen\",\"fill_alpha\":{\"value\":0.5},\"fill_color\":{\"value\":\"lightgrey\"},\"left_units\":\"screen\",\"level\":\"overlay\",\"line_alpha\":{\"value\":1.0},\"line_color\":{\"value\":\"black\"},\"line_dash\":[4,4],\"line_width\":{\"value\":2},\"plot\":null,\"render_mode\":\"css\",\"right_units\":\"screen\",\"top_units\":\"screen\"},\"id\":\"1914\",\"type\":\"BoxAnnotation\"},{\"attributes\":{},\"id\":\"1941\",\"type\":\"UnionRenderers\"},{\"attributes\":{\"source\":{\"id\":\"1883\",\"type\":\"ColumnDataSource\"}},\"id\":\"1925\",\"type\":\"CDSView\"},{\"attributes\":{},\"id\":\"1909\",\"type\":\"SaveTool\"},{\"attributes\":{\"dimension\":1,\"plot\":{\"id\":\"1886\",\"subtype\":\"Figure\",\"type\":\"Plot\"},\"ticker\":{\"id\":\"1902\",\"type\":\"BasicTicker\"}},\"id\":\"1905\",\"type\":\"Grid\"},{\"attributes\":{\"callback\":null},\"id\":\"1890\",\"type\":\"DataRange1d\"},{\"attributes\":{},\"id\":\"1937\",\"type\":\"BasicTickFormatter\"},{\"attributes\":{\"data_source\":{\"id\":\"1883\",\"type\":\"ColumnDataSource\"},\"glyph\":{\"id\":\"1922\",\"type\":\"Scatter\"},\"hover_glyph\":null,\"muted_glyph\":null,\"nonselection_glyph\":{\"id\":\"1923\",\"type\":\"Scatter\"},\"selection_glyph\":null,\"view\":{\"id\":\"1925\",\"type\":\"CDSView\"}},\"id\":\"1924\",\"type\":\"GlyphRenderer\"},{\"attributes\":{\"plot\":{\"id\":\"1886\",\"subtype\":\"Figure\",\"type\":\"Plot\"},\"ticker\":{\"id\":\"1897\",\"type\":\"BasicTicker\"}},\"id\":\"1900\",\"type\":\"Grid\"},{\"attributes\":{},\"id\":\"1897\",\"type\":\"BasicTicker\"},{\"attributes\":{\"axis_label\":\"PC1\",\"formatter\":{\"id\":\"1937\",\"type\":\"BasicTickFormatter\"},\"plot\":{\"id\":\"1886\",\"subtype\":\"Figure\",\"type\":\"Plot\"},\"ticker\":{\"id\":\"1897\",\"type\":\"BasicTicker\"}},\"id\":\"1896\",\"type\":\"LinearAxis\"},{\"attributes\":{\"callback\":null},\"id\":\"1888\",\"type\":\"DataRange1d\"},{\"attributes\":{},\"id\":\"1939\",\"type\":\"BasicTickFormatter\"},{\"attributes\":{},\"id\":\"1894\",\"type\":\"LinearScale\"},{\"attributes\":{},\"id\":\"1942\",\"type\":\"Selection\"},{\"attributes\":{},\"id\":\"1892\",\"type\":\"LinearScale\"},{\"attributes\":{},\"id\":\"1902\",\"type\":\"BasicTicker\"},{\"attributes\":{},\"id\":\"1910\",\"type\":\"ResetTool\"},{\"attributes\":{\"axis_label\":\"PC2\",\"formatter\":{\"id\":\"1939\",\"type\":\"BasicTickFormatter\"},\"plot\":{\"id\":\"1886\",\"subtype\":\"Figure\",\"type\":\"Plot\"},\"ticker\":{\"id\":\"1902\",\"type\":\"BasicTicker\"}},\"id\":\"1901\",\"type\":\"LinearAxis\"},{\"attributes\":{\"level\":\"glyph\",\"plot\":{\"id\":\"1886\",\"subtype\":\"Figure\",\"type\":\"Plot\"},\"source\":{\"id\":\"1883\",\"type\":\"ColumnDataSource\"},\"text\":{\"field\":\"names\"},\"x\":{\"field\":\"PC1\"},\"x_offset\":{\"value\":3},\"y\":{\"field\":\"PC2\"},\"y_offset\":{\"value\":3}},\"id\":\"1926\",\"type\":\"LabelSet\"},{\"attributes\":{\"fill_color\":{\"value\":\"blue\"},\"line_color\":{\"value\":\"blue\"},\"size\":{\"units\":\"screen\",\"value\":6},\"x\":{\"field\":\"PC1\"},\"y\":{\"field\":\"PC2\"}},\"id\":\"1922\",\"type\":\"Scatter\"},{\"attributes\":{\"callback\":null,\"data\":{\"PC1\":{\"__ndarray__\":\"fWch3a/SMsCilP/4HiwywA8Tzezh4y3A0HCDB4PeK8A8kuVVWQQswHursh6sZSzAqb2eY+5vJMD/V72Qjo4WwKgw9XCZjyDATSdaDl9UIMC0QMLER8kewJx/pe6okA7ARnWmRJ7+GsAWyN7k3GkgwEDurgL88AvANSIJ1RyJFsCDkjkcKx/1P/MC4urXQxZA/BjemYEDAEAneRiioC4EQNb4kKQ7Ifk/+8AmTW1BFkAfzNKH3ZgywFIV2UO28zDAltSH7TvBMMB663nhTQkkwF2NsqqEnxzAQQg8elLv6T+dEM6tyNUVQOmpqDpzcAxAMsplS+atMsCKA0Jj5hMpQCwyMERRXTFA7pqk9iGpIMDQGXr400ggQPoTQZv6yChArlvOEK4KLkDi8IK8P083QBmC6ivboCxADA9lvdHhGkB0wuhOF0MrQJBXwo4ndzJAnGnSgyHHKUBCyfZH7BgxQKkAKVdAIiRAVIJgLBOLIUC2W5aVETAwQMuaKV/3PC5AuK1iFVYkIEA=\",\"dtype\":\"float64\",\"shape\":[49]},\"PC2\":{\"__ndarray__\":\"+ZcVtjSnFkA/T1J5S/MhwJjpxa5LGxZABQwE8No2IsCzEzNxXywnwAr9mLPrIBRAF6TK+ELwHEDIOoTHibUWwCxF10/7NhjAKTk6rpBfJMDy79mMSH8fQNfdowBHShbAZc9ppXiwJMC9KJmS+VMgQFH0vRoLpxXA437b1aoqI8CiuGnxdNIjQBjWBxL+rvC/HdO8bq1dAsAaJkpFs60YwC4bDspdWSdAtY7hHXs7FcDIKDpwX9ssQHZ0UhzJ4/m/NPe0GHvwE8AG5CjXAdUbQHkPh27hszBAjYiskGwZM0CVULTVVo0QQDUZz5KID6W/XCEMn4y1IsDvrzOJByAwQIRcOSVNcw1A+0kD/b1dDUDCzizRMpz5v+2zU9VA6QdA9pdu6MqU3b/i2LL7MxghwNKgutGMzvq/LO0LD+vjAsDcvFBwz9cqQNMXOkNYJPw/c+VDbPqyI0Cuq0pdxuH2v+OM0Q1giyDAdI3SUK5eFsCWcsuz9uUcwKKHQ2oc9h7AtZMBd+VcL8A=\",\"dtype\":\"float64\",\"shape\":[49]},\"names\":{\"__ndarray__\":\"AAAAAAAA8D8AAAAAAAAAQAAAAAAAAAhAAAAAAAAAEEAAAAAAAAAUQAAAAAAAABhAAAAAAAAAHEAAAAAAAAAgQAAAAAAAACJAAAAAAAAAJEAAAAAAAAAmQAAAAAAAAChAAAAAAAAAKkAAAAAAAAAsQAAAAAAAAC5AAAAAAAAAMEAAAAAAAAAxQAAAAAAAADJAAAAAAAAAM0AAAAAAAAA0QAAAAAAAADVAAAAAAAAANkAAAAAAAAA3QAAAAAAAADhAAAAAAAAAOUAAAAAAAAA6QAAAAAAAADtAAAAAAAAAPEAAAAAAAAA9QAAAAAAAAD5AAAAAAAAAP0AAAAAAAABAQAAAAAAAgEBAAAAAAAAAQUAAAAAAAIBBQAAAAAAAAEJAAAAAAACAQkAAAAAAAABDQAAAAAAAgENAAAAAAAAAREAAAAAAAIBEQAAAAAAAAEVAAAAAAACARUAAAAAAAABGQAAAAAAAgEZAAAAAAAAAR0AAAAAAAIBHQAAAAAAAAEhAAAAAAACASEA=\",\"dtype\":\"float64\",\"shape\":[49]}},\"selected\":{\"id\":\"1942\",\"type\":\"Selection\"},\"selection_policy\":{\"id\":\"1941\",\"type\":\"UnionRenderers\"}},\"id\":\"1883\",\"type\":\"ColumnDataSource\"},{\"attributes\":{\"fill_alpha\":{\"value\":0.1},\"fill_color\":{\"value\":\"#1f77b4\"},\"line_alpha\":{\"value\":0.1},\"line_color\":{\"value\":\"#1f77b4\"},\"size\":{\"units\":\"screen\",\"value\":6},\"x\":{\"field\":\"PC1\"},\"y\":{\"field\":\"PC2\"}},\"id\":\"1923\",\"type\":\"Scatter\"},{\"attributes\":{\"overlay\":{\"id\":\"1914\",\"type\":\"BoxAnnotation\"}},\"id\":\"1908\",\"type\":\"BoxZoomTool\"},{\"attributes\":{},\"id\":\"1907\",\"type\":\"WheelZoomTool\"},{\"attributes\":{},\"id\":\"1906\",\"type\":\"PanTool\"}],\"root_ids\":[\"1886\"]},\"title\":\"Bokeh Application\",\"version\":\"1.0.2\"}};\n",
       "  var render_items = [{\"docid\":\"ddccbd28-673f-4a64-a0d6-a96e8c260354\",\"roots\":{\"1886\":\"9017c92d-0f62-4b2a-80bc-4dd506f5b09e\"}}];\n",
       "  root.Bokeh.embed.embed_items_notebook(docs_json, render_items);\n",
       "\n",
       "  }\n",
       "  if (root.Bokeh !== undefined) {\n",
       "    embed_document(root);\n",
       "  } else {\n",
       "    var attempts = 0;\n",
       "    var timer = setInterval(function(root) {\n",
       "      if (root.Bokeh !== undefined) {\n",
       "        embed_document(root);\n",
       "        clearInterval(timer);\n",
       "      }\n",
       "      attempts++;\n",
       "      if (attempts > 100) {\n",
       "        console.log(\"Bokeh: ERROR: Unable to run BokehJS code because BokehJS library is missing\");\n",
       "        clearInterval(timer);\n",
       "      }\n",
       "    }, 10, root)\n",
       "  }\n",
       "})(window);"
      ],
      "application/vnd.bokehjs_exec.v0+json": ""
     },
     "metadata": {
      "application/vnd.bokehjs_exec.v0+json": {
       "id": "1886"
      }
     },
     "output_type": "display_data"
    }
   ],
   "source": [
    "pca = PCA(n_components=3)\n",
    "pca.fit(Xa)\n",
    "T = pca.fit_transform(Xa)\n",
    "source = ColumnDataSource(data=dict(PC1=T[:,0],\n",
    "                                    PC2=T[:,1],\n",
    "                                    names=X.index))\n",
    "\n",
    "output_notebook()\n",
    "p = figure(title=\"PCA\", x_axis_label='PC1', y_axis_label='PC2')\n",
    "# for i in range(np.shape(T)[0]):\n",
    "#     x = T[i,0]\n",
    "#     y = T[i,1]\n",
    "#     p.circle(x,y,color='blue')\n",
    "    #p.text(x+0.3,y+0.3,flav.index[i])\n",
    "p.scatter('PC1','PC2',color='blue',size=6, source=source)\n",
    "labels = LabelSet(x='PC1', y='PC2', text='names', level='glyph',\n",
    "              x_offset=3, y_offset=3, source=source, render_mode='canvas')    \n",
    "p.add_layout(labels)\n",
    "show(p)"
   ]
  },
  {
   "cell_type": "markdown",
   "metadata": {
    "slideshow": {
     "slide_type": "slide"
    }
   },
   "source": [
    "## Ridge Regression\n",
    "\n",
    "+ É um método de regressão projetado para tratar dados cujas variáveis que apresentam colinearidade\n",
    "+ Nesse método uma penalização é imposta ao tamanho dos coefcientes de regressão\n",
    "+ A soma de resíduos penalizada é minimizada\n",
    "+ $\\Arrowvert {\\mathbf{y-Xb}} \\Arrowvert^2_{2} + \\alpha\\Arrowvert {\\mathbf{b}} \\Arrowvert^2_{2}= min$\n",
    "+ O parâmetro de complexidade controla a magnitude do \"encolhimento\": quanto maior o valor de $\\alpha$ maior o valor do encolhimento e assim os coeficientes se tornam mais robustos em relação à colinearidade."
   ]
  },
  {
   "cell_type": "code",
   "execution_count": 41,
   "metadata": {
    "slideshow": {
     "slide_type": "slide"
    }
   },
   "outputs": [
    {
     "data": {
      "text/plain": [
       "0.9967493398888486"
      ]
     },
     "execution_count": 41,
     "metadata": {},
     "output_type": "execute_result"
    }
   ],
   "source": [
    "from sklearn.linear_model import RidgeCV\n",
    "clfR = RidgeCV(alphas=np.logspace(-3,3,10000))\n",
    "clfR.fit(X_train_a, y_train)\n",
    "clfR.score(X_train_a, y_train) "
   ]
  },
  {
   "cell_type": "code",
   "execution_count": 42,
   "metadata": {
    "slideshow": {
     "slide_type": "slide"
    }
   },
   "outputs": [
    {
     "data": {
      "text/plain": [
       "20.45648836029514"
      ]
     },
     "execution_count": 42,
     "metadata": {},
     "output_type": "execute_result"
    }
   ],
   "source": [
    "clfR.alpha_"
   ]
  },
  {
   "cell_type": "code",
   "execution_count": 43,
   "metadata": {
    "slideshow": {
     "slide_type": "slide"
    }
   },
   "outputs": [
    {
     "data": {
      "text/plain": [
       "0.9967502414229166"
      ]
     },
     "execution_count": 43,
     "metadata": {},
     "output_type": "execute_result"
    }
   ],
   "source": [
    "clfR = RidgeCV(alphas=np.linspace(10,40,10000))\n",
    "clfR.fit(X_train_a, y_train)\n",
    "clfR.score(X_train_a, y_train) "
   ]
  },
  {
   "cell_type": "code",
   "execution_count": 44,
   "metadata": {
    "slideshow": {
     "slide_type": "slide"
    }
   },
   "outputs": [
    {
     "data": {
      "text/plain": [
       "20.453045304530452"
      ]
     },
     "execution_count": 44,
     "metadata": {},
     "output_type": "execute_result"
    }
   ],
   "source": [
    "clfR.alpha_"
   ]
  },
  {
   "cell_type": "code",
   "execution_count": 45,
   "metadata": {
    "slideshow": {
     "slide_type": "slide"
    }
   },
   "outputs": [
    {
     "data": {
      "text/plain": [
       "0.6575168768631052"
      ]
     },
     "execution_count": 45,
     "metadata": {},
     "output_type": "execute_result"
    }
   ],
   "source": [
    "y_cv_Ridge = cross_val_predict(clfR,X_train_a,y_train,cv=len(y_train))\n",
    "r2_score(y_train,y_cv_Ridge)"
   ]
  },
  {
   "cell_type": "code",
   "execution_count": 46,
   "metadata": {
    "slideshow": {
     "slide_type": "slide"
    }
   },
   "outputs": [
    {
     "data": {
      "text/plain": [
       "0.6097305782434348"
      ]
     },
     "execution_count": 46,
     "metadata": {},
     "output_type": "execute_result"
    }
   ],
   "source": [
    "clfR.predict(X_test_a)\n",
    "clfR.score(X_test_a,y_test)"
   ]
  },
  {
   "cell_type": "code",
   "execution_count": 47,
   "metadata": {
    "slideshow": {
     "slide_type": "slide"
    }
   },
   "outputs": [
    {
     "data": {
      "text/plain": [
       "0.9967502414229166"
      ]
     },
     "execution_count": 47,
     "metadata": {},
     "output_type": "execute_result"
    }
   ],
   "source": [
    "y_cal_Ridge = clfR.predict(X_train_a)\n",
    "r2_score(y_train,y_cal_Ridge)"
   ]
  },
  {
   "cell_type": "code",
   "execution_count": 48,
   "metadata": {
    "slideshow": {
     "slide_type": "slide"
    }
   },
   "outputs": [
    {
     "data": {
      "text/html": [
       "\n",
       "\n",
       "\n",
       "\n",
       "\n",
       "\n",
       "  <div class=\"bk-root\" id=\"41cec07a-2011-4054-95f2-a31f22e42513\"></div>\n"
      ]
     },
     "metadata": {},
     "output_type": "display_data"
    },
    {
     "data": {
      "application/javascript": [
       "(function(root) {\n",
       "  function embed_document(root) {\n",
       "    \n",
       "  var docs_json = {\"de420bb8-6f12-4309-b1db-a77f90954c30\":{\"roots\":{\"references\":[{\"attributes\":{\"below\":[{\"id\":\"2001\",\"type\":\"LinearAxis\"}],\"left\":[{\"id\":\"2006\",\"type\":\"LinearAxis\"}],\"renderers\":[{\"id\":\"2001\",\"type\":\"LinearAxis\"},{\"id\":\"2005\",\"type\":\"Grid\"},{\"id\":\"2006\",\"type\":\"LinearAxis\"},{\"id\":\"2010\",\"type\":\"Grid\"},{\"id\":\"2019\",\"type\":\"BoxAnnotation\"},{\"id\":\"2029\",\"type\":\"GlyphRenderer\"}],\"title\":{\"id\":\"2048\",\"type\":\"Title\"},\"toolbar\":{\"id\":\"2017\",\"type\":\"Toolbar\"},\"x_range\":{\"id\":\"1993\",\"type\":\"DataRange1d\"},\"x_scale\":{\"id\":\"1997\",\"type\":\"LinearScale\"},\"y_range\":{\"id\":\"1995\",\"type\":\"DataRange1d\"},\"y_scale\":{\"id\":\"1999\",\"type\":\"LinearScale\"}},\"id\":\"1992\",\"subtype\":\"Figure\",\"type\":\"Plot\"},{\"attributes\":{\"dimension\":1,\"plot\":{\"id\":\"1992\",\"subtype\":\"Figure\",\"type\":\"Plot\"},\"ticker\":{\"id\":\"2007\",\"type\":\"BasicTicker\"}},\"id\":\"2010\",\"type\":\"Grid\"},{\"attributes\":{},\"id\":\"2011\",\"type\":\"PanTool\"},{\"attributes\":{},\"id\":\"2051\",\"type\":\"BasicTickFormatter\"},{\"attributes\":{},\"id\":\"2012\",\"type\":\"WheelZoomTool\"},{\"attributes\":{\"data_source\":{\"id\":\"2026\",\"type\":\"ColumnDataSource\"},\"glyph\":{\"id\":\"2027\",\"type\":\"Scatter\"},\"hover_glyph\":null,\"muted_glyph\":null,\"nonselection_glyph\":{\"id\":\"2028\",\"type\":\"Scatter\"},\"selection_glyph\":null,\"view\":{\"id\":\"2030\",\"type\":\"CDSView\"}},\"id\":\"2029\",\"type\":\"GlyphRenderer\"},{\"attributes\":{},\"id\":\"2002\",\"type\":\"BasicTicker\"},{\"attributes\":{},\"id\":\"2015\",\"type\":\"ResetTool\"},{\"attributes\":{\"formatter\":{\"id\":\"2049\",\"type\":\"BasicTickFormatter\"},\"plot\":{\"id\":\"1992\",\"subtype\":\"Figure\",\"type\":\"Plot\"},\"ticker\":{\"id\":\"2002\",\"type\":\"BasicTicker\"}},\"id\":\"2001\",\"type\":\"LinearAxis\"},{\"attributes\":{},\"id\":\"2016\",\"type\":\"HelpTool\"},{\"attributes\":{\"active_drag\":\"auto\",\"active_inspect\":\"auto\",\"active_multi\":null,\"active_scroll\":\"auto\",\"active_tap\":\"auto\",\"tools\":[{\"id\":\"2011\",\"type\":\"PanTool\"},{\"id\":\"2012\",\"type\":\"WheelZoomTool\"},{\"id\":\"2013\",\"type\":\"BoxZoomTool\"},{\"id\":\"2014\",\"type\":\"SaveTool\"},{\"id\":\"2015\",\"type\":\"ResetTool\"},{\"id\":\"2016\",\"type\":\"HelpTool\"}]},\"id\":\"2017\",\"type\":\"Toolbar\"},{\"attributes\":{\"bottom_units\":\"screen\",\"fill_alpha\":{\"value\":0.5},\"fill_color\":{\"value\":\"lightgrey\"},\"left_units\":\"screen\",\"level\":\"overlay\",\"line_alpha\":{\"value\":1.0},\"line_color\":{\"value\":\"black\"},\"line_dash\":[4,4],\"line_width\":{\"value\":2},\"plot\":null,\"render_mode\":\"css\",\"right_units\":\"screen\",\"top_units\":\"screen\"},\"id\":\"2019\",\"type\":\"BoxAnnotation\"},{\"attributes\":{},\"id\":\"2014\",\"type\":\"SaveTool\"},{\"attributes\":{},\"id\":\"2054\",\"type\":\"Selection\"},{\"attributes\":{},\"id\":\"2053\",\"type\":\"UnionRenderers\"},{\"attributes\":{\"callback\":null,\"data\":{\"x\":[1,2,3,4,5,6,7,8,9,10,11,12,13,14,15,16,17,18,19,20,21,22,23,24,25,26,27,28,29,30,31,32,33,34,35,36,37,38,39,40,41,42,43,44,45,46,47,48,49,50,51,52,53,54,55,56,57,58,59,60,61,62,63,64,65,66,67,68,69,70,71,72,73,74,75,76,77,78,79,80,81,82,83,84,85,86,87,88,89,90,91,92,93,94,95,96,97,98,99,100,101,102,103,104,105,106,107,108,109,110,111,112,113,114,115,116,117,118,119,120,121,122,123,124,125,126,127,128,129,130,131,132,133,134,135,136,137,138,139,140,141,142,143,144,145,146,147,148,149,150,151,152,153,154,155,156,157,158,159,160,161,162,163,164,165,166,167,168,169,170,171,172,173,174,175,176,177,178,179,180,181,182,183,184,185,186,187,188,189,190,191,192,193,194,195,196,197,198,199,200,201,202,203,204,205,206,207,208,209,210,211,212,213,214,215,216,217,218,219,220,221,222,223,224,225,226,227,228,229,230,231,232,233,234,235,236,237,238,239,240,241,242,243,244,245,246,247,248,249,250,251,252,253,254,255,256,257,258,259,260,261,262,263,264,265,266,267,268,269,270,271,272,273,274,275,276,277,278,279,280,281,282,283,284,285,286,287,288,289,290,291,292,293,294,295,296,297,298,299,300,301,302,303,304,305,306,307,308,309,310,311,312,313,314,315,316,317,318,319,320,321,322,323,324,325,326,327,328,329,330,331,332,333,334,335,336,337,338,339,340,341,342,343,344,345,346,347,348,349,350,351,352,353,354,355,356,357,358,359,360,361,362,363,364,365,366,367,368,369,370,371,372,373,374,375,376,377,378,379,380,381,382,383,384,385,386,387,388,389,390,391,392,393,394,395,396,397,398,399,400,401,402,403,404,405,406,407,408,409,410,411,412,413,414,415,416,417,418,419,420,421,422,423,424,425,426,427,428,429,430,431,432,433,434,435,436,437,438,439,440,441,442,443,444,445,446,447,448,449,450,451,452,453,454,455,456,457,458,459,460,461,462,463,464,465,466,467,468,469,470,471,472,473,474,475,476,477,478,479,480,481,482,483,484,485,486,487,488,489,490,491,492,493,494,495,496,497,498,499,500,501,502,503,504,505,506,507,508,509,510,511,512,513,514,515,516,517,518,519,520,521,522,523,524,525,526,527,528,529,530,531,532,533,534,535,536,537,538,539,540,541,542,543,544,545,546,547,548,549,550,551,552,553,554,555,556,557,558,559,560,561,562,563,564],\"y\":{\"__ndarray__\":\"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\",\"dtype\":\"float64\",\"shape\":[564]}},\"selected\":{\"id\":\"2054\",\"type\":\"Selection\"},\"selection_policy\":{\"id\":\"2053\",\"type\":\"UnionRenderers\"}},\"id\":\"2026\",\"type\":\"ColumnDataSource\"},{\"attributes\":{\"formatter\":{\"id\":\"2051\",\"type\":\"BasicTickFormatter\"},\"plot\":{\"id\":\"1992\",\"subtype\":\"Figure\",\"type\":\"Plot\"},\"ticker\":{\"id\":\"2007\",\"type\":\"BasicTicker\"}},\"id\":\"2006\",\"type\":\"LinearAxis\"},{\"attributes\":{\"callback\":null},\"id\":\"1995\",\"type\":\"DataRange1d\"},{\"attributes\":{\"fill_color\":{\"value\":\"#1f77b4\"},\"line_color\":{\"value\":\"#1f77b4\"},\"x\":{\"field\":\"x\"},\"y\":{\"field\":\"y\"}},\"id\":\"2027\",\"type\":\"Scatter\"},{\"attributes\":{},\"id\":\"2007\",\"type\":\"BasicTicker\"},{\"attributes\":{\"fill_alpha\":{\"value\":0.1},\"fill_color\":{\"value\":\"#1f77b4\"},\"line_alpha\":{\"value\":0.1},\"line_color\":{\"value\":\"#1f77b4\"},\"x\":{\"field\":\"x\"},\"y\":{\"field\":\"y\"}},\"id\":\"2028\",\"type\":\"Scatter\"},{\"attributes\":{},\"id\":\"2049\",\"type\":\"BasicTickFormatter\"},{\"attributes\":{\"plot\":null,\"text\":\"\"},\"id\":\"2048\",\"type\":\"Title\"},{\"attributes\":{},\"id\":\"1997\",\"type\":\"LinearScale\"},{\"attributes\":{\"source\":{\"id\":\"2026\",\"type\":\"ColumnDataSource\"}},\"id\":\"2030\",\"type\":\"CDSView\"},{\"attributes\":{\"callback\":null},\"id\":\"1993\",\"type\":\"DataRange1d\"},{\"attributes\":{},\"id\":\"1999\",\"type\":\"LinearScale\"},{\"attributes\":{\"plot\":{\"id\":\"1992\",\"subtype\":\"Figure\",\"type\":\"Plot\"},\"ticker\":{\"id\":\"2002\",\"type\":\"BasicTicker\"}},\"id\":\"2005\",\"type\":\"Grid\"},{\"attributes\":{\"overlay\":{\"id\":\"2019\",\"type\":\"BoxAnnotation\"}},\"id\":\"2013\",\"type\":\"BoxZoomTool\"}],\"root_ids\":[\"1992\"]},\"title\":\"Bokeh Application\",\"version\":\"1.0.2\"}};\n",
       "  var render_items = [{\"docid\":\"de420bb8-6f12-4309-b1db-a77f90954c30\",\"roots\":{\"1992\":\"41cec07a-2011-4054-95f2-a31f22e42513\"}}];\n",
       "  root.Bokeh.embed.embed_items_notebook(docs_json, render_items);\n",
       "\n",
       "  }\n",
       "  if (root.Bokeh !== undefined) {\n",
       "    embed_document(root);\n",
       "  } else {\n",
       "    var attempts = 0;\n",
       "    var timer = setInterval(function(root) {\n",
       "      if (root.Bokeh !== undefined) {\n",
       "        embed_document(root);\n",
       "        clearInterval(timer);\n",
       "      }\n",
       "      attempts++;\n",
       "      if (attempts > 100) {\n",
       "        console.log(\"Bokeh: ERROR: Unable to run BokehJS code because BokehJS library is missing\");\n",
       "        clearInterval(timer);\n",
       "      }\n",
       "    }, 10, root)\n",
       "  }\n",
       "})(window);"
      ],
      "application/vnd.bokehjs_exec.v0+json": ""
     },
     "metadata": {
      "application/vnd.bokehjs_exec.v0+json": {
       "id": "1992"
      }
     },
     "output_type": "display_data"
    }
   ],
   "source": [
    "p = figure()\n",
    "p.scatter(range(1,565),clfR.coef_.reshape(564))\n",
    "show(p)"
   ]
  },
  {
   "cell_type": "code",
   "execution_count": 49,
   "metadata": {
    "slideshow": {
     "slide_type": "slide"
    }
   },
   "outputs": [],
   "source": [
    "Xsel = X_train_a[:,(np.abs(clfR.coef_) > 0.01)[0]]\n",
    "Xsel_test = X_test_a[:,(np.abs(clfR.coef_) > 0.01)[0]]"
   ]
  },
  {
   "cell_type": "code",
   "execution_count": 50,
   "metadata": {
    "slideshow": {
     "slide_type": "slide"
    }
   },
   "outputs": [
    {
     "data": {
      "text/plain": [
       "0.9999999999504859"
      ]
     },
     "execution_count": 50,
     "metadata": {},
     "output_type": "execute_result"
    }
   ],
   "source": [
    "clfR = RidgeCV(alphas=np.logspace(-3,3,10000))\n",
    "clfR.fit(Xsel, y_train)\n",
    "clfR.score(Xsel, y_train) "
   ]
  },
  {
   "cell_type": "code",
   "execution_count": 51,
   "metadata": {
    "slideshow": {
     "slide_type": "slide"
    }
   },
   "outputs": [
    {
     "data": {
      "text/plain": [
       "0.9248904962808738"
      ]
     },
     "execution_count": 51,
     "metadata": {},
     "output_type": "execute_result"
    }
   ],
   "source": [
    "y_cv_Ridge = cross_val_predict(clfR,Xsel,y_train,cv=len(y_train))\n",
    "r2_score(y_train,y_cv_Ridge)"
   ]
  },
  {
   "cell_type": "code",
   "execution_count": 52,
   "metadata": {
    "slideshow": {
     "slide_type": "slide"
    }
   },
   "outputs": [
    {
     "data": {
      "text/plain": [
       "0.6157167430887105"
      ]
     },
     "execution_count": 52,
     "metadata": {},
     "output_type": "execute_result"
    }
   ],
   "source": [
    "clfR.predict(Xsel_test)\n",
    "clfR.score(Xsel_test,y_test)"
   ]
  },
  {
   "cell_type": "markdown",
   "metadata": {
    "slideshow": {
     "slide_type": "slide"
    }
   },
   "source": [
    "## Lasso\n",
    "\n",
    "+ Lasso é um modelo de regressão linear que estima coeficientes esparsos.\n",
    "+ É útil em contextos nos quais coeficientes diferentes de zero são desejados, o que reduz o número de variáveis\n",
    "+ É chamada de uma técnica de regularização L1, pois inclui a norma-1 dos coeficientes na função objetivo a ser minimizada\n",
    "+ $\\frac{1}{2I}\\Arrowvert {\\mathbf{y-Xb}} \\Arrowvert^2_{2} + \\alpha\\Arrowvert {\\mathbf{b}} \\Arrowvert_{1}= min$"
   ]
  },
  {
   "cell_type": "code",
   "execution_count": null,
   "metadata": {
    "slideshow": {
     "slide_type": "slide"
    }
   },
   "outputs": [],
   "source": [
    "from sklearn.linear_model import LassoCV\n",
    "from sklearn.utils.validation import column_or_1d\n",
    "y_train = column_or_1d(y_train)\n",
    "clfLasso = LassoCV(alphas=np.logspace(-3,3,10000),cv = 20)\n",
    "clfLasso.fit(X_train_a, y_train)\n",
    "clfLasso.score(X_train_a, y_train) "
   ]
  },
  {
   "cell_type": "code",
   "execution_count": null,
   "metadata": {
    "slideshow": {
     "slide_type": "slide"
    }
   },
   "outputs": [],
   "source": [
    "clfLasso.alpha_"
   ]
  },
  {
   "cell_type": "code",
   "execution_count": null,
   "metadata": {
    "slideshow": {
     "slide_type": "slide"
    }
   },
   "outputs": [],
   "source": [
    "y_cv_Lasso = cross_val_predict(clfLasso,X_train_a,y_train,cv=20)\n",
    "r2_score(y_train,y_cv_Lasso)"
   ]
  },
  {
   "cell_type": "code",
   "execution_count": null,
   "metadata": {
    "slideshow": {
     "slide_type": "slide"
    }
   },
   "outputs": [],
   "source": [
    "clfLasso.predict(X_test_a)\n",
    "clfLasso.score(X_test_a,y_test)"
   ]
  },
  {
   "cell_type": "code",
   "execution_count": null,
   "metadata": {
    "slideshow": {
     "slide_type": "slide"
    }
   },
   "outputs": [],
   "source": [
    "p = figure()\n",
    "p.scatter(range(1,565),clfLasso.coef_.reshape(564))\n",
    "show(p)"
   ]
  },
  {
   "cell_type": "code",
   "execution_count": null,
   "metadata": {
    "slideshow": {
     "slide_type": "slide"
    }
   },
   "outputs": [],
   "source": [
    "X.columns[clfLasso.coef_ > 0]"
   ]
  },
  {
   "cell_type": "markdown",
   "metadata": {
    "slideshow": {
     "slide_type": "slide"
    }
   },
   "source": [
    "## Elastic-Net\n",
    "\n",
    "+ Elastic-net é um método de regressão linear que usa ambas as normas (L1 e L2) de regularização dos coeficientes\n",
    "+ Essa combinação permite o aprendizado de um modelo esparso no qual poucos coeficientes são diferentes de zero, como o Lasso, enquanto mantém as propriedades de regularização do Ridge\n",
    "+ Elastic-net é útil quando existem múltiplas variáveis correlacionadas entre si. Lasso seleciona uma delas aleatoriamente, enquanto que elastic-net seleciona ambas\n",
    "+ A função objetivo a ser minimizada nesse caso é\n",
    "+ ${ \\frac{1}{2I} ||y-Xb||_2 ^ 2 + \\alpha \\rho ||b||_1 +\\frac{\\alpha(1-\\rho)}{2} ||b||_2 ^ 2} = min$\n",
    "\n"
   ]
  },
  {
   "cell_type": "code",
   "execution_count": null,
   "metadata": {
    "slideshow": {
     "slide_type": "slide"
    }
   },
   "outputs": [],
   "source": [
    "from sklearn.linear_model import ElasticNetCV\n",
    "clfEnet = LassoCV(cv = 10)\n",
    "clfEnet.fit(X_train_a, y_train)\n",
    "clfEnet.score(X_train_a, y_train) "
   ]
  },
  {
   "cell_type": "code",
   "execution_count": null,
   "metadata": {
    "slideshow": {
     "slide_type": "slide"
    }
   },
   "outputs": [],
   "source": [
    "clfEnet.alpha_"
   ]
  },
  {
   "cell_type": "code",
   "execution_count": null,
   "metadata": {},
   "outputs": [],
   "source": [
    "y_cv_Enet = cross_val_predict(clfEnet,X_train_a,y_train,cv=10)\n",
    "r2_score(y_train,y_cv_Enet)"
   ]
  },
  {
   "cell_type": "code",
   "execution_count": null,
   "metadata": {},
   "outputs": [],
   "source": [
    "clfEnet.predict(X_test_a)\n",
    "clfEnet.score(X_test_a,y_test)"
   ]
  },
  {
   "cell_type": "code",
   "execution_count": null,
   "metadata": {},
   "outputs": [],
   "source": [
    "p = figure()\n",
    "p.scatter(range(1,565),clfEnet.coef_.reshape(564))\n",
    "show(p)"
   ]
  },
  {
   "cell_type": "code",
   "execution_count": null,
   "metadata": {},
   "outputs": [],
   "source": [
    "X.columns[clfEnet.coef_ > 0]"
   ]
  },
  {
   "cell_type": "code",
   "execution_count": null,
   "metadata": {},
   "outputs": [],
   "source": [
    "Xsel2 = X_train_a[:,clfEnet.coef_ > 0]"
   ]
  },
  {
   "cell_type": "code",
   "execution_count": null,
   "metadata": {},
   "outputs": [],
   "source": [
    "def PLSCV(X,y):\n",
    "    cv_scores = []\n",
    "    c_scores = []\n",
    "    mse_c = []\n",
    "    mse_cv = []\n",
    "    for i in range(min(np.shape(X))):\n",
    "        # Calibration\n",
    "        pls2 = PLSRegression(n_components=i+1)\n",
    "        pls2.fit(X,y)\n",
    "        y_c = pls2.predict(X)\n",
    "\n",
    "        # Cross-validation\n",
    "        y_cv = cross_val_predict(pls2, X, y, cv=len(X))\n",
    "\n",
    "    #     c_scores.append(r2_score(y, y_c_pcr))\n",
    "        cv_scores.append(r2_score(y, y_cv))\n",
    "    #     mse_c.append(mean_squared_error(y, y_c_pcr))\n",
    "    #     mse_cv.append(mean_squared_error(y, y_cv_pcr))\n",
    "    return cv_scores\n",
    "cv_scores = PLSCV(Xsel2,y_train)"
   ]
  },
  {
   "cell_type": "code",
   "execution_count": null,
   "metadata": {},
   "outputs": [],
   "source": [
    "cv_scores"
   ]
  },
  {
   "cell_type": "code",
   "execution_count": null,
   "metadata": {},
   "outputs": [],
   "source": [
    "pls2 = PLSRegression(n_components=2)\n",
    "pls2.fit(Xsel2, y_train)\n",
    "\n",
    "y_pls = pls2.predict(Xsel2)\n",
    "print(pls2.score(Xsel2,y_train))\n",
    "\n",
    "y_cv_pls = cross_val_predict(pls2, Xsel2, y_train, cv=len(y_train))\n",
    "print(r2_score(y_train,y_cv_pls))"
   ]
  },
  {
   "cell_type": "code",
   "execution_count": null,
   "metadata": {},
   "outputs": [],
   "source": [
    "Xsel2_test = X_test_a[:,clfEnet.coef_ > 0]\n",
    "pls2.predict(Xsel2_test)\n",
    "pls2.score(Xsel2_test,y_test)"
   ]
  },
  {
   "cell_type": "code",
   "execution_count": null,
   "metadata": {},
   "outputs": [],
   "source": [
    "from sklearn.tree import DecisionTreeRegressor\n",
    "tr = GridSearchCV(DecisionTreeRegressor(),{'max_depth':range(1,10)},cv=5)\n",
    "tr.fit(X_train_a,y_train)\n",
    "tr.score(X_train_a,y_train)"
   ]
  },
  {
   "cell_type": "code",
   "execution_count": null,
   "metadata": {},
   "outputs": [],
   "source": [
    "tr.best_score_"
   ]
  },
  {
   "cell_type": "code",
   "execution_count": null,
   "metadata": {},
   "outputs": [],
   "source": [
    "tr.best_params_"
   ]
  },
  {
   "cell_type": "code",
   "execution_count": null,
   "metadata": {},
   "outputs": [],
   "source": [
    "cross_val_predict(tr, Xsel2, y_train, cv=len(y_train))\n",
    "print(r2_score(y_train,cross_val_predict(tr, X_train_a, y_train, cv=len(y_train))))"
   ]
  },
  {
   "cell_type": "code",
   "execution_count": null,
   "metadata": {},
   "outputs": [],
   "source": [
    "tr2 = DecisionTreeRegressor(max_depth=5)\n",
    "tr2.fit(X_train_a,y_train)"
   ]
  },
  {
   "cell_type": "code",
   "execution_count": null,
   "metadata": {},
   "outputs": [],
   "source": [
    "X.columns[tr2.feature_importances_ > 0]"
   ]
  },
  {
   "cell_type": "markdown",
   "metadata": {},
   "source": [
    "## Modelos de classificação\n",
    "\n",
    "+ Nos estudos de classificação, cada uma das amostras é descrita por um conjunto de medidas experimentais, que chamamos de \"padrão\" e são classificadas com uma propriedade de interesse (bom/ruim; falso/verdadeiro; ativo/nao ativo etc.)\n",
    "+ A determinação da propriedade de interesse ao atribuir uma amostra à sua respectiva classe é o que chamamos de \"reconhecimento\"\n",
    "+ Na análise supervisionada , seleciona-se uma série de amostras representativas de cada classe e para as quais as medidas experimentais são coletadas e o padrão de cada uma delas é definido (conjunto de treinamento)\n",
    "+ A seguir, utilizando as informações do conjunto de treinamento, construímos um modelo empírico ou regra de classificação, motivo pelo qual esses métodos são chamados de **supervisionados**\n",
    "+ Antes de sua utilização, o modelo empírico obtido deve ser testado para verificar sua capacidade de prever com sucesso a classe de novas amostras. Para isso utiliza-se um conjunto teste"
   ]
  },
  {
   "cell_type": "markdown",
   "metadata": {},
   "source": [
    "## Modelos de classificação\n",
    "\n",
    "+ Os métodos de classificação podem ser agrupados em duas categorias:\n",
    "    + Paramétricos ou probabilísticos\n",
    "        + Ex: LDA, QDA, SIMCA etc.\n",
    "    + Não paramétricos ou não probabilísticos\n",
    "        + Ex: k-NN"
   ]
  },
  {
   "cell_type": "markdown",
   "metadata": {},
   "source": [
    "## k-ésimos vizinhos mais próximos (k-NN)\n",
    "\n",
    "+ Esse é um método conceitualmente bem simples e que produz excelentes resultados\n",
    "+ Durantea construção do modelo, cada amostra do conjunto de treinamento é excluída uma única vez e então classificada usando-se, para isso, as amostras restantes\n",
    "+ São calculadas as distâncias (Euclideana ou Mahalanobis, por exemplo) entre a amostra excluída e todas as outras amostras do conjunto de treinamento\n",
    "+ As distâncias de todas as amostras à amostra em questão são colocadas em ordem crescente para facilitar a identificação dos seus $k$ vizinhos mais próximos\n",
    "+ Essa amostra é então classificada de acordo com a maioria dos \"votos\" de seus vizinhos mais próximos"
   ]
  },
  {
   "cell_type": "markdown",
   "metadata": {},
   "source": [
    "## [Conjunto de dados](https://scikit-learn.org/stable/datasets/index.html#wine-recognition-dataset)"
   ]
  },
  {
   "cell_type": "code",
   "execution_count": 64,
   "metadata": {},
   "outputs": [
    {
     "name": "stdout",
     "output_type": "stream",
     "text": [
      "[[1.42e+01 1.71e+00 2.43e+00 ... 1.04e+00 3.92e+00 1.06e+03]\n",
      " [1.32e+01 1.78e+00 2.14e+00 ... 1.05e+00 3.40e+00 1.05e+03]\n",
      " [1.32e+01 2.36e+00 2.67e+00 ... 1.03e+00 3.17e+00 1.18e+03]\n",
      " ...\n",
      " [1.33e+01 4.28e+00 2.26e+00 ... 5.90e-01 1.56e+00 8.35e+02]\n",
      " [1.32e+01 2.59e+00 2.37e+00 ... 6.00e-01 1.62e+00 8.40e+02]\n",
      " [1.41e+01 4.10e+00 2.74e+00 ... 6.10e-01 1.60e+00 5.60e+02]]\n",
      "[0 0 0 0 0 0 0 0 0 0 0 0 0 0 0 0 0 0 0 0 0 0 0 0 0 0 0 0 0 0 0 0 0 0 0 0 0\n",
      " 0 0 0 0 0 0 0 0 0 0 0 0 0 0 0 0 0 0 0 0 0 0 1 1 1 1 1 1 1 1 1 1 1 1 1 1 1\n",
      " 1 1 1 1 1 1 1 1 1 1 1 1 1 1 1 1 1 1 1 1 1 1 1 1 1 1 1 1 1 1 1 1 1 1 1 1 1\n",
      " 1 1 1 1 1 1 1 1 1 1 1 1 1 1 1 1 1 1 1 2 2 2 2 2 2 2 2 2 2 2 2 2 2 2 2 2 2\n",
      " 2 2 2 2 2 2 2 2 2 2 2 2 2 2 2 2 2 2 2 2 2 2 2 2 2 2 2 2 2 2]\n",
      "{'data': array([[1.42e+01, 1.71e+00, 2.43e+00, ..., 1.04e+00, 3.92e+00, 1.06e+03],\n",
      "       [1.32e+01, 1.78e+00, 2.14e+00, ..., 1.05e+00, 3.40e+00, 1.05e+03],\n",
      "       [1.32e+01, 2.36e+00, 2.67e+00, ..., 1.03e+00, 3.17e+00, 1.18e+03],\n",
      "       ...,\n",
      "       [1.33e+01, 4.28e+00, 2.26e+00, ..., 5.90e-01, 1.56e+00, 8.35e+02],\n",
      "       [1.32e+01, 2.59e+00, 2.37e+00, ..., 6.00e-01, 1.62e+00, 8.40e+02],\n",
      "       [1.41e+01, 4.10e+00, 2.74e+00, ..., 6.10e-01, 1.60e+00, 5.60e+02]]), 'target': array([0, 0, 0, 0, 0, 0, 0, 0, 0, 0, 0, 0, 0, 0, 0, 0, 0, 0, 0, 0, 0, 0,\n",
      "       0, 0, 0, 0, 0, 0, 0, 0, 0, 0, 0, 0, 0, 0, 0, 0, 0, 0, 0, 0, 0, 0,\n",
      "       0, 0, 0, 0, 0, 0, 0, 0, 0, 0, 0, 0, 0, 0, 0, 1, 1, 1, 1, 1, 1, 1,\n",
      "       1, 1, 1, 1, 1, 1, 1, 1, 1, 1, 1, 1, 1, 1, 1, 1, 1, 1, 1, 1, 1, 1,\n",
      "       1, 1, 1, 1, 1, 1, 1, 1, 1, 1, 1, 1, 1, 1, 1, 1, 1, 1, 1, 1, 1, 1,\n",
      "       1, 1, 1, 1, 1, 1, 1, 1, 1, 1, 1, 1, 1, 1, 1, 1, 1, 1, 1, 1, 2, 2,\n",
      "       2, 2, 2, 2, 2, 2, 2, 2, 2, 2, 2, 2, 2, 2, 2, 2, 2, 2, 2, 2, 2, 2,\n",
      "       2, 2, 2, 2, 2, 2, 2, 2, 2, 2, 2, 2, 2, 2, 2, 2, 2, 2, 2, 2, 2, 2,\n",
      "       2, 2]), 'target_names': array(['class_0', 'class_1', 'class_2'], dtype='<U7'), 'DESCR': '.. _wine_dataset:\\n\\nWine recognition dataset\\n------------------------\\n\\n**Data Set Characteristics:**\\n\\n    :Number of Instances: 178 (50 in each of three classes)\\n    :Number of Attributes: 13 numeric, predictive attributes and the class\\n    :Attribute Information:\\n \\t\\t- Alcohol\\n \\t\\t- Malic acid\\n \\t\\t- Ash\\n\\t\\t- Alcalinity of ash  \\n \\t\\t- Magnesium\\n\\t\\t- Total phenols\\n \\t\\t- Flavanoids\\n \\t\\t- Nonflavanoid phenols\\n \\t\\t- Proanthocyanins\\n\\t\\t- Color intensity\\n \\t\\t- Hue\\n \\t\\t- OD280/OD315 of diluted wines\\n \\t\\t- Proline\\n\\n    - class:\\n            - class_0\\n            - class_1\\n            - class_2\\n\\t\\t\\n    :Summary Statistics:\\n    \\n    ============================= ==== ===== ======= =====\\n                                   Min   Max   Mean     SD\\n    ============================= ==== ===== ======= =====\\n    Alcohol:                      11.0  14.8    13.0   0.8\\n    Malic Acid:                   0.74  5.80    2.34  1.12\\n    Ash:                          1.36  3.23    2.36  0.27\\n    Alcalinity of Ash:            10.6  30.0    19.5   3.3\\n    Magnesium:                    70.0 162.0    99.7  14.3\\n    Total Phenols:                0.98  3.88    2.29  0.63\\n    Flavanoids:                   0.34  5.08    2.03  1.00\\n    Nonflavanoid Phenols:         0.13  0.66    0.36  0.12\\n    Proanthocyanins:              0.41  3.58    1.59  0.57\\n    Colour Intensity:              1.3  13.0     5.1   2.3\\n    Hue:                          0.48  1.71    0.96  0.23\\n    OD280/OD315 of diluted wines: 1.27  4.00    2.61  0.71\\n    Proline:                       278  1680     746   315\\n    ============================= ==== ===== ======= =====\\n\\n    :Missing Attribute Values: None\\n    :Class Distribution: class_0 (59), class_1 (71), class_2 (48)\\n    :Creator: R.A. Fisher\\n    :Donor: Michael Marshall (MARSHALL%PLU@io.arc.nasa.gov)\\n    :Date: July, 1988\\n\\nThis is a copy of UCI ML Wine recognition datasets.\\nhttps://archive.ics.uci.edu/ml/machine-learning-databases/wine/wine.data\\n\\nThe data is the results of a chemical analysis of wines grown in the same\\nregion in Italy by three different cultivators. There are thirteen different\\nmeasurements taken for different constituents found in the three types of\\nwine.\\n\\nOriginal Owners: \\n\\nForina, M. et al, PARVUS - \\nAn Extendible Package for Data Exploration, Classification and Correlation. \\nInstitute of Pharmaceutical and Food Analysis and Technologies,\\nVia Brigata Salerno, 16147 Genoa, Italy.\\n\\nCitation:\\n\\nLichman, M. (2013). UCI Machine Learning Repository\\n[http://archive.ics.uci.edu/ml]. Irvine, CA: University of California,\\nSchool of Information and Computer Science. \\n\\n.. topic:: References\\n\\n  (1) S. Aeberhard, D. Coomans and O. de Vel, \\n  Comparison of Classifiers in High Dimensional Settings, \\n  Tech. Rep. no. 92-02, (1992), Dept. of Computer Science and Dept. of  \\n  Mathematics and Statistics, James Cook University of North Queensland. \\n  (Also submitted to Technometrics). \\n\\n  The data was used with many others for comparing various \\n  classifiers. The classes are separable, though only RDA \\n  has achieved 100% correct classification. \\n  (RDA : 100%, QDA 99.4%, LDA 98.9%, 1NN 96.1% (z-transformed data)) \\n  (All results using the leave-one-out technique) \\n\\n  (2) S. Aeberhard, D. Coomans and O. de Vel, \\n  \"THE CLASSIFICATION PERFORMANCE OF RDA\" \\n  Tech. Rep. no. 92-01, (1992), Dept. of Computer Science and Dept. of \\n  Mathematics and Statistics, James Cook University of North Queensland. \\n  (Also submitted to Journal of Chemometrics).\\n', 'feature_names': ['alcohol', 'malic_acid', 'ash', 'alcalinity_of_ash', 'magnesium', 'total_phenols', 'flavanoids', 'nonflavanoid_phenols', 'proanthocyanins', 'color_intensity', 'hue', 'od280/od315_of_diluted_wines', 'proline']}\n"
     ]
    }
   ],
   "source": [
    "from sklearn import datasets\n",
    "vinhos = datasets.load_wine()\n",
    "print(vinhos.data)\n",
    "print(vinhos.target)\n",
    "print(vinhos)"
   ]
  },
  {
   "cell_type": "code",
   "execution_count": 167,
   "metadata": {},
   "outputs": [],
   "source": [
    "import pandas as pd\n",
    "df_vinhos = pd.DataFrame(vinhos.data)\n",
    "df_vinhos.columns = vinhos.feature_names"
   ]
  },
  {
   "cell_type": "code",
   "execution_count": 168,
   "metadata": {},
   "outputs": [
    {
     "data": {
      "text/html": [
       "<div>\n",
       "<style scoped>\n",
       "    .dataframe tbody tr th:only-of-type {\n",
       "        vertical-align: middle;\n",
       "    }\n",
       "\n",
       "    .dataframe tbody tr th {\n",
       "        vertical-align: top;\n",
       "    }\n",
       "\n",
       "    .dataframe thead th {\n",
       "        text-align: right;\n",
       "    }\n",
       "</style>\n",
       "<table border=\"1\" class=\"dataframe\">\n",
       "  <thead>\n",
       "    <tr style=\"text-align: right;\">\n",
       "      <th></th>\n",
       "      <th>alcohol</th>\n",
       "      <th>malic_acid</th>\n",
       "      <th>ash</th>\n",
       "      <th>alcalinity_of_ash</th>\n",
       "      <th>magnesium</th>\n",
       "      <th>total_phenols</th>\n",
       "      <th>flavanoids</th>\n",
       "      <th>nonflavanoid_phenols</th>\n",
       "      <th>proanthocyanins</th>\n",
       "      <th>color_intensity</th>\n",
       "      <th>hue</th>\n",
       "      <th>od280/od315_of_diluted_wines</th>\n",
       "      <th>proline</th>\n",
       "    </tr>\n",
       "  </thead>\n",
       "  <tbody>\n",
       "    <tr>\n",
       "      <th>0</th>\n",
       "      <td>14.23</td>\n",
       "      <td>1.71</td>\n",
       "      <td>2.43</td>\n",
       "      <td>15.6</td>\n",
       "      <td>127.0</td>\n",
       "      <td>2.80</td>\n",
       "      <td>3.06</td>\n",
       "      <td>0.28</td>\n",
       "      <td>2.29</td>\n",
       "      <td>5.640000</td>\n",
       "      <td>1.04</td>\n",
       "      <td>3.92</td>\n",
       "      <td>1065.0</td>\n",
       "    </tr>\n",
       "    <tr>\n",
       "      <th>1</th>\n",
       "      <td>13.20</td>\n",
       "      <td>1.78</td>\n",
       "      <td>2.14</td>\n",
       "      <td>11.2</td>\n",
       "      <td>100.0</td>\n",
       "      <td>2.65</td>\n",
       "      <td>2.76</td>\n",
       "      <td>0.26</td>\n",
       "      <td>1.28</td>\n",
       "      <td>4.380000</td>\n",
       "      <td>1.05</td>\n",
       "      <td>3.40</td>\n",
       "      <td>1050.0</td>\n",
       "    </tr>\n",
       "    <tr>\n",
       "      <th>2</th>\n",
       "      <td>13.16</td>\n",
       "      <td>2.36</td>\n",
       "      <td>2.67</td>\n",
       "      <td>18.6</td>\n",
       "      <td>101.0</td>\n",
       "      <td>2.80</td>\n",
       "      <td>3.24</td>\n",
       "      <td>0.30</td>\n",
       "      <td>2.81</td>\n",
       "      <td>5.680000</td>\n",
       "      <td>1.03</td>\n",
       "      <td>3.17</td>\n",
       "      <td>1185.0</td>\n",
       "    </tr>\n",
       "    <tr>\n",
       "      <th>3</th>\n",
       "      <td>14.37</td>\n",
       "      <td>1.95</td>\n",
       "      <td>2.50</td>\n",
       "      <td>16.8</td>\n",
       "      <td>113.0</td>\n",
       "      <td>3.85</td>\n",
       "      <td>3.49</td>\n",
       "      <td>0.24</td>\n",
       "      <td>2.18</td>\n",
       "      <td>7.800000</td>\n",
       "      <td>0.86</td>\n",
       "      <td>3.45</td>\n",
       "      <td>1480.0</td>\n",
       "    </tr>\n",
       "    <tr>\n",
       "      <th>4</th>\n",
       "      <td>13.24</td>\n",
       "      <td>2.59</td>\n",
       "      <td>2.87</td>\n",
       "      <td>21.0</td>\n",
       "      <td>118.0</td>\n",
       "      <td>2.80</td>\n",
       "      <td>2.69</td>\n",
       "      <td>0.39</td>\n",
       "      <td>1.82</td>\n",
       "      <td>4.320000</td>\n",
       "      <td>1.04</td>\n",
       "      <td>2.93</td>\n",
       "      <td>735.0</td>\n",
       "    </tr>\n",
       "    <tr>\n",
       "      <th>5</th>\n",
       "      <td>14.20</td>\n",
       "      <td>1.76</td>\n",
       "      <td>2.45</td>\n",
       "      <td>15.2</td>\n",
       "      <td>112.0</td>\n",
       "      <td>3.27</td>\n",
       "      <td>3.39</td>\n",
       "      <td>0.34</td>\n",
       "      <td>1.97</td>\n",
       "      <td>6.750000</td>\n",
       "      <td>1.05</td>\n",
       "      <td>2.85</td>\n",
       "      <td>1450.0</td>\n",
       "    </tr>\n",
       "    <tr>\n",
       "      <th>6</th>\n",
       "      <td>14.39</td>\n",
       "      <td>1.87</td>\n",
       "      <td>2.45</td>\n",
       "      <td>14.6</td>\n",
       "      <td>96.0</td>\n",
       "      <td>2.50</td>\n",
       "      <td>2.52</td>\n",
       "      <td>0.30</td>\n",
       "      <td>1.98</td>\n",
       "      <td>5.250000</td>\n",
       "      <td>1.02</td>\n",
       "      <td>3.58</td>\n",
       "      <td>1290.0</td>\n",
       "    </tr>\n",
       "    <tr>\n",
       "      <th>7</th>\n",
       "      <td>14.06</td>\n",
       "      <td>2.15</td>\n",
       "      <td>2.61</td>\n",
       "      <td>17.6</td>\n",
       "      <td>121.0</td>\n",
       "      <td>2.60</td>\n",
       "      <td>2.51</td>\n",
       "      <td>0.31</td>\n",
       "      <td>1.25</td>\n",
       "      <td>5.050000</td>\n",
       "      <td>1.06</td>\n",
       "      <td>3.58</td>\n",
       "      <td>1295.0</td>\n",
       "    </tr>\n",
       "    <tr>\n",
       "      <th>8</th>\n",
       "      <td>14.83</td>\n",
       "      <td>1.64</td>\n",
       "      <td>2.17</td>\n",
       "      <td>14.0</td>\n",
       "      <td>97.0</td>\n",
       "      <td>2.80</td>\n",
       "      <td>2.98</td>\n",
       "      <td>0.29</td>\n",
       "      <td>1.98</td>\n",
       "      <td>5.200000</td>\n",
       "      <td>1.08</td>\n",
       "      <td>2.85</td>\n",
       "      <td>1045.0</td>\n",
       "    </tr>\n",
       "    <tr>\n",
       "      <th>9</th>\n",
       "      <td>13.86</td>\n",
       "      <td>1.35</td>\n",
       "      <td>2.27</td>\n",
       "      <td>16.0</td>\n",
       "      <td>98.0</td>\n",
       "      <td>2.98</td>\n",
       "      <td>3.15</td>\n",
       "      <td>0.22</td>\n",
       "      <td>1.85</td>\n",
       "      <td>7.220000</td>\n",
       "      <td>1.01</td>\n",
       "      <td>3.55</td>\n",
       "      <td>1045.0</td>\n",
       "    </tr>\n",
       "    <tr>\n",
       "      <th>10</th>\n",
       "      <td>14.10</td>\n",
       "      <td>2.16</td>\n",
       "      <td>2.30</td>\n",
       "      <td>18.0</td>\n",
       "      <td>105.0</td>\n",
       "      <td>2.95</td>\n",
       "      <td>3.32</td>\n",
       "      <td>0.22</td>\n",
       "      <td>2.38</td>\n",
       "      <td>5.750000</td>\n",
       "      <td>1.25</td>\n",
       "      <td>3.17</td>\n",
       "      <td>1510.0</td>\n",
       "    </tr>\n",
       "    <tr>\n",
       "      <th>11</th>\n",
       "      <td>14.12</td>\n",
       "      <td>1.48</td>\n",
       "      <td>2.32</td>\n",
       "      <td>16.8</td>\n",
       "      <td>95.0</td>\n",
       "      <td>2.20</td>\n",
       "      <td>2.43</td>\n",
       "      <td>0.26</td>\n",
       "      <td>1.57</td>\n",
       "      <td>5.000000</td>\n",
       "      <td>1.17</td>\n",
       "      <td>2.82</td>\n",
       "      <td>1280.0</td>\n",
       "    </tr>\n",
       "    <tr>\n",
       "      <th>12</th>\n",
       "      <td>13.75</td>\n",
       "      <td>1.73</td>\n",
       "      <td>2.41</td>\n",
       "      <td>16.0</td>\n",
       "      <td>89.0</td>\n",
       "      <td>2.60</td>\n",
       "      <td>2.76</td>\n",
       "      <td>0.29</td>\n",
       "      <td>1.81</td>\n",
       "      <td>5.600000</td>\n",
       "      <td>1.15</td>\n",
       "      <td>2.90</td>\n",
       "      <td>1320.0</td>\n",
       "    </tr>\n",
       "    <tr>\n",
       "      <th>13</th>\n",
       "      <td>14.75</td>\n",
       "      <td>1.73</td>\n",
       "      <td>2.39</td>\n",
       "      <td>11.4</td>\n",
       "      <td>91.0</td>\n",
       "      <td>3.10</td>\n",
       "      <td>3.69</td>\n",
       "      <td>0.43</td>\n",
       "      <td>2.81</td>\n",
       "      <td>5.400000</td>\n",
       "      <td>1.25</td>\n",
       "      <td>2.73</td>\n",
       "      <td>1150.0</td>\n",
       "    </tr>\n",
       "    <tr>\n",
       "      <th>14</th>\n",
       "      <td>14.38</td>\n",
       "      <td>1.87</td>\n",
       "      <td>2.38</td>\n",
       "      <td>12.0</td>\n",
       "      <td>102.0</td>\n",
       "      <td>3.30</td>\n",
       "      <td>3.64</td>\n",
       "      <td>0.29</td>\n",
       "      <td>2.96</td>\n",
       "      <td>7.500000</td>\n",
       "      <td>1.20</td>\n",
       "      <td>3.00</td>\n",
       "      <td>1547.0</td>\n",
       "    </tr>\n",
       "    <tr>\n",
       "      <th>15</th>\n",
       "      <td>13.63</td>\n",
       "      <td>1.81</td>\n",
       "      <td>2.70</td>\n",
       "      <td>17.2</td>\n",
       "      <td>112.0</td>\n",
       "      <td>2.85</td>\n",
       "      <td>2.91</td>\n",
       "      <td>0.30</td>\n",
       "      <td>1.46</td>\n",
       "      <td>7.300000</td>\n",
       "      <td>1.28</td>\n",
       "      <td>2.88</td>\n",
       "      <td>1310.0</td>\n",
       "    </tr>\n",
       "    <tr>\n",
       "      <th>16</th>\n",
       "      <td>14.30</td>\n",
       "      <td>1.92</td>\n",
       "      <td>2.72</td>\n",
       "      <td>20.0</td>\n",
       "      <td>120.0</td>\n",
       "      <td>2.80</td>\n",
       "      <td>3.14</td>\n",
       "      <td>0.33</td>\n",
       "      <td>1.97</td>\n",
       "      <td>6.200000</td>\n",
       "      <td>1.07</td>\n",
       "      <td>2.65</td>\n",
       "      <td>1280.0</td>\n",
       "    </tr>\n",
       "    <tr>\n",
       "      <th>17</th>\n",
       "      <td>13.83</td>\n",
       "      <td>1.57</td>\n",
       "      <td>2.62</td>\n",
       "      <td>20.0</td>\n",
       "      <td>115.0</td>\n",
       "      <td>2.95</td>\n",
       "      <td>3.40</td>\n",
       "      <td>0.40</td>\n",
       "      <td>1.72</td>\n",
       "      <td>6.600000</td>\n",
       "      <td>1.13</td>\n",
       "      <td>2.57</td>\n",
       "      <td>1130.0</td>\n",
       "    </tr>\n",
       "    <tr>\n",
       "      <th>18</th>\n",
       "      <td>14.19</td>\n",
       "      <td>1.59</td>\n",
       "      <td>2.48</td>\n",
       "      <td>16.5</td>\n",
       "      <td>108.0</td>\n",
       "      <td>3.30</td>\n",
       "      <td>3.93</td>\n",
       "      <td>0.32</td>\n",
       "      <td>1.86</td>\n",
       "      <td>8.700000</td>\n",
       "      <td>1.23</td>\n",
       "      <td>2.82</td>\n",
       "      <td>1680.0</td>\n",
       "    </tr>\n",
       "    <tr>\n",
       "      <th>19</th>\n",
       "      <td>13.64</td>\n",
       "      <td>3.10</td>\n",
       "      <td>2.56</td>\n",
       "      <td>15.2</td>\n",
       "      <td>116.0</td>\n",
       "      <td>2.70</td>\n",
       "      <td>3.03</td>\n",
       "      <td>0.17</td>\n",
       "      <td>1.66</td>\n",
       "      <td>5.100000</td>\n",
       "      <td>0.96</td>\n",
       "      <td>3.36</td>\n",
       "      <td>845.0</td>\n",
       "    </tr>\n",
       "    <tr>\n",
       "      <th>20</th>\n",
       "      <td>14.06</td>\n",
       "      <td>1.63</td>\n",
       "      <td>2.28</td>\n",
       "      <td>16.0</td>\n",
       "      <td>126.0</td>\n",
       "      <td>3.00</td>\n",
       "      <td>3.17</td>\n",
       "      <td>0.24</td>\n",
       "      <td>2.10</td>\n",
       "      <td>5.650000</td>\n",
       "      <td>1.09</td>\n",
       "      <td>3.71</td>\n",
       "      <td>780.0</td>\n",
       "    </tr>\n",
       "    <tr>\n",
       "      <th>21</th>\n",
       "      <td>12.93</td>\n",
       "      <td>3.80</td>\n",
       "      <td>2.65</td>\n",
       "      <td>18.6</td>\n",
       "      <td>102.0</td>\n",
       "      <td>2.41</td>\n",
       "      <td>2.41</td>\n",
       "      <td>0.25</td>\n",
       "      <td>1.98</td>\n",
       "      <td>4.500000</td>\n",
       "      <td>1.03</td>\n",
       "      <td>3.52</td>\n",
       "      <td>770.0</td>\n",
       "    </tr>\n",
       "    <tr>\n",
       "      <th>22</th>\n",
       "      <td>13.71</td>\n",
       "      <td>1.86</td>\n",
       "      <td>2.36</td>\n",
       "      <td>16.6</td>\n",
       "      <td>101.0</td>\n",
       "      <td>2.61</td>\n",
       "      <td>2.88</td>\n",
       "      <td>0.27</td>\n",
       "      <td>1.69</td>\n",
       "      <td>3.800000</td>\n",
       "      <td>1.11</td>\n",
       "      <td>4.00</td>\n",
       "      <td>1035.0</td>\n",
       "    </tr>\n",
       "    <tr>\n",
       "      <th>23</th>\n",
       "      <td>12.85</td>\n",
       "      <td>1.60</td>\n",
       "      <td>2.52</td>\n",
       "      <td>17.8</td>\n",
       "      <td>95.0</td>\n",
       "      <td>2.48</td>\n",
       "      <td>2.37</td>\n",
       "      <td>0.26</td>\n",
       "      <td>1.46</td>\n",
       "      <td>3.930000</td>\n",
       "      <td>1.09</td>\n",
       "      <td>3.63</td>\n",
       "      <td>1015.0</td>\n",
       "    </tr>\n",
       "    <tr>\n",
       "      <th>24</th>\n",
       "      <td>13.50</td>\n",
       "      <td>1.81</td>\n",
       "      <td>2.61</td>\n",
       "      <td>20.0</td>\n",
       "      <td>96.0</td>\n",
       "      <td>2.53</td>\n",
       "      <td>2.61</td>\n",
       "      <td>0.28</td>\n",
       "      <td>1.66</td>\n",
       "      <td>3.520000</td>\n",
       "      <td>1.12</td>\n",
       "      <td>3.82</td>\n",
       "      <td>845.0</td>\n",
       "    </tr>\n",
       "    <tr>\n",
       "      <th>25</th>\n",
       "      <td>13.05</td>\n",
       "      <td>2.05</td>\n",
       "      <td>3.22</td>\n",
       "      <td>25.0</td>\n",
       "      <td>124.0</td>\n",
       "      <td>2.63</td>\n",
       "      <td>2.68</td>\n",
       "      <td>0.47</td>\n",
       "      <td>1.92</td>\n",
       "      <td>3.580000</td>\n",
       "      <td>1.13</td>\n",
       "      <td>3.20</td>\n",
       "      <td>830.0</td>\n",
       "    </tr>\n",
       "    <tr>\n",
       "      <th>26</th>\n",
       "      <td>13.39</td>\n",
       "      <td>1.77</td>\n",
       "      <td>2.62</td>\n",
       "      <td>16.1</td>\n",
       "      <td>93.0</td>\n",
       "      <td>2.85</td>\n",
       "      <td>2.94</td>\n",
       "      <td>0.34</td>\n",
       "      <td>1.45</td>\n",
       "      <td>4.800000</td>\n",
       "      <td>0.92</td>\n",
       "      <td>3.22</td>\n",
       "      <td>1195.0</td>\n",
       "    </tr>\n",
       "    <tr>\n",
       "      <th>27</th>\n",
       "      <td>13.30</td>\n",
       "      <td>1.72</td>\n",
       "      <td>2.14</td>\n",
       "      <td>17.0</td>\n",
       "      <td>94.0</td>\n",
       "      <td>2.40</td>\n",
       "      <td>2.19</td>\n",
       "      <td>0.27</td>\n",
       "      <td>1.35</td>\n",
       "      <td>3.950000</td>\n",
       "      <td>1.02</td>\n",
       "      <td>2.77</td>\n",
       "      <td>1285.0</td>\n",
       "    </tr>\n",
       "    <tr>\n",
       "      <th>28</th>\n",
       "      <td>13.87</td>\n",
       "      <td>1.90</td>\n",
       "      <td>2.80</td>\n",
       "      <td>19.4</td>\n",
       "      <td>107.0</td>\n",
       "      <td>2.95</td>\n",
       "      <td>2.97</td>\n",
       "      <td>0.37</td>\n",
       "      <td>1.76</td>\n",
       "      <td>4.500000</td>\n",
       "      <td>1.25</td>\n",
       "      <td>3.40</td>\n",
       "      <td>915.0</td>\n",
       "    </tr>\n",
       "    <tr>\n",
       "      <th>29</th>\n",
       "      <td>14.02</td>\n",
       "      <td>1.68</td>\n",
       "      <td>2.21</td>\n",
       "      <td>16.0</td>\n",
       "      <td>96.0</td>\n",
       "      <td>2.65</td>\n",
       "      <td>2.33</td>\n",
       "      <td>0.26</td>\n",
       "      <td>1.98</td>\n",
       "      <td>4.700000</td>\n",
       "      <td>1.04</td>\n",
       "      <td>3.59</td>\n",
       "      <td>1035.0</td>\n",
       "    </tr>\n",
       "    <tr>\n",
       "      <th>...</th>\n",
       "      <td>...</td>\n",
       "      <td>...</td>\n",
       "      <td>...</td>\n",
       "      <td>...</td>\n",
       "      <td>...</td>\n",
       "      <td>...</td>\n",
       "      <td>...</td>\n",
       "      <td>...</td>\n",
       "      <td>...</td>\n",
       "      <td>...</td>\n",
       "      <td>...</td>\n",
       "      <td>...</td>\n",
       "      <td>...</td>\n",
       "    </tr>\n",
       "    <tr>\n",
       "      <th>148</th>\n",
       "      <td>13.32</td>\n",
       "      <td>3.24</td>\n",
       "      <td>2.38</td>\n",
       "      <td>21.5</td>\n",
       "      <td>92.0</td>\n",
       "      <td>1.93</td>\n",
       "      <td>0.76</td>\n",
       "      <td>0.45</td>\n",
       "      <td>1.25</td>\n",
       "      <td>8.420000</td>\n",
       "      <td>0.55</td>\n",
       "      <td>1.62</td>\n",
       "      <td>650.0</td>\n",
       "    </tr>\n",
       "    <tr>\n",
       "      <th>149</th>\n",
       "      <td>13.08</td>\n",
       "      <td>3.90</td>\n",
       "      <td>2.36</td>\n",
       "      <td>21.5</td>\n",
       "      <td>113.0</td>\n",
       "      <td>1.41</td>\n",
       "      <td>1.39</td>\n",
       "      <td>0.34</td>\n",
       "      <td>1.14</td>\n",
       "      <td>9.400000</td>\n",
       "      <td>0.57</td>\n",
       "      <td>1.33</td>\n",
       "      <td>550.0</td>\n",
       "    </tr>\n",
       "    <tr>\n",
       "      <th>150</th>\n",
       "      <td>13.50</td>\n",
       "      <td>3.12</td>\n",
       "      <td>2.62</td>\n",
       "      <td>24.0</td>\n",
       "      <td>123.0</td>\n",
       "      <td>1.40</td>\n",
       "      <td>1.57</td>\n",
       "      <td>0.22</td>\n",
       "      <td>1.25</td>\n",
       "      <td>8.600000</td>\n",
       "      <td>0.59</td>\n",
       "      <td>1.30</td>\n",
       "      <td>500.0</td>\n",
       "    </tr>\n",
       "    <tr>\n",
       "      <th>151</th>\n",
       "      <td>12.79</td>\n",
       "      <td>2.67</td>\n",
       "      <td>2.48</td>\n",
       "      <td>22.0</td>\n",
       "      <td>112.0</td>\n",
       "      <td>1.48</td>\n",
       "      <td>1.36</td>\n",
       "      <td>0.24</td>\n",
       "      <td>1.26</td>\n",
       "      <td>10.800000</td>\n",
       "      <td>0.48</td>\n",
       "      <td>1.47</td>\n",
       "      <td>480.0</td>\n",
       "    </tr>\n",
       "    <tr>\n",
       "      <th>152</th>\n",
       "      <td>13.11</td>\n",
       "      <td>1.90</td>\n",
       "      <td>2.75</td>\n",
       "      <td>25.5</td>\n",
       "      <td>116.0</td>\n",
       "      <td>2.20</td>\n",
       "      <td>1.28</td>\n",
       "      <td>0.26</td>\n",
       "      <td>1.56</td>\n",
       "      <td>7.100000</td>\n",
       "      <td>0.61</td>\n",
       "      <td>1.33</td>\n",
       "      <td>425.0</td>\n",
       "    </tr>\n",
       "    <tr>\n",
       "      <th>153</th>\n",
       "      <td>13.23</td>\n",
       "      <td>3.30</td>\n",
       "      <td>2.28</td>\n",
       "      <td>18.5</td>\n",
       "      <td>98.0</td>\n",
       "      <td>1.80</td>\n",
       "      <td>0.83</td>\n",
       "      <td>0.61</td>\n",
       "      <td>1.87</td>\n",
       "      <td>10.520000</td>\n",
       "      <td>0.56</td>\n",
       "      <td>1.51</td>\n",
       "      <td>675.0</td>\n",
       "    </tr>\n",
       "    <tr>\n",
       "      <th>154</th>\n",
       "      <td>12.58</td>\n",
       "      <td>1.29</td>\n",
       "      <td>2.10</td>\n",
       "      <td>20.0</td>\n",
       "      <td>103.0</td>\n",
       "      <td>1.48</td>\n",
       "      <td>0.58</td>\n",
       "      <td>0.53</td>\n",
       "      <td>1.40</td>\n",
       "      <td>7.600000</td>\n",
       "      <td>0.58</td>\n",
       "      <td>1.55</td>\n",
       "      <td>640.0</td>\n",
       "    </tr>\n",
       "    <tr>\n",
       "      <th>155</th>\n",
       "      <td>13.17</td>\n",
       "      <td>5.19</td>\n",
       "      <td>2.32</td>\n",
       "      <td>22.0</td>\n",
       "      <td>93.0</td>\n",
       "      <td>1.74</td>\n",
       "      <td>0.63</td>\n",
       "      <td>0.61</td>\n",
       "      <td>1.55</td>\n",
       "      <td>7.900000</td>\n",
       "      <td>0.60</td>\n",
       "      <td>1.48</td>\n",
       "      <td>725.0</td>\n",
       "    </tr>\n",
       "    <tr>\n",
       "      <th>156</th>\n",
       "      <td>13.84</td>\n",
       "      <td>4.12</td>\n",
       "      <td>2.38</td>\n",
       "      <td>19.5</td>\n",
       "      <td>89.0</td>\n",
       "      <td>1.80</td>\n",
       "      <td>0.83</td>\n",
       "      <td>0.48</td>\n",
       "      <td>1.56</td>\n",
       "      <td>9.010000</td>\n",
       "      <td>0.57</td>\n",
       "      <td>1.64</td>\n",
       "      <td>480.0</td>\n",
       "    </tr>\n",
       "    <tr>\n",
       "      <th>157</th>\n",
       "      <td>12.45</td>\n",
       "      <td>3.03</td>\n",
       "      <td>2.64</td>\n",
       "      <td>27.0</td>\n",
       "      <td>97.0</td>\n",
       "      <td>1.90</td>\n",
       "      <td>0.58</td>\n",
       "      <td>0.63</td>\n",
       "      <td>1.14</td>\n",
       "      <td>7.500000</td>\n",
       "      <td>0.67</td>\n",
       "      <td>1.73</td>\n",
       "      <td>880.0</td>\n",
       "    </tr>\n",
       "    <tr>\n",
       "      <th>158</th>\n",
       "      <td>14.34</td>\n",
       "      <td>1.68</td>\n",
       "      <td>2.70</td>\n",
       "      <td>25.0</td>\n",
       "      <td>98.0</td>\n",
       "      <td>2.80</td>\n",
       "      <td>1.31</td>\n",
       "      <td>0.53</td>\n",
       "      <td>2.70</td>\n",
       "      <td>13.000000</td>\n",
       "      <td>0.57</td>\n",
       "      <td>1.96</td>\n",
       "      <td>660.0</td>\n",
       "    </tr>\n",
       "    <tr>\n",
       "      <th>159</th>\n",
       "      <td>13.48</td>\n",
       "      <td>1.67</td>\n",
       "      <td>2.64</td>\n",
       "      <td>22.5</td>\n",
       "      <td>89.0</td>\n",
       "      <td>2.60</td>\n",
       "      <td>1.10</td>\n",
       "      <td>0.52</td>\n",
       "      <td>2.29</td>\n",
       "      <td>11.750000</td>\n",
       "      <td>0.57</td>\n",
       "      <td>1.78</td>\n",
       "      <td>620.0</td>\n",
       "    </tr>\n",
       "    <tr>\n",
       "      <th>160</th>\n",
       "      <td>12.36</td>\n",
       "      <td>3.83</td>\n",
       "      <td>2.38</td>\n",
       "      <td>21.0</td>\n",
       "      <td>88.0</td>\n",
       "      <td>2.30</td>\n",
       "      <td>0.92</td>\n",
       "      <td>0.50</td>\n",
       "      <td>1.04</td>\n",
       "      <td>7.650000</td>\n",
       "      <td>0.56</td>\n",
       "      <td>1.58</td>\n",
       "      <td>520.0</td>\n",
       "    </tr>\n",
       "    <tr>\n",
       "      <th>161</th>\n",
       "      <td>13.69</td>\n",
       "      <td>3.26</td>\n",
       "      <td>2.54</td>\n",
       "      <td>20.0</td>\n",
       "      <td>107.0</td>\n",
       "      <td>1.83</td>\n",
       "      <td>0.56</td>\n",
       "      <td>0.50</td>\n",
       "      <td>0.80</td>\n",
       "      <td>5.880000</td>\n",
       "      <td>0.96</td>\n",
       "      <td>1.82</td>\n",
       "      <td>680.0</td>\n",
       "    </tr>\n",
       "    <tr>\n",
       "      <th>162</th>\n",
       "      <td>12.85</td>\n",
       "      <td>3.27</td>\n",
       "      <td>2.58</td>\n",
       "      <td>22.0</td>\n",
       "      <td>106.0</td>\n",
       "      <td>1.65</td>\n",
       "      <td>0.60</td>\n",
       "      <td>0.60</td>\n",
       "      <td>0.96</td>\n",
       "      <td>5.580000</td>\n",
       "      <td>0.87</td>\n",
       "      <td>2.11</td>\n",
       "      <td>570.0</td>\n",
       "    </tr>\n",
       "    <tr>\n",
       "      <th>163</th>\n",
       "      <td>12.96</td>\n",
       "      <td>3.45</td>\n",
       "      <td>2.35</td>\n",
       "      <td>18.5</td>\n",
       "      <td>106.0</td>\n",
       "      <td>1.39</td>\n",
       "      <td>0.70</td>\n",
       "      <td>0.40</td>\n",
       "      <td>0.94</td>\n",
       "      <td>5.280000</td>\n",
       "      <td>0.68</td>\n",
       "      <td>1.75</td>\n",
       "      <td>675.0</td>\n",
       "    </tr>\n",
       "    <tr>\n",
       "      <th>164</th>\n",
       "      <td>13.78</td>\n",
       "      <td>2.76</td>\n",
       "      <td>2.30</td>\n",
       "      <td>22.0</td>\n",
       "      <td>90.0</td>\n",
       "      <td>1.35</td>\n",
       "      <td>0.68</td>\n",
       "      <td>0.41</td>\n",
       "      <td>1.03</td>\n",
       "      <td>9.580000</td>\n",
       "      <td>0.70</td>\n",
       "      <td>1.68</td>\n",
       "      <td>615.0</td>\n",
       "    </tr>\n",
       "    <tr>\n",
       "      <th>165</th>\n",
       "      <td>13.73</td>\n",
       "      <td>4.36</td>\n",
       "      <td>2.26</td>\n",
       "      <td>22.5</td>\n",
       "      <td>88.0</td>\n",
       "      <td>1.28</td>\n",
       "      <td>0.47</td>\n",
       "      <td>0.52</td>\n",
       "      <td>1.15</td>\n",
       "      <td>6.620000</td>\n",
       "      <td>0.78</td>\n",
       "      <td>1.75</td>\n",
       "      <td>520.0</td>\n",
       "    </tr>\n",
       "    <tr>\n",
       "      <th>166</th>\n",
       "      <td>13.45</td>\n",
       "      <td>3.70</td>\n",
       "      <td>2.60</td>\n",
       "      <td>23.0</td>\n",
       "      <td>111.0</td>\n",
       "      <td>1.70</td>\n",
       "      <td>0.92</td>\n",
       "      <td>0.43</td>\n",
       "      <td>1.46</td>\n",
       "      <td>10.680000</td>\n",
       "      <td>0.85</td>\n",
       "      <td>1.56</td>\n",
       "      <td>695.0</td>\n",
       "    </tr>\n",
       "    <tr>\n",
       "      <th>167</th>\n",
       "      <td>12.82</td>\n",
       "      <td>3.37</td>\n",
       "      <td>2.30</td>\n",
       "      <td>19.5</td>\n",
       "      <td>88.0</td>\n",
       "      <td>1.48</td>\n",
       "      <td>0.66</td>\n",
       "      <td>0.40</td>\n",
       "      <td>0.97</td>\n",
       "      <td>10.260000</td>\n",
       "      <td>0.72</td>\n",
       "      <td>1.75</td>\n",
       "      <td>685.0</td>\n",
       "    </tr>\n",
       "    <tr>\n",
       "      <th>168</th>\n",
       "      <td>13.58</td>\n",
       "      <td>2.58</td>\n",
       "      <td>2.69</td>\n",
       "      <td>24.5</td>\n",
       "      <td>105.0</td>\n",
       "      <td>1.55</td>\n",
       "      <td>0.84</td>\n",
       "      <td>0.39</td>\n",
       "      <td>1.54</td>\n",
       "      <td>8.660000</td>\n",
       "      <td>0.74</td>\n",
       "      <td>1.80</td>\n",
       "      <td>750.0</td>\n",
       "    </tr>\n",
       "    <tr>\n",
       "      <th>169</th>\n",
       "      <td>13.40</td>\n",
       "      <td>4.60</td>\n",
       "      <td>2.86</td>\n",
       "      <td>25.0</td>\n",
       "      <td>112.0</td>\n",
       "      <td>1.98</td>\n",
       "      <td>0.96</td>\n",
       "      <td>0.27</td>\n",
       "      <td>1.11</td>\n",
       "      <td>8.500000</td>\n",
       "      <td>0.67</td>\n",
       "      <td>1.92</td>\n",
       "      <td>630.0</td>\n",
       "    </tr>\n",
       "    <tr>\n",
       "      <th>170</th>\n",
       "      <td>12.20</td>\n",
       "      <td>3.03</td>\n",
       "      <td>2.32</td>\n",
       "      <td>19.0</td>\n",
       "      <td>96.0</td>\n",
       "      <td>1.25</td>\n",
       "      <td>0.49</td>\n",
       "      <td>0.40</td>\n",
       "      <td>0.73</td>\n",
       "      <td>5.500000</td>\n",
       "      <td>0.66</td>\n",
       "      <td>1.83</td>\n",
       "      <td>510.0</td>\n",
       "    </tr>\n",
       "    <tr>\n",
       "      <th>171</th>\n",
       "      <td>12.77</td>\n",
       "      <td>2.39</td>\n",
       "      <td>2.28</td>\n",
       "      <td>19.5</td>\n",
       "      <td>86.0</td>\n",
       "      <td>1.39</td>\n",
       "      <td>0.51</td>\n",
       "      <td>0.48</td>\n",
       "      <td>0.64</td>\n",
       "      <td>9.899999</td>\n",
       "      <td>0.57</td>\n",
       "      <td>1.63</td>\n",
       "      <td>470.0</td>\n",
       "    </tr>\n",
       "    <tr>\n",
       "      <th>172</th>\n",
       "      <td>14.16</td>\n",
       "      <td>2.51</td>\n",
       "      <td>2.48</td>\n",
       "      <td>20.0</td>\n",
       "      <td>91.0</td>\n",
       "      <td>1.68</td>\n",
       "      <td>0.70</td>\n",
       "      <td>0.44</td>\n",
       "      <td>1.24</td>\n",
       "      <td>9.700000</td>\n",
       "      <td>0.62</td>\n",
       "      <td>1.71</td>\n",
       "      <td>660.0</td>\n",
       "    </tr>\n",
       "    <tr>\n",
       "      <th>173</th>\n",
       "      <td>13.71</td>\n",
       "      <td>5.65</td>\n",
       "      <td>2.45</td>\n",
       "      <td>20.5</td>\n",
       "      <td>95.0</td>\n",
       "      <td>1.68</td>\n",
       "      <td>0.61</td>\n",
       "      <td>0.52</td>\n",
       "      <td>1.06</td>\n",
       "      <td>7.700000</td>\n",
       "      <td>0.64</td>\n",
       "      <td>1.74</td>\n",
       "      <td>740.0</td>\n",
       "    </tr>\n",
       "    <tr>\n",
       "      <th>174</th>\n",
       "      <td>13.40</td>\n",
       "      <td>3.91</td>\n",
       "      <td>2.48</td>\n",
       "      <td>23.0</td>\n",
       "      <td>102.0</td>\n",
       "      <td>1.80</td>\n",
       "      <td>0.75</td>\n",
       "      <td>0.43</td>\n",
       "      <td>1.41</td>\n",
       "      <td>7.300000</td>\n",
       "      <td>0.70</td>\n",
       "      <td>1.56</td>\n",
       "      <td>750.0</td>\n",
       "    </tr>\n",
       "    <tr>\n",
       "      <th>175</th>\n",
       "      <td>13.27</td>\n",
       "      <td>4.28</td>\n",
       "      <td>2.26</td>\n",
       "      <td>20.0</td>\n",
       "      <td>120.0</td>\n",
       "      <td>1.59</td>\n",
       "      <td>0.69</td>\n",
       "      <td>0.43</td>\n",
       "      <td>1.35</td>\n",
       "      <td>10.200000</td>\n",
       "      <td>0.59</td>\n",
       "      <td>1.56</td>\n",
       "      <td>835.0</td>\n",
       "    </tr>\n",
       "    <tr>\n",
       "      <th>176</th>\n",
       "      <td>13.17</td>\n",
       "      <td>2.59</td>\n",
       "      <td>2.37</td>\n",
       "      <td>20.0</td>\n",
       "      <td>120.0</td>\n",
       "      <td>1.65</td>\n",
       "      <td>0.68</td>\n",
       "      <td>0.53</td>\n",
       "      <td>1.46</td>\n",
       "      <td>9.300000</td>\n",
       "      <td>0.60</td>\n",
       "      <td>1.62</td>\n",
       "      <td>840.0</td>\n",
       "    </tr>\n",
       "    <tr>\n",
       "      <th>177</th>\n",
       "      <td>14.13</td>\n",
       "      <td>4.10</td>\n",
       "      <td>2.74</td>\n",
       "      <td>24.5</td>\n",
       "      <td>96.0</td>\n",
       "      <td>2.05</td>\n",
       "      <td>0.76</td>\n",
       "      <td>0.56</td>\n",
       "      <td>1.35</td>\n",
       "      <td>9.200000</td>\n",
       "      <td>0.61</td>\n",
       "      <td>1.60</td>\n",
       "      <td>560.0</td>\n",
       "    </tr>\n",
       "  </tbody>\n",
       "</table>\n",
       "<p>178 rows × 13 columns</p>\n",
       "</div>"
      ],
      "text/plain": [
       "     alcohol  malic_acid   ash  alcalinity_of_ash  magnesium  total_phenols  \\\n",
       "0      14.23        1.71  2.43               15.6      127.0           2.80   \n",
       "1      13.20        1.78  2.14               11.2      100.0           2.65   \n",
       "2      13.16        2.36  2.67               18.6      101.0           2.80   \n",
       "3      14.37        1.95  2.50               16.8      113.0           3.85   \n",
       "4      13.24        2.59  2.87               21.0      118.0           2.80   \n",
       "5      14.20        1.76  2.45               15.2      112.0           3.27   \n",
       "6      14.39        1.87  2.45               14.6       96.0           2.50   \n",
       "7      14.06        2.15  2.61               17.6      121.0           2.60   \n",
       "8      14.83        1.64  2.17               14.0       97.0           2.80   \n",
       "9      13.86        1.35  2.27               16.0       98.0           2.98   \n",
       "10     14.10        2.16  2.30               18.0      105.0           2.95   \n",
       "11     14.12        1.48  2.32               16.8       95.0           2.20   \n",
       "12     13.75        1.73  2.41               16.0       89.0           2.60   \n",
       "13     14.75        1.73  2.39               11.4       91.0           3.10   \n",
       "14     14.38        1.87  2.38               12.0      102.0           3.30   \n",
       "15     13.63        1.81  2.70               17.2      112.0           2.85   \n",
       "16     14.30        1.92  2.72               20.0      120.0           2.80   \n",
       "17     13.83        1.57  2.62               20.0      115.0           2.95   \n",
       "18     14.19        1.59  2.48               16.5      108.0           3.30   \n",
       "19     13.64        3.10  2.56               15.2      116.0           2.70   \n",
       "20     14.06        1.63  2.28               16.0      126.0           3.00   \n",
       "21     12.93        3.80  2.65               18.6      102.0           2.41   \n",
       "22     13.71        1.86  2.36               16.6      101.0           2.61   \n",
       "23     12.85        1.60  2.52               17.8       95.0           2.48   \n",
       "24     13.50        1.81  2.61               20.0       96.0           2.53   \n",
       "25     13.05        2.05  3.22               25.0      124.0           2.63   \n",
       "26     13.39        1.77  2.62               16.1       93.0           2.85   \n",
       "27     13.30        1.72  2.14               17.0       94.0           2.40   \n",
       "28     13.87        1.90  2.80               19.4      107.0           2.95   \n",
       "29     14.02        1.68  2.21               16.0       96.0           2.65   \n",
       "..       ...         ...   ...                ...        ...            ...   \n",
       "148    13.32        3.24  2.38               21.5       92.0           1.93   \n",
       "149    13.08        3.90  2.36               21.5      113.0           1.41   \n",
       "150    13.50        3.12  2.62               24.0      123.0           1.40   \n",
       "151    12.79        2.67  2.48               22.0      112.0           1.48   \n",
       "152    13.11        1.90  2.75               25.5      116.0           2.20   \n",
       "153    13.23        3.30  2.28               18.5       98.0           1.80   \n",
       "154    12.58        1.29  2.10               20.0      103.0           1.48   \n",
       "155    13.17        5.19  2.32               22.0       93.0           1.74   \n",
       "156    13.84        4.12  2.38               19.5       89.0           1.80   \n",
       "157    12.45        3.03  2.64               27.0       97.0           1.90   \n",
       "158    14.34        1.68  2.70               25.0       98.0           2.80   \n",
       "159    13.48        1.67  2.64               22.5       89.0           2.60   \n",
       "160    12.36        3.83  2.38               21.0       88.0           2.30   \n",
       "161    13.69        3.26  2.54               20.0      107.0           1.83   \n",
       "162    12.85        3.27  2.58               22.0      106.0           1.65   \n",
       "163    12.96        3.45  2.35               18.5      106.0           1.39   \n",
       "164    13.78        2.76  2.30               22.0       90.0           1.35   \n",
       "165    13.73        4.36  2.26               22.5       88.0           1.28   \n",
       "166    13.45        3.70  2.60               23.0      111.0           1.70   \n",
       "167    12.82        3.37  2.30               19.5       88.0           1.48   \n",
       "168    13.58        2.58  2.69               24.5      105.0           1.55   \n",
       "169    13.40        4.60  2.86               25.0      112.0           1.98   \n",
       "170    12.20        3.03  2.32               19.0       96.0           1.25   \n",
       "171    12.77        2.39  2.28               19.5       86.0           1.39   \n",
       "172    14.16        2.51  2.48               20.0       91.0           1.68   \n",
       "173    13.71        5.65  2.45               20.5       95.0           1.68   \n",
       "174    13.40        3.91  2.48               23.0      102.0           1.80   \n",
       "175    13.27        4.28  2.26               20.0      120.0           1.59   \n",
       "176    13.17        2.59  2.37               20.0      120.0           1.65   \n",
       "177    14.13        4.10  2.74               24.5       96.0           2.05   \n",
       "\n",
       "     flavanoids  nonflavanoid_phenols  proanthocyanins  color_intensity   hue  \\\n",
       "0          3.06                  0.28             2.29         5.640000  1.04   \n",
       "1          2.76                  0.26             1.28         4.380000  1.05   \n",
       "2          3.24                  0.30             2.81         5.680000  1.03   \n",
       "3          3.49                  0.24             2.18         7.800000  0.86   \n",
       "4          2.69                  0.39             1.82         4.320000  1.04   \n",
       "5          3.39                  0.34             1.97         6.750000  1.05   \n",
       "6          2.52                  0.30             1.98         5.250000  1.02   \n",
       "7          2.51                  0.31             1.25         5.050000  1.06   \n",
       "8          2.98                  0.29             1.98         5.200000  1.08   \n",
       "9          3.15                  0.22             1.85         7.220000  1.01   \n",
       "10         3.32                  0.22             2.38         5.750000  1.25   \n",
       "11         2.43                  0.26             1.57         5.000000  1.17   \n",
       "12         2.76                  0.29             1.81         5.600000  1.15   \n",
       "13         3.69                  0.43             2.81         5.400000  1.25   \n",
       "14         3.64                  0.29             2.96         7.500000  1.20   \n",
       "15         2.91                  0.30             1.46         7.300000  1.28   \n",
       "16         3.14                  0.33             1.97         6.200000  1.07   \n",
       "17         3.40                  0.40             1.72         6.600000  1.13   \n",
       "18         3.93                  0.32             1.86         8.700000  1.23   \n",
       "19         3.03                  0.17             1.66         5.100000  0.96   \n",
       "20         3.17                  0.24             2.10         5.650000  1.09   \n",
       "21         2.41                  0.25             1.98         4.500000  1.03   \n",
       "22         2.88                  0.27             1.69         3.800000  1.11   \n",
       "23         2.37                  0.26             1.46         3.930000  1.09   \n",
       "24         2.61                  0.28             1.66         3.520000  1.12   \n",
       "25         2.68                  0.47             1.92         3.580000  1.13   \n",
       "26         2.94                  0.34             1.45         4.800000  0.92   \n",
       "27         2.19                  0.27             1.35         3.950000  1.02   \n",
       "28         2.97                  0.37             1.76         4.500000  1.25   \n",
       "29         2.33                  0.26             1.98         4.700000  1.04   \n",
       "..          ...                   ...              ...              ...   ...   \n",
       "148        0.76                  0.45             1.25         8.420000  0.55   \n",
       "149        1.39                  0.34             1.14         9.400000  0.57   \n",
       "150        1.57                  0.22             1.25         8.600000  0.59   \n",
       "151        1.36                  0.24             1.26        10.800000  0.48   \n",
       "152        1.28                  0.26             1.56         7.100000  0.61   \n",
       "153        0.83                  0.61             1.87        10.520000  0.56   \n",
       "154        0.58                  0.53             1.40         7.600000  0.58   \n",
       "155        0.63                  0.61             1.55         7.900000  0.60   \n",
       "156        0.83                  0.48             1.56         9.010000  0.57   \n",
       "157        0.58                  0.63             1.14         7.500000  0.67   \n",
       "158        1.31                  0.53             2.70        13.000000  0.57   \n",
       "159        1.10                  0.52             2.29        11.750000  0.57   \n",
       "160        0.92                  0.50             1.04         7.650000  0.56   \n",
       "161        0.56                  0.50             0.80         5.880000  0.96   \n",
       "162        0.60                  0.60             0.96         5.580000  0.87   \n",
       "163        0.70                  0.40             0.94         5.280000  0.68   \n",
       "164        0.68                  0.41             1.03         9.580000  0.70   \n",
       "165        0.47                  0.52             1.15         6.620000  0.78   \n",
       "166        0.92                  0.43             1.46        10.680000  0.85   \n",
       "167        0.66                  0.40             0.97        10.260000  0.72   \n",
       "168        0.84                  0.39             1.54         8.660000  0.74   \n",
       "169        0.96                  0.27             1.11         8.500000  0.67   \n",
       "170        0.49                  0.40             0.73         5.500000  0.66   \n",
       "171        0.51                  0.48             0.64         9.899999  0.57   \n",
       "172        0.70                  0.44             1.24         9.700000  0.62   \n",
       "173        0.61                  0.52             1.06         7.700000  0.64   \n",
       "174        0.75                  0.43             1.41         7.300000  0.70   \n",
       "175        0.69                  0.43             1.35        10.200000  0.59   \n",
       "176        0.68                  0.53             1.46         9.300000  0.60   \n",
       "177        0.76                  0.56             1.35         9.200000  0.61   \n",
       "\n",
       "     od280/od315_of_diluted_wines  proline  \n",
       "0                            3.92   1065.0  \n",
       "1                            3.40   1050.0  \n",
       "2                            3.17   1185.0  \n",
       "3                            3.45   1480.0  \n",
       "4                            2.93    735.0  \n",
       "5                            2.85   1450.0  \n",
       "6                            3.58   1290.0  \n",
       "7                            3.58   1295.0  \n",
       "8                            2.85   1045.0  \n",
       "9                            3.55   1045.0  \n",
       "10                           3.17   1510.0  \n",
       "11                           2.82   1280.0  \n",
       "12                           2.90   1320.0  \n",
       "13                           2.73   1150.0  \n",
       "14                           3.00   1547.0  \n",
       "15                           2.88   1310.0  \n",
       "16                           2.65   1280.0  \n",
       "17                           2.57   1130.0  \n",
       "18                           2.82   1680.0  \n",
       "19                           3.36    845.0  \n",
       "20                           3.71    780.0  \n",
       "21                           3.52    770.0  \n",
       "22                           4.00   1035.0  \n",
       "23                           3.63   1015.0  \n",
       "24                           3.82    845.0  \n",
       "25                           3.20    830.0  \n",
       "26                           3.22   1195.0  \n",
       "27                           2.77   1285.0  \n",
       "28                           3.40    915.0  \n",
       "29                           3.59   1035.0  \n",
       "..                            ...      ...  \n",
       "148                          1.62    650.0  \n",
       "149                          1.33    550.0  \n",
       "150                          1.30    500.0  \n",
       "151                          1.47    480.0  \n",
       "152                          1.33    425.0  \n",
       "153                          1.51    675.0  \n",
       "154                          1.55    640.0  \n",
       "155                          1.48    725.0  \n",
       "156                          1.64    480.0  \n",
       "157                          1.73    880.0  \n",
       "158                          1.96    660.0  \n",
       "159                          1.78    620.0  \n",
       "160                          1.58    520.0  \n",
       "161                          1.82    680.0  \n",
       "162                          2.11    570.0  \n",
       "163                          1.75    675.0  \n",
       "164                          1.68    615.0  \n",
       "165                          1.75    520.0  \n",
       "166                          1.56    695.0  \n",
       "167                          1.75    685.0  \n",
       "168                          1.80    750.0  \n",
       "169                          1.92    630.0  \n",
       "170                          1.83    510.0  \n",
       "171                          1.63    470.0  \n",
       "172                          1.71    660.0  \n",
       "173                          1.74    740.0  \n",
       "174                          1.56    750.0  \n",
       "175                          1.56    835.0  \n",
       "176                          1.62    840.0  \n",
       "177                          1.60    560.0  \n",
       "\n",
       "[178 rows x 13 columns]"
      ]
     },
     "execution_count": 168,
     "metadata": {},
     "output_type": "execute_result"
    }
   ],
   "source": [
    "df_vinhos"
   ]
  },
  {
   "cell_type": "code",
   "execution_count": 169,
   "metadata": {},
   "outputs": [
    {
     "name": "stdout",
     "output_type": "stream",
     "text": [
      "0.7865168539325843\n",
      "[[1.  0.  0. ]\n",
      " [1.  0.  0. ]\n",
      " [1.  0.  0. ]\n",
      " [1.  0.  0. ]\n",
      " [0.2 0.2 0.6]\n",
      " [1.  0.  0. ]\n",
      " [1.  0.  0. ]\n",
      " [1.  0.  0. ]\n",
      " [1.  0.  0. ]\n",
      " [1.  0.  0. ]\n",
      " [1.  0.  0. ]\n",
      " [1.  0.  0. ]\n",
      " [1.  0.  0. ]\n",
      " [1.  0.  0. ]\n",
      " [1.  0.  0. ]\n",
      " [1.  0.  0. ]\n",
      " [1.  0.  0. ]\n",
      " [1.  0.  0. ]\n",
      " [1.  0.  0. ]\n",
      " [0.4 0.  0.6]\n",
      " [0.8 0.2 0. ]\n",
      " [0.2 0.2 0.6]\n",
      " [1.  0.  0. ]\n",
      " [1.  0.  0. ]\n",
      " [0.4 0.  0.6]\n",
      " [0.4 0.  0.6]\n",
      " [1.  0.  0. ]\n",
      " [1.  0.  0. ]\n",
      " [0.8 0.2 0. ]\n",
      " [1.  0.  0. ]\n",
      " [1.  0.  0. ]\n",
      " [1.  0.  0. ]\n",
      " [1.  0.  0. ]\n",
      " [1.  0.  0. ]\n",
      " [1.  0.  0. ]\n",
      " [0.6 0.2 0.2]\n",
      " [0.4 0.4 0.2]\n",
      " [1.  0.  0. ]\n",
      " [1.  0.  0. ]\n",
      " [0.4 0.4 0.2]\n",
      " [0.8 0.  0.2]\n",
      " [1.  0.  0. ]\n",
      " [1.  0.  0. ]\n",
      " [0.2 0.4 0.4]\n",
      " [0.4 0.4 0.2]\n",
      " [1.  0.  0. ]\n",
      " [1.  0.  0. ]\n",
      " [1.  0.  0. ]\n",
      " [1.  0.  0. ]\n",
      " [1.  0.  0. ]\n",
      " [1.  0.  0. ]\n",
      " [1.  0.  0. ]\n",
      " [1.  0.  0. ]\n",
      " [1.  0.  0. ]\n",
      " [1.  0.  0. ]\n",
      " [1.  0.  0. ]\n",
      " [0.8 0.2 0. ]\n",
      " [1.  0.  0. ]\n",
      " [1.  0.  0. ]\n",
      " [0.  0.6 0.4]\n",
      " [0.2 0.4 0.4]\n",
      " [0.  1.  0. ]\n",
      " [0.  0.4 0.6]\n",
      " [0.  0.8 0.2]\n",
      " [0.  1.  0. ]\n",
      " [0.2 0.6 0.2]\n",
      " [0.  1.  0. ]\n",
      " [0.  0.8 0.2]\n",
      " [0.2 0.2 0.6]\n",
      " [0.4 0.4 0.2]\n",
      " [0.4 0.4 0.2]\n",
      " [0.  0.8 0.2]\n",
      " [0.  0.6 0.4]\n",
      " [0.6 0.4 0. ]\n",
      " [0.4 0.4 0.2]\n",
      " [0.  1.  0. ]\n",
      " [0.  1.  0. ]\n",
      " [0.  0.4 0.6]\n",
      " [0.6 0.4 0. ]\n",
      " [0.  1.  0. ]\n",
      " [0.  1.  0. ]\n",
      " [0.  0.4 0.6]\n",
      " [0.  0.6 0.4]\n",
      " [0.  0.6 0.4]\n",
      " [0.  0.4 0.6]\n",
      " [0.  1.  0. ]\n",
      " [0.  1.  0. ]\n",
      " [0.  0.6 0.4]\n",
      " [0.  0.8 0.2]\n",
      " [0.  0.4 0.6]\n",
      " [0.  0.6 0.4]\n",
      " [0.  1.  0. ]\n",
      " [0.  1.  0. ]\n",
      " [0.  1.  0. ]\n",
      " [0.  1.  0. ]\n",
      " [0.6 0.4 0. ]\n",
      " [0.  0.4 0.6]\n",
      " [0.  1.  0. ]\n",
      " [0.  0.4 0.6]\n",
      " [0.  0.8 0.2]\n",
      " [0.  0.4 0.6]\n",
      " [0.  0.6 0.4]\n",
      " [0.  1.  0. ]\n",
      " [0.  0.8 0.2]\n",
      " [0.  1.  0. ]\n",
      " [0.  1.  0. ]\n",
      " [0.  0.8 0.2]\n",
      " [0.  1.  0. ]\n",
      " [0.  1.  0. ]\n",
      " [0.2 0.8 0. ]\n",
      " [0.  0.2 0.8]\n",
      " [0.  1.  0. ]\n",
      " [0.  0.2 0.8]\n",
      " [0.  1.  0. ]\n",
      " [0.  1.  0. ]\n",
      " [0.  0.8 0.2]\n",
      " [0.  1.  0. ]\n",
      " [0.  1.  0. ]\n",
      " [0.  1.  0. ]\n",
      " [0.  0.6 0.4]\n",
      " [0.  0.4 0.6]\n",
      " [0.  0.8 0.2]\n",
      " [0.  1.  0. ]\n",
      " [0.  1.  0. ]\n",
      " [0.  1.  0. ]\n",
      " [0.  1.  0. ]\n",
      " [0.  1.  0. ]\n",
      " [0.  0.6 0.4]\n",
      " [0.  1.  0. ]\n",
      " [0.  0.8 0.2]\n",
      " [0.  0.4 0.6]\n",
      " [0.  0.2 0.8]\n",
      " [0.  0.6 0.4]\n",
      " [0.  0.2 0.8]\n",
      " [0.  0.2 0.8]\n",
      " [0.  0.6 0.4]\n",
      " [0.  0.4 0.6]\n",
      " [0.  0.2 0.8]\n",
      " [0.  0.6 0.4]\n",
      " [0.  0.2 0.8]\n",
      " [0.  0.2 0.8]\n",
      " [0.4 0.  0.6]\n",
      " [0.  0.2 0.8]\n",
      " [0.  0.4 0.6]\n",
      " [0.4 0.2 0.4]\n",
      " [0.4 0.  0.6]\n",
      " [0.  0.8 0.2]\n",
      " [0.  0.4 0.6]\n",
      " [0.  0.2 0.8]\n",
      " [0.  0.2 0.8]\n",
      " [0.  0.2 0.8]\n",
      " [0.  0.6 0.4]\n",
      " [0.  0.8 0.2]\n",
      " [0.2 0.4 0.4]\n",
      " [0.  0.4 0.6]\n",
      " [0.  0.4 0.6]\n",
      " [0.  0.6 0.4]\n",
      " [0.4 0.4 0.2]\n",
      " [0.  0.2 0.8]\n",
      " [0.  0.4 0.6]\n",
      " [0.  0.4 0.6]\n",
      " [0.2 0.4 0.4]\n",
      " [0.  0.4 0.6]\n",
      " [0.2 0.4 0.4]\n",
      " [0.  0.4 0.6]\n",
      " [0.  0.4 0.6]\n",
      " [0.2 0.2 0.6]\n",
      " [0.  0.6 0.4]\n",
      " [0.2 0.2 0.6]\n",
      " [0.  0.4 0.6]\n",
      " [0.  0.4 0.6]\n",
      " [0.  0.6 0.4]\n",
      " [0.  0.2 0.8]\n",
      " [0.  0.2 0.8]\n",
      " [0.2 0.2 0.6]\n",
      " [0.4 0.  0.6]\n",
      " [0.4 0.  0.6]\n",
      " [0.  0.4 0.6]]\n"
     ]
    }
   ],
   "source": [
    "from sklearn.neighbors import KNeighborsClassifier\n",
    "clf = KNeighborsClassifier(n_neighbors=5)\n",
    "clf.fit(vinhos.data,vinhos.target)\n",
    "print(clf.score(vinhos.data,vinhos.target))\n",
    "print(clf.predict_proba(vinhos.data))"
   ]
  },
  {
   "cell_type": "code",
   "execution_count": 170,
   "metadata": {},
   "outputs": [
    {
     "name": "stdout",
     "output_type": "stream",
     "text": [
      "[0 0 0 0 2 0 0 0 0 0 0 0 0 0 0 0 0 0 0 2 0 2 0 0 2 2 0 0 0 0 0 0 0 0 0 0 1\n",
      " 0 0 0 0 0 0 2 0 0 0 0 0 0 0 0 0 0 0 0 0 0 0 1 1 1 2 1 1 1 1 1 2 0 0 1 1 0\n",
      " 0 1 1 2 0 1 1 2 1 2 2 1 1 2 1 2 1 1 1 1 1 0 2 1 2 1 2 2 1 1 1 1 1 1 1 1 2\n",
      " 1 2 1 1 1 1 1 1 2 2 1 1 1 1 1 1 1 1 1 1 2 1 2 2 1 2 2 1 2 2 0 2 1 0 0 1 1\n",
      " 2 2 2 1 1 1 2 2 1 0 2 1 2 1 1 1 2 2 2 1 0 1 2 1 2 2 0 2 2 1]\n"
     ]
    }
   ],
   "source": [
    "from sklearn.model_selection import cross_val_predict\n",
    "knn_p = cross_val_predict(clf, vinhos.data, vinhos.target, cv=40)\n",
    "print(knn_p)"
   ]
  },
  {
   "cell_type": "code",
   "execution_count": 171,
   "metadata": {},
   "outputs": [
    {
     "name": "stdout",
     "output_type": "stream",
     "text": [
      "1.0\n",
      "{'n_neighbors': 1}\n"
     ]
    },
    {
     "name": "stderr",
     "output_type": "stream",
     "text": [
      "/home/jpam/anaconda3/lib/python3.7/site-packages/sklearn/model_selection/_search.py:841: DeprecationWarning: The default of the `iid` parameter will change from True to False in version 0.22 and will be removed in 0.24. This will change numeric results when test-set sizes are unequal.\n",
      "  DeprecationWarning)\n"
     ]
    }
   ],
   "source": [
    "from sklearn.model_selection import GridSearchCV\n",
    "knn = GridSearchCV(clf,{'n_neighbors':range(1,9)},cv=30)\n",
    "knn.fit(vinhos.data,vinhos.target)\n",
    "print(knn.score(vinhos.data,vinhos.target))\n",
    "print(knn.best_params_)"
   ]
  },
  {
   "cell_type": "code",
   "execution_count": 172,
   "metadata": {},
   "outputs": [
    {
     "name": "stdout",
     "output_type": "stream",
     "text": [
      "1.0\n",
      "[[1. 0. 0.]\n",
      " [1. 0. 0.]\n",
      " [1. 0. 0.]\n",
      " [1. 0. 0.]\n",
      " [1. 0. 0.]\n",
      " [1. 0. 0.]\n",
      " [1. 0. 0.]\n",
      " [1. 0. 0.]\n",
      " [1. 0. 0.]\n",
      " [1. 0. 0.]\n",
      " [1. 0. 0.]\n",
      " [1. 0. 0.]\n",
      " [1. 0. 0.]\n",
      " [1. 0. 0.]\n",
      " [1. 0. 0.]\n",
      " [1. 0. 0.]\n",
      " [1. 0. 0.]\n",
      " [1. 0. 0.]\n",
      " [1. 0. 0.]\n",
      " [1. 0. 0.]\n",
      " [1. 0. 0.]\n",
      " [1. 0. 0.]\n",
      " [1. 0. 0.]\n",
      " [1. 0. 0.]\n",
      " [1. 0. 0.]\n",
      " [1. 0. 0.]\n",
      " [1. 0. 0.]\n",
      " [1. 0. 0.]\n",
      " [1. 0. 0.]\n",
      " [1. 0. 0.]\n",
      " [1. 0. 0.]\n",
      " [1. 0. 0.]\n",
      " [1. 0. 0.]\n",
      " [1. 0. 0.]\n",
      " [1. 0. 0.]\n",
      " [1. 0. 0.]\n",
      " [1. 0. 0.]\n",
      " [1. 0. 0.]\n",
      " [1. 0. 0.]\n",
      " [1. 0. 0.]\n",
      " [1. 0. 0.]\n",
      " [1. 0. 0.]\n",
      " [1. 0. 0.]\n",
      " [1. 0. 0.]\n",
      " [1. 0. 0.]\n",
      " [1. 0. 0.]\n",
      " [1. 0. 0.]\n",
      " [1. 0. 0.]\n",
      " [1. 0. 0.]\n",
      " [1. 0. 0.]\n",
      " [1. 0. 0.]\n",
      " [1. 0. 0.]\n",
      " [1. 0. 0.]\n",
      " [1. 0. 0.]\n",
      " [1. 0. 0.]\n",
      " [1. 0. 0.]\n",
      " [1. 0. 0.]\n",
      " [1. 0. 0.]\n",
      " [1. 0. 0.]\n",
      " [0. 1. 0.]\n",
      " [0. 1. 0.]\n",
      " [0. 1. 0.]\n",
      " [0. 1. 0.]\n",
      " [0. 1. 0.]\n",
      " [0. 1. 0.]\n",
      " [0. 1. 0.]\n",
      " [0. 1. 0.]\n",
      " [0. 1. 0.]\n",
      " [0. 1. 0.]\n",
      " [0. 1. 0.]\n",
      " [0. 1. 0.]\n",
      " [0. 1. 0.]\n",
      " [0. 1. 0.]\n",
      " [0. 1. 0.]\n",
      " [0. 1. 0.]\n",
      " [0. 1. 0.]\n",
      " [0. 1. 0.]\n",
      " [0. 1. 0.]\n",
      " [0. 1. 0.]\n",
      " [0. 1. 0.]\n",
      " [0. 1. 0.]\n",
      " [0. 1. 0.]\n",
      " [0. 1. 0.]\n",
      " [0. 1. 0.]\n",
      " [0. 1. 0.]\n",
      " [0. 1. 0.]\n",
      " [0. 1. 0.]\n",
      " [0. 1. 0.]\n",
      " [0. 1. 0.]\n",
      " [0. 1. 0.]\n",
      " [0. 1. 0.]\n",
      " [0. 1. 0.]\n",
      " [0. 1. 0.]\n",
      " [0. 1. 0.]\n",
      " [0. 1. 0.]\n",
      " [0. 1. 0.]\n",
      " [0. 1. 0.]\n",
      " [0. 1. 0.]\n",
      " [0. 1. 0.]\n",
      " [0. 1. 0.]\n",
      " [0. 1. 0.]\n",
      " [0. 1. 0.]\n",
      " [0. 1. 0.]\n",
      " [0. 1. 0.]\n",
      " [0. 1. 0.]\n",
      " [0. 1. 0.]\n",
      " [0. 1. 0.]\n",
      " [0. 1. 0.]\n",
      " [0. 1. 0.]\n",
      " [0. 1. 0.]\n",
      " [0. 1. 0.]\n",
      " [0. 1. 0.]\n",
      " [0. 1. 0.]\n",
      " [0. 1. 0.]\n",
      " [0. 1. 0.]\n",
      " [0. 1. 0.]\n",
      " [0. 1. 0.]\n",
      " [0. 1. 0.]\n",
      " [0. 1. 0.]\n",
      " [0. 1. 0.]\n",
      " [0. 1. 0.]\n",
      " [0. 1. 0.]\n",
      " [0. 1. 0.]\n",
      " [0. 1. 0.]\n",
      " [0. 1. 0.]\n",
      " [0. 1. 0.]\n",
      " [0. 1. 0.]\n",
      " [0. 1. 0.]\n",
      " [0. 1. 0.]\n",
      " [0. 1. 0.]\n",
      " [0. 0. 1.]\n",
      " [0. 0. 1.]\n",
      " [0. 0. 1.]\n",
      " [0. 0. 1.]\n",
      " [0. 0. 1.]\n",
      " [0. 0. 1.]\n",
      " [0. 0. 1.]\n",
      " [0. 0. 1.]\n",
      " [0. 0. 1.]\n",
      " [0. 0. 1.]\n",
      " [0. 0. 1.]\n",
      " [0. 0. 1.]\n",
      " [0. 0. 1.]\n",
      " [0. 0. 1.]\n",
      " [0. 0. 1.]\n",
      " [0. 0. 1.]\n",
      " [0. 0. 1.]\n",
      " [0. 0. 1.]\n",
      " [0. 0. 1.]\n",
      " [0. 0. 1.]\n",
      " [0. 0. 1.]\n",
      " [0. 0. 1.]\n",
      " [0. 0. 1.]\n",
      " [0. 0. 1.]\n",
      " [0. 0. 1.]\n",
      " [0. 0. 1.]\n",
      " [0. 0. 1.]\n",
      " [0. 0. 1.]\n",
      " [0. 0. 1.]\n",
      " [0. 0. 1.]\n",
      " [0. 0. 1.]\n",
      " [0. 0. 1.]\n",
      " [0. 0. 1.]\n",
      " [0. 0. 1.]\n",
      " [0. 0. 1.]\n",
      " [0. 0. 1.]\n",
      " [0. 0. 1.]\n",
      " [0. 0. 1.]\n",
      " [0. 0. 1.]\n",
      " [0. 0. 1.]\n",
      " [0. 0. 1.]\n",
      " [0. 0. 1.]\n",
      " [0. 0. 1.]\n",
      " [0. 0. 1.]\n",
      " [0. 0. 1.]\n",
      " [0. 0. 1.]\n",
      " [0. 0. 1.]\n",
      " [0. 0. 1.]]\n"
     ]
    }
   ],
   "source": [
    "clf = KNeighborsClassifier(n_neighbors=1)\n",
    "clf.fit(vinhos.data,vinhos.target)\n",
    "print(clf.score(vinhos.data,vinhos.target))\n",
    "print(clf.predict_proba(vinhos.data))"
   ]
  },
  {
   "cell_type": "code",
   "execution_count": 173,
   "metadata": {},
   "outputs": [],
   "source": [
    "import matplotlib.pyplot as plt\n",
    "from sklearn.metrics import confusion_matrix\n",
    "from sklearn.utils.multiclass import unique_labels\n",
    "def plot_confusion_matrix(y_true, y_pred, classes,\n",
    "                          normalize=False,\n",
    "                          title=None,\n",
    "                          cmap=plt.cm.Blues):\n",
    "    \"\"\"\n",
    "    This function prints and plots the confusion matrix.\n",
    "    Normalization can be applied by setting `normalize=True`.\n",
    "    \"\"\"\n",
    "    if not title:\n",
    "        if normalize:\n",
    "            title = 'Normalized confusion matrix'\n",
    "        else:\n",
    "            title = 'Confusion matrix, without normalization'\n",
    "\n",
    "    # Compute confusion matrix\n",
    "    cm = confusion_matrix(y_true, y_pred)\n",
    "    # Only use the labels that appear in the data\n",
    "    classes = classes[unique_labels(y_true, y_pred)]\n",
    "    if normalize:\n",
    "        cm = cm.astype('float') / cm.sum(axis=1)[:, np.newaxis]\n",
    "        print(\"Normalized confusion matrix\")\n",
    "    else:\n",
    "        print('Confusion matrix, without normalization')\n",
    "\n",
    "    print(cm)\n",
    "\n",
    "    fig, ax = plt.subplots()\n",
    "    im = ax.imshow(cm, interpolation='nearest', cmap=cmap)\n",
    "    ax.figure.colorbar(im, ax=ax)\n",
    "    # We want to show all ticks...\n",
    "    ax.set(xticks=np.arange(cm.shape[1]),\n",
    "           yticks=np.arange(cm.shape[0]),\n",
    "           # ... and label them with the respective list entries\n",
    "           xticklabels=classes, yticklabels=classes,\n",
    "           title=title,\n",
    "           ylabel='True label',\n",
    "           xlabel='Predicted label')\n",
    "\n",
    "    # Rotate the tick labels and set their alignment.\n",
    "    plt.setp(ax.get_xticklabels(), rotation=45, ha=\"right\",\n",
    "             rotation_mode=\"anchor\")\n",
    "\n",
    "    # Loop over data dimensions and create text annotations.\n",
    "    fmt = '.2f' if normalize else 'd'\n",
    "    thresh = cm.max() / 2.\n",
    "    for i in range(cm.shape[0]):\n",
    "        for j in range(cm.shape[1]):\n",
    "            ax.text(j, i, format(cm[i, j], fmt),\n",
    "                    ha=\"center\", va=\"center\",\n",
    "                    color=\"white\" if cm[i, j] > thresh else \"black\")\n",
    "    fig.tight_layout()\n",
    "    return ax"
   ]
  },
  {
   "cell_type": "code",
   "execution_count": 182,
   "metadata": {},
   "outputs": [],
   "source": [
    "import numpy as np\n",
    "from sklearn.model_selection import train_test_split\n",
    "X_train, X_test, y_train, y_test = train_test_split(vinhos.data, vinhos.target, random_state=0)\n",
    "y_pred = clf.fit(X_train, y_train).predict(X_test)"
   ]
  },
  {
   "cell_type": "code",
   "execution_count": 185,
   "metadata": {},
   "outputs": [
    {
     "name": "stdout",
     "output_type": "stream",
     "text": [
      "Confusion matrix, without normalization\n",
      "[[16  0  0]\n",
      " [ 1 20  0]\n",
      " [ 0  0  8]]\n",
      "Normalized confusion matrix\n",
      "[[1.   0.   0.  ]\n",
      " [0.05 0.95 0.  ]\n",
      " [0.   0.   1.  ]]\n"
     ]
    },
    {
     "data": {
      "image/png": "[encoded data removed]",
      "text/plain": [
       "<Figure size 432x288 with 2 Axes>"
      ]
     },
     "metadata": {
      "needs_background": "light"
     },
     "output_type": "display_data"
    },
    {
     "data": {
      "image/png": "[encoded data removed]",
      "text/plain": [
       "<Figure size 432x288 with 2 Axes>"
      ]
     },
     "metadata": {
      "needs_background": "light"
     },
     "output_type": "display_data"
    }
   ],
   "source": [
    "class_names = vinhos.target_names\n",
    "\n",
    "np.set_printoptions(precision=2)\n",
    "\n",
    "# Plot non-normalized confusion matrix\n",
    "plot_confusion_matrix(y_test, y_pred, classes=class_names,\n",
    "                      title='Confusion matrix, without normalization')\n",
    "\n",
    "# Plot normalized confusion matrix\n",
    "plot_confusion_matrix(y_test, y_pred, classes=class_names, normalize=True,\n",
    "                      title='Normalized confusion matrix')\n",
    "\n",
    "plt.show()"
   ]
  },
  {
   "cell_type": "code",
   "execution_count": 174,
   "metadata": {},
   "outputs": [
    {
     "data": {
      "text/html": [
       "<div>\n",
       "<style scoped>\n",
       "    .dataframe tbody tr th:only-of-type {\n",
       "        vertical-align: middle;\n",
       "    }\n",
       "\n",
       "    .dataframe tbody tr th {\n",
       "        vertical-align: top;\n",
       "    }\n",
       "\n",
       "    .dataframe thead th {\n",
       "        text-align: right;\n",
       "    }\n",
       "</style>\n",
       "<table border=\"1\" class=\"dataframe\">\n",
       "  <thead>\n",
       "    <tr style=\"text-align: right;\">\n",
       "      <th></th>\n",
       "      <th>Classe</th>\n",
       "      <th>b</th>\n",
       "      <th>c</th>\n",
       "      <th>m</th>\n",
       "      <th>n</th>\n",
       "      <th>o</th>\n",
       "      <th>p</th>\n",
       "      <th>q</th>\n",
       "      <th>s</th>\n",
       "      <th>t</th>\n",
       "      <th>u</th>\n",
       "    </tr>\n",
       "    <tr>\n",
       "      <th>Compostos</th>\n",
       "      <th></th>\n",
       "      <th></th>\n",
       "      <th></th>\n",
       "      <th></th>\n",
       "      <th></th>\n",
       "      <th></th>\n",
       "      <th></th>\n",
       "      <th></th>\n",
       "      <th></th>\n",
       "      <th></th>\n",
       "      <th></th>\n",
       "    </tr>\n",
       "  </thead>\n",
       "  <tbody>\n",
       "    <tr>\n",
       "      <th>1</th>\n",
       "      <td>A</td>\n",
       "      <td>0.0020</td>\n",
       "      <td>0.005</td>\n",
       "      <td>0.001</td>\n",
       "      <td>0.010</td>\n",
       "      <td>0.028</td>\n",
       "      <td>0.036</td>\n",
       "      <td>0.276</td>\n",
       "      <td>0.248</td>\n",
       "      <td>0.198</td>\n",
       "      <td>0.184</td>\n",
       "    </tr>\n",
       "    <tr>\n",
       "      <th>2</th>\n",
       "      <td>A</td>\n",
       "      <td>0.0010</td>\n",
       "      <td>0.002</td>\n",
       "      <td>0.001</td>\n",
       "      <td>0.013</td>\n",
       "      <td>0.030</td>\n",
       "      <td>0.044</td>\n",
       "      <td>0.344</td>\n",
       "      <td>0.276</td>\n",
       "      <td>0.144</td>\n",
       "      <td>0.137</td>\n",
       "    </tr>\n",
       "    <tr>\n",
       "      <th>3</th>\n",
       "      <td>A</td>\n",
       "      <td>0.0070</td>\n",
       "      <td>0.009</td>\n",
       "      <td>0.003</td>\n",
       "      <td>0.051</td>\n",
       "      <td>0.015</td>\n",
       "      <td>0.020</td>\n",
       "      <td>0.405</td>\n",
       "      <td>0.329</td>\n",
       "      <td>0.024</td>\n",
       "      <td>0.028</td>\n",
       "    </tr>\n",
       "    <tr>\n",
       "      <th>4</th>\n",
       "      <td>A</td>\n",
       "      <td>0.0000</td>\n",
       "      <td>0.001</td>\n",
       "      <td>0.001</td>\n",
       "      <td>0.002</td>\n",
       "      <td>0.038</td>\n",
       "      <td>0.048</td>\n",
       "      <td>0.365</td>\n",
       "      <td>0.341</td>\n",
       "      <td>0.023</td>\n",
       "      <td>0.020</td>\n",
       "    </tr>\n",
       "    <tr>\n",
       "      <th>5</th>\n",
       "      <td>A</td>\n",
       "      <td>0.0020</td>\n",
       "      <td>0.005</td>\n",
       "      <td>0.000</td>\n",
       "      <td>0.003</td>\n",
       "      <td>0.018</td>\n",
       "      <td>0.026</td>\n",
       "      <td>0.417</td>\n",
       "      <td>0.329</td>\n",
       "      <td>0.027</td>\n",
       "      <td>0.028</td>\n",
       "    </tr>\n",
       "    <tr>\n",
       "      <th>6</th>\n",
       "      <td>A</td>\n",
       "      <td>0.0100</td>\n",
       "      <td>0.010</td>\n",
       "      <td>0.004</td>\n",
       "      <td>0.035</td>\n",
       "      <td>0.041</td>\n",
       "      <td>0.032</td>\n",
       "      <td>0.376</td>\n",
       "      <td>0.335</td>\n",
       "      <td>0.025</td>\n",
       "      <td>0.025</td>\n",
       "    </tr>\n",
       "    <tr>\n",
       "      <th>7</th>\n",
       "      <td>A</td>\n",
       "      <td>0.0020</td>\n",
       "      <td>0.008</td>\n",
       "      <td>0.004</td>\n",
       "      <td>0.003</td>\n",
       "      <td>0.018</td>\n",
       "      <td>0.026</td>\n",
       "      <td>0.409</td>\n",
       "      <td>0.319</td>\n",
       "      <td>0.024</td>\n",
       "      <td>0.028</td>\n",
       "    </tr>\n",
       "    <tr>\n",
       "      <th>8</th>\n",
       "      <td>A</td>\n",
       "      <td>0.0010</td>\n",
       "      <td>0.001</td>\n",
       "      <td>0.002</td>\n",
       "      <td>0.018</td>\n",
       "      <td>0.026</td>\n",
       "      <td>0.040</td>\n",
       "      <td>0.399</td>\n",
       "      <td>0.355</td>\n",
       "      <td>0.017</td>\n",
       "      <td>0.021</td>\n",
       "    </tr>\n",
       "    <tr>\n",
       "      <th>9</th>\n",
       "      <td>A</td>\n",
       "      <td>0.0010</td>\n",
       "      <td>0.005</td>\n",
       "      <td>0.003</td>\n",
       "      <td>0.031</td>\n",
       "      <td>0.016</td>\n",
       "      <td>0.023</td>\n",
       "      <td>0.418</td>\n",
       "      <td>0.319</td>\n",
       "      <td>0.024</td>\n",
       "      <td>0.029</td>\n",
       "    </tr>\n",
       "    <tr>\n",
       "      <th>10</th>\n",
       "      <td>A</td>\n",
       "      <td>0.0000</td>\n",
       "      <td>0.000</td>\n",
       "      <td>0.001</td>\n",
       "      <td>0.004</td>\n",
       "      <td>0.029</td>\n",
       "      <td>0.040</td>\n",
       "      <td>0.364</td>\n",
       "      <td>0.306</td>\n",
       "      <td>0.018</td>\n",
       "      <td>0.166</td>\n",
       "    </tr>\n",
       "    <tr>\n",
       "      <th>11</th>\n",
       "      <td>A</td>\n",
       "      <td>0.0120</td>\n",
       "      <td>0.013</td>\n",
       "      <td>0.004</td>\n",
       "      <td>0.045</td>\n",
       "      <td>0.016</td>\n",
       "      <td>0.020</td>\n",
       "      <td>0.397</td>\n",
       "      <td>0.327</td>\n",
       "      <td>0.022</td>\n",
       "      <td>0.026</td>\n",
       "    </tr>\n",
       "    <tr>\n",
       "      <th>12</th>\n",
       "      <td>B</td>\n",
       "      <td>0.0330</td>\n",
       "      <td>0.061</td>\n",
       "      <td>0.017</td>\n",
       "      <td>0.073</td>\n",
       "      <td>0.253</td>\n",
       "      <td>0.004</td>\n",
       "      <td>0.229</td>\n",
       "      <td>0.011</td>\n",
       "      <td>0.004</td>\n",
       "      <td>0.022</td>\n",
       "    </tr>\n",
       "    <tr>\n",
       "      <th>13</th>\n",
       "      <td>B</td>\n",
       "      <td>0.0730</td>\n",
       "      <td>0.150</td>\n",
       "      <td>0.015</td>\n",
       "      <td>0.126</td>\n",
       "      <td>0.253</td>\n",
       "      <td>0.004</td>\n",
       "      <td>0.284</td>\n",
       "      <td>0.015</td>\n",
       "      <td>0.017</td>\n",
       "      <td>0.020</td>\n",
       "    </tr>\n",
       "    <tr>\n",
       "      <th>14</th>\n",
       "      <td>B</td>\n",
       "      <td>0.0900</td>\n",
       "      <td>0.155</td>\n",
       "      <td>0.023</td>\n",
       "      <td>0.161</td>\n",
       "      <td>0.214</td>\n",
       "      <td>0.006</td>\n",
       "      <td>0.243</td>\n",
       "      <td>0.022</td>\n",
       "      <td>0.006</td>\n",
       "      <td>0.032</td>\n",
       "    </tr>\n",
       "    <tr>\n",
       "      <th>15</th>\n",
       "      <td>B</td>\n",
       "      <td>0.0185</td>\n",
       "      <td>0.241</td>\n",
       "      <td>0.045</td>\n",
       "      <td>0.373</td>\n",
       "      <td>0.026</td>\n",
       "      <td>0.023</td>\n",
       "      <td>0.033</td>\n",
       "      <td>0.006</td>\n",
       "      <td>0.006</td>\n",
       "      <td>0.002</td>\n",
       "    </tr>\n",
       "    <tr>\n",
       "      <th>16</th>\n",
       "      <td>B</td>\n",
       "      <td>0.0900</td>\n",
       "      <td>0.194</td>\n",
       "      <td>0.015</td>\n",
       "      <td>0.152</td>\n",
       "      <td>0.190</td>\n",
       "      <td>0.000</td>\n",
       "      <td>0.257</td>\n",
       "      <td>0.016</td>\n",
       "      <td>0.026</td>\n",
       "      <td>0.004</td>\n",
       "    </tr>\n",
       "    <tr>\n",
       "      <th>17</th>\n",
       "      <td>B</td>\n",
       "      <td>0.0840</td>\n",
       "      <td>0.212</td>\n",
       "      <td>0.036</td>\n",
       "      <td>0.311</td>\n",
       "      <td>0.045</td>\n",
       "      <td>0.008</td>\n",
       "      <td>0.067</td>\n",
       "      <td>0.029</td>\n",
       "      <td>0.019</td>\n",
       "      <td>0.003</td>\n",
       "    </tr>\n",
       "    <tr>\n",
       "      <th>18</th>\n",
       "      <td>B</td>\n",
       "      <td>0.3010</td>\n",
       "      <td>0.227</td>\n",
       "      <td>0.063</td>\n",
       "      <td>0.386</td>\n",
       "      <td>0.009</td>\n",
       "      <td>0.005</td>\n",
       "      <td>0.051</td>\n",
       "      <td>0.029</td>\n",
       "      <td>0.042</td>\n",
       "      <td>0.004</td>\n",
       "    </tr>\n",
       "    <tr>\n",
       "      <th>19</th>\n",
       "      <td>B</td>\n",
       "      <td>0.1850</td>\n",
       "      <td>0.231</td>\n",
       "      <td>0.044</td>\n",
       "      <td>0.363</td>\n",
       "      <td>0.033</td>\n",
       "      <td>0.005</td>\n",
       "      <td>0.046</td>\n",
       "      <td>0.008</td>\n",
       "      <td>0.007</td>\n",
       "      <td>0.001</td>\n",
       "    </tr>\n",
       "    <tr>\n",
       "      <th>20</th>\n",
       "      <td>B</td>\n",
       "      <td>0.1760</td>\n",
       "      <td>0.231</td>\n",
       "      <td>0.040</td>\n",
       "      <td>0.349</td>\n",
       "      <td>0.032</td>\n",
       "      <td>0.005</td>\n",
       "      <td>0.041</td>\n",
       "      <td>0.012</td>\n",
       "      <td>0.012</td>\n",
       "      <td>0.001</td>\n",
       "    </tr>\n",
       "    <tr>\n",
       "      <th>21</th>\n",
       "      <td>B</td>\n",
       "      <td>0.1680</td>\n",
       "      <td>0.221</td>\n",
       "      <td>0.039</td>\n",
       "      <td>0.363</td>\n",
       "      <td>0.025</td>\n",
       "      <td>0.032</td>\n",
       "      <td>0.033</td>\n",
       "      <td>0.011</td>\n",
       "      <td>0.005</td>\n",
       "      <td>0.001</td>\n",
       "    </tr>\n",
       "    <tr>\n",
       "      <th>22</th>\n",
       "      <td>B</td>\n",
       "      <td>0.0910</td>\n",
       "      <td>0.189</td>\n",
       "      <td>0.017</td>\n",
       "      <td>0.153</td>\n",
       "      <td>0.197</td>\n",
       "      <td>0.001</td>\n",
       "      <td>0.261</td>\n",
       "      <td>0.014</td>\n",
       "      <td>0.001</td>\n",
       "      <td>0.019</td>\n",
       "    </tr>\n",
       "    <tr>\n",
       "      <th>23</th>\n",
       "      <td>B</td>\n",
       "      <td>0.1610</td>\n",
       "      <td>0.212</td>\n",
       "      <td>0.032</td>\n",
       "      <td>0.331</td>\n",
       "      <td>0.022</td>\n",
       "      <td>0.007</td>\n",
       "      <td>0.076</td>\n",
       "      <td>0.069</td>\n",
       "      <td>0.005</td>\n",
       "      <td>0.002</td>\n",
       "    </tr>\n",
       "    <tr>\n",
       "      <th>24</th>\n",
       "      <td>B</td>\n",
       "      <td>0.0960</td>\n",
       "      <td>0.187</td>\n",
       "      <td>0.018</td>\n",
       "      <td>0.152</td>\n",
       "      <td>0.203</td>\n",
       "      <td>0.002</td>\n",
       "      <td>0.251</td>\n",
       "      <td>0.017</td>\n",
       "      <td>0.023</td>\n",
       "      <td>0.020</td>\n",
       "    </tr>\n",
       "    <tr>\n",
       "      <th>25</th>\n",
       "      <td>B</td>\n",
       "      <td>0.1850</td>\n",
       "      <td>0.230</td>\n",
       "      <td>0.044</td>\n",
       "      <td>0.374</td>\n",
       "      <td>0.029</td>\n",
       "      <td>0.004</td>\n",
       "      <td>0.043</td>\n",
       "      <td>0.008</td>\n",
       "      <td>0.006</td>\n",
       "      <td>0.001</td>\n",
       "    </tr>\n",
       "    <tr>\n",
       "      <th>26</th>\n",
       "      <td>B</td>\n",
       "      <td>0.0070</td>\n",
       "      <td>0.009</td>\n",
       "      <td>0.003</td>\n",
       "      <td>0.041</td>\n",
       "      <td>0.015</td>\n",
       "      <td>0.020</td>\n",
       "      <td>0.409</td>\n",
       "      <td>0.333</td>\n",
       "      <td>0.024</td>\n",
       "      <td>0.028</td>\n",
       "    </tr>\n",
       "  </tbody>\n",
       "</table>\n",
       "</div>"
      ],
      "text/plain": [
       "          Classe       b      c      m      n      o      p      q      s  \\\n",
       "Compostos                                                                   \n",
       "1              A  0.0020  0.005  0.001  0.010  0.028  0.036  0.276  0.248   \n",
       "2              A  0.0010  0.002  0.001  0.013  0.030  0.044  0.344  0.276   \n",
       "3              A  0.0070  0.009  0.003  0.051  0.015  0.020  0.405  0.329   \n",
       "4              A  0.0000  0.001  0.001  0.002  0.038  0.048  0.365  0.341   \n",
       "5              A  0.0020  0.005  0.000  0.003  0.018  0.026  0.417  0.329   \n",
       "6              A  0.0100  0.010  0.004  0.035  0.041  0.032  0.376  0.335   \n",
       "7              A  0.0020  0.008  0.004  0.003  0.018  0.026  0.409  0.319   \n",
       "8              A  0.0010  0.001  0.002  0.018  0.026  0.040  0.399  0.355   \n",
       "9              A  0.0010  0.005  0.003  0.031  0.016  0.023  0.418  0.319   \n",
       "10             A  0.0000  0.000  0.001  0.004  0.029  0.040  0.364  0.306   \n",
       "11             A  0.0120  0.013  0.004  0.045  0.016  0.020  0.397  0.327   \n",
       "12             B  0.0330  0.061  0.017  0.073  0.253  0.004  0.229  0.011   \n",
       "13             B  0.0730  0.150  0.015  0.126  0.253  0.004  0.284  0.015   \n",
       "14             B  0.0900  0.155  0.023  0.161  0.214  0.006  0.243  0.022   \n",
       "15             B  0.0185  0.241  0.045  0.373  0.026  0.023  0.033  0.006   \n",
       "16             B  0.0900  0.194  0.015  0.152  0.190  0.000  0.257  0.016   \n",
       "17             B  0.0840  0.212  0.036  0.311  0.045  0.008  0.067  0.029   \n",
       "18             B  0.3010  0.227  0.063  0.386  0.009  0.005  0.051  0.029   \n",
       "19             B  0.1850  0.231  0.044  0.363  0.033  0.005  0.046  0.008   \n",
       "20             B  0.1760  0.231  0.040  0.349  0.032  0.005  0.041  0.012   \n",
       "21             B  0.1680  0.221  0.039  0.363  0.025  0.032  0.033  0.011   \n",
       "22             B  0.0910  0.189  0.017  0.153  0.197  0.001  0.261  0.014   \n",
       "23             B  0.1610  0.212  0.032  0.331  0.022  0.007  0.076  0.069   \n",
       "24             B  0.0960  0.187  0.018  0.152  0.203  0.002  0.251  0.017   \n",
       "25             B  0.1850  0.230  0.044  0.374  0.029  0.004  0.043  0.008   \n",
       "26             B  0.0070  0.009  0.003  0.041  0.015  0.020  0.409  0.333   \n",
       "\n",
       "               t      u  \n",
       "Compostos                \n",
       "1          0.198  0.184  \n",
       "2          0.144  0.137  \n",
       "3          0.024  0.028  \n",
       "4          0.023  0.020  \n",
       "5          0.027  0.028  \n",
       "6          0.025  0.025  \n",
       "7          0.024  0.028  \n",
       "8          0.017  0.021  \n",
       "9          0.024  0.029  \n",
       "10         0.018  0.166  \n",
       "11         0.022  0.026  \n",
       "12         0.004  0.022  \n",
       "13         0.017  0.020  \n",
       "14         0.006  0.032  \n",
       "15         0.006  0.002  \n",
       "16         0.026  0.004  \n",
       "17         0.019  0.003  \n",
       "18         0.042  0.004  \n",
       "19         0.007  0.001  \n",
       "20         0.012  0.001  \n",
       "21         0.005  0.001  \n",
       "22         0.001  0.019  \n",
       "23         0.005  0.002  \n",
       "24         0.023  0.020  \n",
       "25         0.006  0.001  \n",
       "26         0.024  0.028  "
      ]
     },
     "execution_count": 174,
     "metadata": {},
     "output_type": "execute_result"
    }
   ],
   "source": [
    "lap = pd.read_excel(\"lapachol.xlsx\",index_col=0)\n",
    "lap"
   ]
  },
  {
   "cell_type": "code",
   "execution_count": 175,
   "metadata": {},
   "outputs": [
    {
     "name": "stdout",
     "output_type": "stream",
     "text": [
      "                b      c      m      n      o      p      q      s      t  \\\n",
      "Compostos                                                                   \n",
      "1          0.0020  0.005  0.001  0.010  0.028  0.036  0.276  0.248  0.198   \n",
      "2          0.0010  0.002  0.001  0.013  0.030  0.044  0.344  0.276  0.144   \n",
      "3          0.0070  0.009  0.003  0.051  0.015  0.020  0.405  0.329  0.024   \n",
      "4          0.0000  0.001  0.001  0.002  0.038  0.048  0.365  0.341  0.023   \n",
      "5          0.0020  0.005  0.000  0.003  0.018  0.026  0.417  0.329  0.027   \n",
      "6          0.0100  0.010  0.004  0.035  0.041  0.032  0.376  0.335  0.025   \n",
      "7          0.0020  0.008  0.004  0.003  0.018  0.026  0.409  0.319  0.024   \n",
      "8          0.0010  0.001  0.002  0.018  0.026  0.040  0.399  0.355  0.017   \n",
      "9          0.0010  0.005  0.003  0.031  0.016  0.023  0.418  0.319  0.024   \n",
      "10         0.0000  0.000  0.001  0.004  0.029  0.040  0.364  0.306  0.018   \n",
      "11         0.0120  0.013  0.004  0.045  0.016  0.020  0.397  0.327  0.022   \n",
      "12         0.0330  0.061  0.017  0.073  0.253  0.004  0.229  0.011  0.004   \n",
      "13         0.0730  0.150  0.015  0.126  0.253  0.004  0.284  0.015  0.017   \n",
      "14         0.0900  0.155  0.023  0.161  0.214  0.006  0.243  0.022  0.006   \n",
      "15         0.0185  0.241  0.045  0.373  0.026  0.023  0.033  0.006  0.006   \n",
      "16         0.0900  0.194  0.015  0.152  0.190  0.000  0.257  0.016  0.026   \n",
      "17         0.0840  0.212  0.036  0.311  0.045  0.008  0.067  0.029  0.019   \n",
      "18         0.3010  0.227  0.063  0.386  0.009  0.005  0.051  0.029  0.042   \n",
      "19         0.1850  0.231  0.044  0.363  0.033  0.005  0.046  0.008  0.007   \n",
      "20         0.1760  0.231  0.040  0.349  0.032  0.005  0.041  0.012  0.012   \n",
      "21         0.1680  0.221  0.039  0.363  0.025  0.032  0.033  0.011  0.005   \n",
      "22         0.0910  0.189  0.017  0.153  0.197  0.001  0.261  0.014  0.001   \n",
      "23         0.1610  0.212  0.032  0.331  0.022  0.007  0.076  0.069  0.005   \n",
      "24         0.0960  0.187  0.018  0.152  0.203  0.002  0.251  0.017  0.023   \n",
      "25         0.1850  0.230  0.044  0.374  0.029  0.004  0.043  0.008  0.006   \n",
      "26         0.0070  0.009  0.003  0.041  0.015  0.020  0.409  0.333  0.024   \n",
      "\n",
      "               u  \n",
      "Compostos         \n",
      "1          0.184  \n",
      "2          0.137  \n",
      "3          0.028  \n",
      "4          0.020  \n",
      "5          0.028  \n",
      "6          0.025  \n",
      "7          0.028  \n",
      "8          0.021  \n",
      "9          0.029  \n",
      "10         0.166  \n",
      "11         0.026  \n",
      "12         0.022  \n",
      "13         0.020  \n",
      "14         0.032  \n",
      "15         0.002  \n",
      "16         0.004  \n",
      "17         0.003  \n",
      "18         0.004  \n",
      "19         0.001  \n",
      "20         0.001  \n",
      "21         0.001  \n",
      "22         0.019  \n",
      "23         0.002  \n",
      "24         0.020  \n",
      "25         0.001  \n",
      "26         0.028  \n"
     ]
    },
    {
     "data": {
      "text/plain": [
       "Compostos\n",
       "1     A\n",
       "2     A\n",
       "3     A\n",
       "4     A\n",
       "5     A\n",
       "6     A\n",
       "7     A\n",
       "8     A\n",
       "9     A\n",
       "10    A\n",
       "11    A\n",
       "12    B\n",
       "13    B\n",
       "14    B\n",
       "15    B\n",
       "16    B\n",
       "17    B\n",
       "18    B\n",
       "19    B\n",
       "20    B\n",
       "21    B\n",
       "22    B\n",
       "23    B\n",
       "24    B\n",
       "25    B\n",
       "26    B\n",
       "Name: Classe, dtype: object"
      ]
     },
     "execution_count": 175,
     "metadata": {},
     "output_type": "execute_result"
    }
   ],
   "source": [
    "X_lap = lap.iloc[:,1:]\n",
    "# y = [cl == \"A\" for cl in lap.loc[:,\"Classe\"]]\n",
    "y_lap = lap.loc[:,\"Classe\"]\n",
    "print(X)\n",
    "y"
   ]
  },
  {
   "cell_type": "code",
   "execution_count": 176,
   "metadata": {},
   "outputs": [
    {
     "name": "stderr",
     "output_type": "stream",
     "text": [
      "/home/jpam/anaconda3/lib/python3.7/site-packages/sklearn/model_selection/_search.py:841: DeprecationWarning: The default of the `iid` parameter will change from True to False in version 0.22 and will be removed in 0.24. This will change numeric results when test-set sizes are unequal.\n",
      "  DeprecationWarning)\n"
     ]
    },
    {
     "data": {
      "text/plain": [
       "{'n_neighbors': 2}"
      ]
     },
     "execution_count": 176,
     "metadata": {},
     "output_type": "execute_result"
    }
   ],
   "source": [
    "scaler = StandardScaler()\n",
    "X_lap_a = scaler.fit_transform(X_lap)\n",
    "knn = KNeighborsClassifier(n_neighbors=1)\n",
    "knnCV = GridSearchCV(knn,{\"n_neighbors\":range(1,9)},cv=10)\n",
    "knnCV.fit(X_lap_a,y)\n",
    "knnCV.best_params_"
   ]
  },
  {
   "cell_type": "code",
   "execution_count": 194,
   "metadata": {},
   "outputs": [
    {
     "name": "stdout",
     "output_type": "stream",
     "text": [
      "[2, 8, 9, 13, 15, 19, 23, 24]\n",
      "[1, 3, 4, 5, 6, 7, 10, 11, 12, 14, 16, 17, 18, 20, 21, 22, 25]\n",
      "Int64Index([ 1,  2,  3,  4,  5,  6,  7,  8,  9, 10, 11, 12, 13, 14, 15, 16, 17,\n",
      "            18, 19, 20, 21, 22, 23, 24, 25, 26],\n",
      "           dtype='int64', name='Compostos')\n"
     ]
    },
    {
     "data": {
      "text/plain": [
       "KNeighborsClassifier(algorithm='auto', leaf_size=30, metric='minkowski',\n",
       "           metric_params=None, n_jobs=None, n_neighbors=2, p=2,\n",
       "           weights='uniform')"
      ]
     },
     "execution_count": 194,
     "metadata": {},
     "output_type": "execute_result"
    }
   ],
   "source": [
    "test = [2,8,9,13,15,19,23,24]\n",
    "print(test)\n",
    "train = [i for i in range(1,26) if i not in test]\n",
    "print(train)\n",
    "print(X.index)\n",
    "X_lap_train = X.iloc[train]\n",
    "y_lap_train = [y[i] for i in train]\n",
    "X_lap_test = X.iloc[test]\n",
    "y_lap_test = [y[i] for i in test]\n",
    "X_lap_train_a = scaler.fit_transform(X_lap_train)\n",
    "knn = KNeighborsClassifier(n_neighbors=2)\n",
    "knn.fit(X_lap_train_a,y_lap_train)"
   ]
  },
  {
   "cell_type": "code",
   "execution_count": 195,
   "metadata": {},
   "outputs": [
    {
     "name": "stdout",
     "output_type": "stream",
     "text": [
      "[0 2 1 0 1 1 0 2 1 1 2 2 0 1 2 1 0 0 1 0 1 0 0 1 1 1 1 1 1 2 0 0 1 0 0 0 2\n",
      " 1 1 2 0 0 1 1 1]\n",
      "Confusion matrix, without normalization\n",
      "[[3 0]\n",
      " [0 5]]\n",
      "Normalized confusion matrix\n",
      "[[1. 0.]\n",
      " [0. 1.]]\n"
     ]
    },
    {
     "data": {
      "image/png": "[encoded data removed]",
      "text/plain": [
       "<Figure size 432x288 with 2 Axes>"
      ]
     },
     "metadata": {
      "needs_background": "light"
     },
     "output_type": "display_data"
    },
    {
     "data": {
      "image/png": "[encoded data removed]",
      "text/plain": [
       "<Figure size 432x288 with 2 Axes>"
      ]
     },
     "metadata": {
      "needs_background": "light"
     },
     "output_type": "display_data"
    }
   ],
   "source": [
    "y_lap_pred = knn.predict(scaler.transform(X_lap_test))\n",
    "print(y_pred)\n",
    "class_names_lap = lap[\"Classe\"]\n",
    "\n",
    "np.set_printoptions(precision=2)\n",
    "\n",
    "# Plot non-normalized confusion matrix\n",
    "plot_confusion_matrix(y_lap_test, y_lap_pred, classes=class_names_lap,\n",
    "                      title='Confusion matrix, without normalization')\n",
    "\n",
    "# Plot normalized confusion matrix\n",
    "plot_confusion_matrix(y_lap_test, y_lap_pred, classes=class_names_lap, normalize=True,\n",
    "                      title='Normalized confusion matrix')\n",
    "\n",
    "plt.show()"
   ]
  },
  {
   "cell_type": "markdown",
   "metadata": {},
   "source": [
    "## Métricas para avaliar os modelos de classificação (Figuras de mérito)\n",
    "\n",
    "+ Sensibilidade, também conhecida como precisão ou taxa de verdadeiros positivos, é uma medida de quão bem o modelo é capaz de classificar corretamente amostras que realmente apresentam a característica de interesse\n",
    "\n",
    "$SEN = \\frac{VP}{VP+FN} \\times 100\\%$\n",
    "\n",
    "+ Especificidade ou seletividade nos informa a habilidade do modelo em identificar corretamente amostras que não são da classe de interesse\n",
    "\n",
    "$SEL = \\frac{VN}{FP+VN} \\times 100\\%$\n",
    "\n",
    "+ Exatidão fornece uma ideia geral do seu desempenho, considerando o percentual total de acertos\n",
    "\n",
    "$S = \\frac{VP+VN}{VP+FN+FP+VN} \\times 100\\% = 100 - (SEN+SEL)$"
   ]
  },
  {
   "cell_type": "markdown",
   "metadata": {},
   "source": [
    "## Análise Discriminante Linear (LDA)\n",
    "\n",
    "+ Na análise discriminante linear (LDA, do inglês *linear discriminant analysis*), deseja-se definir uma superfície de decisão de modo que as amostras de uma classe estejam de um lado do hiperplano e as amostras da outra classe estejam do outro lado\n",
    "+ A superfície de decisão ou classificador é o hiperplano que satisfaz à seguinte equação\n",
    "\n",
    "$k(x) = a_0 + a_1x_1 + a_2x_2 + a_3x_3 + \\cdots = 0$\n",
    "\n",
    "+ As amostras de uma classe, que ficariam acima do hiperplano, devem ter coordenadas de modo que $k(x) > 0$, enquanto que as amostras da outra classe devem ter $k(x) <0$\n",
    "+ Os valores dos coeficientes $a_j$ podem ser obtidos usando MLR tendo como variável dependente valores binários para discriminar as amostras entre as classes (1 e 0 ou +1 e -1 por exemplo)"
   ]
  },
  {
   "cell_type": "code",
   "execution_count": 196,
   "metadata": {},
   "outputs": [
    {
     "name": "stdout",
     "output_type": "stream",
     "text": [
      "1.0\n",
      "[[1.00e+00 2.04e-04 2.27e-13]\n",
      " [9.99e-01 1.45e-03 3.55e-13]\n",
      " [9.99e-01 7.18e-04 2.42e-11]\n",
      " [1.00e+00 1.31e-06 4.71e-11]\n",
      " [9.20e-01 8.02e-02 2.34e-07]\n",
      " [1.00e+00 9.50e-06 3.50e-12]\n",
      " [1.00e+00 8.28e-06 3.68e-12]\n",
      " [1.00e+00 1.21e-05 1.46e-11]\n",
      " [1.00e+00 2.03e-04 8.24e-12]\n",
      " [1.00e+00 3.86e-04 4.54e-11]\n",
      " [1.00e+00 1.09e-04 2.16e-13]\n",
      " [1.00e+00 1.14e-04 7.60e-11]\n",
      " [1.00e+00 9.32e-05 3.12e-11]\n",
      " [1.00e+00 1.81e-04 5.51e-15]\n",
      " [1.00e+00 3.82e-06 9.38e-14]\n",
      " [1.00e+00 1.90e-05 6.72e-10]\n",
      " [1.00e+00 2.60e-05 3.52e-10]\n",
      " [9.99e-01 7.09e-04 1.51e-10]\n",
      " [1.00e+00 2.95e-06 3.29e-13]\n",
      " [1.00e+00 1.81e-04 1.97e-10]\n",
      " [9.94e-01 6.16e-03 3.13e-12]\n",
      " [9.91e-01 8.60e-03 7.33e-08]\n",
      " [9.97e-01 2.85e-03 2.36e-14]\n",
      " [9.95e-01 5.35e-03 2.83e-11]\n",
      " [9.88e-01 1.17e-02 6.35e-12]\n",
      " [9.56e-01 4.42e-02 2.48e-09]\n",
      " [1.00e+00 1.19e-04 6.91e-12]\n",
      " [9.99e-01 1.20e-03 4.39e-10]\n",
      " [9.98e-01 1.91e-03 7.06e-12]\n",
      " [9.99e-01 8.03e-04 6.56e-11]\n",
      " [9.99e-01 9.12e-04 1.30e-10]\n",
      " [1.00e+00 7.62e-05 5.37e-11]\n",
      " [9.85e-01 1.49e-02 4.12e-12]\n",
      " [1.00e+00 3.56e-04 2.40e-11]\n",
      " [9.99e-01 6.31e-04 3.08e-10]\n",
      " [9.85e-01 1.52e-02 6.59e-11]\n",
      " [1.00e+00 4.92e-04 5.43e-10]\n",
      " [9.97e-01 2.66e-03 3.94e-09]\n",
      " [9.53e-01 4.70e-02 1.09e-11]\n",
      " [1.00e+00 3.88e-05 2.95e-10]\n",
      " [9.86e-01 1.38e-02 3.67e-11]\n",
      " [9.97e-01 3.30e-03 2.59e-09]\n",
      " [1.00e+00 4.84e-05 5.71e-13]\n",
      " [8.08e-01 1.92e-01 1.71e-06]\n",
      " [8.99e-01 1.01e-01 1.06e-10]\n",
      " [1.00e+00 1.88e-05 8.93e-09]\n",
      " [1.00e+00 1.60e-04 8.52e-12]\n",
      " [9.98e-01 2.34e-03 1.01e-11]\n",
      " [9.99e-01 7.36e-04 2.91e-09]\n",
      " [1.00e+00 1.44e-04 4.40e-11]\n",
      " [9.97e-01 2.78e-03 2.47e-11]\n",
      " [1.00e+00 1.26e-04 1.21e-12]\n",
      " [1.00e+00 9.62e-05 1.55e-12]\n",
      " [1.00e+00 1.46e-05 1.91e-10]\n",
      " [1.00e+00 4.69e-04 1.14e-10]\n",
      " [9.98e-01 1.59e-03 4.46e-08]\n",
      " [1.00e+00 3.30e-04 4.19e-10]\n",
      " [1.00e+00 8.64e-05 4.03e-11]\n",
      " [1.00e+00 5.75e-05 3.11e-11]\n",
      " [1.90e-08 1.00e+00 1.61e-04]\n",
      " [3.91e-06 1.00e+00 6.68e-05]\n",
      " [1.49e-08 9.48e-01 5.21e-02]\n",
      " [5.41e-04 9.99e-01 5.25e-07]\n",
      " [6.19e-06 1.00e+00 5.18e-09]\n",
      " [5.65e-07 1.00e+00 4.87e-07]\n",
      " [1.32e-03 9.99e-01 3.62e-08]\n",
      " [2.02e-03 9.98e-01 2.16e-11]\n",
      " [1.01e-05 1.00e+00 2.72e-08]\n",
      " [6.72e-03 9.92e-01 9.66e-04]\n",
      " [5.30e-06 1.00e+00 3.14e-08]\n",
      " [6.39e-06 9.98e-01 1.96e-03]\n",
      " [6.32e-04 9.99e-01 5.49e-09]\n",
      " [5.65e-06 1.00e+00 2.84e-05]\n",
      " [6.76e-03 9.93e-01 3.28e-10]\n",
      " [1.39e-04 1.00e+00 3.32e-07]\n",
      " [2.51e-08 1.00e+00 7.41e-06]\n",
      " [1.40e-06 1.00e+00 2.39e-07]\n",
      " [7.85e-07 1.00e+00 3.07e-05]\n",
      " [8.89e-05 1.00e+00 1.41e-08]\n",
      " [2.86e-05 1.00e+00 1.12e-08]\n",
      " [5.83e-07 1.00e+00 3.91e-10]\n",
      " [1.86e-02 9.81e-01 5.61e-10]\n",
      " [8.80e-07 1.00e+00 2.16e-07]\n",
      " [4.95e-07 8.88e-01 1.12e-01]\n",
      " [1.90e-04 1.00e+00 5.57e-08]\n",
      " [1.40e-04 1.00e+00 1.83e-09]\n",
      " [4.90e-08 1.00e+00 8.13e-07]\n",
      " [2.95e-07 1.00e+00 1.91e-07]\n",
      " [4.86e-06 1.00e+00 6.02e-07]\n",
      " [2.48e-06 1.00e+00 3.24e-08]\n",
      " [6.57e-07 1.00e+00 1.08e-06]\n",
      " [2.87e-08 1.00e+00 5.71e-05]\n",
      " [2.65e-07 1.00e+00 1.26e-05]\n",
      " [1.23e-05 1.00e+00 5.25e-09]\n",
      " [3.02e-07 1.00e+00 5.77e-07]\n",
      " [2.55e-03 9.97e-01 3.22e-10]\n",
      " [9.69e-07 8.36e-01 1.64e-01]\n",
      " [2.56e-05 1.00e+00 4.60e-10]\n",
      " [2.89e-03 9.97e-01 1.26e-11]\n",
      " [8.77e-05 1.00e+00 1.25e-11]\n",
      " [5.47e-05 1.00e+00 6.26e-10]\n",
      " [4.48e-06 1.00e+00 2.13e-07]\n",
      " [5.67e-05 1.00e+00 3.73e-07]\n",
      " [3.35e-09 1.00e+00 5.98e-06]\n",
      " [2.43e-04 1.00e+00 1.50e-09]\n",
      " [3.04e-06 1.00e+00 2.45e-08]\n",
      " [5.53e-05 1.00e+00 5.20e-09]\n",
      " [8.70e-07 1.00e+00 3.90e-06]\n",
      " [1.71e-07 1.00e+00 4.48e-08]\n",
      " [7.17e-03 9.93e-01 3.80e-11]\n",
      " [3.09e-08 1.00e+00 6.47e-07]\n",
      " [7.51e-07 1.00e+00 3.19e-07]\n",
      " [8.90e-04 9.99e-01 5.91e-07]\n",
      " [2.21e-08 1.00e+00 2.22e-06]\n",
      " [4.45e-06 1.00e+00 3.32e-08]\n",
      " [3.13e-08 1.00e+00 1.04e-10]\n",
      " [5.27e-07 1.00e+00 3.57e-08]\n",
      " [6.84e-07 1.00e+00 1.51e-08]\n",
      " [9.45e-07 9.66e-01 3.44e-02]\n",
      " [5.17e-06 1.00e+00 5.38e-08]\n",
      " [3.71e-04 1.00e+00 1.53e-09]\n",
      " [8.46e-02 9.15e-01 6.06e-14]\n",
      " [1.28e-06 1.00e+00 6.08e-06]\n",
      " [5.34e-05 1.00e+00 2.41e-06]\n",
      " [4.32e-05 1.00e+00 7.53e-09]\n",
      " [1.12e-05 1.00e+00 1.81e-09]\n",
      " [1.09e-05 1.00e+00 8.03e-09]\n",
      " [1.53e-08 1.00e+00 5.73e-06]\n",
      " [2.54e-07 1.00e+00 2.69e-08]\n",
      " [1.88e-06 1.00e+00 3.89e-04]\n",
      " [1.02e-06 6.95e-02 9.31e-01]\n",
      " [9.93e-09 2.65e-03 9.97e-01]\n",
      " [2.54e-10 9.31e-03 9.91e-01]\n",
      " [1.00e-09 3.65e-03 9.96e-01]\n",
      " [1.22e-09 2.47e-02 9.75e-01]\n",
      " [1.77e-09 3.44e-03 9.97e-01]\n",
      " [1.52e-09 1.50e-03 9.99e-01]\n",
      " [2.36e-11 5.77e-03 9.94e-01]\n",
      " [5.68e-09 1.47e-03 9.99e-01]\n",
      " [8.31e-10 7.87e-03 9.92e-01]\n",
      " [2.08e-07 1.11e-03 9.99e-01]\n",
      " [2.78e-06 1.63e-04 1.00e+00]\n",
      " [2.66e-08 1.09e-03 9.99e-01]\n",
      " [8.86e-08 9.24e-04 9.99e-01]\n",
      " [1.61e-08 9.67e-05 1.00e+00]\n",
      " [3.77e-08 1.37e-03 9.99e-01]\n",
      " [4.95e-10 1.43e-04 1.00e+00]\n",
      " [5.87e-10 5.40e-05 1.00e+00]\n",
      " [2.77e-10 8.20e-05 1.00e+00]\n",
      " [2.79e-10 1.45e-04 1.00e+00]\n",
      " [7.86e-10 1.26e-04 1.00e+00]\n",
      " [1.83e-11 1.30e-04 1.00e+00]\n",
      " [7.24e-12 2.88e-03 9.97e-01]\n",
      " [3.52e-10 4.49e-05 1.00e+00]\n",
      " [4.22e-11 1.29e-02 9.87e-01]\n",
      " [1.77e-10 8.83e-05 1.00e+00]\n",
      " [5.06e-10 2.51e-05 1.00e+00]\n",
      " [8.29e-11 8.52e-04 9.99e-01]\n",
      " [1.60e-10 7.46e-06 1.00e+00]\n",
      " [3.95e-11 4.31e-05 1.00e+00]\n",
      " [8.45e-12 1.84e-03 9.98e-01]\n",
      " [1.51e-07 1.21e-04 1.00e+00]\n",
      " [5.99e-09 3.77e-03 9.96e-01]\n",
      " [8.31e-08 4.11e-04 1.00e+00]\n",
      " [4.06e-10 5.61e-05 1.00e+00]\n",
      " [3.13e-10 6.37e-04 9.99e-01]\n",
      " [3.27e-10 1.49e-05 1.00e+00]\n",
      " [2.59e-10 4.30e-05 1.00e+00]\n",
      " [5.17e-09 3.59e-05 1.00e+00]\n",
      " [1.32e-09 5.07e-06 1.00e+00]\n",
      " [3.49e-10 6.08e-03 9.94e-01]\n",
      " [7.91e-12 3.14e-04 1.00e+00]\n",
      " [1.33e-08 3.68e-06 1.00e+00]\n",
      " [2.93e-08 3.04e-06 1.00e+00]\n",
      " [1.56e-09 7.56e-05 1.00e+00]\n",
      " [1.59e-09 4.62e-06 1.00e+00]\n",
      " [6.11e-09 3.26e-05 1.00e+00]\n",
      " [2.28e-10 6.51e-06 1.00e+00]]\n"
     ]
    }
   ],
   "source": [
    "from sklearn.discriminant_analysis import LinearDiscriminantAnalysis\n",
    "lda = LinearDiscriminantAnalysis()\n",
    "lda.fit(vinhos.data,vinhos.target)\n",
    "print(lda.score(vinhos.data,vinhos.target))\n",
    "print(lda.predict_proba(vinhos.data))"
   ]
  },
  {
   "cell_type": "code",
   "execution_count": 197,
   "metadata": {},
   "outputs": [
    {
     "name": "stdout",
     "output_type": "stream",
     "text": [
      "Confusion matrix, without normalization\n",
      "[[16  0  0]\n",
      " [ 1 20  0]\n",
      " [ 0  0  8]]\n",
      "Normalized confusion matrix\n",
      "[[1.   0.   0.  ]\n",
      " [0.05 0.95 0.  ]\n",
      " [0.   0.   1.  ]]\n"
     ]
    },
    {
     "data": {
      "image/png": "[encoded data removed]",
      "text/plain": [
       "<Figure size 432x288 with 2 Axes>"
      ]
     },
     "metadata": {
      "needs_background": "light"
     },
     "output_type": "display_data"
    },
    {
     "data": {
      "image/png": "[encoded data removed]",
      "text/plain": [
       "<Figure size 432x288 with 2 Axes>"
      ]
     },
     "metadata": {
      "needs_background": "light"
     },
     "output_type": "display_data"
    }
   ],
   "source": [
    "y_pred = lda.fit(X_train, y_train).predict(X_test)\n",
    "# Plot non-normalized confusion matrix\n",
    "plot_confusion_matrix(y_test, y_pred, classes=class_names,\n",
    "                      title='Confusion matrix, without normalization')\n",
    "\n",
    "# Plot normalized confusion matrix\n",
    "plot_confusion_matrix(y_test, y_pred, classes=class_names, normalize=True,\n",
    "                      title='Normalized confusion matrix')\n",
    "\n",
    "plt.show()"
   ]
  },
  {
   "cell_type": "code",
   "execution_count": 199,
   "metadata": {},
   "outputs": [
    {
     "name": "stdout",
     "output_type": "stream",
     "text": [
      "['A' 'A' 'A' 'B' 'B' 'B' 'B' 'B']\n",
      "Confusion matrix, without normalization\n",
      "[[3 0]\n",
      " [0 5]]\n",
      "Normalized confusion matrix\n",
      "[[1. 0.]\n",
      " [0. 1.]]\n"
     ]
    },
    {
     "data": {
      "image/png": "[encoded data removed]",
      "text/plain": [
       "<Figure size 432x288 with 2 Axes>"
      ]
     },
     "metadata": {
      "needs_background": "light"
     },
     "output_type": "display_data"
    },
    {
     "data": {
      "image/png": "[encoded data removed]",
      "text/plain": [
       "<Figure size 432x288 with 2 Axes>"
      ]
     },
     "metadata": {
      "needs_background": "light"
     },
     "output_type": "display_data"
    }
   ],
   "source": [
    "lda.fit(scaler.fit_transform(X_lap_train), y_lap_train)\n",
    "y_lap_pred = lda.predict(scaler.transform(X_lap_test))\n",
    "print(y_lap_pred)\n",
    "class_names_lap = lap[\"Classe\"]\n",
    "\n",
    "np.set_printoptions(precision=2)\n",
    "\n",
    "# Plot non-normalized confusion matrix\n",
    "plot_confusion_matrix(y_lap_test, y_lap_pred, classes=class_names_lap,\n",
    "                      title='Confusion matrix, without normalization')\n",
    "\n",
    "# Plot normalized confusion matrix\n",
    "plot_confusion_matrix(y_lap_test, y_lap_pred, classes=class_names_lap, normalize=True,\n",
    "                      title='Normalized confusion matrix')\n",
    "\n",
    "plt.show()"
   ]
  },
  {
   "cell_type": "markdown",
   "metadata": {},
   "source": [
    "## [Comparação entre LDA e PCA](plot_pca_vs_lda.ipynb)"
   ]
  },
  {
   "cell_type": "markdown",
   "metadata": {},
   "source": [
    "## Análise Discriminante Quadrática (QDA)\n",
    "\n",
    "+ Na análise discriminante quadrática (QDA, do inglês *quadratic discriminant analysis*), utiliza-se um modelo quadrático para discriminar as amostras"
   ]
  },
  {
   "cell_type": "code",
   "execution_count": 51,
   "metadata": {},
   "outputs": [
    {
     "name": "stdout",
     "output_type": "stream",
     "text": [
      "0.9943820224719101\n",
      "[[1.00000000e+000 5.56695053e-013 2.81290047e-104]\n",
      " [1.00000000e+000 2.15196585e-010 5.41641570e-093]\n",
      " [9.99999996e-001 3.75191795e-009 2.81915213e-111]\n",
      " [1.00000000e+000 9.14465538e-021 4.27693411e-139]\n",
      " [9.99813289e-001 1.86710674e-004 1.81348407e-053]\n",
      " [1.00000000e+000 3.19441236e-018 1.18627130e-134]\n",
      " [1.00000000e+000 3.88251585e-017 2.01777917e-092]\n",
      " [1.00000000e+000 2.63951727e-014 6.78697452e-083]\n",
      " [1.00000000e+000 5.55270310e-011 6.19042781e-094]\n",
      " [1.00000000e+000 3.75307636e-011 1.06701582e-105]\n",
      " [1.00000000e+000 1.94701207e-015 7.75783880e-135]\n",
      " [1.00000000e+000 5.35510748e-012 1.19447935e-075]\n",
      " [1.00000000e+000 1.45633706e-014 7.87943784e-099]\n",
      " [1.00000000e+000 9.12497478e-018 7.37621509e-162]\n",
      " [1.00000000e+000 2.89872764e-025 6.96234615e-164]\n",
      " [1.00000000e+000 5.29597563e-013 1.00537983e-091]\n",
      " [1.00000000e+000 1.48402047e-011 1.00092346e-094]\n",
      " [9.99999983e-001 1.66575471e-008 4.86838433e-110]\n",
      " [1.00000000e+000 1.74945581e-024 2.93925980e-200]\n",
      " [9.99999978e-001 2.23701242e-008 5.63620714e-081]\n",
      " [9.99999952e-001 4.76352560e-008 2.72083237e-094]\n",
      " [9.99984225e-001 1.57753229e-005 5.11611193e-060]\n",
      " [1.00000000e+000 1.66175507e-010 3.13454658e-110]\n",
      " [9.99999580e-001 4.20162623e-007 2.70493888e-069]\n",
      " [9.99996893e-001 3.10682380e-006 1.85297875e-080]\n",
      " [9.97839541e-001 2.16045913e-003 3.92056998e-063]\n",
      " [1.00000000e+000 3.56672402e-011 4.31147598e-108]\n",
      " [9.99999993e-001 7.39006618e-009 1.40796179e-060]\n",
      " [9.99999953e-001 4.66848839e-008 1.90380879e-089]\n",
      " [9.99999999e-001 9.63255646e-010 1.74459356e-067]\n",
      " [9.99999999e-001 5.70659158e-010 1.73251758e-104]\n",
      " [1.00000000e+000 8.78487877e-016 2.54383955e-117]\n",
      " [9.99999505e-001 4.94929801e-007 4.22083746e-078]\n",
      " [9.99999998e-001 1.52337068e-009 6.96019293e-084]\n",
      " [9.99999946e-001 5.37568214e-008 3.65692493e-062]\n",
      " [9.99978891e-001 2.11091536e-005 5.59243990e-091]\n",
      " [9.99999407e-001 5.92772790e-007 2.48589772e-064]\n",
      " [9.99999236e-001 7.64006208e-007 6.77050333e-057]\n",
      " [9.99991513e-001 8.48724235e-006 3.55738074e-071]\n",
      " [1.00000000e+000 2.21892840e-011 1.35319561e-083]\n",
      " [9.99999812e-001 1.88271024e-007 4.73248761e-097]\n",
      " [9.99997698e-001 2.30238838e-006 4.99286216e-081]\n",
      " [1.00000000e+000 1.07553582e-011 1.55864135e-136]\n",
      " [9.92296983e-001 7.70301746e-003 2.87873384e-059]\n",
      " [9.99276188e-001 7.23812456e-004 6.50870217e-087]\n",
      " [9.99999999e-001 5.15197396e-010 4.13122655e-080]\n",
      " [1.00000000e+000 3.24661605e-011 2.62380221e-110]\n",
      " [9.99999982e-001 1.76518646e-008 1.12412424e-114]\n",
      " [9.99999995e-001 4.54976425e-009 3.40567581e-077]\n",
      " [1.00000000e+000 4.17388586e-014 2.08855579e-133]\n",
      " [1.00000000e+000 8.14521792e-011 1.77244041e-112]\n",
      " [1.00000000e+000 2.23090191e-014 4.29648118e-114]\n",
      " [1.00000000e+000 9.75612189e-014 5.89212642e-148]\n",
      " [1.00000000e+000 5.71919366e-015 9.76371809e-091]\n",
      " [9.99999868e-001 1.31934374e-007 2.09146039e-079]\n",
      " [9.99999625e-001 3.75250685e-007 8.25911326e-060]\n",
      " [1.00000000e+000 2.09811214e-010 1.68360225e-081]\n",
      " [1.00000000e+000 1.03751701e-012 2.40581795e-114]\n",
      " [1.00000000e+000 9.37556717e-012 3.75524468e-128]\n",
      " [3.25276171e-029 1.00000000e+000 3.18245108e-018]\n",
      " [4.84202440e-018 1.00000000e+000 1.44885955e-012]\n",
      " [8.77844702e-021 9.99999998e-001 1.54830397e-009]\n",
      " [2.59044549e-009 9.99999997e-001 4.90208267e-032]\n",
      " [1.30869100e-019 1.00000000e+000 1.97238313e-075]\n",
      " [7.80733284e-011 1.00000000e+000 8.83801174e-027]\n",
      " [2.49908122e-002 9.75009188e-001 2.66570433e-052]\n",
      " [3.24277481e-006 9.99996757e-001 2.77197394e-105]\n",
      " [1.15111492e-008 9.99999988e-001 8.34276765e-056]\n",
      " [1.05943381e-011 1.00000000e+000 2.90830681e-014]\n",
      " [9.15076701e-030 1.00000000e+000 1.41724505e-053]\n",
      " [2.02707187e-012 9.99997802e-001 2.19839296e-006]\n",
      " [1.34810093e-017 1.00000000e+000 2.72646090e-065]\n",
      " [2.32622545e-008 9.99999977e-001 1.60081412e-028]\n",
      " [9.64513186e-018 1.00000000e+000 2.49669146e-073]\n",
      " [2.11564448e-016 1.00000000e+000 3.12587907e-038]\n",
      " [1.28594972e-011 1.00000000e+000 8.44866843e-024]\n",
      " [4.90558963e-011 1.00000000e+000 2.46329104e-040]\n",
      " [8.69373271e-008 9.99999913e-001 1.53004371e-012]\n",
      " [6.51663107e-019 1.00000000e+000 1.48211567e-033]\n",
      " [9.63515789e-008 9.99999904e-001 2.27771283e-062]\n",
      " [4.29578013e-015 1.00000000e+000 5.15440431e-063]\n",
      " [6.70150684e-001 3.29849316e-001 8.15779842e-068]\n",
      " [3.86523781e-008 9.99999961e-001 2.36012755e-033]\n",
      " [2.06801565e-020 1.00000000e+000 8.86625279e-018]\n",
      " [2.39954287e-006 9.99997600e-001 7.64464515e-048]\n",
      " [1.08722875e-004 9.99891277e-001 6.49718270e-038]\n",
      " [1.06022436e-007 9.99999894e-001 1.39632205e-031]\n",
      " [7.98394989e-009 9.99999992e-001 1.90043466e-041]\n",
      " [1.55513169e-007 9.99999844e-001 2.23042401e-031]\n",
      " [6.00863766e-009 9.99999994e-001 1.42906868e-039]\n",
      " [2.48884987e-010 1.00000000e+000 4.79349579e-027]\n",
      " [8.93417750e-013 1.00000000e+000 1.46813275e-023]\n",
      " [4.66143331e-017 1.00000000e+000 7.44656686e-023]\n",
      " [2.72134864e-006 9.99997279e-001 9.75846441e-060]\n",
      " [9.77986260e-018 1.00000000e+000 6.72291029e-040]\n",
      " [6.83748456e-029 1.00000000e+000 1.87098071e-047]\n",
      " [2.08055314e-014 1.00000000e+000 9.53861917e-012]\n",
      " [1.44074934e-008 9.99999986e-001 1.15466174e-059]\n",
      " [2.27876580e-008 9.99999977e-001 2.78856034e-117]\n",
      " [1.84038840e-013 1.00000000e+000 1.11132804e-100]\n",
      " [3.73818258e-008 9.99999963e-001 1.60123691e-057]\n",
      " [1.00881465e-005 9.99989912e-001 8.78804606e-026]\n",
      " [1.94617529e-002 9.80538247e-001 3.62496598e-042]\n",
      " [1.32221745e-012 1.00000000e+000 5.28451456e-026]\n",
      " [8.72713440e-004 9.99127287e-001 1.17692516e-055]\n",
      " [4.45835990e-019 1.00000000e+000 2.30433332e-056]\n",
      " [1.70797884e-006 9.99998292e-001 5.69794806e-055]\n",
      " [8.10124397e-014 1.00000000e+000 4.17593678e-032]\n",
      " [5.64335072e-008 9.99999944e-001 1.45948509e-047]\n",
      " [1.27441313e-005 9.99987256e-001 8.69688765e-083]\n",
      " [4.31105719e-021 1.00000000e+000 5.64022437e-076]\n",
      " [1.24348070e-005 9.99987565e-001 5.25364906e-040]\n",
      " [2.02630650e-008 9.99999980e-001 1.45600732e-044]\n",
      " [1.62087470e-010 1.00000000e+000 4.02806805e-027]\n",
      " [6.06614583e-008 9.99999939e-001 1.81157248e-051]\n",
      " [1.26654310e-027 1.00000000e+000 5.97123150e-082]\n",
      " [2.20848074e-006 9.99997792e-001 2.05847054e-042]\n",
      " [7.11837014e-004 9.99288163e-001 4.59229840e-042]\n",
      " [1.97144731e-016 1.00000000e+000 4.99320962e-010]\n",
      " [8.65592471e-007 9.99999134e-001 4.93667808e-041]\n",
      " [4.74534714e-006 9.99995255e-001 4.61403327e-075]\n",
      " [3.29099858e-033 1.00000000e+000 2.09705533e-254]\n",
      " [8.83889397e-005 9.99911611e-001 1.09409048e-044]\n",
      " [9.39084302e-007 9.99999061e-001 8.79172103e-072]\n",
      " [1.45198294e-008 9.99999985e-001 3.50022999e-109]\n",
      " [1.23911089e-006 9.99998761e-001 9.55628307e-075]\n",
      " [2.36255118e-010 1.00000000e+000 2.30865440e-085]\n",
      " [7.07842821e-011 1.00000000e+000 1.43210137e-044]\n",
      " [6.70150837e-007 9.99999330e-001 3.57578448e-055]\n",
      " [7.77076261e-008 9.99999922e-001 4.85245999e-027]\n",
      " [5.81151259e-022 3.21867825e-005 9.99967813e-001]\n",
      " [5.35367977e-024 2.96681253e-008 9.99999970e-001]\n",
      " [3.05605960e-029 2.86863378e-009 9.99999997e-001]\n",
      " [2.38311343e-021 4.06565708e-009 9.99999996e-001]\n",
      " [2.17257170e-043 1.96545326e-009 9.99999998e-001]\n",
      " [1.00726443e-047 5.08696912e-013 1.00000000e+000]\n",
      " [4.54662277e-029 3.59029283e-005 9.99964097e-001]\n",
      " [3.76534232e-037 4.37860145e-012 1.00000000e+000]\n",
      " [8.38223610e-041 4.40026831e-011 1.00000000e+000]\n",
      " [1.48287185e-029 7.89491613e-011 1.00000000e+000]\n",
      " [9.88169906e-028 6.94307292e-007 9.99999306e-001]\n",
      " [2.13250056e-027 1.75896354e-007 9.99999824e-001]\n",
      " [2.03629308e-027 1.37606806e-007 9.99999862e-001]\n",
      " [1.06919446e-024 1.84319845e-007 9.99999816e-001]\n",
      " [1.78104854e-035 1.44778897e-018 1.00000000e+000]\n",
      " [2.48302216e-026 2.54832706e-004 9.99745167e-001]\n",
      " [1.05675425e-046 1.02956742e-008 9.99999990e-001]\n",
      " [9.80661295e-052 4.90903109e-021 1.00000000e+000]\n",
      " [2.49620144e-054 5.41123842e-025 1.00000000e+000]\n",
      " [1.32314547e-046 3.97506848e-022 1.00000000e+000]\n",
      " [4.33008303e-042 6.41051248e-020 1.00000000e+000]\n",
      " [1.76905365e-060 1.62526212e-034 1.00000000e+000]\n",
      " [1.41849669e-036 3.60242637e-018 1.00000000e+000]\n",
      " [3.38725483e-079 7.58167578e-040 1.00000000e+000]\n",
      " [1.75086931e-053 2.16605819e-016 1.00000000e+000]\n",
      " [4.96918803e-060 2.29778211e-025 1.00000000e+000]\n",
      " [6.80387692e-065 2.81168440e-030 1.00000000e+000]\n",
      " [5.24813076e-048 9.22836865e-021 1.00000000e+000]\n",
      " [2.92993725e-096 3.30757983e-080 1.00000000e+000]\n",
      " [2.99757163e-088 2.90577348e-062 1.00000000e+000]\n",
      " [5.28204173e-048 4.70103212e-020 1.00000000e+000]\n",
      " [4.72611830e-031 5.67173153e-011 1.00000000e+000]\n",
      " [2.95496686e-031 1.65815646e-010 1.00000000e+000]\n",
      " [5.29736988e-028 1.85747389e-007 9.99999814e-001]\n",
      " [2.33262230e-063 4.35556474e-028 1.00000000e+000]\n",
      " [6.18203911e-047 5.35615733e-015 1.00000000e+000]\n",
      " [7.38748539e-058 3.92572297e-038 1.00000000e+000]\n",
      " [3.47002491e-064 1.06376678e-033 1.00000000e+000]\n",
      " [4.66995088e-045 2.81303805e-024 1.00000000e+000]\n",
      " [1.01813222e-041 1.82338446e-027 1.00000000e+000]\n",
      " [6.85325483e-033 1.11003237e-007 9.99999889e-001]\n",
      " [1.31640132e-077 2.12304410e-030 1.00000000e+000]\n",
      " [7.00569239e-069 6.29226391e-032 1.00000000e+000]\n",
      " [1.17330741e-052 3.46041202e-023 1.00000000e+000]\n",
      " [1.09876840e-039 3.81852640e-019 1.00000000e+000]\n",
      " [7.16183654e-059 1.91196627e-033 1.00000000e+000]\n",
      " [9.46713553e-057 1.49191344e-026 1.00000000e+000]\n",
      " [7.46610503e-070 4.92368777e-036 1.00000000e+000]]\n"
     ]
    }
   ],
   "source": [
    "from sklearn.discriminant_analysis import QuadraticDiscriminantAnalysis\n",
    "qda = QuadraticDiscriminantAnalysis()\n",
    "qda.fit(vinhos.data,vinhos.target)\n",
    "print(qda.score(vinhos.data,vinhos.target))\n",
    "print(qda.predict_proba(vinhos.data))"
   ]
  },
  {
   "cell_type": "code",
   "execution_count": 191,
   "metadata": {},
   "outputs": [
    {
     "name": "stdout",
     "output_type": "stream",
     "text": [
      "Confusion matrix, without normalization\n",
      "[[16  0  0]\n",
      " [ 0 21  0]\n",
      " [ 0  0  8]]\n",
      "Normalized confusion matrix\n",
      "[[1. 0. 0.]\n",
      " [0. 1. 0.]\n",
      " [0. 0. 1.]]\n"
     ]
    },
    {
     "data": {
      "image/png": "[encoded data removed]",
      "text/plain": [
       "<Figure size 432x288 with 2 Axes>"
      ]
     },
     "metadata": {
      "needs_background": "light"
     },
     "output_type": "display_data"
    },
    {
     "data": {
      "image/png": "[encoded data removed]",
      "text/plain": [
       "<Figure size 432x288 with 2 Axes>"
      ]
     },
     "metadata": {
      "needs_background": "light"
     },
     "output_type": "display_data"
    }
   ],
   "source": [
    "y_pred = qda.fit(X_train, y_train).predict(X_test)\n",
    "# Plot non-normalized confusion matrix\n",
    "plot_confusion_matrix(y_test, y_pred, classes=class_names,\n",
    "                      title='Confusion matrix, without normalization')\n",
    "\n",
    "# Plot normalized confusion matrix\n",
    "plot_confusion_matrix(y_test, y_pred, classes=class_names, normalize=True,\n",
    "                      title='Normalized confusion matrix')\n",
    "\n",
    "plt.show()"
   ]
  },
  {
   "cell_type": "code",
   "execution_count": 200,
   "metadata": {},
   "outputs": [
    {
     "name": "stderr",
     "output_type": "stream",
     "text": [
      "/home/jpam/anaconda3/lib/python3.7/site-packages/sklearn/discriminant_analysis.py:692: UserWarning: Variables are collinear\n"
     ]
    },
    {
     "name": "stdout",
     "output_type": "stream",
     "text": [
      "['B' 'A' 'A' 'B' 'B' 'B' 'B' 'B']\n",
      "Confusion matrix, without normalization\n",
      "[[2 1]\n",
      " [0 5]]\n",
      "Normalized confusion matrix\n",
      "[[0.67 0.33]\n",
      " [0.   1.  ]]\n"
     ]
    },
    {
     "data": {
      "image/png": "[encoded data removed]",
      "text/plain": [
       "<Figure size 432x288 with 2 Axes>"
      ]
     },
     "metadata": {
      "needs_background": "light"
     },
     "output_type": "display_data"
    },
    {
     "data": {
      "image/png": "[encoded data removed]",
      "text/plain": [
       "<Figure size 432x288 with 2 Axes>"
      ]
     },
     "metadata": {
      "needs_background": "light"
     },
     "output_type": "display_data"
    }
   ],
   "source": [
    "qda.fit(scaler.fit_transform(X_lap_train), y_lap_train)\n",
    "y_lap_pred = qda.predict(scaler.transform(X_lap_test))\n",
    "print(y_lap_pred)\n",
    "class_names_lap = lap[\"Classe\"]\n",
    "\n",
    "np.set_printoptions(precision=2)\n",
    "\n",
    "# Plot non-normalized confusion matrix\n",
    "plot_confusion_matrix(y_lap_test, y_lap_pred, classes=class_names_lap,\n",
    "                      title='Confusion matrix, without normalization')\n",
    "\n",
    "# Plot normalized confusion matrix\n",
    "plot_confusion_matrix(y_lap_test, y_lap_pred, classes=class_names_lap, normalize=True,\n",
    "                      title='Normalized confusion matrix')\n",
    "\n",
    "plt.show()"
   ]
  },
  {
   "cell_type": "markdown",
   "metadata": {},
   "source": [
    "## [Comparação entre LDA e QDA](plot_lda_qda.ipynb)"
   ]
  },
  {
   "cell_type": "markdown",
   "metadata": {},
   "source": [
    "## Máquinas de suporte vetorial (SVM)\n",
    "\n",
    "+ Uma máquina de suporte vetorial (SVM, do inglês Support Vector Machine), constrói um hiperplano ou conjunto de hiperplanos em um espaço de maior dmensão ou dimensão infinita, que pode ser usado para classificação ou regressão\n",
    "+ Intuitivamente, uma boa separação é alcançada pelo hiperplano que tem a maior distância para os vizinhos mais próximos de cada classe no conjunto de treinamento (distÂncia conhecida como **margem**)\n",
    "\n",
    "![svm](svm.png)\n",
    "\n"
   ]
  },
  {
   "cell_type": "code",
   "execution_count": 202,
   "metadata": {},
   "outputs": [
    {
     "name": "stdout",
     "output_type": "stream",
     "text": [
      "0.7808988764044944\n",
      "[0 0 0 0 2 0 0 0 0 0 0 0 0 0 0 0 0 0 0 0 0 2 0 0 0 0 0 0 0 0 0 0 0 0 0 0 0\n",
      " 0 0 0 0 0 0 2 0 0 0 0 0 0 0 0 0 0 0 0 0 0 0 1 2 1 2 1 1 2 1 1 2 1 0 1 1 1\n",
      " 0 1 1 2 1 1 1 2 2 1 1 1 1 2 2 2 1 1 1 1 1 1 2 1 2 1 2 2 1 1 2 1 1 1 1 2 2\n",
      " 1 2 1 1 1 1 1 1 2 2 1 1 1 1 1 1 1 1 2 2 2 2 2 2 2 2 2 2 2 2 2 2 2 0 0 1 2\n",
      " 2 2 2 1 1 2 2 2 1 0 2 2 1 2 2 2 2 1 2 2 2 2 1 1 2 2 2 0 0 2]\n"
     ]
    }
   ],
   "source": [
    "from sklearn.svm import SVC\n",
    "svc = SVC(gamma=\"scale\")\n",
    "svc.fit(vinhos.data,vinhos.target)\n",
    "print(svc.score(vinhos.data,vinhos.target))\n",
    "print(svc.predict(vinhos.data))"
   ]
  },
  {
   "cell_type": "code",
   "execution_count": 203,
   "metadata": {},
   "outputs": [
    {
     "name": "stdout",
     "output_type": "stream",
     "text": [
      "Confusion matrix, without normalization\n",
      "[[14  1  1]\n",
      " [ 0 15  6]\n",
      " [ 3  3  2]]\n",
      "Normalized confusion matrix\n",
      "[[0.88 0.06 0.06]\n",
      " [0.   0.71 0.29]\n",
      " [0.38 0.38 0.25]]\n"
     ]
    },
    {
     "data": {
      "image/png": "[encoded data removed]",
      "text/plain": [
       "<Figure size 432x288 with 2 Axes>"
      ]
     },
     "metadata": {
      "needs_background": "light"
     },
     "output_type": "display_data"
    },
    {
     "data": {
      "image/png": "[encoded data removed]",
      "text/plain": [
       "<Figure size 432x288 with 2 Axes>"
      ]
     },
     "metadata": {
      "needs_background": "light"
     },
     "output_type": "display_data"
    }
   ],
   "source": [
    "y_pred = svc.fit(X_train, y_train).predict(X_test)\n",
    "# Plot non-normalized confusion matrix\n",
    "plot_confusion_matrix(y_test, y_pred, classes=class_names,\n",
    "                      title='Confusion matrix, without normalization')\n",
    "\n",
    "# Plot normalized confusion matrix\n",
    "plot_confusion_matrix(y_test, y_pred, classes=class_names, normalize=True,\n",
    "                      title='Normalized confusion matrix')\n",
    "\n",
    "plt.show()"
   ]
  },
  {
   "cell_type": "code",
   "execution_count": 206,
   "metadata": {},
   "outputs": [
    {
     "name": "stdout",
     "output_type": "stream",
     "text": [
      "0.9943820224719101\n",
      "[0 0 0 0 0 0 0 0 0 0 0 0 0 0 0 0 0 0 0 0 0 0 0 0 0 0 0 0 0 0 0 0 0 0 0 0 0\n",
      " 0 0 0 0 0 0 0 0 0 0 0 0 0 0 0 0 0 0 0 0 0 0 1 1 2 1 1 1 1 1 1 1 1 1 1 1 1\n",
      " 1 1 1 1 1 1 1 1 1 1 1 1 1 1 1 1 1 1 1 1 1 1 1 1 1 1 1 1 1 1 1 1 1 1 1 1 1\n",
      " 1 1 1 1 1 1 1 1 1 1 1 1 1 1 1 1 1 1 1 2 2 2 2 2 2 2 2 2 2 2 2 2 2 2 2 2 2\n",
      " 2 2 2 2 2 2 2 2 2 2 2 2 2 2 2 2 2 2 2 2 2 2 2 2 2 2 2 2 2 2]\n",
      "{'C': 1, 'kernel': 'linear'}\n"
     ]
    },
    {
     "name": "stderr",
     "output_type": "stream",
     "text": [
      "/home/jpam/anaconda3/lib/python3.7/site-packages/sklearn/model_selection/_search.py:841: DeprecationWarning: The default of the `iid` parameter will change from True to False in version 0.22 and will be removed in 0.24. This will change numeric results when test-set sizes are unequal.\n",
      "  DeprecationWarning)\n"
     ]
    }
   ],
   "source": [
    "parameters = {'kernel':('linear', 'rbf'), 'C':[1, 10]}\n",
    "clf = GridSearchCV(svc, parameters, cv=5)\n",
    "clf.fit(vinhos.data,vinhos.target)\n",
    "print(clf.score(vinhos.data,vinhos.target))\n",
    "print(clf.predict(vinhos.data))\n",
    "print(clf.best_params_)"
   ]
  },
  {
   "cell_type": "code",
   "execution_count": 207,
   "metadata": {},
   "outputs": [
    {
     "name": "stderr",
     "output_type": "stream",
     "text": [
      "/home/jpam/anaconda3/lib/python3.7/site-packages/sklearn/model_selection/_search.py:841: DeprecationWarning: The default of the `iid` parameter will change from True to False in version 0.22 and will be removed in 0.24. This will change numeric results when test-set sizes are unequal.\n",
      "  DeprecationWarning)\n"
     ]
    },
    {
     "name": "stdout",
     "output_type": "stream",
     "text": [
      "Confusion matrix, without normalization\n",
      "[[16  0  0]\n",
      " [ 0 20  1]\n",
      " [ 0  0  8]]\n",
      "Normalized confusion matrix\n",
      "[[1.   0.   0.  ]\n",
      " [0.   0.95 0.05]\n",
      " [0.   0.   1.  ]]\n"
     ]
    },
    {
     "data": {
      "image/png": "[encoded data removed]",
      "text/plain": [
       "<Figure size 432x288 with 2 Axes>"
      ]
     },
     "metadata": {
      "needs_background": "light"
     },
     "output_type": "display_data"
    },
    {
     "data": {
      "image/png": "[encoded data removed]",
      "text/plain": [
       "<Figure size 432x288 with 2 Axes>"
      ]
     },
     "metadata": {
      "needs_background": "light"
     },
     "output_type": "display_data"
    }
   ],
   "source": [
    "y_pred = clf.fit(X_train, y_train).predict(X_test)\n",
    "# Plot non-normalized confusion matrix\n",
    "plot_confusion_matrix(y_test, y_pred, classes=class_names,\n",
    "                      title='Confusion matrix, without normalization')\n",
    "\n",
    "# Plot normalized confusion matrix\n",
    "plot_confusion_matrix(y_test, y_pred, classes=class_names, normalize=True,\n",
    "                      title='Normalized confusion matrix')\n",
    "\n",
    "plt.show()"
   ]
  },
  {
   "cell_type": "code",
   "execution_count": 209,
   "metadata": {},
   "outputs": [
    {
     "name": "stdout",
     "output_type": "stream",
     "text": [
      "['B' 'A' 'A' 'B' 'B' 'B' 'B' 'B']\n",
      "Confusion matrix, without normalization\n",
      "[[2 1]\n",
      " [0 5]]\n",
      "Normalized confusion matrix\n",
      "[[0.67 0.33]\n",
      " [0.   1.  ]]\n"
     ]
    },
    {
     "name": "stderr",
     "output_type": "stream",
     "text": [
      "/home/jpam/anaconda3/lib/python3.7/site-packages/sklearn/model_selection/_search.py:841: DeprecationWarning: The default of the `iid` parameter will change from True to False in version 0.22 and will be removed in 0.24. This will change numeric results when test-set sizes are unequal.\n",
      "  DeprecationWarning)\n"
     ]
    },
    {
     "data": {
      "image/png": "[encoded data removed]",
      "text/plain": [
       "<Figure size 432x288 with 2 Axes>"
      ]
     },
     "metadata": {
      "needs_background": "light"
     },
     "output_type": "display_data"
    },
    {
     "data": {
      "image/png": "[encoded data removed]",
      "text/plain": [
       "<Figure size 432x288 with 2 Axes>"
      ]
     },
     "metadata": {
      "needs_background": "light"
     },
     "output_type": "display_data"
    }
   ],
   "source": [
    "clf = GridSearchCV(svc, parameters, cv=5)\n",
    "clf.fit(scaler.fit_transform(X_lap_train), y_lap_train)\n",
    "y_lap_pred = qda.predict(scaler.transform(X_lap_test))\n",
    "print(y_lap_pred)\n",
    "class_names_lap = lap[\"Classe\"]\n",
    "\n",
    "np.set_printoptions(precision=2)\n",
    "\n",
    "# Plot non-normalized confusion matrix\n",
    "plot_confusion_matrix(y_lap_test, y_lap_pred, classes=class_names_lap,\n",
    "                      title='Confusion matrix, without normalization')\n",
    "\n",
    "# Plot normalized confusion matrix\n",
    "plot_confusion_matrix(y_lap_test, y_lap_pred, classes=class_names_lap, normalize=True,\n",
    "                      title='Normalized confusion matrix')\n",
    "\n",
    "plt.show()"
   ]
  },
  {
   "cell_type": "code",
   "execution_count": 215,
   "metadata": {},
   "outputs": [
    {
     "data": {
      "text/plain": [
       "{'C': 1, 'kernel': 'linear'}"
      ]
     },
     "execution_count": 215,
     "metadata": {},
     "output_type": "execute_result"
    }
   ],
   "source": [
    "clf.best_params_"
   ]
  },
  {
   "cell_type": "code",
   "execution_count": 216,
   "metadata": {},
   "outputs": [
    {
     "data": {
      "text/plain": [
       "SVC(C=1, cache_size=200, class_weight=None, coef0=0.0,\n",
       "  decision_function_shape='ovr', degree=3, gamma='auto_deprecated',\n",
       "  kernel='linear', max_iter=-1, probability=False, random_state=None,\n",
       "  shrinking=True, tol=0.001, verbose=False)"
      ]
     },
     "execution_count": 216,
     "metadata": {},
     "output_type": "execute_result"
    }
   ],
   "source": [
    "svc = SVC(kernel=\"linear\",C=1)\n",
    "svc.fit(scaler.fit_transform(X_lap_train),y_lap_train)"
   ]
  },
  {
   "cell_type": "code",
   "execution_count": 217,
   "metadata": {},
   "outputs": [
    {
     "data": {
      "text/plain": [
       "array([[-0.04, -1.  , -1.  ,  1.  ,  0.03,  0.02,  1.  ]])"
      ]
     },
     "execution_count": 217,
     "metadata": {},
     "output_type": "execute_result"
    }
   ],
   "source": [
    "svc.dual_coef_"
   ]
  },
  {
   "cell_type": "code",
   "execution_count": 218,
   "metadata": {},
   "outputs": [
    {
     "data": {
      "text/plain": [
       "array([ 0,  6,  7,  8,  9, 14, 16], dtype=int32)"
      ]
     },
     "execution_count": 218,
     "metadata": {},
     "output_type": "execute_result"
    }
   ],
   "source": [
    "svc.support_"
   ]
  },
  {
   "cell_type": "code",
   "execution_count": 219,
   "metadata": {},
   "outputs": [
    {
     "data": {
      "text/plain": [
       "array([[-0.78, -1.02, -0.94, -0.93, -0.4 ,  1.59,  0.63,  0.72,  3.77,\n",
       "         3.76],\n",
       "       [-0.65, -0.91, -0.79, -0.72, -0.58, -0.02,  0.98,  1.05, -0.07,\n",
       "         0.11],\n",
       "       [-0.41, -0.44, -0.12, -0.54,  2.36, -1.1 , -0.12, -1.  , -0.64,\n",
       "        -0.03],\n",
       "       [ 0.06,  0.44, -0.22, -0.19,  2.36, -1.1 ,  0.24, -0.98, -0.23,\n",
       "        -0.09],\n",
       "       [-0.58,  1.34,  1.33,  1.42, -0.45,  0.18, -1.39, -1.03, -0.57,\n",
       "        -0.68],\n",
       "       [ 0.27,  0.82, -0.12, -0.01,  1.66, -1.3 ,  0.09, -0.98, -0.73,\n",
       "        -0.12],\n",
       "       [-0.71, -0.95, -0.84, -0.75, -0.59, -0.02,  1.06,  1.09, -0.01,\n",
       "         0.17]])"
      ]
     },
     "execution_count": 219,
     "metadata": {},
     "output_type": "execute_result"
    }
   ],
   "source": [
    "svc.support_vectors_"
   ]
  },
  {
   "cell_type": "code",
   "execution_count": 220,
   "metadata": {},
   "outputs": [
    {
     "data": {
      "text/plain": [
       "array([[-0.78, -1.02, -0.94, -0.93, -0.4 ,  1.59,  0.63,  0.72,  3.77,\n",
       "         3.76],\n",
       "       [-0.79, -1.03, -0.94, -1.  , -0.31,  1.86,  0.77,  1.14, -0.04,\n",
       "        -0.09],\n",
       "       [-0.77, -0.99, -1.  , -0.99, -0.55,  0.38,  1.11,  1.07,  0.09,\n",
       "         0.17],\n",
       "       [-0.68, -0.94, -0.79, -0.79, -0.27,  0.79,  0.84,  1.1 ,  0.02,\n",
       "         0.07],\n",
       "       [-0.77, -0.96, -0.79, -0.99, -0.55,  0.38,  1.06,  1.  , -0.01,\n",
       "         0.17],\n",
       "       [-0.78, -1.03, -0.89, -0.9 , -0.45,  1.32,  0.99,  1.23, -0.23,\n",
       "        -0.06],\n",
       "       [-0.65, -0.91, -0.79, -0.72, -0.58, -0.02,  0.98,  1.05, -0.07,\n",
       "         0.11],\n",
       "       [-0.41, -0.44, -0.12, -0.54,  2.36, -1.1 , -0.12, -1.  , -0.64,\n",
       "        -0.03],\n",
       "       [ 0.06,  0.44, -0.22, -0.19,  2.36, -1.1 ,  0.24, -0.98, -0.23,\n",
       "        -0.09],\n",
       "       [-0.58,  1.34,  1.33,  1.42, -0.45,  0.18, -1.39, -1.03, -0.57,\n",
       "        -0.68],\n",
       "       [ 0.19,  1.05,  0.87,  1.02, -0.22, -0.83, -1.17, -0.88, -0.16,\n",
       "        -0.65],\n",
       "       [ 2.74,  1.2 ,  2.26,  1.51, -0.66, -1.03, -1.28, -0.88,  0.56,\n",
       "        -0.62],\n",
       "       [ 1.38,  1.24,  1.28,  1.36, -0.37, -1.03, -1.31, -1.02, -0.54,\n",
       "        -0.72],\n",
       "       [ 1.18,  1.14,  1.02,  1.36, -0.47,  0.79, -1.39, -1.  , -0.61,\n",
       "        -0.72],\n",
       "       [ 0.27,  0.82, -0.12, -0.01,  1.66, -1.3 ,  0.09, -0.98, -0.73,\n",
       "        -0.12],\n",
       "       [ 1.09,  1.05,  0.66,  1.15, -0.5 , -0.89, -1.11, -0.62, -0.61,\n",
       "        -0.68],\n",
       "       [-0.71, -0.95, -0.84, -0.75, -0.59, -0.02,  1.06,  1.09, -0.01,\n",
       "         0.17]])"
      ]
     },
     "execution_count": 220,
     "metadata": {},
     "output_type": "execute_result"
    }
   ],
   "source": [
    "scaler.fit_transform(X_lap_train)"
   ]
  },
  {
   "cell_type": "code",
   "execution_count": null,
   "metadata": {},
   "outputs": [],
   "source": []
  }
 ],
 "metadata": {
  "celltoolbar": "Slideshow",
  "kernelspec": {
   "display_name": "Python 3",
   "language": "python",
   "name": "python3"
  },
  "language_info": {
   "codemirror_mode": {
    "name": "ipython",
    "version": 3
   },
   "file_extension": ".py",
   "mimetype": "text/x-python",
   "name": "python",
   "nbconvert_exporter": "python",
   "pygments_lexer": "ipython3",
   "version": "3.7.1"
  }
 },
 "nbformat": 4,
 "nbformat_minor": 2
}
