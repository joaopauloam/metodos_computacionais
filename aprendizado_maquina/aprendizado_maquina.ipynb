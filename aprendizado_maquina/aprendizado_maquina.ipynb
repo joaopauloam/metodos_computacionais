{
 "cells": [
  {
   "cell_type": "markdown",
   "metadata": {
    "slideshow": {
     "slide_type": "slide"
    }
   },
   "source": [
    "# Aprendizado de Máquina\n",
    "\n",
    "+ Aprendizado de Máquina é uma área de IA cujo objetivo é o desenvolvimento de técnicas computacionais sobre o aprendizado bem como a construção de sistemas capazes de adquirir conhecimento de forma automática\n",
    "+ Um sistema de aprendizado é um programa de computador que toma decisões baseado em experiências acumuladas através da solução bem sucedida de problemas anteriores\n",
    "+ Nas últimas décadas o aprendizado de máquina tornou-se um dos pilares em tecnologia da informação\n",
    "+ Embora hoje seja parte central do nosso cotidiano, seus conceitos não são claros para a maioria da pessoas"
   ]
  },
  {
   "cell_type": "markdown",
   "metadata": {
    "slideshow": {
     "slide_type": "slide"
    }
   },
   "source": [
    "## Exemplos\n",
    "\n",
    "+ Ranqueamento de páginas web\n",
    "    + Em uma busca na web o motor de busca retorna os resultados mais relevantes\n",
    "    + Como classificar a relevância das páginas encontradas?\n",
    "![alt_text](ranqueamento.png)    "
   ]
  },
  {
   "cell_type": "markdown",
   "metadata": {
    "slideshow": {
     "slide_type": "slide"
    }
   },
   "source": [
    "## Exemplos\n",
    "\n",
    "+ Filtro colaborativo\n",
    "    + Livrarias como a Amazon ou serviços de streaming como o Netflix usam essa informação para sugerir livros, filmes ou séries\n",
    "    + Essa sugestão pode ser \"aprendida\" com base em compras passadas do próprio usuário ou de decisões tomadas por usuários parecidos\n",
    "![alt_text](filtro_colaborativo.png)        "
   ]
  },
  {
   "cell_type": "markdown",
   "metadata": {
    "slideshow": {
     "slide_type": "slide"
    }
   },
   "source": [
    "## Exemplos\n",
    "\n",
    "+ Tradução automática\n",
    "    + Documentos traduzidos podem servir de exemplo para a aprendizagem de um tradutor automático\n",
    "+ Reconhecimento de discurso\n",
    "    + Traduzir um áudio em texto\n",
    "    + Traduzir um texto escrito a mão em um texto digitado    "
   ]
  },
  {
   "cell_type": "markdown",
   "metadata": {
    "slideshow": {
     "slide_type": "slide"
    }
   },
   "source": [
    "## Exemplos\n",
    "\n",
    "+ Classificador\n",
    "    + Dada a foto de uma pessoa um sistema de segurança pode tentar identificar em sua base de dados quem é aquela pessoa\n",
    "    + Ou ainda, o sistema pode verificar se aquela pessoa é quem realmente diz ser\n",
    "![alt_text](verificacao.png)"
   ]
  },
  {
   "cell_type": "markdown",
   "metadata": {
    "slideshow": {
     "slide_type": "slide"
    }
   },
   "source": [
    "[![O dilema das fritas enroladas](video.png)](https://www.ted.com/talks/jennifer_golbeck_the_curly_fry_conundrum_why_social_media_likes_say_more_than_you_might_think?language=pt-br#t-1752 \"O dilema das fritas enroladas\")"
   ]
  },
  {
   "cell_type": "markdown",
   "metadata": {
    "slideshow": {
     "slide_type": "slide"
    }
   },
   "source": [
    "### Classificação\n",
    "\n",
    "+ Problema comum em aprendizado de máquina\n",
    "+ Exemplo: filtro de spam\n",
    "    + Depende do usuário a classificação de um e-mail em spam ou não\n",
    "+ Exemplo: Diagnosticar câncer em um paciente com base em dados histológicos\n",
    "+ Estes são exemplos de classificação binária\n",
    "![alt_text](classificacao_binaria.png)"
   ]
  },
  {
   "cell_type": "markdown",
   "metadata": {
    "slideshow": {
     "slide_type": "slide"
    }
   },
   "source": [
    "### Dados\n",
    "\n",
    "+ É útil caracterizar os problemas de aprendizagem de acordo com o tipo de dados que eles trabalham\n",
    "+ Isso possibilita que quando novos desafios são encontrados com tipos de dados similares, técnicas similares possam ser utilizadas\n",
    "+ Por exemplo, processamento de linguagem natural e bioinformática usam técnicas bastante similares para tratarem as strings encontradas nos textos de linguagem natural e nas sequências de DNA\n",
    "+ Os **vetores** constituem a entidade básica para codificar os dados trabalhados em aprendizado de máquina."
   ]
  },
  {
   "cell_type": "markdown",
   "metadata": {
    "slideshow": {
     "slide_type": "slide"
    }
   },
   "source": [
    "### Dados\n",
    "\n",
    "+ Por exemplo, para uma companhia de seguro de vida seria interessante obter um vetor de variáveis  (pressão sanguínea, batimentos cardíacos, altura, peso, nível de colesterol, fumante, gênero) para inferir a expectativa de vida de um cliente em potencial.\n",
    "+ Um engenheiro pode querer descobrir dependências entre pares (voltagem, corrente)."
   ]
  },
  {
   "cell_type": "markdown",
   "metadata": {
    "slideshow": {
     "slide_type": "slide"
    }
   },
   "source": [
    "### Dados\n",
    "\n",
    "+ Referência: http://dcm.ffclrp.usp.br/~augusto/teaching/ami/AM-I-Conceitos-Definicoes.pdf\n",
    "+ De maneira geral, dados pares (x,f(x)), inferir f.\n",
    "![alt_text](dados.png)"
   ]
  },
  {
   "cell_type": "markdown",
   "metadata": {
    "slideshow": {
     "slide_type": "slide"
    }
   },
   "source": [
    "### Dados\n",
    "\n",
    "+ Dada uma amostra finita, normalmente é impossível determinar a verdadeira função f.\n",
    "+ Abordagem: Encontre uma hipótese ( modelo ) nos exemplos de treinamento e assuma que a hipótese se repita para exemplos futuros também"
   ]
  },
  {
   "cell_type": "markdown",
   "metadata": {
    "slideshow": {
     "slide_type": "slide"
    }
   },
   "source": [
    "### Exemplos\n",
    "\n",
    "+ [Chemistry world](https://www.chemistryworld.com/1616.tag)\n",
    "    + [Ligand selector steers C–N cross-couplings down most sustainable path](Ligand.pdf)\n",
    "    + [Neural network folds proteins a million times faster than its competitors](Neural.pdf)\n",
    "    + [Algorithm accurately predicts mechanical properties of existing and theoretical MOFs](MOF.pdf)\n",
    "    + [Lithium–ion battery book written by machine learning algorithm](Lithium.pdf)\n"
   ]
  },
  {
   "cell_type": "markdown",
   "metadata": {
    "slideshow": {
     "slide_type": "slide"
    }
   },
   "source": [
    "### Dados\n",
    "\n",
    "![alt_text](dados2.png)\n",
    "+ $f: X_1 \\times X_2 \\times X_3 \\times X_4 \\rightarrow Y$"
   ]
  },
  {
   "cell_type": "markdown",
   "metadata": {
    "slideshow": {
     "slide_type": "slide"
    }
   },
   "source": [
    "## Problemas\n",
    "\n",
    "+ Classificação binária\n",
    "+ Classificação multiclasse\n",
    "+ Regressão\n",
    "+ Detecção de novidades"
   ]
  },
  {
   "cell_type": "markdown",
   "metadata": {
    "slideshow": {
     "slide_type": "slide"
    }
   },
   "source": [
    "## Hierarquia do aprendizado\n",
    "![alt_text](hierarquia_aprendizado.png)"
   ]
  },
  {
   "cell_type": "markdown",
   "metadata": {
    "slideshow": {
     "slide_type": "slide"
    }
   },
   "source": [
    "## Como funciona o aprendizado de máquina\n",
    "![alt_text](aprendizado.png)"
   ]
  },
  {
   "cell_type": "markdown",
   "metadata": {
    "slideshow": {
     "slide_type": "slide"
    }
   },
   "source": [
    "## Como funciona o aprendizado de máquina\n",
    "![alt_text](aprendizado2.png)"
   ]
  },
  {
   "cell_type": "markdown",
   "metadata": {
    "slideshow": {
     "slide_type": "slide"
    }
   },
   "source": [
    "## Como funciona o aprendizado de máquina\n",
    "![alt_text](aprendizado3.png)"
   ]
  },
  {
   "cell_type": "markdown",
   "metadata": {
    "slideshow": {
     "slide_type": "slide"
    }
   },
   "source": [
    "## Como funciona o aprendizado de máquina\n",
    "![alt_text](aprendizado4.png)"
   ]
  },
  {
   "cell_type": "markdown",
   "metadata": {
    "slideshow": {
     "slide_type": "slide"
    }
   },
   "source": [
    "## AS X AnS\n",
    "+ Aprendizado Supervisionado\n",
    "    + Compreender o relacionamento entre os atributos e a classe\n",
    "    + Predizer a classe de novos exemplos o melhor possível\n",
    "+ Aprendizado Não Supervisionado\n",
    "    + Encontrar representações úteis dos exemplos, tais como:\n",
    "        + Encontrar agrupamentos (clusters)\n",
    "        + Redução da dimensão\n",
    "        + Encontrar as causas ou as fontes ocultas dos exemplos\n",
    "        + Modelar a densidade dos exemplos"
   ]
  },
  {
   "cell_type": "markdown",
   "metadata": {
    "slideshow": {
     "slide_type": "slide"
    }
   },
   "source": [
    "## Exemplo, Atributo e Classe\n",
    "+ Exemplo\n",
    "    + Exemplo, caso, registro ou instância\n",
    "    + É um conjunto fixo de atributos\n",
    "    + Um exemplo descreve o objeto de interesse, tal como um paciente, exemplos médicos sobre uma determinada doença ou histórico de clientes de uma dada companhia\n",
    "+ Atributo\n",
    "    + Atributo, campo ou característica (feature)\n",
    "    + Uma única característica de um exemplo\n",
    "+ Classe\n",
    "    + Atributo especial que descreve o fenômeno de interesse (somente no Aprendizado Supervisionado)"
   ]
  },
  {
   "cell_type": "markdown",
   "metadata": {
    "slideshow": {
     "slide_type": "slide"
    }
   },
   "source": [
    "## Exemplo, Atributo e Classe\n",
    "![alt_text](exemplos.png)"
   ]
  },
  {
   "cell_type": "markdown",
   "metadata": {
    "slideshow": {
     "slide_type": "slide"
    }
   },
   "source": [
    "## Conjuntos de Exemplos\n",
    "\n",
    "+ Em geral, um conjunto de exemplos é dividido em dois subconjuntos disjuntos:\n",
    "    + conjunto de treinamento que é usado para o aprendizado do conceito e o\n",
    "    + conjunto de teste que é usado para medir o grau de efetividade do conceito aprendido\n",
    "+     Os subconjuntos são disjuntos para assegurar que as medidas obtidas utilizando o conjunto de teste sejam de um conjunto diferente do usado para realizar o aprendizado, tornando a medida estatisticamente válida"
   ]
  },
  {
   "cell_type": "markdown",
   "metadata": {
    "slideshow": {
     "slide_type": "slide"
    }
   },
   "source": [
    "## Erro aparente\n",
    "![alt_text](erro1.png)"
   ]
  },
  {
   "cell_type": "markdown",
   "metadata": {
    "slideshow": {
     "slide_type": "slide"
    }
   },
   "source": [
    "## Erro verdadeiro\n",
    "![alt_text](erro2.png)"
   ]
  },
  {
   "cell_type": "markdown",
   "metadata": {
    "slideshow": {
     "slide_type": "slide"
    }
   },
   "source": [
    "## Preparação de dados\n",
    "\n",
    "+ Fase que antecede o processo de aprendizagem, para facilitar ou melhorar o processo.\n",
    "+ Exemplos:\n",
    "    + remover exemplos incorretos\n",
    "    + transformar o formato dos exemplos para que possam ser usados com um determinado indutor\n",
    "    + selecionar um subconjunto de atributos relevantes (FSS – Feature Subset Selection)"
   ]
  },
  {
   "cell_type": "markdown",
   "metadata": {
    "slideshow": {
     "slide_type": "slide"
    }
   },
   "source": [
    "## Sobreajuste (overfitting)\n",
    "\n",
    "+ A hipótese extraída a partir dos exemplos é muito específica para o conjunto de treinamento\n",
    "+ A hipótese apresenta um bom desempenho para o conjunto de treinamento, mas um desempenho ruim para os casos fora desse conjunto\n",
    "![alt_text](overfitting.png)"
   ]
  },
  {
   "cell_type": "markdown",
   "metadata": {
    "slideshow": {
     "slide_type": "slide"
    }
   },
   "source": [
    "## Subajuste (underfitting)\n",
    "\n",
    "+ A hipótese induzida apresenta um desempenho ruim tanto no conjunto de treinamento como no de teste\n",
    "![alt_text](overfitting_underfitting.png)"
   ]
  },
  {
   "cell_type": "markdown",
   "metadata": {
    "slideshow": {
     "slide_type": "slide"
    }
   },
   "source": [
    "## Dado, Informação, Conhecimento\n",
    "\n",
    "+ Dado: é a estrutura fundamental sobre a qual um sistema de informação é construído\n",
    "+ Informação: a transformação de dados em informação é frequentemente realizada através da apresentação dos dados em uma forma compreensível ao usuário\n",
    "+ Conhecimento:\n",
    "    + Fornece a capacidade de resolver problemas, inovar e aprender baseado em experiências prévias\n",
    "    + Uma combinação de instintos, ideias, regras e procedimentos que guiam as ações e decisões"
   ]
  },
  {
   "cell_type": "markdown",
   "metadata": {
    "slideshow": {
     "slide_type": "slide"
    }
   },
   "source": [
    "## Estrutura\n",
    "![alt_text](estrutura.png)"
   ]
  },
  {
   "cell_type": "markdown",
   "metadata": {
    "slideshow": {
     "slide_type": "slide"
    }
   },
   "source": [
    "## Importante\n",
    "\n",
    "+ Dado não é Informação\n",
    "+ Informação não é Conhecimento\n",
    "+ Conhecimento não é Inteligência\n",
    "+ Inteligência não é Sabedoria"
   ]
  },
  {
   "cell_type": "markdown",
   "metadata": {
    "slideshow": {
     "slide_type": "slide"
    }
   },
   "source": [
    "## Aprendizado de máquina (em química, quimiometria)\n",
    "\n",
    "+ Na parte de análise de dados os principais métodos usados em quimiometria são:\n",
    "    + Aprendizado não supervisionado (Análise exploratória)\n",
    "        + HCA\n",
    "        + PCA\n",
    "        + K-means\n",
    "    + Aprendizado supervisionado\n",
    "        + Métodos de regressão\n",
    "            + MLR\n",
    "            + PCR\n",
    "            + PLS\n",
    "            + Redes Neurais\n",
    "            + Regressão por árvore de decisão\n",
    "        + Métodos de classificação\n",
    "            + KNN\n",
    "            + SIMCA\n",
    "            + PLS-DA\n",
    "            + SVM\n",
    "            + Redes Neurais\n",
    "            "
   ]
  },
  {
   "cell_type": "markdown",
   "metadata": {
    "slideshow": {
     "slide_type": "slide"
    }
   },
   "source": [
    "## Scikit-learn\n",
    "https://scikit-learn.org/stable/index.html"
   ]
  },
  {
   "cell_type": "markdown",
   "metadata": {
    "slideshow": {
     "slide_type": "slide"
    }
   },
   "source": [
    "## Análise de Agrupamentos por métodos hierárquicos (HCA)\n",
    "\n",
    "+ Análise de agrupamentos por métodos hierárquicos (HCA, do inglês *hierarquical cluster analysis*), teve origem na taxonomia numérica\n",
    "+ É um método de aprendizado não-supervisionado de reconhecimento de padrões, adequado para descobrir \"padrões naturais\" de comportamento entre amostras\n",
    "+ HCA é útil para reduzir a dimensionalidade dos dados de grande porte, por exemplo, permitindo que dezenas de milhares de genes possam ser representados por poucos grupos de genes de comportamento semelhante\n",
    "+ Outro exemplo uso do HCA é na detecção de amostras com comportamento anômalo em um conjunto de dados\n",
    "+ Outro exemplo na busca por estruturas cristalográficas similares"
   ]
  },
  {
   "cell_type": "markdown",
   "metadata": {
    "slideshow": {
     "slide_type": "slide"
    }
   },
   "source": [
    "## Análise de Agrupamentos por métodos hierárquicos (HCA)\n",
    "\n",
    "+ O HCA é uma técnica interessante porque permite a visualização de dados multidimensionais por meio de um esquema bidimensional\n",
    "+ Os resultados são apresentados na forma de uma árvore hierárquica também conhecida como **dendrograma**\n",
    "+ O HCA é uma técnica aglomerativa, na qual cada objeto é considerado um grupo unitário. A seguir eles vão sendo agrupados sistematicamente por ordem de similaridade, em um processo iterativo, até que todos eles formem um único grupo\n",
    "+ É muito razoável assumir que amostras próximas entre si no espaço multidimensional, $R^J$, sejam semelhantes em relação às variáveis selecionadas\n",
    "+ Isso quer dizer que uma maneira de determinar o quanto um objeto é semelhante a outro é por meio do cálculo da distância entre eles"
   ]
  },
  {
   "cell_type": "markdown",
   "metadata": {
    "slideshow": {
     "slide_type": "slide"
    }
   },
   "source": [
    "## Análise de Agrupamentos por métodos hierárquicos (HCA)\n",
    "\n",
    "+ Essa distância pode ser:\n",
    "    + Euclideana\n",
    "        $d_{AB}^M = [(\\mathbf{x_A}-\\mathbf{x_B})^T (\\mathbf{x_A}-\\mathbf{x_B})]^{1/2} = \\|\\mathbf{x_A}-\\mathbf{x_B} \\|_2$\n",
    "    + Manhattan\n",
    "        $d_{AB}^M = \\|\\mathbf{x_A}-\\mathbf{x_B} \\|_1 = \\sum_{j=1}^{J}|x_{aj}-x_{bj}|$\n",
    "    + Mahalanobis\n",
    "        $d_{AB}^M = [(\\mathbf{x_A}-\\mathbf{x_B})^T \\mathbf{Var}^{-1}(\\mathbf{x_A}-\\mathbf{x_B})]^{1/2}$"
   ]
  },
  {
   "cell_type": "code",
   "execution_count": null,
   "metadata": {
    "slideshow": {
     "slide_type": "slide"
    }
   },
   "outputs": [],
   "source": [
    "import pandas as pd"
   ]
  },
  {
   "cell_type": "code",
   "execution_count": null,
   "metadata": {
    "slideshow": {
     "slide_type": "slide"
    }
   },
   "outputs": [],
   "source": [
    "df = pd.read_excel(\"liquens.xls\")"
   ]
  },
  {
   "cell_type": "code",
   "execution_count": null,
   "metadata": {
    "slideshow": {
     "slide_type": "slide"
    }
   },
   "outputs": [],
   "source": [
    "df"
   ]
  },
  {
   "cell_type": "code",
   "execution_count": null,
   "metadata": {
    "slideshow": {
     "slide_type": "slide"
    }
   },
   "outputs": [],
   "source": [
    "df_numbers = df.iloc[2:,2:]"
   ]
  },
  {
   "cell_type": "code",
   "execution_count": null,
   "metadata": {
    "slideshow": {
     "slide_type": "slide"
    }
   },
   "outputs": [],
   "source": [
    "df_numbers.index = range(1,len(df_numbers)+1)\n",
    "df_numbers"
   ]
  },
  {
   "cell_type": "code",
   "execution_count": null,
   "metadata": {
    "slideshow": {
     "slide_type": "slide"
    }
   },
   "outputs": [],
   "source": [
    "for i in range (df_numbers.shape[0]):\n",
    "    for j in range (df_numbers.shape[1]):\n",
    "        if df_numbers.iloc[i,j] == \"<LD\":\n",
    "            df_numbers.iloc[i,j] = 0"
   ]
  },
  {
   "cell_type": "code",
   "execution_count": null,
   "metadata": {
    "slideshow": {
     "slide_type": "slide"
    }
   },
   "outputs": [],
   "source": [
    "df_numbers"
   ]
  },
  {
   "cell_type": "code",
   "execution_count": null,
   "metadata": {
    "slideshow": {
     "slide_type": "slide"
    }
   },
   "outputs": [],
   "source": [
    "from scipy.cluster.hierarchy import dendrogram, linkage\n",
    "from matplotlib import pyplot as plt\n",
    "\n",
    "Z = linkage(df_numbers, 'ward')\n",
    "fig = plt.figure(figsize=(25, 10))\n",
    "dn = dendrogram(Z,orientation=\"right\",labels=[(df_numbers.index[i],df.iloc[2+i,1],df.iloc[2+i,0]) for i in range(len(df_numbers))])"
   ]
  },
  {
   "cell_type": "code",
   "execution_count": null,
   "metadata": {
    "slideshow": {
     "slide_type": "slide"
    }
   },
   "outputs": [],
   "source": [
    "import plotly.figure_factory as ff\n",
    "\n",
    "labels = [(df_numbers.index[i],df.iloc[2+i,1],df.iloc[2+i,0]) for i in range(len(df_numbers))]\n",
    "fig = ff.create_dendrogram(df_numbers, orientation='left', color_threshold=600, labels = labels)\n",
    "fig.update_layout(width=800, height=1000)\n",
    "fig.show()"
   ]
  },
  {
   "cell_type": "markdown",
   "metadata": {
    "slideshow": {
     "slide_type": "slide"
    }
   },
   "source": [
    "## Análise de componentes principais (PCA)\n",
    "\n",
    "+ A análise de componentes principais (PCA, do inglês *principal component analysis*) é um método utilizado para projetar os dados multivariados em um espaço de menor dimensão reduzindo, assim, a dimensionalidade do espaço original do conjunto de dados, sem que a relação entre as amostras seja afetada\n",
    "+ Utilizando essa metodologia é possível descobrir, visualizar e interpretar as diferenças existentes entre as variáveis e examinar as relações que podem existir entre as amostras\n",
    "+ Essa análise também nos permite detectar amostras que apresentam um comportamento distinto (atípico)\n",
    "+ Os metodos de projeção são importantes na área de meteorologia para o tratamento de imagens de satélite\n",
    "+ Em química são importantes para o tratamento de dados de espectroscopia e cromatografia"
   ]
  },
  {
   "cell_type": "markdown",
   "metadata": {
    "slideshow": {
     "slide_type": "slide"
    }
   },
   "source": [
    "## Análise de componentes principais (PCA)\n",
    "\n",
    "+ Em PCA é possível fazer uma \"compressão\" dos dados por meio da criação de um novo conjunto de variáveis que são combinações lineares das variáveis originais\n",
    "+ Essas novas variáveis são as componentes principais, PC, também conhecidas por fatores ou autovetores\n",
    "+ Uma propriedade importante das PCs é que são não correlacionadas e ortogonais entre si\n",
    "+ Outra propriedade importante é que a primeira PC (PC1) é definida pela direção que descreve a máxima variância dos dados originais\n",
    "+ PC2 tem a direção de máxima variância dos dados no subespaço ortogonal à PC1 e assim sucessivamente\n",
    "+ O número de componentes principais, *A*, que é necessário para descrever adequadamente o sistema em estudo, é chamado de dimensão intrínseca, pseudoposto ou posto químico"
   ]
  },
  {
   "cell_type": "markdown",
   "metadata": {
    "slideshow": {
     "slide_type": "slide"
    }
   },
   "source": [
    "## Análise de componentes principais (PCA)\n",
    "\n",
    "+ Matematicamente PCA equivale a decompor a matriz  **X**(*I* X *J*) em duas matrizes, uma de escores **T** e uma matriz ortonormal de pesos (*loadings*) **L**, de tal maneira que\n",
    "\n",
    "$\\mathbf{X} = \\mathbf{T}\\mathbf{L}^T$\n",
    "\n",
    "+ em que os escores expressam as relações entre as amostras, enquanto que os pesos indicam as relações entre as variáveis."
   ]
  },
  {
   "cell_type": "code",
   "execution_count": null,
   "metadata": {
    "scrolled": false,
    "slideshow": {
     "slide_type": "slide"
    }
   },
   "outputs": [],
   "source": [
    "import pandas as pd\n",
    "from sklearn.decomposition import PCA\n",
    "from sklearn.preprocessing import StandardScaler \n",
    "df = pd.read_excel(\"liquens.xls\")\n",
    "df_numbers = df.iloc[2:,2:]\n",
    "df_numbers = df_numbers.replace(\"<LD\",0)\n",
    "Xa = StandardScaler().fit_transform(df_numbers) \n",
    "Xa.shape"
   ]
  },
  {
   "cell_type": "code",
   "execution_count": null,
   "metadata": {
    "slideshow": {
     "slide_type": "slide"
    }
   },
   "outputs": [],
   "source": [
    "pca = PCA(n_components=6)\n",
    "pca.fit(Xa)  \n",
    "print(pca.explained_variance_ratio_) \n",
    "import numpy as np\n",
    "print(np.cumsum(pca.explained_variance_ratio_))\n",
    "print(pca.singular_values_) "
   ]
  },
  {
   "cell_type": "code",
   "execution_count": null,
   "metadata": {
    "slideshow": {
     "slide_type": "slide"
    }
   },
   "outputs": [],
   "source": [
    "L= pca.components_.T\n",
    "L"
   ]
  },
  {
   "cell_type": "code",
   "execution_count": null,
   "metadata": {
    "slideshow": {
     "slide_type": "slide"
    }
   },
   "outputs": [],
   "source": [
    "T = pca.transform(Xa)\n",
    "T"
   ]
  },
  {
   "cell_type": "code",
   "execution_count": null,
   "metadata": {},
   "outputs": [],
   "source": [
    "df"
   ]
  },
  {
   "cell_type": "code",
   "execution_count": null,
   "metadata": {
    "slideshow": {
     "slide_type": "slide"
    }
   },
   "outputs": [],
   "source": [
    "# PCA\n",
    "\n",
    "from bokeh.plotting import figure, output_notebook, show\n",
    "from bokeh.models import LabelSet, Label, ColumnDataSource\n",
    "import numpy as np\n",
    "source = ColumnDataSource(data=dict(PC1=T[:,0],\n",
    "                                    PC2=T[:,1],\n",
    "                                    names=df.iloc[2:,1]))\n",
    "\n",
    "output_notebook()\n",
    "p = figure(title=\"Gráfico de escores\", x_axis_label='PC1', y_axis_label='PC2')\n",
    "p.scatter('PC1','PC2',color='blue',size=6, source=source)\n",
    "p.line([0,0,0,0,0],[-6,-3,1,4,7],color='red')\n",
    "labels = LabelSet(x='PC1', y='PC2', text='names', level='glyph',\n",
    "              x_offset=5, y_offset=5, source=source, render_mode='canvas')    \n",
    "p.add_layout(labels)\n",
    "show(p)"
   ]
  },
  {
   "cell_type": "code",
   "execution_count": null,
   "metadata": {
    "slideshow": {
     "slide_type": "slide"
    }
   },
   "outputs": [],
   "source": [
    "# PCA\n",
    "\n",
    "source = ColumnDataSource(data=dict(PC1=L[:,0],\n",
    "                                    PC2=L[:,1],\n",
    "                                    names=df_numbers.columns))\n",
    "\n",
    "output_notebook()\n",
    "p = figure(title=\"Gráfico de pesos(loadings)\", x_axis_label='PC1', y_axis_label='PC2')\n",
    "p.scatter('PC1','PC2',color='blue',size=6, source=source)\n",
    "labels = LabelSet(x='PC1', y='PC2', text='names', level='glyph',\n",
    "              x_offset=5, y_offset=5, source=source, render_mode='canvas')    \n",
    "p.add_layout(labels)\n",
    "show(p)"
   ]
  },
  {
   "cell_type": "code",
   "execution_count": null,
   "metadata": {
    "slideshow": {
     "slide_type": "slide"
    }
   },
   "outputs": [],
   "source": [
    "import plotly.express as px\n",
    "import plotly.graph_objects as go\n",
    "\n",
    "fig = px.scatter(x=T[:,0],y=T[:,1], color = df.iloc[2:,1])\n",
    "fig.update_layout(title='Gŕafico de escores',\n",
    "                  xaxis_title = 'PC1',\n",
    "                  yaxis_title = 'PC2')\n",
    "\n",
    "fig.update_traces(textposition='top center',marker={\"size\":6})\n",
    "\n",
    "fig.add_trace(go.Scatter(x = [0,0,0,0,0],y = [-6,-3,1,4,7], mode=\"lines\", name = \"PC1 = 0\"))\n",
    "\n",
    "fig.show()"
   ]
  },
  {
   "cell_type": "code",
   "execution_count": null,
   "metadata": {},
   "outputs": [],
   "source": [
    "fig = px.scatter(x=L[:,0],y=L[:,1], text = df_numbers.columns)\n",
    "fig.update_layout(title='Gŕafico de pesos (loadings)',\n",
    "                  xaxis_title = 'PC1',\n",
    "                  yaxis_title = 'PC2')\n",
    "\n",
    "fig.update_traces(textposition='top center',marker={\"size\":6})\n",
    "\n",
    "fig.show()"
   ]
  },
  {
   "cell_type": "code",
   "execution_count": null,
   "metadata": {
    "slideshow": {
     "slide_type": "slide"
    }
   },
   "outputs": [],
   "source": [
    "# Novo conjunto de dados\n",
    "import pandas as pd\n",
    "flav = pd.read_csv(\"../flavonoides.csv\",sep='\\t',index_col=0)\n",
    "flav"
   ]
  },
  {
   "cell_type": "code",
   "execution_count": null,
   "metadata": {
    "slideshow": {
     "slide_type": "slide"
    }
   },
   "outputs": [],
   "source": [
    "X = flav.iloc[:,:-1]\n",
    "y = flav.iloc[:,-1]\n",
    "y"
   ]
  },
  {
   "cell_type": "code",
   "execution_count": null,
   "metadata": {
    "slideshow": {
     "slide_type": "slide"
    }
   },
   "outputs": [],
   "source": [
    "## PCA\n",
    "\n",
    "from bokeh.plotting import figure, output_notebook, show\n",
    "from bokeh.models import LabelSet, Label, ColumnDataSource\n",
    "import numpy as np\n",
    "from sklearn.decomposition import PCA\n",
    "from sklearn.preprocessing import StandardScaler\n",
    "pca = PCA(n_components=6)\n",
    "Xa = StandardScaler().fit_transform(X)\n",
    "pca.fit(Xa)\n",
    "#T = Xa.dot(pca.components_.T)\n",
    "T = pca.fit_transform(Xa)\n",
    "source = ColumnDataSource(data=dict(PC1=T[:,0],\n",
    "                                    PC2=T[:,1],\n",
    "                                    names=flav.index))\n",
    "\n",
    "output_notebook()\n",
    "p = figure(title=\"Gráfico de escores\", x_axis_label='PC1', y_axis_label='PC2')\n",
    "p.scatter('PC1','PC2',color='blue',size=6, source=source)\n",
    "labels = LabelSet(x='PC1', y='PC2', text='names', level='glyph',\n",
    "              x_offset=5, y_offset=5, source=source, render_mode='canvas')    \n",
    "p.add_layout(labels)\n",
    "show(p)"
   ]
  },
  {
   "cell_type": "code",
   "execution_count": null,
   "metadata": {
    "slideshow": {
     "slide_type": "slide"
    }
   },
   "outputs": [],
   "source": [
    "import plotly.express as px\n",
    "dados = pd.DataFrame(T)\n",
    "dados.columns = [\"PC\"+str(i+1) for i in range(dados.shape[1])]\n",
    "# dados[\"y\"] = y.values\n",
    "fig = px.scatter_3d(dados, x=\"PC1\", y=\"PC2\", z=\"PC3\",color=y.values, hover_data = [flav.index])\n",
    "fig.show()"
   ]
  },
  {
   "cell_type": "code",
   "execution_count": null,
   "metadata": {},
   "outputs": [],
   "source": [
    "fig = px.scatter_matrix(dados, dimensions=[\"PC1\", \"PC2\", \"PC3\", \"PC4\"], color=y.values)\n",
    "fig.update_traces(text = flav.index)\n",
    "fig.show()"
   ]
  },
  {
   "cell_type": "code",
   "execution_count": null,
   "metadata": {},
   "outputs": [],
   "source": [
    "T.mean(axis=0)"
   ]
  },
  {
   "cell_type": "code",
   "execution_count": null,
   "metadata": {
    "slideshow": {
     "slide_type": "slide"
    }
   },
   "outputs": [],
   "source": [
    "L = pca.components_.T\n",
    "source = ColumnDataSource(data=dict(PC1=L[:,0],\n",
    "                                    PC2=L[:,1],\n",
    "                                    names=flav.columns[:-1]))\n",
    "\n",
    "output_notebook()\n",
    "p = figure(title=\"Gráfico de pesos(loadings)\", x_axis_label='PC1', y_axis_label='PC2')\n",
    "# for i in range(np.shape(T)[0]):\n",
    "#     x = T[i,0]\n",
    "#     y = T[i,1]\n",
    "#     p.circle(x,y,color='blue')\n",
    "    #p.text(x+0.3,y+0.3,flav.index[i])\n",
    "p.scatter('PC1','PC2',color='blue',size=6, source=source)\n",
    "labels = LabelSet(x='PC1', y='PC2', text='names', level='glyph',\n",
    "              x_offset=5, y_offset=5, source=source, render_mode='canvas')    \n",
    "p.add_layout(labels)\n",
    "show(p)"
   ]
  },
  {
   "cell_type": "code",
   "execution_count": null,
   "metadata": {
    "slideshow": {
     "slide_type": "slide"
    }
   },
   "outputs": [],
   "source": [
    "# HCA\n",
    "\n",
    "from scipy.cluster.hierarchy import dendrogram, linkage\n",
    "from matplotlib import pyplot as plt\n",
    "\n",
    "Z = linkage(Xa,'ward')\n",
    "fig = plt.figure(figsize=(25, 10))\n",
    "dn = dendrogram(Z,orientation=\"right\", labels=[(flav.index[i],y[i]) for i in range(len(y))])"
   ]
  },
  {
   "cell_type": "markdown",
   "metadata": {},
   "source": [
    "# Introdução ao K-means\n",
    "\n",
    "**Teoria:**  \n",
    "O K-means é um algoritmo de **clustering não supervisionado** que particiona `n` observações em `k` grupos. Funciona em 4 passos:  \n",
    "1. Escolha aleatória de `k` centroides iniciais  \n",
    "2. Atribuição de pontos ao centroide mais próximo (distância Euclidiana)  \n",
    "3. Atualização dos centroides (média dos pontos do cluster)  \n",
    "4. Repetição até convergência (estabilidade dos centroides)\n",
    "\n",
    "**Matematicamente:**  \n",
    "$$\\text{Minimizar } J = \\sum_{i=1}^{k} \\sum_{x \\in C_i} \\|x - \\mu_i\\|^2\\$$\n",
    "Onde:  \n",
    "- $C_i$ = Cluster $i$\n",
    "- $\\mu_i$ = Centroide do cluster $i$"
   ]
  },
  {
   "cell_type": "code",
   "execution_count": 1,
   "metadata": {},
   "outputs": [],
   "source": [
    "# Configuração Inicial\n",
    "import numpy as np\n",
    "import matplotlib.pyplot as plt\n",
    "from sklearn.datasets import make_blobs\n",
    "from sklearn.cluster import KMeans\n",
    "import seaborn as sns\n",
    "sns.set_style('whitegrid')"
   ]
  },
  {
   "cell_type": "markdown",
   "metadata": {},
   "source": [
    "# Geração de Dados\n",
    "\n",
    "**Teoria:**  \n",
    "Vamos criar dados sintéticos com 3 clusters usando `make_blobs`. Parâmetros importantes:  \n",
    "- `n_samples`: Número de pontos  \n",
    "- `centers`: Número de centroides  \n",
    "- `cluster_std`: Desvio padrão (controla a dispersão)"
   ]
  },
  {
   "cell_type": "code",
   "execution_count": 2,
   "metadata": {},
   "outputs": [
    {
     "data": {
      "image/png": "[encoded data removed]",
      "text/plain": [
       "<Figure size 576x360 with 1 Axes>"
      ]
     },
     "metadata": {
      "needs_background": "light"
     },
     "output_type": "display_data"
    }
   ],
   "source": [
    "# Dados Sintéticos\n",
    "X, y = make_blobs(\n",
    "    n_samples=300,\n",
    "    centers=3,\n",
    "    cluster_std=0.8,\n",
    "    random_state=42\n",
    ")\n",
    "\n",
    "plt.figure(figsize=(8,5))\n",
    "plt.scatter(X[:, 0], X[:, 1], s=50, edgecolor='k')\n",
    "plt.title(\"Dados Não Rotulados\", fontsize=14)\n",
    "plt.xlabel(\"Feature 1\"), plt.ylabel(\"Feature 2\")\n",
    "plt.show()"
   ]
  },
  {
   "cell_type": "markdown",
   "metadata": {},
   "source": [
    "# Aplicando K-means\n",
    "\n",
    "**Teoria:**  \n",
    "No scikit-learn:  \n",
    "- `n_clusters`: Número de clusters (hiperparâmetro crítico)  \n",
    "- `init`: Estratégia de inicialização (`k-means++` é padrão)  \n",
    "- `n_init`: Número de inicializações (evita soluções subótimas)  \n",
    "- `max_iter`: Máximo de iterações por execução"
   ]
  },
  {
   "cell_type": "code",
   "execution_count": 3,
   "metadata": {},
   "outputs": [
    {
     "data": {
      "image/png": "[encoded data removed]",
      "text/plain": [
       "<Figure size 576x360 with 1 Axes>"
      ]
     },
     "metadata": {
      "needs_background": "light"
     },
     "output_type": "display_data"
    }
   ],
   "source": [
    "# Célula 6: Treinamento e Visualização\n",
    "kmeans = KMeans(n_clusters=3, random_state=42)\n",
    "kmeans.fit(X)\n",
    "labels = kmeans.labels_\n",
    "centroids = kmeans.cluster_centers_\n",
    "\n",
    "plt.figure(figsize=(8,5))\n",
    "plt.scatter(X[:, 0], X[:, 1], c=labels, s=50, cmap='viridis', edgecolor='k')\n",
    "plt.scatter(centroids[:, 0], centroids[:, 1], c='red', s=200, marker='X', label='Centroides')\n",
    "plt.title(\"Resultado do K-means\", fontsize=14)\n",
    "plt.xlabel(\"Feature 1\"), plt.ylabel(\"Feature 2\")\n",
    "plt.legend()\n",
    "plt.show()"
   ]
  },
  {
   "cell_type": "markdown",
   "metadata": {},
   "source": [
    "# Método do Cotovelo (Elbow Method)\n",
    "\n",
    "**Teoria:**  \n",
    "Técnica para estimar o número ótimo de clusters:  \n",
    "1. Executar K-means para diferentes valores de `k`  \n",
    "2. Calcular a **inércia** (soma das distâncias quadradas dos pontos ao centroide mais próximo)  \n",
    "3. Selecionar `k` onde a redução da inércia começa a estagnar (\"cotovelo\")"
   ]
  },
  {
   "cell_type": "code",
   "execution_count": 4,
   "metadata": {},
   "outputs": [
    {
     "data": {
      "image/png": "[encoded data removed]",
      "text/plain": [
       "<Figure size 576x360 with 1 Axes>"
      ]
     },
     "metadata": {
      "needs_background": "light"
     },
     "output_type": "display_data"
    }
   ],
   "source": [
    "# Encontrando o K Ótimo\n",
    "inertias = []\n",
    "k_range = range(1, 11)\n",
    "\n",
    "for k in k_range:\n",
    "    kmeans = KMeans(n_clusters=k, random_state=42)\n",
    "    kmeans.fit(X)\n",
    "    inertias.append(kmeans.inertia_)\n",
    "\n",
    "plt.figure(figsize=(8,5))\n",
    "plt.plot(k_range, inertias, 'bo-')\n",
    "plt.xlabel(\"Número de Clusters (k)\", fontsize=12)\n",
    "plt.ylabel(\"Inércia\", fontsize=12)\n",
    "plt.title(\"Método do Cotovelo\", fontsize=14)\n",
    "plt.xticks(k_range)\n",
    "plt.show()"
   ]
  },
  {
   "cell_type": "code",
   "execution_count": 5,
   "metadata": {},
   "outputs": [
    {
     "data": {
      "image/png": "[encoded data removed]",
      "text/plain": [
       "<Figure size 576x360 with 1 Axes>"
      ]
     },
     "metadata": {
      "needs_background": "light"
     },
     "output_type": "display_data"
    }
   ],
   "source": [
    "from sklearn.preprocessing import StandardScaler\n",
    "\n",
    "scaler = StandardScaler()\n",
    "X_scaled = scaler.fit_transform(X)\n",
    "\n",
    "# Repetir K-means nos dados normalizados\n",
    "kmeans_scaled = KMeans(n_clusters=3, random_state=42)\n",
    "kmeans_scaled.fit(X_scaled)\n",
    "\n",
    "# Visualização adicional (opcional)\n",
    "labels_scaled = kmeans_scaled.labels_\n",
    "centroids_scaled = kmeans_scaled.cluster_centers_\n",
    "\n",
    "plt.figure(figsize=(8,5))\n",
    "plt.scatter(X_scaled[:, 0], X_scaled[:, 1], c=labels_scaled, s=50, cmap='viridis', edgecolor='k')\n",
    "plt.scatter(centroids_scaled[:, 0], centroids_scaled[:, 1], c='red', s=200, marker='X', label='Centroides')\n",
    "plt.title(\"K-means com Dados Normalizados\", fontsize=14)\n",
    "plt.xlabel(\"Feature 1 (normalizada)\"), plt.ylabel(\"Feature 2 (normalizada)\")\n",
    "plt.legend()\n",
    "plt.show()"
   ]
  },
  {
   "cell_type": "markdown",
   "metadata": {},
   "source": [
    "# Limitações do K-means\n",
    "\n",
    "**Pontos-chave:**  \n",
    "- Sensível à inicialização dos centroides  \n",
    "- Assume clusters **esféricos** e de tamanho similar  \n",
    "- Não lida bem com outliers  \n",
    "- Exige definição prévia de `k`  \n",
    "- Depende de escala das features (normalize os dados!)"
   ]
  },
  {
   "cell_type": "markdown",
   "metadata": {},
   "source": [
    "## Silhouette Score: Avaliando a Qualidade de Clusters\n",
    "\n",
    "O **Silhouette Score** (Coeficiente de Silhueta) é uma métrica de avaliação de clusters que não requer conhecimento prévio das classes reais (não supervisionado). Ele quantifica quão bem cada ponto de dados se encaixa no seu cluster atribuído, considerando:\n",
    "- **Coesão**: Quão próximo o ponto está dos outros pontos do mesmo cluster\n",
    "- **Separação**: Quão distante o ponto está dos pontos de outros clusters\n",
    "\n",
    "A métrica varia de **-1 a 1**, onde:\n",
    "- Valores próximos a 1 indicam clusters bem definidos\n",
    "- Valores próximos a 0 sugerem clusters sobrepostos\n",
    "- Valores negativos indicam atribuição incorreta a clusters"
   ]
  },
  {
   "cell_type": "markdown",
   "metadata": {},
   "source": [
    "### Cálculo Matemático\n",
    "\n",
    "Para cada ponto \\(i\\) em um cluster:\n",
    "1. **a(i)** = Distância média entre \\(i\\) e todos os outros pontos no **mesmo cluster**\n",
    "   - Mede a coesão interna (quanto menor, melhor)\n",
    "   \n",
    "2. **b(i)** = Distância média entre \\(i\\) e todos os pontos no cluster **mais próximo** (vizinho mais próximo)\n",
    "   - Mede a separação entre clusters (quanto maior, melhor)\n",
    "\n",
    "O coeficiente de silhueta para o ponto \\(i\\) é:\n",
    "$$\n",
    "s(i) = \\frac{b(i) - a(i)}{\\max\\{a(i), b(i)\\}}\n",
    "$$\n",
    "\n",
    "O score global é a média de \\(s(i)\\) para todos os pontos no dataset."
   ]
  },
  {
   "cell_type": "markdown",
   "metadata": {},
   "source": [
    "### Interpretação do Silhouette Score\n",
    "\n",
    "| Valor de s(i) | Interpretação Visual | Significado |\n",
    "|---------------|----------------------|-------------|\n",
    "| **0.71 - 1.00** | ![Strong Structure](https://www.researchgate.net/profile/Adel-Alshomrani/publication/320438709/figure/fig3/AS:631663662989313@1527607619604/Examples-of-silhouette-values-for-clusters-of-different-quality.png) | Estrutura de clusters forte |\n",
    "| **0.51 - 0.70** | ![Reasonable Structure](https://www.researchgate.net/profile/Adel-Alshomrani/publication/320438709/figure/fig3/AS:631663662989313@1527607619604/Examples-of-silhouette-values-for-clusters-of-different-quality.png) | Estrutura razoável |\n",
    "| **0.26 - 0.50** | ![Weak Structure](https://www.researchgate.net/profile/Adel-Alshomrani/publication/320438709/figure/fig3/AS:631663662989313@1527607619604/Examples-of-silhouette-values-for-clusters-of-different-quality.png) | Estrutura fraca ou artificial |\n",
    "| **≤ 0.25** | ![No Structure](https://www.researchgate.net/profile/Adel-Alshomrani/publication/320438709/figure/fig3/AS:631663662989313@1527607619604/Examples-of-silhouette-values-for-clusters-of-different-quality.png) | Não há estrutura significativa |\n",
    "| **Valores negativos** | ![Negative](https://www.researchgate.net/profile/Adel-Alshomrani/publication/320438709/figure/fig3/AS:631663662989313@1527607619604/Examples-of-silhouette-values-for-clusters-of-different-quality.png) | Pontos provavelmente em clusters errados |"
   ]
  },
  {
   "cell_type": "markdown",
   "metadata": {},
   "source": [
    "### Implementação Prática\n",
    "\n",
    "No scikit-learn, usamos duas funções principais:\n",
    "1. `silhouette_score()`: Retorna o score médio global\n",
    "2. `silhouette_samples()`: Retorna scores para cada ponto individual\n",
    "\n",
    "```python\n",
    "# Cálculo básico do score global\n",
    "from sklearn.metrics import silhouette_score\n",
    "global_score = silhouette_score(X, kmeans.labels_)\n",
    "print(f\"Silhouette Score global: {global_score:.4f}\")\n",
    "\n",
    "# Cálculo dos scores individuais\n",
    "from sklearn.metrics import silhouette_samples\n",
    "individual_scores = silhouette_samples(X, kmeans.labels_)"
   ]
  },
  {
   "cell_type": "markdown",
   "metadata": {},
   "source": [
    "\n",
    "### Célula 5: Visualização com Gráfico de Silhueta\n",
    "\n",
    "### Gráfico de Silhueta (Silhouette Plot)\n",
    "\n",
    "O gráfico de silhueta permite analisar visualmente:\n",
    "- A qualidade de cada cluster individualmente\n",
    "- A consistência dos pontos dentro de um cluster\n",
    "- O score médio global (linha vermelha tracejada)\n",
    "\n",
    "![Exemplo de Silhouette Plot](https://scikit-learn.org/stable/_images/sphx_glr_plot_kmeans_silhouette_analysis_001.png)\n",
    "\n",
    "**Características a observar:**\n",
    "1. **Largura do gráfico**: Representa o tamanho do cluster\n",
    "2. **Formato da silhueta**:\n",
    "   - Forma de \"lâmina de faca\" → cluster bem definido\n",
    "   - Formato irregular → problemas no cluster\n",
    "3. **Pontos acima da média**: Clusters de boa qualidade\n",
    "4. **Pontos abaixo da média**: Clusters problemáticos"
   ]
  },
  {
   "cell_type": "code",
   "execution_count": 9,
   "metadata": {},
   "outputs": [
    {
     "name": "stdout",
     "output_type": "stream",
     "text": [
      "Silhouette Score médio: 0.8781\n"
     ]
    }
   ],
   "source": [
    "from sklearn.metrics import silhouette_score\n",
    "\n",
    "kmeans = KMeans(n_clusters=3, random_state=42)\n",
    "kmeans.fit(X)\n",
    "\n",
    "# Após aplicar K-means\n",
    "silhouette_avg = silhouette_score(X, kmeans.labels_)\n",
    "print(f\"Silhouette Score médio: {silhouette_avg:.4f}\")"
   ]
  },
  {
   "cell_type": "code",
   "execution_count": 10,
   "metadata": {},
   "outputs": [
    {
     "data": {
      "image/png": "[encoded data removed]",
      "text/plain": [
       "<Figure size 720x576 with 1 Axes>"
      ]
     },
     "metadata": {
      "needs_background": "light"
     },
     "output_type": "display_data"
    }
   ],
   "source": [
    "from sklearn.metrics import silhouette_samples\n",
    "import matplotlib.pyplot as plt\n",
    "import numpy as np\n",
    "\n",
    "# Calcular scores para cada ponto\n",
    "sample_silhouette_values = silhouette_samples(X, kmeans.labels_)\n",
    "\n",
    "# Configurar gráfico\n",
    "plt.figure(figsize=(10, 8))\n",
    "y_lower = 10\n",
    "\n",
    "for i in range(k):\n",
    "    # Agrupar scores do cluster i e ordenar\n",
    "    ith_cluster_silhouette_values = sample_silhouette_values[kmeans.labels_ == i]\n",
    "    ith_cluster_silhouette_values.sort()\n",
    "    \n",
    "    size_cluster_i = ith_cluster_silhouette_values.shape[0]\n",
    "    y_upper = y_lower + size_cluster_i\n",
    "    \n",
    "    color = plt.cm.nipy_spectral(float(i) / k)\n",
    "    plt.fill_betweenx(\n",
    "        np.arange(y_lower, y_upper),\n",
    "        0,\n",
    "        ith_cluster_silhouette_values,\n",
    "        facecolor=color,\n",
    "        edgecolor=color,\n",
    "        alpha=0.7\n",
    "    )\n",
    "    \n",
    "    # Rotular o cluster\n",
    "    plt.text(-0.05, y_lower + 0.5 * size_cluster_i, str(i))\n",
    "    y_lower = y_upper + 10  # Espaço entre clusters\n",
    "\n",
    "plt.title(\"Gráfico de Silhueta para KMeans\")\n",
    "plt.xlabel(\"Coeficiente de Silhueta\")\n",
    "plt.ylabel(\"Cluster\")\n",
    "plt.axvline(x=silhouette_avg, color=\"red\", linestyle=\"--\")  # Média global\n",
    "plt.yticks([])  # Remover ticks do eixo y\n",
    "plt.show()"
   ]
  },
  {
   "cell_type": "code",
   "execution_count": 11,
   "metadata": {},
   "outputs": [
    {
     "name": "stdout",
     "output_type": "stream",
     "text": [
      "k = 2 : Silhouette Score = 0.7206\n",
      "k = 3 : Silhouette Score = 0.8781\n",
      "k = 4 : Silhouette Score = 0.6849\n",
      "k = 5 : Silhouette Score = 0.5139\n",
      "k = 6 : Silhouette Score = 0.3290\n",
      "k = 7 : Silhouette Score = 0.3569\n",
      "k = 8 : Silhouette Score = 0.3460\n",
      "k = 9 : Silhouette Score = 0.3647\n",
      "k = 10 : Silhouette Score = 0.3565\n"
     ]
    },
    {
     "data": {
      "image/png": "[encoded data removed]",
      "text/plain": [
       "<Figure size 720x432 with 1 Axes>"
      ]
     },
     "metadata": {
      "needs_background": "light"
     },
     "output_type": "display_data"
    }
   ],
   "source": [
    "silhouette_scores = []\n",
    "k_range = range(2, 11)\n",
    "\n",
    "for k in k_range:\n",
    "    kmeans = KMeans(n_clusters=k, random_state=42)\n",
    "    labels = kmeans.fit_predict(X)\n",
    "    score = silhouette_score(X, labels)\n",
    "    silhouette_scores.append(score)\n",
    "    print(f\"k = {k} : Silhouette Score = {score:.4f}\")\n",
    "\n",
    "# Plotar resultados\n",
    "plt.figure(figsize=(10, 6))\n",
    "plt.plot(k_range, silhouette_scores, 'bo-')\n",
    "plt.xlabel(\"Número de Clusters (k)\")\n",
    "plt.ylabel(\"Silhouette Score\")\n",
    "plt.title(\"Silhouette Score vs Número de Clusters\")\n",
    "plt.grid(True)\n",
    "plt.show()"
   ]
  },
  {
   "cell_type": "markdown",
   "metadata": {},
   "source": [
    "\n",
    "### Célula 8: Vantagens e Limitações\n",
    "\n",
    "### Vantagens e Limitações do Silhouette Score\n",
    "\n",
    "**Vantagens:**\n",
    "✅ Não requer labels verdadeiros (métrica intrínseca)  \n",
    "✅ Fácil interpretação (escala -1 a 1)  \n",
    "✅ Considera tanto coesão quanto separação  \n",
    "✅ Funciona bem com diferentes densidades de clusters  \n",
    "✅ Útil para comparar diferentes algoritmos de clustering  \n",
    "\n",
    "**Limitações:**\n",
    "❌ Computacionalmente intensivo para grandes datasets  \n",
    "❌ Assume clusters convexos (como K-means)  \n",
    "❌ Sensível à forma dos clusters  \n",
    "❌ Pode favorecer clusters de tamanho similar  \n",
    "❌ Menos eficaz para clusters não globulares  \n",
    "\n",
    "**Dica:** Combine com outras métricas como o Índice de Calinski-Harabasz ou Davies-Bouldin para uma análise mais robusta."
   ]
  },
  {
   "cell_type": "markdown",
   "metadata": {
    "slideshow": {
     "slide_type": "slide"
    }
   },
   "source": [
    "## Modelos de regressão\n",
    "\n",
    "+ Um modelo de regressão é obtido por meio da resolução do sistema linear\n",
    "\n",
    "$\\mathbf{Xb} = \\mathbf{y}$\n",
    "\n",
    "+ Solução\n",
    "    + $\\mathbf{X^{+}Xb} = \\mathbf{X^{+}y}$\n",
    "    + $\\mathbf{b} = \\mathbf{X^{+}y}$\n",
    "+ Em que $\\mathbf{X^{+}}$ é a inversa generalizada de Moore-Penrose    "
   ]
  },
  {
   "cell_type": "markdown",
   "metadata": {
    "slideshow": {
     "slide_type": "slide"
    }
   },
   "source": [
    "## Modelos de regressão\n",
    "\n",
    "+ A resolução do sistema inclui as seguintes soluções:\n",
    "    1. $\\mathbf{X^{+}} = \\mathbf{X^{-1}}$ quando $\\mathbf{X}$ é quadrada e inversível\n",
    "    2. $\\Arrowvert {\\mathbf{y-Xb}} \\Arrowvert^2_{2} = min$ Solução de quadrados mínimos\n",
    "+ Normalmente essa equação linear é obtida através de um dos seguintes métodos:\n",
    "    + MLR\n",
    "    + PCR\n",
    "    + PLS"
   ]
  },
  {
   "cell_type": "markdown",
   "metadata": {
    "slideshow": {
     "slide_type": "slide"
    }
   },
   "source": [
    "## MLR (do inglês, Muliple Linear Regression)\n",
    "\n",
    "+ Nada mais é que a resolução direta do problema de quadrados mínimos\n",
    "+ A matriz $\\mathbf{X}$ deve ter mais linhas (amostras) que colunas (variáveis)\n",
    "+ As colunas (variáveis) não podem ser correlacionadas, pois assim o sistema não terá uma solução estável"
   ]
  },
  {
   "cell_type": "markdown",
   "metadata": {
    "slideshow": {
     "slide_type": "slide"
    }
   },
   "source": [
    "## Métodos de projeção\n",
    "\n",
    "+ Devido às limitações impostas pelo método MLR, uma solução é projetar as variáveis da matriz $\\mathbf{X}$ em um espaço de dimensão menor\n",
    "+ Se $\\mathbf{X}$ é uma matriz ($I \\times J$) de posto $P$, ela pode ser decomposta em\n",
    "\n",
    "$\\mathbf{X} = \\mathbf{URW^{t}}$\n",
    "\n",
    "+ $\\mathbf{U}$ é ortonormal de dimensões ($I \\times P$)\n",
    "+ $\\mathbf{W}$ é ortonormal de dimensões ($J \\times P$)\n",
    "+ $\\mathbf{R}$ é não singular de dimensões ($P \\times P$)"
   ]
  },
  {
   "cell_type": "markdown",
   "metadata": {
    "slideshow": {
     "slide_type": "slide"
    }
   },
   "source": [
    "## Métodos de projeção\n",
    "\n",
    "+ Assim temos\n",
    "    + $\\mathbf{R} = \\mathbf{U^{t}XW}$\n",
    "    + $\\mathbf{X^{+}} = \\mathbf{WR^{-1}U^{t}}$\n",
    "+ e, portanto\n",
    "    + $\\mathbf{b} = \\mathbf{WR^{-1}U^{t}y}$"
   ]
  },
  {
   "cell_type": "markdown",
   "metadata": {
    "slideshow": {
     "slide_type": "slide"
    }
   },
   "source": [
    "## Métodos de projeção\n",
    "\n",
    "+ Essa formulação é geral e cobre uma infinidade de métodos, dentre os quais destacam-se:\n",
    "    + PCR (A matriz R é diagonal)\n",
    "    + PLS (A matriz R é bidiagonal)\n",
    "+ O método PLS costuma ser mais usado, pois ele projeta as variáveis originais em um espaço de menor dimensão formado pelas variáveis latentes levando em consideração a informação contida na variável dependente   "
   ]
  },
  {
   "cell_type": "code",
   "execution_count": null,
   "metadata": {
    "slideshow": {
     "slide_type": "slide"
    }
   },
   "outputs": [],
   "source": [
    "import pandas as pd\n",
    "from sklearn.preprocessing import StandardScaler\n",
    "# Carregando novos dados\n",
    "X = pd.read_csv(\"Xdat.txt\",sep='\\t',index_col=0)\n",
    "print(\"Dimensões de X\")\n",
    "print(X.shape)\n",
    "y = pd.read_csv(\"pIC50dat.txt\",sep='\\t')\n",
    "print(\"Dimensões de y\")\n",
    "print(y.shape)\n",
    "\n",
    "# Autoescalando os dados\n",
    "scaler = StandardScaler().fit(X)\n",
    "print(\"Médias de X\")\n",
    "print(scaler.mean_)\n",
    "print(\"Varâncias de X\")\n",
    "print(scaler.var_)\n",
    "# Autoescalando de fato\n",
    "Xa = scaler.transform(X)\n",
    "print(\"Médias de X autoescalado\")\n",
    "print(Xa.mean(axis=0))\n",
    "print(\"Desvios padrão de X autoescalado\")\n",
    "print(Xa.std(axis=0))"
   ]
  },
  {
   "cell_type": "code",
   "execution_count": null,
   "metadata": {
    "slideshow": {
     "slide_type": "slide"
    }
   },
   "outputs": [],
   "source": [
    "# MLR\n",
    "\n",
    "from sklearn import linear_model \n",
    "from sklearn.model_selection import cross_val_predict \n",
    "from sklearn.metrics import mean_squared_error, r2_score\n",
    "\n",
    "mlr = linear_model.LinearRegression()\n",
    "\n",
    "# Fit\n",
    "mlr.fit(Xa, y)\n",
    " \n",
    "# # Calibration\n",
    "y_c = mlr.predict(Xa)\n",
    "y_c\n"
   ]
  },
  {
   "cell_type": "code",
   "execution_count": null,
   "metadata": {
    "slideshow": {
     "slide_type": "slide"
    }
   },
   "outputs": [],
   "source": [
    "score_c = r2_score(y, y_c)\n",
    "print(score_c)"
   ]
  },
  {
   "cell_type": "code",
   "execution_count": null,
   "metadata": {
    "slideshow": {
     "slide_type": "slide"
    }
   },
   "outputs": [],
   "source": [
    "y_cv = cross_val_predict(mlr, Xa, y, cv=len(Xa))\n",
    "print(y_cv)\n",
    "score_cv = r2_score(y, y_cv)\n",
    "print(score_cv)"
   ]
  },
  {
   "cell_type": "code",
   "execution_count": null,
   "metadata": {
    "slideshow": {
     "slide_type": "slide"
    }
   },
   "outputs": [],
   "source": [
    "import numpy as np\n",
    "from sklearn.feature_selection import SelectKBest, f_regression\n",
    "X_new = SelectKBest(f_regression, k=6).fit_transform(Xa, y)\n",
    "np.shape(X_new)"
   ]
  },
  {
   "cell_type": "code",
   "execution_count": null,
   "metadata": {
    "slideshow": {
     "slide_type": "slide"
    }
   },
   "outputs": [],
   "source": [
    "# Fit\n",
    "mlr.fit(X_new, y)\n",
    " \n",
    "# # Calibration\n",
    "y_c = mlr.predict(X_new)\n",
    "\n",
    "\n",
    "score_c = r2_score(y, y_c)\n",
    "print(score_c)\n",
    "y_cv = cross_val_predict(mlr, X_new, y, cv=len(y))\n",
    "score_cv = r2_score(y, y_cv)\n",
    "print(score_cv)"
   ]
  },
  {
   "cell_type": "code",
   "execution_count": null,
   "metadata": {
    "slideshow": {
     "slide_type": "slide"
    }
   },
   "outputs": [],
   "source": [
    "# PCR\n",
    "\n",
    "from sklearn.decomposition import PCA\n",
    "pca = PCA(n_components = 8)\n",
    "pca.fit(Xa)\n",
    "T = pca.fit_transform(Xa)\n",
    "\n",
    "pcr = linear_model.LinearRegression()\n",
    "\n",
    "# Fit\n",
    "pcr.fit(T, y)\n",
    "\n",
    "# Calibration\n",
    "y_c_pcr = pcr.predict(T)\n",
    "\n",
    "# Cross-validation\n",
    "y_cv_pcr = cross_val_predict(pcr, T, y, cv=len(y))\n",
    "\n",
    "# Calculate scores for calibration and cross-validation\n",
    "score_c_pcr = r2_score(y, y_c_pcr)\n",
    "print(score_c_pcr)\n",
    "score_cv_pcr = r2_score(y, y_cv_pcr)\n",
    "print(score_cv_pcr)\n"
   ]
  },
  {
   "cell_type": "code",
   "execution_count": null,
   "metadata": {
    "slideshow": {
     "slide_type": "slide"
    }
   },
   "outputs": [],
   "source": [
    "cv_scores = []\n",
    "c_scores = []\n",
    "mse_c = []\n",
    "mse_cv = []\n",
    "for i in range(8):\n",
    "    Tp = T[:,:i+1]\n",
    "    # Calibration\n",
    "    pcr.fit(Tp,y)\n",
    "    y_c_pcr = pcr.predict(Tp)\n",
    "\n",
    "    # Cross-validation\n",
    "    y_cv_pcr = cross_val_predict(pcr, Tp, y, cv=len(Xa))\n",
    "\n",
    "    # Calculate scores for calibration and cross-validation\n",
    "    c_scores.append(r2_score(y, y_c_pcr))\n",
    "    cv_scores.append(r2_score(y, y_cv_pcr))\n",
    "    mse_c.append(mean_squared_error(y, y_c_pcr))\n",
    "    mse_cv.append(mean_squared_error(y, y_cv_pcr))\n",
    "    "
   ]
  },
  {
   "cell_type": "code",
   "execution_count": null,
   "metadata": {
    "slideshow": {
     "slide_type": "slide"
    }
   },
   "outputs": [],
   "source": [
    "from bokeh.plotting import figure, output_notebook, show\n",
    "output_notebook()\n",
    "p = figure(title=\"Erro Quadrático médio\", x_axis_label='Número de componentes', y_axis_label='RMSECV ou RMSEC')\n",
    "    #p.text(x+0.3,y+0.3,flav.index[i])\n",
    "p.line(range(1,len(c_scores)+1),mse_c,legend_label=\"RMSEC\")\n",
    "p.circle(range(1,len(c_scores)+1),mse_c,legend_label=\"RMSEC\")\n",
    "p.line(range(1,len(cv_scores)+1),mse_cv,color=\"red\", legend_label=\"RMSECV\")\n",
    "p.circle(range(1,len(cv_scores)+1),mse_cv,color=\"red\", legend_label=\"RMSECV\")\n",
    "show(p)"
   ]
  },
  {
   "cell_type": "code",
   "execution_count": null,
   "metadata": {},
   "outputs": [],
   "source": [
    "import plotly.graph_objects as go\n",
    "fig  = go.Figure()\n",
    "fig.add_scatter(x=list(range(1,len(c_scores)+1)),y=mse_c, name = \"RMSEC\")\n",
    "fig.add_scatter(x=list(range(1,len(c_scores)+1)),y=mse_cv, name = \"RMSECV\")\n",
    "fig.update_traces(mode = \"markers+lines\")\n",
    "fig.update_layout(title = \"Erro na validação cruzada\",\n",
    "                  xaxis_title='Número de componentes',\n",
    "                  yaxis_title='RMSECV ou RMSEC')\n",
    "fig.show()"
   ]
  },
  {
   "cell_type": "code",
   "execution_count": null,
   "metadata": {
    "slideshow": {
     "slide_type": "slide"
    }
   },
   "outputs": [],
   "source": [
    "p = figure(title=\"Erro Validação cruzada\", x_axis_label='Número de componentes', y_axis_label='Q² ou R²')\n",
    "    #p.text(x+0.3,y+0.3,flav.index[i])\n",
    "p.line(range(1,len(c_scores)+1),c_scores,legend_label=\"R²\")\n",
    "p.circle(range(1,len(c_scores)+1),c_scores,legend_label=\"R²\")\n",
    "p.line(range(1,len(cv_scores)+1),cv_scores,color=\"red\", legend_label=\"Q²\")\n",
    "p.circle(range(1,len(cv_scores)+1),cv_scores,color=\"red\", legend_label=\"Q²\")\n",
    "show(p)"
   ]
  },
  {
   "cell_type": "code",
   "execution_count": null,
   "metadata": {},
   "outputs": [],
   "source": [
    "fig  = go.Figure()\n",
    "fig.add_scatter(x=list(range(1,len(c_scores)+1)),y=c_scores, name = \"R²\")\n",
    "fig.add_scatter(x=list(range(1,len(c_scores)+1)),y=cv_scores, name = \"Q²\")\n",
    "fig.update_traces(mode = \"markers+lines\")\n",
    "fig.update_layout(title = \"Erro na validação cruzada\",\n",
    "                   xaxis_title='Número de componentes',\n",
    "                   yaxis_title='R² ou Q²')\n",
    "fig.show()"
   ]
  },
  {
   "cell_type": "code",
   "execution_count": null,
   "metadata": {
    "slideshow": {
     "slide_type": "slide"
    }
   },
   "outputs": [],
   "source": [
    "Tp = T[:,:4]\n",
    "# Calibration\n",
    "pcr.fit(Tp,y)\n",
    "y_c_pcr = pcr.predict(Tp)\n",
    "\n",
    "# Cross-validation\n",
    "y_cv_pcr = cross_val_predict(pcr, Tp, y, cv=len(Xa))\n",
    "print(r2_score(y, y_c_pcr))\n",
    "print(r2_score(y, y_cv_pcr))"
   ]
  },
  {
   "cell_type": "code",
   "execution_count": null,
   "metadata": {
    "slideshow": {
     "slide_type": "slide"
    }
   },
   "outputs": [],
   "source": [
    "print(mlr.coef_)\n",
    "print(mlr.intercept_)"
   ]
  },
  {
   "cell_type": "code",
   "execution_count": null,
   "metadata": {
    "slideshow": {
     "slide_type": "slide"
    }
   },
   "outputs": [],
   "source": [
    "print(pcr.coef_)\n",
    "print(pcr.intercept_)"
   ]
  },
  {
   "cell_type": "code",
   "execution_count": null,
   "metadata": {
    "slideshow": {
     "slide_type": "slide"
    }
   },
   "outputs": [],
   "source": [
    "# PLS\n",
    "\n",
    "from sklearn.cross_decomposition import PLSRegression\n",
    "pls2 = PLSRegression(n_components=8)\n",
    "pls2.fit(Xa, y)\n",
    "\n",
    "y_pls = pls2.predict(Xa)\n",
    "print(y_pls)\n",
    "print(pls2.score(Xa,y))"
   ]
  },
  {
   "cell_type": "code",
   "execution_count": null,
   "metadata": {
    "slideshow": {
     "slide_type": "slide"
    }
   },
   "outputs": [],
   "source": [
    "y_cv_pls = cross_val_predict(pls2, Xa, y, cv=len(Xa))\n",
    "print(y_cv_pls)\n",
    "print(r2_score(y,y_cv_pls))"
   ]
  },
  {
   "cell_type": "code",
   "execution_count": null,
   "metadata": {
    "slideshow": {
     "slide_type": "slide"
    }
   },
   "outputs": [],
   "source": [
    "cv_scores = []\n",
    "c_scores = []\n",
    "mse_c = []\n",
    "mse_cv = []\n",
    "for i in range(8):\n",
    "    # Calibration\n",
    "    pls2 = PLSRegression(n_components=i+1)\n",
    "    pls2.fit(Xa,y)\n",
    "    y_c_pcr = pls2.predict(Xa)\n",
    "\n",
    "    # Cross-validation\n",
    "    y_cv_pcr = cross_val_predict(pls2, Xa, y, cv=len(Xa))\n",
    "\n",
    "    c_scores.append(r2_score(y, y_c_pcr))\n",
    "    cv_scores.append(r2_score(y, y_cv_pcr))\n",
    "    mse_c.append(mean_squared_error(y, y_c_pcr))\n",
    "    mse_cv.append(mean_squared_error(y, y_cv_pcr))"
   ]
  },
  {
   "cell_type": "code",
   "execution_count": null,
   "metadata": {
    "slideshow": {
     "slide_type": "slide"
    }
   },
   "outputs": [],
   "source": [
    "p = figure(title=\"Erro Quadrático médio\", x_axis_label='Número de varáveis latentes', y_axis_label='RMSECV ou RMSEC')\n",
    "    #p.text(x+0.3,y+0.3,flav.index[i])\n",
    "p.line(range(1,len(c_scores)+1),mse_c,legend_label=\"RMSEC\")\n",
    "p.circle(range(1,len(c_scores)+1),mse_c,legend_label=\"RMSEC\")\n",
    "p.line(range(1,len(cv_scores)+1),mse_cv,color=\"red\", legend_label=\"RMSECV\")\n",
    "p.circle(range(1,len(cv_scores)+1),mse_cv,color=\"red\", legend_label=\"RMSECV\")\n",
    "show(p)"
   ]
  },
  {
   "cell_type": "code",
   "execution_count": null,
   "metadata": {},
   "outputs": [],
   "source": [
    "fig  = go.Figure()\n",
    "fig.add_scatter(x=list(range(1,len(c_scores)+1)),y=mse_c, name = \"RMSEC\")\n",
    "fig.add_scatter(x=list(range(1,len(c_scores)+1)),y=mse_cv, name = \"RMSECV\")\n",
    "fig.update_traces(mode = \"markers+lines\")\n",
    "fig.update_layout(title = \"Erro quadrático médio\",\n",
    "                  xaxis_title='Número de variáveis latentes',\n",
    "                  yaxis_title='RMSECV ou RMSEC')\n",
    "fig.show()"
   ]
  },
  {
   "cell_type": "code",
   "execution_count": null,
   "metadata": {
    "slideshow": {
     "slide_type": "slide"
    }
   },
   "outputs": [],
   "source": [
    "from bokeh.models import LabelSet, Label, ColumnDataSource\n",
    "source = ColumnDataSource(data=dict(\n",
    "    lv=range(1,len(c_scores)+1),\n",
    "    R2=c_scores,\n",
    "    Q2=cv_scores,\n",
    "))\n",
    "\n",
    "TOOLTIPS = [\n",
    "    (\"LV\", \"@lv\"),\n",
    "    (\"R2\", \"@R2\"),\n",
    "    (\"Q2\", \"@Q2\")\n",
    "]\n",
    "\n",
    "p = figure(title=\"Erro Validação cruzada - PLS\", x_axis_label='Número de variáveis latentes', y_axis_label='Q² ou R²',\n",
    "          tooltips = TOOLTIPS)\n",
    "    #p.text(x+0.3,y+0.3,flav.index[i])\n",
    "p.line(\"lv\",\"R2\",legend_label=\"R²\", source=source)\n",
    "p.circle(\"lv\",\"R2\",legend_label=\"R²\", source=source)\n",
    "p.line(\"lv\",\"Q2\",color=\"red\", legend_label=\"Q²\", source=source)\n",
    "p.circle(\"lv\",\"Q2\",color=\"red\", legend_label=\"Q²\", source=source)\n",
    "show(p)"
   ]
  },
  {
   "cell_type": "code",
   "execution_count": null,
   "metadata": {},
   "outputs": [],
   "source": [
    "fig  = go.Figure()\n",
    "fig.add_scatter(x=list(range(1,len(c_scores)+1)),y=c_scores, name = \"R²\")\n",
    "fig.add_scatter(x=list(range(1,len(c_scores)+1)),y=cv_scores, name = \"Q²\")\n",
    "fig.update_traces(mode = \"markers+lines\")\n",
    "fig.update_layout(title = \"Erro na validação cruzada - PLS\",\n",
    "                  xaxis_title='Número de componentes',\n",
    "                  yaxis_title='R² ou Q²')\n",
    "fig.show()"
   ]
  },
  {
   "cell_type": "code",
   "execution_count": null,
   "metadata": {
    "slideshow": {
     "slide_type": "slide"
    }
   },
   "outputs": [],
   "source": [
    "pls2 = PLSRegression(n_components=2)\n",
    "pls2.fit(Xa, y)\n",
    "\n",
    "y_pls = pls2.predict(Xa)\n",
    "print(pls2.score(Xa,y))\n",
    "\n",
    "y_cv_pls = cross_val_predict(pls2, Xa, y, cv=len(Xa))\n",
    "print(r2_score(y,y_cv_pls))"
   ]
  },
  {
   "cell_type": "code",
   "execution_count": null,
   "metadata": {
    "slideshow": {
     "slide_type": "slide"
    }
   },
   "outputs": [],
   "source": [
    "from sklearn.model_selection import train_test_split\n",
    "X_train, X_test, y_train, y_test = train_test_split(X, y, test_size=0.33)"
   ]
  },
  {
   "cell_type": "code",
   "execution_count": null,
   "metadata": {
    "slideshow": {
     "slide_type": "slide"
    }
   },
   "outputs": [],
   "source": [
    "scaler = StandardScaler().fit(X_train)\n",
    "X_train_a = scaler.transform(X_train)\n",
    "pls2 = PLSRegression(n_components=2)\n",
    "pls2.fit(X_train_a, y_train)\n",
    "\n",
    "y_pls = pls2.predict(X_train_a)\n",
    "print(pls2.score(X_train_a,y_train))\n",
    "\n",
    "y_cv_pls = cross_val_predict(pls2, X_train_a, y_train, cv=len(X_train_a))\n",
    "print(r2_score(y_train,y_cv_pls))"
   ]
  },
  {
   "cell_type": "code",
   "execution_count": null,
   "metadata": {
    "slideshow": {
     "slide_type": "slide"
    }
   },
   "outputs": [],
   "source": [
    "X_test_a = scaler.transform(X_test)\n",
    "y_p = pls2.predict(X_test_a)\n",
    "print(pls2.score(X_test_a,y_test))"
   ]
  },
  {
   "cell_type": "code",
   "execution_count": null,
   "metadata": {
    "slideshow": {
     "slide_type": "slide"
    }
   },
   "outputs": [],
   "source": [
    "from scipy.cluster.hierarchy import dendrogram, linkage\n",
    "from matplotlib import pyplot as plt\n",
    "\n",
    "Z = linkage(Xa,'ward')\n",
    "fig = plt.figure(figsize=(25, 10))\n",
    "dn = dendrogram(Z,orientation=\"right\", labels=[(int(X.index[i]),\"{:.2f}\".format(y[\"pIC50\"][i])) for i in range(len(y))])"
   ]
  },
  {
   "cell_type": "code",
   "execution_count": null,
   "metadata": {},
   "outputs": [],
   "source": [
    "import plotly.figure_factory as ff\n",
    "\n",
    "labels = [(int(X.index[i]),\"{:.2f}\".format(y[\"pIC50\"][i])) for i in range(len(y))]\n",
    "fig = ff.create_dendrogram(Xa, orientation='left', color_threshold=55, labels = labels)\n",
    "fig.update_layout(width=800, height=1000)\n",
    "fig.show()"
   ]
  },
  {
   "cell_type": "code",
   "execution_count": null,
   "metadata": {
    "slideshow": {
     "slide_type": "slide"
    }
   },
   "outputs": [],
   "source": [
    "from bokeh.plotting import figure, output_notebook, show\n",
    "from bokeh.models import LabelSet, Label, ColumnDataSource\n",
    "source = ColumnDataSource(data=dict(x=range(1,1+len(y)),\n",
    "                                    y=y[\"pIC50\"],\n",
    "                                    names=X.index))\n",
    "\n",
    "output_notebook()\n",
    "p = figure(title=\"Atividades\", x_axis_label='Amostras', y_axis_label='pIC50')\n",
    "p.scatter('x','y',color='blue',source=source)\n",
    "labels = LabelSet(x='x', y='y', text='names', level='glyph',\n",
    "              x_offset=5, y_offset=5, source=source, render_mode='canvas')    \n",
    "p.add_layout(labels)\n",
    "show(p)"
   ]
  },
  {
   "cell_type": "code",
   "execution_count": null,
   "metadata": {},
   "outputs": [],
   "source": [
    "import plotly.express as px\n",
    "fig  = px.scatter(x=list(range(1,len(y)+1)),y=y[\"pIC50\"],text=X.index)\n",
    "fig.update_traces(textposition='top center',marker={\"size\":8})\n",
    "fig.update_layout(title = \"Atividades\",\n",
    "                  xaxis_title='Amostras',\n",
    "                  yaxis_title='pIC50')\n",
    "fig.show()"
   ]
  },
  {
   "cell_type": "code",
   "execution_count": null,
   "metadata": {},
   "outputs": [],
   "source": [
    "fig = px.histogram(y[\"pIC50\"],nbins=6)\n",
    "fig.show()"
   ]
  },
  {
   "cell_type": "code",
   "execution_count": null,
   "metadata": {
    "slideshow": {
     "slide_type": "slide"
    }
   },
   "outputs": [],
   "source": [
    "pca = PCA(n_components=3)\n",
    "pca.fit(Xa)\n",
    "T = pca.fit_transform(Xa)\n",
    "source = ColumnDataSource(data=dict(PC1=T[:,0],\n",
    "                                    PC2=T[:,1],\n",
    "                                    names=X.index))\n",
    "\n",
    "output_notebook()\n",
    "p = figure(title=\"PCA\", x_axis_label='PC1', y_axis_label='PC2')\n",
    "# for i in range(np.shape(T)[0]):\n",
    "#     x = T[i,0]\n",
    "#     y = T[i,1]\n",
    "#     p.circle(x,y,color='blue')\n",
    "    #p.text(x+0.3,y+0.3,flav.index[i])\n",
    "p.scatter('PC1','PC2',color='blue',size=6, source=source)\n",
    "labels = LabelSet(x='PC1', y='PC2', text='names', level='glyph',\n",
    "              x_offset=3, y_offset=3, source=source, render_mode='canvas')    \n",
    "p.add_layout(labels)\n",
    "show(p)"
   ]
  },
  {
   "cell_type": "markdown",
   "metadata": {
    "slideshow": {
     "slide_type": "slide"
    }
   },
   "source": [
    "## Ridge Regression\n",
    "\n",
    "+ É um método de regressão projetado para tratar dados cujas variáveis apresentam colinearidade\n",
    "+ Nesse método uma penalização é imposta ao tamanho dos coefcientes de regressão\n",
    "+ A soma de resíduos penalizada é minimizada\n",
    "+ $\\Arrowvert {\\mathbf{y-Xb}} \\Arrowvert^2_{2} + \\alpha\\Arrowvert {\\mathbf{b}} \\Arrowvert^2_{2}= min$\n",
    "+ O parâmetro de complexidade controla a magnitude do \"encolhimento\": quanto maior o valor de $\\alpha$ maior o valor do encolhimento e assim os coeficientes se tornam mais robustos em relação à colinearidade."
   ]
  },
  {
   "cell_type": "code",
   "execution_count": null,
   "metadata": {
    "slideshow": {
     "slide_type": "slide"
    }
   },
   "outputs": [],
   "source": [
    "import numpy as np\n",
    "from sklearn.linear_model import RidgeCV\n",
    "clfR = RidgeCV(alphas=np.logspace(-3,3,100000))\n",
    "clfR.fit(X_train_a, y_train)\n",
    "clfR.score(X_train_a, y_train) "
   ]
  },
  {
   "cell_type": "code",
   "execution_count": null,
   "metadata": {
    "slideshow": {
     "slide_type": "slide"
    }
   },
   "outputs": [],
   "source": [
    "clfR.alpha_"
   ]
  },
  {
   "cell_type": "code",
   "execution_count": null,
   "metadata": {
    "slideshow": {
     "slide_type": "slide"
    }
   },
   "outputs": [],
   "source": [
    "clfR = RidgeCV(alphas=np.linspace(100,150,100000))\n",
    "clfR.fit(X_train_a, y_train)\n",
    "clfR.score(X_train_a, y_train) "
   ]
  },
  {
   "cell_type": "code",
   "execution_count": null,
   "metadata": {
    "slideshow": {
     "slide_type": "slide"
    }
   },
   "outputs": [],
   "source": [
    "clfR.alpha_"
   ]
  },
  {
   "cell_type": "code",
   "execution_count": null,
   "metadata": {
    "slideshow": {
     "slide_type": "slide"
    }
   },
   "outputs": [],
   "source": [
    "from sklearn.model_selection import cross_val_predict\n",
    "from sklearn.metrics import r2_score\n",
    "y_cv_Ridge = cross_val_predict(clfR,X_train_a,y_train,cv=len(y_train))\n",
    "r2_score(y_train,y_cv_Ridge)"
   ]
  },
  {
   "cell_type": "code",
   "execution_count": null,
   "metadata": {
    "slideshow": {
     "slide_type": "slide"
    }
   },
   "outputs": [],
   "source": [
    "clfR.predict(X_test_a)\n",
    "clfR.score(X_test_a,y_test)"
   ]
  },
  {
   "cell_type": "code",
   "execution_count": null,
   "metadata": {
    "slideshow": {
     "slide_type": "slide"
    }
   },
   "outputs": [],
   "source": [
    "y_cal_Ridge = clfR.predict(X_train_a)\n",
    "r2_score(y_train,y_cal_Ridge)"
   ]
  },
  {
   "cell_type": "code",
   "execution_count": null,
   "metadata": {
    "slideshow": {
     "slide_type": "slide"
    }
   },
   "outputs": [],
   "source": [
    "p = figure()\n",
    "p.scatter(range(1,565),clfR.coef_.reshape(564))\n",
    "show(p)"
   ]
  },
  {
   "cell_type": "code",
   "execution_count": null,
   "metadata": {
    "slideshow": {
     "slide_type": "slide"
    }
   },
   "outputs": [],
   "source": [
    "Xsel = X_train_a[:,(np.abs(clfR.coef_) > 0.01)[0]]\n",
    "Xsel_test = X_test_a[:,(np.abs(clfR.coef_) > 0.01)[0]]"
   ]
  },
  {
   "cell_type": "code",
   "execution_count": null,
   "metadata": {
    "slideshow": {
     "slide_type": "slide"
    }
   },
   "outputs": [],
   "source": [
    "clfR = RidgeCV(alphas=np.logspace(-3,3,10000))\n",
    "clfR.fit(Xsel, y_train)\n",
    "clfR.score(Xsel, y_train) "
   ]
  },
  {
   "cell_type": "code",
   "execution_count": null,
   "metadata": {
    "slideshow": {
     "slide_type": "slide"
    }
   },
   "outputs": [],
   "source": [
    "y_cv_Ridge = cross_val_predict(clfR,Xsel,y_train,cv=len(y_train))\n",
    "r2_score(y_train,y_cv_Ridge)"
   ]
  },
  {
   "cell_type": "code",
   "execution_count": null,
   "metadata": {
    "slideshow": {
     "slide_type": "slide"
    }
   },
   "outputs": [],
   "source": [
    "clfR.predict(Xsel_test)\n",
    "clfR.score(Xsel_test,y_test)"
   ]
  },
  {
   "cell_type": "markdown",
   "metadata": {
    "slideshow": {
     "slide_type": "slide"
    }
   },
   "source": [
    "## Lasso\n",
    "\n",
    "+ Lasso é um modelo de regressão linear que estima coeficientes esparsos.\n",
    "+ É útil em contextos nos quais coeficientes diferentes de zero são desejados, o que reduz o número de variáveis\n",
    "+ É chamada de uma técnica de regularização L1, pois inclui a norma-1 dos coeficientes na função objetivo a ser minimizada\n",
    "+ $\\frac{1}{2I}\\Arrowvert {\\mathbf{y-Xb}} \\Arrowvert^2_{2} + \\alpha\\Arrowvert {\\mathbf{b}} \\Arrowvert_{1}= min$"
   ]
  },
  {
   "cell_type": "code",
   "execution_count": null,
   "metadata": {
    "slideshow": {
     "slide_type": "slide"
    }
   },
   "outputs": [],
   "source": [
    "from sklearn.linear_model import LassoCV\n",
    "from sklearn.utils.validation import column_or_1d\n",
    "y_train = column_or_1d(y_train)\n",
    "clfLasso = LassoCV(alphas=np.logspace(-3,3,100000),cv = 10)\n",
    "clfLasso.fit(X_train_a, y_train)\n",
    "clfLasso.score(X_train_a, y_train) "
   ]
  },
  {
   "cell_type": "code",
   "execution_count": null,
   "metadata": {
    "slideshow": {
     "slide_type": "slide"
    }
   },
   "outputs": [],
   "source": [
    "clfLasso.alpha_"
   ]
  },
  {
   "cell_type": "code",
   "execution_count": null,
   "metadata": {},
   "outputs": [],
   "source": [
    "clfLasso = LassoCV(alphas=np.linspace(0.0001,0.01,10000),cv = 10)\n",
    "clfLasso.fit(X_train_a, y_train)\n",
    "clfLasso.score(X_train_a, y_train) "
   ]
  },
  {
   "cell_type": "code",
   "execution_count": null,
   "metadata": {},
   "outputs": [],
   "source": [
    "clfLasso.alpha_"
   ]
  },
  {
   "cell_type": "code",
   "execution_count": null,
   "metadata": {
    "slideshow": {
     "slide_type": "slide"
    }
   },
   "outputs": [],
   "source": [
    "y_cv_Lasso = cross_val_predict(clfLasso,X_train_a,y_train,cv=5)\n",
    "r2_score(y_train,y_cv_Lasso)"
   ]
  },
  {
   "cell_type": "code",
   "execution_count": null,
   "metadata": {
    "slideshow": {
     "slide_type": "slide"
    }
   },
   "outputs": [],
   "source": [
    "clfLasso.predict(X_test_a)\n",
    "clfLasso.score(X_test_a,y_test)"
   ]
  },
  {
   "cell_type": "code",
   "execution_count": null,
   "metadata": {
    "slideshow": {
     "slide_type": "slide"
    }
   },
   "outputs": [],
   "source": [
    "p = figure()\n",
    "p.scatter(range(1,565),clfLasso.coef_.reshape(564))\n",
    "show(p)"
   ]
  },
  {
   "cell_type": "code",
   "execution_count": null,
   "metadata": {
    "slideshow": {
     "slide_type": "slide"
    }
   },
   "outputs": [],
   "source": [
    "X.columns[np.abs(clfLasso.coef_) > 0]"
   ]
  },
  {
   "cell_type": "code",
   "execution_count": null,
   "metadata": {},
   "outputs": [],
   "source": [
    "Xsel_lasso = X_train_a[:,np.abs(clfLasso.coef_) > 0]\n",
    "Xsel_test_lasso = X_test_a[:,np.abs(clfLasso.coef_) > 0]"
   ]
  },
  {
   "cell_type": "code",
   "execution_count": null,
   "metadata": {},
   "outputs": [],
   "source": [
    "clfLasso = LassoCV(alphas=np.logspace(-3,3,10000),cv = 10)\n",
    "clfLasso.fit(Xsel_lasso, y_train)\n",
    "clfLasso.score(Xsel_lasso, y_train) "
   ]
  },
  {
   "cell_type": "code",
   "execution_count": null,
   "metadata": {},
   "outputs": [],
   "source": [
    "y_cv_Lasso2 = cross_val_predict(clfLasso,Xsel_lasso,y_train,cv=5)\n",
    "r2_score(y_train,y_cv_Lasso2)"
   ]
  },
  {
   "cell_type": "code",
   "execution_count": null,
   "metadata": {},
   "outputs": [],
   "source": [
    "clfLasso.predict(Xsel_test_lasso)\n",
    "clfLasso.score(Xsel_test_lasso,y_test)"
   ]
  },
  {
   "cell_type": "markdown",
   "metadata": {
    "slideshow": {
     "slide_type": "slide"
    }
   },
   "source": [
    "## Elastic-Net\n",
    "\n",
    "+ Elastic-net é um método de regressão linear que usa ambas as normas (L1 e L2) de regularização dos coeficientes\n",
    "+ Essa combinação permite o aprendizado de um modelo esparso no qual poucos coeficientes são diferentes de zero, como o Lasso, enquanto mantém as propriedades de regularização do Ridge\n",
    "+ Elastic-net é útil quando existem múltiplas variáveis correlacionadas entre si. Lasso seleciona uma delas aleatoriamente, enquanto que elastic-net seleciona ambas\n",
    "+ A função objetivo a ser minimizada nesse caso é\n",
    "+ ${ \\frac{1}{2I} ||y-Xb||_2 ^ 2 + \\alpha \\rho ||b||_1 +\\frac{\\alpha(1-\\rho)}{2} ||b||_2 ^ 2} = min$\n",
    "\n"
   ]
  },
  {
   "cell_type": "code",
   "execution_count": null,
   "metadata": {
    "slideshow": {
     "slide_type": "slide"
    }
   },
   "outputs": [],
   "source": [
    "from sklearn.linear_model import ElasticNetCV\n",
    "clfEnet = ElasticNetCV(cv = 10)\n",
    "clfEnet.fit(X_train_a, y_train)\n",
    "clfEnet.score(X_train_a, y_train) "
   ]
  },
  {
   "cell_type": "code",
   "execution_count": null,
   "metadata": {
    "slideshow": {
     "slide_type": "slide"
    }
   },
   "outputs": [],
   "source": [
    "clfEnet.alpha_"
   ]
  },
  {
   "cell_type": "code",
   "execution_count": null,
   "metadata": {},
   "outputs": [],
   "source": [
    "y_cv_Enet = cross_val_predict(clfEnet,X_train_a,y_train,cv=20)\n",
    "r2_score(y_train,y_cv_Enet)"
   ]
  },
  {
   "cell_type": "code",
   "execution_count": null,
   "metadata": {},
   "outputs": [],
   "source": [
    "clfEnet.predict(X_test_a)\n",
    "clfEnet.score(X_test_a,y_test)"
   ]
  },
  {
   "cell_type": "code",
   "execution_count": null,
   "metadata": {},
   "outputs": [],
   "source": [
    "p = figure()\n",
    "p.scatter(range(1,565),clfEnet.coef_.reshape(564))\n",
    "show(p)"
   ]
  },
  {
   "cell_type": "code",
   "execution_count": null,
   "metadata": {},
   "outputs": [],
   "source": [
    "X.columns[abs(clfEnet.coef_) > 0]"
   ]
  },
  {
   "cell_type": "code",
   "execution_count": null,
   "metadata": {},
   "outputs": [],
   "source": [
    "Xsel2 = X_train_a[:,abs(clfEnet.coef_) > 0]\n",
    "Xsel_test2 = X_test_a[:,np.abs(clfEnet.coef_) > 0]"
   ]
  },
  {
   "cell_type": "code",
   "execution_count": null,
   "metadata": {},
   "outputs": [],
   "source": [
    "clfEnet = ElasticNetCV(cv = 10)\n",
    "clfEnet.fit(Xsel2, y_train)\n",
    "clfEnet.score(Xsel2, y_train) "
   ]
  },
  {
   "cell_type": "code",
   "execution_count": null,
   "metadata": {},
   "outputs": [],
   "source": [
    "y_cv_Enet = cross_val_predict(clfEnet,Xsel2,y_train,cv=10)\n",
    "r2_score(y_train,y_cv_Enet)"
   ]
  },
  {
   "cell_type": "code",
   "execution_count": null,
   "metadata": {},
   "outputs": [],
   "source": [
    "clfEnet.predict(Xsel_test2)\n",
    "clfEnet.score(Xsel_test2,y_test)"
   ]
  },
  {
   "cell_type": "code",
   "execution_count": null,
   "metadata": {},
   "outputs": [],
   "source": [
    "def PLSCV(X,y):\n",
    "    cv_scores = []\n",
    "    c_scores = []\n",
    "    mse_c = []\n",
    "    mse_cv = []\n",
    "    for i in range(min(np.shape(X))):\n",
    "        # Calibration\n",
    "        pls2 = PLSRegression(n_components=i+1)\n",
    "        pls2.fit(X,y)\n",
    "        y_c = pls2.predict(X)\n",
    "\n",
    "        # Cross-validation\n",
    "        y_cv = cross_val_predict(pls2, X, y, cv=len(X))\n",
    "\n",
    "    #     c_scores.append(r2_score(y, y_c_pcr))\n",
    "        cv_scores.append(r2_score(y, y_cv))\n",
    "    #     mse_c.append(mean_squared_error(y, y_c_pcr))\n",
    "    #     mse_cv.append(mean_squared_error(y, y_cv_pcr))\n",
    "    return cv_scores\n",
    "cv_scores = PLSCV(Xsel,y_train)"
   ]
  },
  {
   "cell_type": "code",
   "execution_count": null,
   "metadata": {},
   "outputs": [],
   "source": [
    "cv_scores"
   ]
  },
  {
   "cell_type": "code",
   "execution_count": null,
   "metadata": {},
   "outputs": [],
   "source": [
    "pls2 = PLSRegression(n_components=3)\n",
    "pls2.fit(Xsel2, y_train)\n",
    "\n",
    "y_pls = pls2.predict(Xsel2)\n",
    "print(pls2.score(Xsel2,y_train))\n",
    "\n",
    "y_cv_pls = cross_val_predict(pls2, Xsel2, y_train, cv=len(y_train))\n",
    "print(r2_score(y_train,y_cv_pls))"
   ]
  },
  {
   "cell_type": "code",
   "execution_count": null,
   "metadata": {},
   "outputs": [],
   "source": [
    "pls2.predict(Xsel_test2)\n",
    "pls2.score(Xsel_test2,y_test)"
   ]
  },
  {
   "cell_type": "code",
   "execution_count": null,
   "metadata": {},
   "outputs": [],
   "source": [
    "from sklearn.model_selection import GridSearchCV\n",
    "from sklearn.tree import DecisionTreeRegressor\n",
    "tr = GridSearchCV(DecisionTreeRegressor(),{'max_depth':range(1,10)},cv=10)\n",
    "tr.fit(X_train_a,y_train)\n",
    "tr.score(X_train_a,y_train)"
   ]
  },
  {
   "cell_type": "code",
   "execution_count": null,
   "metadata": {},
   "outputs": [],
   "source": [
    "tr.best_score_"
   ]
  },
  {
   "cell_type": "code",
   "execution_count": null,
   "metadata": {},
   "outputs": [],
   "source": [
    "tr.best_params_"
   ]
  },
  {
   "cell_type": "code",
   "execution_count": null,
   "metadata": {},
   "outputs": [],
   "source": [
    "# cross_val_predict(tr, Xsel2, y_train, cv=len(y_train))\n",
    "print(r2_score(y_train,cross_val_predict(tr, X_train_a, y_train, cv=len(y_train))))"
   ]
  },
  {
   "cell_type": "code",
   "execution_count": null,
   "metadata": {},
   "outputs": [],
   "source": [
    "tr2 = DecisionTreeRegressor(max_depth=1)\n",
    "tr2.fit(X_train_a,y_train)"
   ]
  },
  {
   "cell_type": "code",
   "execution_count": null,
   "metadata": {},
   "outputs": [],
   "source": [
    "y_cv_tr = cross_val_predict(tr2, X_train_a, y_train, cv=len(y_train))"
   ]
  },
  {
   "cell_type": "code",
   "execution_count": null,
   "metadata": {},
   "outputs": [],
   "source": [
    "r2_score(y_train,y_cv_tr)"
   ]
  },
  {
   "cell_type": "code",
   "execution_count": null,
   "metadata": {},
   "outputs": [],
   "source": [
    "tr2.score(X_train_a,y_train)"
   ]
  },
  {
   "cell_type": "code",
   "execution_count": null,
   "metadata": {},
   "outputs": [],
   "source": [
    "X.columns[tr2.feature_importances_ > 0]"
   ]
  },
  {
   "cell_type": "code",
   "execution_count": null,
   "metadata": {},
   "outputs": [],
   "source": [
    "from sklearn.ensemble import RandomForestRegressor\n",
    "rf = GridSearchCV(RandomForestRegressor(),{'max_depth':range(1,10)},cv=10)\n",
    "rf.fit(X_train_a,y_train)\n",
    "rf.score(X_train_a,y_train)"
   ]
  },
  {
   "cell_type": "code",
   "execution_count": null,
   "metadata": {},
   "outputs": [],
   "source": [
    "rf.best_params_"
   ]
  },
  {
   "cell_type": "code",
   "execution_count": null,
   "metadata": {},
   "outputs": [],
   "source": [
    "rf2 = RandomForestRegressor(max_depth=5)\n",
    "rf2.fit(X_train_a,y_train)"
   ]
  },
  {
   "cell_type": "code",
   "execution_count": null,
   "metadata": {},
   "outputs": [],
   "source": [
    "rf2.score(X_train_a,y_train)"
   ]
  },
  {
   "cell_type": "code",
   "execution_count": null,
   "metadata": {},
   "outputs": [],
   "source": [
    "y_cv_rf = cross_val_predict(tr2, X_train_a, y_train, cv=len(y_train))\n",
    "r2_score(y_train,y_cv_rf)"
   ]
  },
  {
   "cell_type": "markdown",
   "metadata": {
    "slideshow": {
     "slide_type": "slide"
    }
   },
   "source": [
    "## Modelos de classificação\n",
    "\n",
    "+ Nos estudos de classificação, cada uma das amostras é descrita por um conjunto de medidas experimentais, que chamamos de \"padrão\" e são classificadas com uma propriedade de interesse (bom/ruim; falso/verdadeiro; ativo/nao ativo etc.)\n",
    "+ A determinação da propriedade de interesse ao atribuir uma amostra à sua respectiva classe é o que chamamos de \"reconhecimento\"\n",
    "+ Na análise supervisionada , seleciona-se uma série de amostras representativas de cada classe e para as quais as medidas experimentais são coletadas e o padrão de cada uma delas é definido (conjunto de treinamento)\n",
    "+ A seguir, utilizando as informações do conjunto de treinamento, construímos um modelo empírico ou regra de classificação, motivo pelo qual esses métodos são chamados de **supervisionados**\n",
    "+ Antes de sua utilização, o modelo empírico obtido deve ser testado para verificar sua capacidade de prever com sucesso a classe de novas amostras. Para isso utiliza-se um conjunto teste"
   ]
  },
  {
   "cell_type": "markdown",
   "metadata": {
    "slideshow": {
     "slide_type": "slide"
    }
   },
   "source": [
    "## Modelos de classificação\n",
    "\n",
    "+ Os métodos de classificação podem ser agrupados em duas categorias:\n",
    "    + Paramétricos ou probabilísticos\n",
    "        + Ex: LDA, QDA, SIMCA etc.\n",
    "    + Não paramétricos ou não probabilísticos\n",
    "        + Ex: k-NN"
   ]
  },
  {
   "cell_type": "markdown",
   "metadata": {
    "slideshow": {
     "slide_type": "slide"
    }
   },
   "source": [
    "## k-ésimos vizinhos mais próximos (k-NN)\n",
    "\n",
    "+ Esse é um método conceitualmente bem simples e que produz excelentes resultados\n",
    "+ Durante a construção do modelo, cada amostra do conjunto de treinamento é excluída uma única vez e então classificada usando-se, para isso, as amostras restantes\n",
    "+ São calculadas as distâncias (Euclideana ou Mahalanobis, por exemplo) entre a amostra excluída e todas as outras amostras do conjunto de treinamento\n",
    "+ As distâncias de todas as amostras à amostra em questão são colocadas em ordem crescente para facilitar a identificação dos seus $k$ vizinhos mais próximos\n",
    "+ Essa amostra é então classificada de acordo com a maioria dos \"votos\" de seus vizinhos mais próximos"
   ]
  },
  {
   "cell_type": "markdown",
   "metadata": {
    "slideshow": {
     "slide_type": "slide"
    }
   },
   "source": [
    "## k-ésimos vizinhos mais próximos (k-NN)\n",
    "\n",
    "![alt_text](knn.png)"
   ]
  },
  {
   "cell_type": "markdown",
   "metadata": {
    "slideshow": {
     "slide_type": "slide"
    }
   },
   "source": [
    "## [Conjunto de dados](https://scikit-learn.org/stable/modules/generated/sklearn.datasets.load_wine.html#sklearn.datasets.load_wine)"
   ]
  },
  {
   "cell_type": "code",
   "execution_count": null,
   "metadata": {
    "slideshow": {
     "slide_type": "slide"
    }
   },
   "outputs": [],
   "source": [
    "from sklearn.datasets import load_wine\n",
    "vinhos = load_wine()\n",
    "print(vinhos.data)\n",
    "print(vinhos.target)\n",
    "print(vinhos)"
   ]
  },
  {
   "cell_type": "code",
   "execution_count": null,
   "metadata": {},
   "outputs": [],
   "source": [
    "print(vinhos.DESCR)"
   ]
  },
  {
   "cell_type": "code",
   "execution_count": null,
   "metadata": {
    "slideshow": {
     "slide_type": "slide"
    }
   },
   "outputs": [],
   "source": [
    "import pandas as pd\n",
    "df_vinhos = pd.DataFrame(vinhos.data)\n",
    "df_vinhos.columns = vinhos.feature_names"
   ]
  },
  {
   "cell_type": "code",
   "execution_count": null,
   "metadata": {
    "slideshow": {
     "slide_type": "slide"
    }
   },
   "outputs": [],
   "source": [
    "df_vinhos"
   ]
  },
  {
   "cell_type": "code",
   "execution_count": null,
   "metadata": {
    "slideshow": {
     "slide_type": "slide"
    }
   },
   "outputs": [],
   "source": [
    "from sklearn.neighbors import KNeighborsClassifier\n",
    "clf = KNeighborsClassifier(n_neighbors=5)\n",
    "clf.fit(vinhos.data,vinhos.target)\n",
    "print(clf.score(vinhos.data,vinhos.target))\n",
    "print(clf.predict_proba(vinhos.data))"
   ]
  },
  {
   "cell_type": "code",
   "execution_count": null,
   "metadata": {},
   "outputs": [],
   "source": [
    "from sklearn.model_selection import cross_val_predict\n",
    "knn_p = cross_val_predict(clf, vinhos.data, vinhos.target, cv=20)\n",
    "print(knn_p)"
   ]
  },
  {
   "cell_type": "code",
   "execution_count": null,
   "metadata": {},
   "outputs": [],
   "source": [
    "from sklearn.model_selection import GridSearchCV\n",
    "knn = GridSearchCV(clf,{'n_neighbors':range(1,9)},cv=30)\n",
    "knn.fit(vinhos.data,vinhos.target)\n",
    "print(knn.score(vinhos.data,vinhos.target))\n",
    "print(knn.best_params_)"
   ]
  },
  {
   "cell_type": "code",
   "execution_count": null,
   "metadata": {},
   "outputs": [],
   "source": [
    "clf = KNeighborsClassifier(n_neighbors=1)\n",
    "clf.fit(vinhos.data,vinhos.target)\n",
    "print(clf.score(vinhos.data,vinhos.target))\n",
    "print(clf.predict_proba(vinhos.data))"
   ]
  },
  {
   "cell_type": "code",
   "execution_count": null,
   "metadata": {},
   "outputs": [],
   "source": [
    "import matplotlib.pyplot as plt\n",
    "from sklearn.metrics import confusion_matrix\n",
    "from sklearn.utils.multiclass import unique_labels\n",
    "def plot_confusion_matrix(y_true, y_pred, classes,\n",
    "                          normalize=False,\n",
    "                          title=None,\n",
    "                          cmap=plt.cm.Blues):\n",
    "    \"\"\"\n",
    "    This function prints and plots the confusion matrix.\n",
    "    Normalization can be applied by setting `normalize=True`.\n",
    "    \"\"\"\n",
    "    if not title:\n",
    "        if normalize:\n",
    "            title = 'Normalized confusion matrix'\n",
    "        else:\n",
    "            title = 'Confusion matrix, without normalization'\n",
    "\n",
    "    # Compute confusion matrix\n",
    "    cm = confusion_matrix(y_true, y_pred)\n",
    "    # Only use the labels that appear in the data\n",
    "    classes = classes[unique_labels(y_true, y_pred)]\n",
    "    if normalize:\n",
    "        cm = cm.astype('float') / cm.sum(axis=1)[:, np.newaxis]\n",
    "        print(\"Normalized confusion matrix\")\n",
    "    else:\n",
    "        print('Confusion matrix, without normalization')\n",
    "\n",
    "    print(cm)\n",
    "\n",
    "    fig, ax = plt.subplots()\n",
    "    im = ax.imshow(cm, interpolation='nearest', cmap=cmap)\n",
    "    ax.figure.colorbar(im, ax=ax)\n",
    "    # We want to show all ticks...\n",
    "    ax.set(xticks=np.arange(cm.shape[1]),\n",
    "           yticks=np.arange(cm.shape[0]),\n",
    "           # ... and label them with the respective list entries\n",
    "           xticklabels=classes, yticklabels=classes,\n",
    "           title=title,\n",
    "           ylabel='True label',\n",
    "           xlabel='Predicted label')\n",
    "\n",
    "    # Rotate the tick labels and set their alignment.\n",
    "    plt.setp(ax.get_xticklabels(), rotation=45, ha=\"right\",\n",
    "             rotation_mode=\"anchor\")\n",
    "\n",
    "    # Loop over data dimensions and create text annotations.\n",
    "    fmt = '.2f' if normalize else 'd'\n",
    "    thresh = cm.max() / 2.\n",
    "    for i in range(cm.shape[0]):\n",
    "        for j in range(cm.shape[1]):\n",
    "            ax.text(j, i, format(cm[i, j], fmt),\n",
    "                    ha=\"center\", va=\"center\",\n",
    "                    color=\"white\" if cm[i, j] > thresh else \"black\")\n",
    "    fig.tight_layout()\n",
    "    return ax"
   ]
  },
  {
   "cell_type": "code",
   "execution_count": null,
   "metadata": {},
   "outputs": [],
   "source": [
    "import numpy as np\n",
    "from sklearn.model_selection import train_test_split\n",
    "X_train, X_test, y_train, y_test = train_test_split(vinhos.data, vinhos.target, random_state=0)"
   ]
  },
  {
   "cell_type": "code",
   "execution_count": null,
   "metadata": {},
   "outputs": [],
   "source": [
    "y_pred = clf.fit(X_train, y_train).predict(X_test)"
   ]
  },
  {
   "cell_type": "code",
   "execution_count": null,
   "metadata": {},
   "outputs": [],
   "source": [
    "class_names = vinhos.target_names\n",
    "\n",
    "np.set_printoptions(precision=2)\n",
    "\n",
    "# Plot non-normalized confusion matrix\n",
    "plot_confusion_matrix(y_test, y_pred, classes=class_names,\n",
    "                      title='Confusion matrix, without normalization')\n",
    "\n",
    "# Plot normalized confusion matrix\n",
    "plot_confusion_matrix(y_test, y_pred, classes=class_names, normalize=True,\n",
    "                      title='Normalized confusion matrix')\n",
    "\n",
    "plt.show()"
   ]
  },
  {
   "cell_type": "code",
   "execution_count": null,
   "metadata": {},
   "outputs": [],
   "source": [
    "import pandas as pd\n",
    "lap = pd.read_excel(\"lapachol.xlsx\",index_col=0)\n",
    "lap"
   ]
  },
  {
   "cell_type": "code",
   "execution_count": null,
   "metadata": {},
   "outputs": [],
   "source": [
    "X_lap = lap.iloc[:,1:]\n",
    "y_lap = [int(cl == \"B\") for cl in lap.loc[:,\"Classe\"]]\n",
    "# y_lap = lap.loc[:,\"Classe\"]\n",
    "print(X_lap)\n",
    "y_lap"
   ]
  },
  {
   "cell_type": "code",
   "execution_count": null,
   "metadata": {},
   "outputs": [],
   "source": [
    "from sklearn.preprocessing import StandardScaler\n",
    "scaler = StandardScaler()\n",
    "X_lap_a = scaler.fit_transform(X_lap)"
   ]
  },
  {
   "cell_type": "code",
   "execution_count": null,
   "metadata": {},
   "outputs": [],
   "source": [
    "knn = KNeighborsClassifier(n_neighbors=1)\n",
    "knnCV = GridSearchCV(knn,{\"n_neighbors\":range(1,9)},cv=10)\n",
    "knnCV.fit(X_lap_a,y_lap)\n",
    "knnCV.best_params_"
   ]
  },
  {
   "cell_type": "code",
   "execution_count": null,
   "metadata": {},
   "outputs": [],
   "source": [
    "test = [2,8,9,13,15,19,23,24]\n",
    "print(test)\n",
    "train = [i for i in range(26) if i not in test]\n",
    "print(train)\n",
    "# print(X_lap_a.index)\n",
    "X_lap_train = X_lap.iloc[train]\n",
    "y_lap_train = [y_lap[i] for i in train]\n",
    "X_lap_test = X_lap.iloc[test]\n",
    "y_lap_test = [y_lap[i] for i in test]\n",
    "X_lap_train_a = scaler.fit_transform(X_lap_train)"
   ]
  },
  {
   "cell_type": "code",
   "execution_count": null,
   "metadata": {},
   "outputs": [],
   "source": [
    "knn = KNeighborsClassifier(n_neighbors=2)\n",
    "knn.fit(X_lap_train_a,y_lap_train)"
   ]
  },
  {
   "cell_type": "code",
   "execution_count": null,
   "metadata": {},
   "outputs": [],
   "source": [
    "y_lap_pred = knn.predict(scaler.transform(X_lap_test))\n",
    "print(y_lap_pred)\n",
    "class_names_lap = np.array([\"A\",\"B\"]) #lap[\"Classe\"]\n",
    "\n",
    "np.set_printoptions(precision=2)\n",
    "\n",
    "# Plot non-normalized confusion matrix\n",
    "plot_confusion_matrix(y_lap_test, y_lap_pred, classes=class_names_lap,\n",
    "                      title='Confusion matrix, without normalization')\n",
    "\n",
    "# Plot normalized confusion matrix\n",
    "plot_confusion_matrix(y_lap_test, y_lap_pred, classes=class_names_lap, normalize=True,\n",
    "                      title='Normalized confusion matrix')\n",
    "\n",
    "plt.show()"
   ]
  },
  {
   "cell_type": "markdown",
   "metadata": {
    "slideshow": {
     "slide_type": "slide"
    }
   },
   "source": [
    "## Métricas para avaliar os modelos de classificação (Figuras de mérito)\n",
    "\n",
    "+ Sensibilidade, também conhecida como precisão ou taxa de verdadeiros positivos, é uma medida de quão bem o modelo é capaz de classificar corretamente amostras que realmente apresentam a característica de interesse\n",
    "\n",
    "$SEN = \\frac{VP}{VP+FN} \\times 100\\%$\n",
    "\n",
    "+ Especificidade ou seletividade nos informa a habilidade do modelo em identificar corretamente amostras que não são da classe de interesse\n",
    "\n",
    "$SEL = \\frac{VN}{FP+VN} \\times 100\\%$\n",
    "\n",
    "+ Exatidão fornece uma ideia geral do seu desempenho, considerando o percentual total de acertos\n",
    "\n",
    "$S = \\frac{VP+VN}{VP+FN+FP+VN} \\times 100\\% = 100 - (SEN+SEL)$"
   ]
  },
  {
   "cell_type": "markdown",
   "metadata": {
    "slideshow": {
     "slide_type": "slide"
    }
   },
   "source": [
    "## Análise Discriminante Linear (LDA)\n",
    "\n",
    "+ Na análise discriminante linear (LDA, do inglês *linear discriminant analysis*), deseja-se definir uma superfície de decisão de modo que as amostras de uma classe estejam de um lado do hiperplano e as amostras da outra classe estejam do outro lado\n",
    "+ O hiperplano é definido de modo a maximizar a variância entre as classes e minimizar a variância dentro de cada classe\n",
    "+ Assim como acontece com o PCA, os dados são projetados em um espaço de menor dimensão."
   ]
  },
  {
   "cell_type": "markdown",
   "metadata": {
    "slideshow": {
     "slide_type": "slide"
    }
   },
   "source": [
    "## Análise Discriminante Linear (LDA)\n",
    "\n",
    "![](lda.jpeg)"
   ]
  },
  {
   "cell_type": "code",
   "execution_count": null,
   "metadata": {
    "slideshow": {
     "slide_type": "slide"
    }
   },
   "outputs": [],
   "source": [
    "from sklearn.discriminant_analysis import LinearDiscriminantAnalysis\n",
    "lda = LinearDiscriminantAnalysis()\n",
    "lda.fit(vinhos.data,vinhos.target)\n",
    "print(lda.score(vinhos.data,vinhos.target))\n",
    "print(lda.predict_proba(vinhos.data))\n",
    "print(lda.explained_variance_ratio_)"
   ]
  },
  {
   "cell_type": "code",
   "execution_count": null,
   "metadata": {},
   "outputs": [],
   "source": [
    "import numpy as np\n",
    "from sklearn.model_selection import train_test_split\n",
    "X_train, X_test, y_train, y_test = train_test_split(vinhos.data, vinhos.target, random_state=0)"
   ]
  },
  {
   "cell_type": "code",
   "execution_count": null,
   "metadata": {
    "slideshow": {
     "slide_type": "slide"
    }
   },
   "outputs": [],
   "source": [
    "y_pred = lda.fit(X_train, y_train).predict(X_test)\n",
    "# Plot non-normalized confusion matrix\n",
    "class_names = vinhos.target_names\n",
    "plot_confusion_matrix(y_test, y_pred, classes=class_names,\n",
    "                      title='Confusion matrix, without normalization')\n",
    "\n",
    "# Plot normalized confusion matrix\n",
    "plot_confusion_matrix(y_test, y_pred, classes=class_names, normalize=True,\n",
    "                      title='Normalized confusion matrix')\n",
    "\n",
    "plt.show()"
   ]
  },
  {
   "cell_type": "code",
   "execution_count": null,
   "metadata": {
    "slideshow": {
     "slide_type": "slide"
    }
   },
   "outputs": [],
   "source": [
    "lda.fit(scaler.fit_transform(X_lap_train), y_lap_train)\n",
    "y_lap_pred = lda.predict(scaler.transform(X_lap_test))\n",
    "print(y_lap_pred)\n",
    "class_names_lap = np.array([\"A\",\"B\"])#lap[\"Classe\"]\n",
    "\n",
    "np.set_printoptions(precision=2)\n",
    "\n",
    "# Plot non-normalized confusion matrix\n",
    "plot_confusion_matrix(y_lap_test, y_lap_pred, classes=class_names_lap,\n",
    "                      title='Confusion matrix, without normalization')\n",
    "\n",
    "# Plot normalized confusion matrix\n",
    "plot_confusion_matrix(y_lap_test, y_lap_pred, classes=class_names_lap, normalize=True,\n",
    "                      title='Normalized confusion matrix')\n",
    "\n",
    "plt.show()"
   ]
  },
  {
   "cell_type": "markdown",
   "metadata": {
    "slideshow": {
     "slide_type": "slide"
    }
   },
   "source": [
    "## [Comparação entre LDA e PCA](plot_pca_vs_lda.ipynb)"
   ]
  },
  {
   "cell_type": "markdown",
   "metadata": {
    "slideshow": {
     "slide_type": "slide"
    }
   },
   "source": [
    "## Análise Discriminante Quadrática (QDA)\n",
    "\n",
    "+ Na análise discriminante quadrática (QDA, do inglês *quadratic discriminant analysis*), utiliza-se um modelo quadrático para discriminar as amostras"
   ]
  },
  {
   "cell_type": "code",
   "execution_count": null,
   "metadata": {
    "slideshow": {
     "slide_type": "slide"
    }
   },
   "outputs": [],
   "source": [
    "from sklearn.discriminant_analysis import QuadraticDiscriminantAnalysis\n",
    "qda = QuadraticDiscriminantAnalysis()\n",
    "qda.fit(vinhos.data,vinhos.target)\n",
    "print(qda.score(vinhos.data,vinhos.target))\n",
    "print(qda.predict_proba(vinhos.data))"
   ]
  },
  {
   "cell_type": "code",
   "execution_count": null,
   "metadata": {
    "slideshow": {
     "slide_type": "slide"
    }
   },
   "outputs": [],
   "source": [
    "y_pred = qda.fit(X_train, y_train).predict(X_test)\n",
    "# Plot non-normalized confusion matrix\n",
    "plot_confusion_matrix(y_test, y_pred, classes=class_names,\n",
    "                      title='Confusion matrix, without normalization')\n",
    "\n",
    "# Plot normalized confusion matrix\n",
    "plot_confusion_matrix(y_test, y_pred, classes=class_names, normalize=True,\n",
    "                      title='Normalized confusion matrix')\n",
    "\n",
    "plt.show()"
   ]
  },
  {
   "cell_type": "code",
   "execution_count": null,
   "metadata": {
    "slideshow": {
     "slide_type": "slide"
    }
   },
   "outputs": [],
   "source": [
    "qda.fit(scaler.fit_transform(X_lap_train), y_lap_train)\n",
    "y_lap_pred = qda.predict(scaler.transform(X_lap_test))\n",
    "print(y_lap_pred)\n",
    "class_names_lap = np.array([\"A\",\"B\"])  # lap[\"Classe\"]\n",
    "\n",
    "np.set_printoptions(precision=2)\n",
    "\n",
    "# Plot non-normalized confusion matrix\n",
    "plot_confusion_matrix(y_lap_test, y_lap_pred, classes=class_names_lap,\n",
    "                      title='Confusion matrix, without normalization')\n",
    "\n",
    "# Plot normalized confusion matrix\n",
    "plot_confusion_matrix(y_lap_test, y_lap_pred, classes=class_names_lap, normalize=True,\n",
    "                      title='Normalized confusion matrix')\n",
    "\n",
    "plt.show()"
   ]
  },
  {
   "cell_type": "markdown",
   "metadata": {
    "slideshow": {
     "slide_type": "slide"
    }
   },
   "source": [
    "## Máquinas de suporte vetorial (SVM)\n",
    "\n",
    "+ Uma máquina de suporte vetorial (SVM, do inglês Support Vector Machine), constrói um hiperplano ou conjunto de hiperplanos em um espaço de maior dimensão ou dimensão infinita, que pode ser usado para classificação ou regressão\n",
    "+ Intuitivamente, uma boa separação é alcançada pelo hiperplano que tem a maior distância para os vizinhos mais próximos de cada classe no conjunto de treinamento (distância conhecida como **margem**)\n",
    "\n",
    "![svm](svm.png)"
   ]
  },
  {
   "cell_type": "code",
   "execution_count": null,
   "metadata": {
    "slideshow": {
     "slide_type": "slide"
    }
   },
   "outputs": [],
   "source": [
    "from sklearn.svm import SVC\n",
    "svc = SVC(gamma=\"scale\")\n",
    "svc.fit(vinhos.data,vinhos.target)\n",
    "print(svc.score(vinhos.data,vinhos.target))\n",
    "print(svc.predict(vinhos.data))"
   ]
  },
  {
   "cell_type": "code",
   "execution_count": null,
   "metadata": {},
   "outputs": [],
   "source": [
    "y_pred = svc.fit(X_train, y_train).predict(X_test)\n",
    "# Plot non-normalized confusion matrix\n",
    "plot_confusion_matrix(y_test, y_pred, classes=class_names,\n",
    "                      title='Confusion matrix, without normalization')\n",
    "\n",
    "# Plot normalized confusion matrix\n",
    "plot_confusion_matrix(y_test, y_pred, classes=class_names, normalize=True,\n",
    "                      title='Normalized confusion matrix')\n",
    "\n",
    "plt.show()"
   ]
  },
  {
   "cell_type": "code",
   "execution_count": null,
   "metadata": {},
   "outputs": [],
   "source": [
    "from sklearn.model_selection import GridSearchCV\n",
    "parameters = {'kernel':('linear', 'rbf'), 'C':[1, 10]}\n",
    "clf = GridSearchCV(svc, parameters, cv=5)\n",
    "clf.fit(vinhos.data,vinhos.target)\n",
    "print(clf.score(vinhos.data,vinhos.target))\n",
    "print(clf.predict(vinhos.data))\n",
    "print(clf.best_params_)"
   ]
  },
  {
   "cell_type": "code",
   "execution_count": null,
   "metadata": {},
   "outputs": [],
   "source": [
    "y_pred = clf.fit(X_train, y_train).predict(X_test)\n",
    "# Plot non-normalized confusion matrix\n",
    "plot_confusion_matrix(y_test, y_pred, classes=class_names,\n",
    "                      title='Confusion matrix, without normalization')\n",
    "\n",
    "# Plot normalized confusion matrix\n",
    "plot_confusion_matrix(y_test, y_pred, classes=class_names, normalize=True,\n",
    "                      title='Normalized confusion matrix')\n",
    "\n",
    "plt.show()"
   ]
  },
  {
   "cell_type": "code",
   "execution_count": null,
   "metadata": {},
   "outputs": [],
   "source": [
    "clf = GridSearchCV(svc, parameters, cv=5)\n",
    "clf.fit(scaler.fit_transform(X_lap_train), y_lap_train)\n",
    "y_lap_pred = clf.predict(scaler.transform(X_lap_test))\n",
    "print(y_lap_pred)\n",
    "class_names_lap = np.array([\"A\",\"B\"])\n",
    "\n",
    "np.set_printoptions(precision=2)\n",
    "\n",
    "# Plot non-normalized confusion matrix\n",
    "plot_confusion_matrix(y_lap_test, y_lap_pred, classes=class_names_lap,\n",
    "                      title='Confusion matrix, without normalization')\n",
    "\n",
    "# Plot normalized confusion matrix\n",
    "plot_confusion_matrix(y_lap_test, y_lap_pred, classes=class_names_lap, normalize=True,\n",
    "                      title='Normalized confusion matrix')\n",
    "\n",
    "plt.show()"
   ]
  },
  {
   "cell_type": "code",
   "execution_count": null,
   "metadata": {},
   "outputs": [],
   "source": [
    "clf.best_params_"
   ]
  },
  {
   "cell_type": "code",
   "execution_count": null,
   "metadata": {},
   "outputs": [],
   "source": [
    "svc = SVC(kernel=\"linear\",C=1)\n",
    "svc.fit(scaler.fit_transform(X_lap_train),y_lap_train)"
   ]
  },
  {
   "cell_type": "code",
   "execution_count": null,
   "metadata": {},
   "outputs": [],
   "source": [
    "svc.dual_coef_"
   ]
  },
  {
   "cell_type": "code",
   "execution_count": null,
   "metadata": {},
   "outputs": [],
   "source": [
    "svc.support_"
   ]
  },
  {
   "cell_type": "code",
   "execution_count": null,
   "metadata": {},
   "outputs": [],
   "source": [
    "svc.support_vectors_"
   ]
  },
  {
   "cell_type": "code",
   "execution_count": null,
   "metadata": {},
   "outputs": [],
   "source": [
    "scaler.fit_transform(X_lap_train)"
   ]
  },
  {
   "cell_type": "markdown",
   "metadata": {
    "slideshow": {
     "slide_type": "slide"
    }
   },
   "source": [
    "## Redes Neurais Artificiais\n",
    "\n",
    "+ Redes Neurais Artificiais são técnicas computacionais que apresentam um modelo matemático inspirado na estrutura neural de organismos inteligentes e que adquirem conhecimento através da experiência\n",
    "+ O sistema nervoso é formado por um conjunto extremamente complexo de células, os neurônios. Eles têm um papel essencial na determinação do funcionamento e comportamento do corpo humano e do raciocínio. Os neurônios são formados pelos dendritos, que são um conjunto de terminais de entrada, pelo corpo central, e pelos axônios que são longos terminais de saída.\n",
    "![neuronio](neuronio.png)"
   ]
  },
  {
   "cell_type": "markdown",
   "metadata": {
    "slideshow": {
     "slide_type": "slide"
    }
   },
   "source": [
    "+ Os neurônios se comunicam por meio de sinapses.\n",
    "+ Os impulsos recebidos por um neurônio A, em um determinado momento, são processados, e atingindo um dado limiar de ação, o neurônio A dispara, produzindo uma substância neurotransmissora que flui do corpo celular para o axônio, que pode estar conectado a um dendrito de um outro neurônio B\n",
    "+ Em média, cada neurônio forma entre mil e dez mil sinapses. O cérebro humano possui cerca de $10^{11}$ neurônios, e o número de sinapses é de mais de $10^{14}$, possibilitando a formação de redes muito complexa."
   ]
  },
  {
   "cell_type": "markdown",
   "metadata": {
    "slideshow": {
     "slide_type": "slide"
    }
   },
   "source": [
    "+ Uma rede neural artificial é composta por várias unidades de processamento\n",
    "+ Essas unidades, geralmente são conectadas por canais de comunicação que estão associados a determinado peso. As unidades fazem operações apenas sobre seus dados locais, que são entradas recebidas pelas suas conexões\n",
    "![esquema](esquema.png)"
   ]
  },
  {
   "cell_type": "markdown",
   "metadata": {
    "slideshow": {
     "slide_type": "slide"
    }
   },
   "source": [
    "+ Arquiteturas neurais são tipicamente organizadas em camadas, com unidades que podem estar conectadas às unidades da camada posterior\n",
    "![arquitetura](arquitetura.png)"
   ]
  },
  {
   "cell_type": "markdown",
   "metadata": {
    "slideshow": {
     "slide_type": "slide"
    }
   },
   "source": [
    "Usualmente as camadas são classificadas em três grupos:\n",
    "+ **Camada de Entrada:** onde os padrões são apresentados à rede;\n",
    "+ **Camadas Intermediárias ou Escondidas:** onde é feita a maior parte do processamento, através das conexões ponderadas; podem ser consideradas como extratoras de características;\n",
    "+ **Camada de Saída:** onde o resultado final é concluído e apresentado."
   ]
  },
  {
   "cell_type": "markdown",
   "metadata": {
    "slideshow": {
     "slide_type": "slide"
    }
   },
   "source": [
    "Esquema de treinamento\n",
    "![perceptron](perceptron.png)"
   ]
  },
  {
   "cell_type": "markdown",
   "metadata": {
    "slideshow": {
     "slide_type": "slide"
    }
   },
   "source": [
    "## Perceptron Multi-camadas (MLP)\n",
    "\n",
    "+ Perceptron multi-camadas (MLP) é um algoritmo de aprendizado supervisionado que aprende uma função $f(\\cdot): R^m \\rightarrow R^o$ por meio do treinamento de um conjunto de dados em que $m$ é o número de dimensões de entrada e $o$ é o número de dimensões de saída. \n",
    "+ Dado um conjunto de características $X = {x_1, x_2, ..., x_m}$ e uma resposta desejada $y$, ele pode aprender uma função não-linear aproximada para classificação ou regressão.\n",
    "![MLP](multilayerperceptron_network.png)\n"
   ]
  },
  {
   "cell_type": "code",
   "execution_count": null,
   "metadata": {},
   "outputs": [],
   "source": [
    "from sklearn import datasets\n",
    "vinhos = datasets.load_wine()\n",
    "import pandas as pd\n",
    "df_vinhos = pd.DataFrame(vinhos.data)\n",
    "df_vinhos.columns = vinhos.feature_names"
   ]
  },
  {
   "cell_type": "code",
   "execution_count": null,
   "metadata": {},
   "outputs": [],
   "source": [
    "from sklearn.neural_network import MLPClassifier\n",
    "clf = MLPClassifier(solver='lbfgs', alpha=1e-5,\n",
    "                    hidden_layer_sizes=(15,15), random_state=1, max_iter=1000)\n",
    "clf.fit(df_vinhos, vinhos.target)                         \n"
   ]
  },
  {
   "cell_type": "code",
   "execution_count": null,
   "metadata": {},
   "outputs": [],
   "source": [
    "clf.predict(df_vinhos)"
   ]
  },
  {
   "cell_type": "code",
   "execution_count": null,
   "metadata": {},
   "outputs": [],
   "source": [
    "clf.predict_proba(df_vinhos)"
   ]
  },
  {
   "cell_type": "code",
   "execution_count": null,
   "metadata": {},
   "outputs": [],
   "source": [
    "y_pred = clf.fit(X_train, y_train).predict(X_test)\n",
    "# Plot non-normalized confusion matrix\n",
    "plot_confusion_matrix(y_test, y_pred, classes=class_names,\n",
    "                      title='Confusion matrix, without normalization')\n",
    "\n",
    "# Plot normalized confusion matrix\n",
    "plot_confusion_matrix(y_test, y_pred, classes=class_names, normalize=True,\n",
    "                      title='Normalized confusion matrix')\n",
    "\n",
    "plt.show()"
   ]
  },
  {
   "cell_type": "code",
   "execution_count": null,
   "metadata": {},
   "outputs": [],
   "source": [
    "parameters = {'solver': ['lbfgs'], \n",
    "              'max_iter': [2000,2100,2200,2300,2400,2500,2600,2700,2800,2900,3000], \n",
    "              'alpha': 10.0 ** -np.arange(1, 10), \n",
    "              'hidden_layer_sizes':[(a,b) for a in np.arange(10, 15) for b in np.arange(10,15)]}\n",
    "clf = GridSearchCV(MLPClassifier(), parameters)"
   ]
  },
  {
   "cell_type": "code",
   "execution_count": null,
   "metadata": {},
   "outputs": [],
   "source": [
    "y_pred = clf.fit(X_train, y_train).predict(X_test)\n",
    "# Plot non-normalized confusion matrix\n",
    "plot_confusion_matrix(y_test, y_pred, classes=class_names,\n",
    "                      title='Confusion matrix, without normalization')\n",
    "\n",
    "# Plot normalized confusion matrix\n",
    "plot_confusion_matrix(y_test, y_pred, classes=class_names, normalize=True,\n",
    "                      title='Normalized confusion matrix')\n",
    "\n",
    "plt.show()"
   ]
  },
  {
   "cell_type": "markdown",
   "metadata": {},
   "source": [
    "# Introdução às Curvas ROC e AUC\n",
    "\n",
    "## O que são?\n",
    "- **ROC (Receiver Operating Characteristic)**: Gráfico que mostra o desempenho de um modelo de classificação em todos os limiares de classificação\n",
    "- **AUC (Area Under the Curve)**: Medida de desempenho que quantifica a capacidade do modelo de distinguir entre classes\n",
    "\n",
    "## Por que são importantes?\n",
    "1. Avaliam modelos independentemente do limiar de classificação\n",
    "2. São especialmente úteis para problemas com classes desbalanceadas\n",
    "3. Fornecem uma visão mais completa que apenas acurácia\n",
    "4. Permitem comparar diferentes modelos visualmente\n",
    "\n",
    "### Conceitos-chave:\n",
    "- **TPR (True Positive Rate)**: Sensitividade/Recall\n",
    "  \\[ TPR = \\frac{TP}{TP + FN} \\]\n",
    "- **FPR (False Positive Rate)**: 1 - Especificidade\n",
    "  \\[ FPR = \\frac{FP}{FP + TN} \\]"
   ]
  },
  {
   "cell_type": "code",
   "execution_count": null,
   "metadata": {},
   "outputs": [
    {
     "name": "stdout",
     "output_type": "stream",
     "text": [
      "Proporção de classes no teste: [0.85166667 0.14833333]\n"
     ]
    }
   ],
   "source": [
    "# Importação de Bibliotecas e Dataset\n",
    "import numpy as np\n",
    "import matplotlib.pyplot as plt\n",
    "from sklearn.datasets import make_classification\n",
    "from sklearn.model_selection import train_test_split\n",
    "from sklearn.ensemble import RandomForestClassifier\n",
    "from sklearn.linear_model import LogisticRegression\n",
    "from sklearn.metrics import roc_curve, auc, roc_auc_score\n",
    "import seaborn as sns\n",
    "\n",
    "sns.set_style('whitegrid')\n",
    "plt.rcParams['figure.figsize'] = (10, 7)\n",
    "\n",
    "# Gerar dataset sintético\n",
    "X, y = make_classification(\n",
    "    n_samples=2000,\n",
    "    n_features=20,\n",
    "    n_classes=2,\n",
    "    n_informative=15,\n",
    "    weights=[0.85, 0.15],  # Classes desbalanceadas\n",
    "    random_state=42\n",
    ")\n",
    "\n",
    "# Dividir em treino e teste\n",
    "X_train, X_test, y_train, y_test = train_test_split(\n",
    "    X, y, test_size=0.3, random_state=42\n",
    ")\n",
    "\n",
    "print(f\"Proporção de classes no teste: {np.bincount(y_test)/len(y_test)}\")"
   ]
  },
  {
   "cell_type": "markdown",
   "metadata": {},
   "source": [
    "# Construção da Curva ROC\n",
    "\n",
    "## Como funciona?\n",
    "1. Variamos o limiar de decisão de 1.0 a 0.0\n",
    "2. Para cada limiar:\n",
    "   - Calculamos TPR e FPR\n",
    "   - Adicionamos um ponto no gráfico\n",
    "3. Conectamos os pontos para formar a curva\n",
    "\n",
    "### Interpretação:\n",
    "- **Linha diagonal (AUC=0.5)**: Desempenho equivalente a adivinhação aleatória\n",
    "- **Canto superior esquerdo**: Ponto ideal (FPR=0, TPR=1)\n",
    "- **Quanto mais para cima e esquerda**, melhor o modelo"
   ]
  },
  {
   "cell_type": "code",
   "execution_count": 4,
   "metadata": {},
   "outputs": [],
   "source": [
    "# Treinando Modelos para Comparação\n",
    "# Modelo 1: Regressão Logística\n",
    "lr = LogisticRegression(max_iter=1000, random_state=42)\n",
    "lr.fit(X_train, y_train)\n",
    "y_pred_lr = lr.predict_proba(X_test)[:, 1]\n",
    "\n",
    "# Modelo 2: Random Forest\n",
    "rf = RandomForestClassifier(n_estimators=100, random_state=42)\n",
    "rf.fit(X_train, y_train)\n",
    "y_pred_rf = rf.predict_proba(X_test)[:, 1]\n",
    "\n",
    "# Modelo 3: Aleatório (baseline)\n",
    "y_pred_random = np.random.rand(len(y_test))"
   ]
  },
  {
   "cell_type": "code",
   "execution_count": 5,
   "metadata": {},
   "outputs": [
    {
     "name": "stdout",
     "output_type": "stream",
     "text": [
      "AUC Regressão Logística: 0.8746\n",
      "AUC Random Forest: 0.9269\n",
      "AUC Aleatório: 0.5417\n"
     ]
    }
   ],
   "source": [
    "# Calculando Curvas ROC\n",
    "# Calcular FPR e TPR para cada modelo\n",
    "fpr_lr, tpr_lr, thresholds_lr = roc_curve(y_test, y_pred_lr)\n",
    "fpr_rf, tpr_rf, thresholds_rf = roc_curve(y_test, y_pred_rf)\n",
    "fpr_random, tpr_random, thresholds_random = roc_curve(y_test, y_pred_random)\n",
    "\n",
    "# Calcular AUC\n",
    "auc_lr = auc(fpr_lr, tpr_lr)\n",
    "auc_rf = auc(fpr_rf, tpr_rf)\n",
    "auc_random = auc(fpr_random, tpr_random)\n",
    "\n",
    "print(f\"AUC Regressão Logística: {auc_lr:.4f}\")\n",
    "print(f\"AUC Random Forest: {auc_rf:.4f}\")\n",
    "print(f\"AUC Aleatório: {auc_random:.4f}\")"
   ]
  },
  {
   "cell_type": "markdown",
   "metadata": {},
   "source": [
    "# Visualizando Curvas ROC\n",
    "\n",
    "## Elementos do Gráfico:\n",
    "1. Curva ROC de cada modelo\n",
    "2. Área sob a curva (AUC)\n",
    "3. Linha de referência (aleatoriedade)\n",
    "4. Ponto ótimo (maior TPR com menor FPR)\n",
    "\n",
    "### Como interpretar:\n",
    "- Modelos com **curvas mais próximas do canto superior esquerdo** são melhores\n",
    "- **AUC > 0.9**: Excelente\n",
    "- **AUC > 0.8**: Bom\n",
    "- **AUC > 0.7**: Aceitável\n",
    "- **AUC = 0.5**: Inútil"
   ]
  },
  {
   "cell_type": "code",
   "execution_count": 6,
   "metadata": {},
   "outputs": [
    {
     "data": {
      "image/png": "[encoded data removed]",
      "text/plain": [
       "<Figure size 720x576 with 1 Axes>"
      ]
     },
     "metadata": {
      "needs_background": "light"
     },
     "output_type": "display_data"
    }
   ],
   "source": [
    "# Plotando as Curvas ROC\n",
    "plt.figure(figsize=(10, 8))\n",
    "\n",
    "# Plotar linha de referência (aleatoriedade)\n",
    "plt.plot([0, 1], [0, 1], 'k--', label='Aleatório (AUC = 0.5)')\n",
    "\n",
    "# Plotar curvas dos modelos\n",
    "plt.plot(fpr_lr, tpr_lr, label=f'Regressão Logística (AUC = {auc_lr:.3f})')\n",
    "plt.plot(fpr_rf, tpr_rf, label=f'Random Forest (AUC = {auc_rf:.3f})')\n",
    "plt.plot(fpr_random, tpr_random, 'g-', label=f'Aleatório (AUC = {auc_random:.3f})')\n",
    "\n",
    "# Configurações do gráfico\n",
    "plt.xlabel('Taxa de Falsos Positivos (FPR)')\n",
    "plt.ylabel('Taxa de Verdadeiros Positivos (TPR)')\n",
    "plt.title('Curvas ROC Comparativas')\n",
    "plt.legend(loc='lower right')\n",
    "plt.grid(True, linestyle='--', alpha=0.7)\n",
    "\n",
    "# Destacar ponto ótimo para Random Forest\n",
    "optimal_idx = np.argmax(tpr_rf - fpr_rf)\n",
    "optimal_threshold = thresholds_rf[optimal_idx]\n",
    "plt.scatter(fpr_rf[optimal_idx], tpr_rf[optimal_idx], marker='o', color='red', s=100,\n",
    "            label=f'Ponto Ótimo RF (limiar={optimal_threshold:.2f})')\n",
    "\n",
    "plt.show()"
   ]
  },
  {
   "cell_type": "code",
   "execution_count": 7,
   "metadata": {},
   "outputs": [
    {
     "name": "stdout",
     "output_type": "stream",
     "text": [
      "Limiar ótimo: 0.4100\n",
      "F1-Score no limiar ótimo: 0.7285\n",
      "\n",
      "Desempenho com limiar padrão (0.5):\n",
      "              precision    recall  f1-score   support\n",
      "\n",
      "           0       0.91      1.00      0.95       511\n",
      "           1       0.95      0.45      0.61        89\n",
      "\n",
      "    accuracy                           0.92       600\n",
      "   macro avg       0.93      0.72      0.78       600\n",
      "weighted avg       0.92      0.92      0.90       600\n",
      "\n",
      "\n",
      "Desempenho com limiar ótimo:\n",
      "              precision    recall  f1-score   support\n",
      "\n",
      "           0       0.94      0.99      0.96       511\n",
      "           1       0.89      0.62      0.73        89\n",
      "\n",
      "    accuracy                           0.93       600\n",
      "   macro avg       0.91      0.80      0.84       600\n",
      "weighted avg       0.93      0.93      0.93       600\n",
      "\n"
     ]
    }
   ],
   "source": [
    "# Analisando o Limiar Ótimo\n",
    "# Calcular métricas para diferentes limiares\n",
    "from sklearn.metrics import precision_recall_curve, f1_score\n",
    "\n",
    "# Para Random Forest\n",
    "precisions, recalls, thresholds = precision_recall_curve(y_test, y_pred_rf)\n",
    "f1_scores = 2 * (precisions * recalls) / (precisions + recalls + 1e-9)\n",
    "\n",
    "# Encontrar limiar com máximo F1-score\n",
    "optimal_idx = np.argmax(f1_scores[:-1])  # Ignorar último valor (inválido)\n",
    "optimal_threshold = thresholds[optimal_idx]\n",
    "\n",
    "print(f\"Limiar ótimo: {optimal_threshold:.4f}\")\n",
    "print(f\"F1-Score no limiar ótimo: {f1_scores[optimal_idx]:.4f}\")\n",
    "\n",
    "# Aplicar limiar ótimo\n",
    "y_pred_optimal = (y_pred_rf >= optimal_threshold).astype(int)\n",
    "\n",
    "# Comparar com limiar padrão (0.5)\n",
    "from sklearn.metrics import classification_report\n",
    "print(\"\\nDesempenho com limiar padrão (0.5):\")\n",
    "print(classification_report(y_test, rf.predict(X_test)))\n",
    "\n",
    "print(\"\\nDesempenho com limiar ótimo:\")\n",
    "print(classification_report(y_test, y_pred_optimal))"
   ]
  },
  {
   "cell_type": "markdown",
   "metadata": {},
   "source": [
    "# Quando Usar ROC/AUC vs Outras Métricas\n",
    "\n",
    "| Situação                      | Métrica Recomendada       | Por quê?                              |\n",
    "|-------------------------------|---------------------------|---------------------------------------|\n",
    "| Classes balanceadas           | AUC ou Acurácia           | Ambas funcionam bem                   |\n",
    "| **Classes desbalanceadas**    | **AUC ou F1-Score**       | Acurácia enganosa                     |\n",
    "| Custo de FP ≠ FN              | Curva ROC + Limiar Ótimo  | Permite escolher limiar de operação   |\n",
    "| Detecção de anomalias         | Precision-Recall Curve    | Foco na classe positiva rara          |\n",
    "| Comparação geral de modelos   | AUC                       | Resumo único do desempenho            |\n",
    "\n",
    "## Limitações da AUC:\n",
    "- Não considera distribuição real de probabilidades\n",
    "- Pode mascarar problemas em partes específicas da curva\n",
    "- Menos interpretável que métricas diretas"
   ]
  },
  {
   "cell_type": "code",
   "execution_count": 8,
   "metadata": {},
   "outputs": [
    {
     "data": {
      "image/png": "[encoded data removed]",
      "text/plain": [
       "<Figure size 720x504 with 1 Axes>"
      ]
     },
     "metadata": {
      "needs_background": "light"
     },
     "output_type": "display_data"
    }
   ],
   "source": [
    "# Curvas Precision-Recall para Classes Desbalanceadas\n",
    "from sklearn.metrics import precision_recall_curve, average_precision_score\n",
    "\n",
    "# Calcular para Random Forest\n",
    "precision, recall, _ = precision_recall_curve(y_test, y_pred_rf)\n",
    "ap = average_precision_score(y_test, y_pred_rf)  # AUPRC\n",
    "\n",
    "# Plotar\n",
    "plt.figure(figsize=(10, 7))\n",
    "plt.plot(recall, precision, label=f'Random Forest (AP = {ap:.3f})')\n",
    "plt.xlabel('Recall')\n",
    "plt.ylabel('Precision')\n",
    "plt.title('Curva Precision-Recall')\n",
    "plt.legend()\n",
    "plt.grid(True)\n",
    "\n",
    "# Linha de baseline (proporção da classe positiva)\n",
    "baseline = np.sum(y_test) / len(y_test)\n",
    "plt.axhline(y=baseline, color='r', linestyle='--', \n",
    "            label=f'Baseline (AP = {baseline:.3f})')\n",
    "\n",
    "plt.legend()\n",
    "plt.show()"
   ]
  },
  {
   "cell_type": "markdown",
   "metadata": {},
   "source": [
    "# Interpretação Avançada\n",
    "\n",
    "## Pontos de Operação:\n",
    "- **Sensibilidade alta**: Tolerância a FPs (ex: triagem médica)\n",
    "  - Operar à direita na curva ROC (FPR alto)\n",
    "- **Especificidade alta**: Baixa tolerância a FPs (ex: detecção de fraude)\n",
    "  - Operar à esquerda na curva ROC (FPR baixo)\n",
    "\n",
    "## AUC de 0.5 não significa sempre aleatoriedade:\n",
    "- Em datasets desbalanceados, um modelo \"inteligente\" pode ter AUC=0.5\n",
    "- Sempre verificar com métricas complementares\n",
    "\n",
    "## Dicas Práticas:\n",
    "1. Use AUC para seleção inicial de modelos\n",
    "2. Analise a curva ROC para escolher ponto de operação\n",
    "3. Combine com Precision-Recall para classes desbalanceadas\n",
    "4. Considere custos de falsos positivos/negativos na decisão"
   ]
  },
  {
   "cell_type": "code",
   "execution_count": 10,
   "metadata": {},
   "outputs": [
    {
     "data": {
      "image/png": "[encoded data removed]",
      "text/plain": [
       "<Figure size 864x648 with 1 Axes>"
      ]
     },
     "metadata": {
      "needs_background": "light"
     },
     "output_type": "display_data"
    }
   ],
   "source": [
    "# Exemplo Completo com Múltiplos Modelos\n",
    "from sklearn.svm import SVC\n",
    "from sklearn.neighbors import KNeighborsClassifier\n",
    "from sklearn.preprocessing import StandardScaler\n",
    "\n",
    "# Lista de modelos\n",
    "models = {\n",
    "    \"Logistic Regression\": LogisticRegression(max_iter=1000, random_state=42),\n",
    "    \"Random Forest\": RandomForestClassifier(n_estimators=100, random_state=42),\n",
    "    \"SVM\": SVC(probability=True, random_state=42),\n",
    "    \"KNN\": KNeighborsClassifier()\n",
    "}\n",
    "\n",
    "# Normalizar dados para SVM e KNN\n",
    "scaler = StandardScaler()\n",
    "X_train_scaled = scaler.fit_transform(X_train)\n",
    "X_test_scaled = scaler.transform(X_test)\n",
    "\n",
    "# Plotar todas as curvas ROC\n",
    "plt.figure(figsize=(12, 9))\n",
    "plt.plot([0, 1], [0, 1], 'k--', label='Aleatório')\n",
    "\n",
    "for name, model in models.items():\n",
    "    # Treinar modelo (usar dados normalizados para SVM e KNN)\n",
    "    if name in [\"SVM\", \"KNN\"]:\n",
    "        model.fit(X_train_scaled, y_train)\n",
    "        y_pred = model.predict_proba(X_test_scaled)[:, 1]\n",
    "    else:\n",
    "        model.fit(X_train, y_train)\n",
    "        y_pred = model.predict_proba(X_test)[:, 1]\n",
    "    \n",
    "    # Calcular ROC\n",
    "    fpr, tpr, _ = roc_curve(y_test, y_pred)\n",
    "    roc_auc = auc(fpr, tpr)\n",
    "    \n",
    "    # Plotar\n",
    "    plt.plot(fpr, tpr, label=f'{name} (AUC = {roc_auc:.3f})')\n",
    "\n",
    "plt.xlabel('FPR')\n",
    "plt.ylabel('TPR')\n",
    "plt.title('Comparação de Modelos com Curvas ROC')\n",
    "plt.legend(loc='lower right')\n",
    "plt.grid(True)\n",
    "plt.show()"
   ]
  },
  {
   "cell_type": "markdown",
   "metadata": {},
   "source": [
    "# Introdução às Random Forests\n",
    "\n",
    "## O que é uma Random Forest?\n",
    "**Random Forest** (Floresta Aleatória) é um algoritmo de aprendizado de máquina supervisionado que pertence à família de métodos de **ensemble learning**. Ele combina múltiplas árvores de decisão para produzir previsões mais precisas e robustas.\n",
    "\n",
    "### Por que \"Floresta\"?\n",
    "- Cada árvore toma decisões independentes\n",
    "- A previsão final é determinada pela **votação** (classificação) ou **média** (regressão) das árvores\n",
    "- \"Aleatória\" refere-se ao processo de seleção aleatória de subconjuntos de dados e características\n",
    "\n",
    "### Vantagens:\n",
    "- Alta precisão em muitos problemas\n",
    "- Resistente a overfitting\n",
    "- Lida bem com dados de alta dimensionalidade\n",
    "- Não requer normalização extensiva de dados\n",
    "- Fornece estimativas de importância de características\n",
    "\n",
    "### Aplicações:\n",
    "- Classificação (ex: detecção de fraude)\n",
    "- Regressão (ex: previsão de preços)\n",
    "- Seleção de características\n",
    "- Imputação de dados faltantes"
   ]
  },
  {
   "cell_type": "code",
   "execution_count": 11,
   "metadata": {},
   "outputs": [],
   "source": [
    "# Importação de Bibliotecas e Configuração Inicial\n",
    "import numpy as np\n",
    "import matplotlib.pyplot as plt\n",
    "from sklearn.datasets import load_iris, load_diabetes\n",
    "from sklearn.ensemble import RandomForestClassifier, RandomForestRegressor\n",
    "from sklearn.model_selection import train_test_split, cross_val_score\n",
    "from sklearn.metrics import (accuracy_score, confusion_matrix, \n",
    "                            classification_report, mean_squared_error)\n",
    "import seaborn as sns\n",
    "import pandas as pd\n",
    "\n",
    "sns.set_style('whitegrid')\n",
    "plt.rcParams['figure.figsize'] = (10, 6)"
   ]
  },
  {
   "cell_type": "markdown",
   "metadata": {},
   "source": [
    "# Teoria das Random Forests\n",
    "\n",
    "## Como Funciona?\n",
    "1. **Bagging (Bootstrap Aggregating)**:\n",
    "   - Cria múltiplos conjuntos de treinamento por amostragem com reposição\n",
    "   - Cada árvore é treinada em uma amostra diferente\n",
    "\n",
    "2. **Aleatoriedade de Características**:\n",
    "   - Em cada divisão, apenas um subconjunto aleatório de características é considerado\n",
    "   - Tamanho do subconjunto: √(n_features) para classificação, n_features para regressão\n",
    "\n",
    "3. **Construção de Árvores**:\n",
    "   - Cada árvore cresce profundamente sem poda\n",
    "   - Divisões baseadas na redução de impureza (Gini/Entropia para classificação, MSE para regressão)\n",
    "\n",
    "4. **Agregação**:\n",
    "   - **Classificação**: Moda das previsões das árvores\n",
    "   - **Regressão**: Média das previsões das árvores\n",
    "\n",
    "## Matemática Básica:\n",
    "- **Impureza de Gini**:  \n",
    "  $$ G = 1 - \\sum_{i=1}^{c} (p_i)^2 $$  \n",
    "  Onde \\( p_i \\) é a proporção de amostras da classe i\n",
    "\n",
    "- **Erro Quadrático Médio (MSE)**:  \n",
    "  $$ MSE = \\frac{1}{N} \\sum_{i=1}^{N} (y_i - \\hat{y}_i)^2 $$"
   ]
  },
  {
   "cell_type": "code",
   "execution_count": 12,
   "metadata": {},
   "outputs": [
    {
     "name": "stdout",
     "output_type": "stream",
     "text": [
      "Formato dos dados de treino: (105, 4)\n",
      "Formato dos dados de teste: (45, 4)\n"
     ]
    }
   ],
   "source": [
    "# Preparação de Dados para Classificação\n",
    "# Dataset Iris - classificação de espécies de flores\n",
    "iris = load_iris()\n",
    "X_clf = iris.data\n",
    "y_clf = iris.target\n",
    "feature_names = iris.feature_names\n",
    "target_names = iris.target_names\n",
    "\n",
    "# Dividir dados em treino e teste\n",
    "X_train_clf, X_test_clf, y_train_clf, y_test_clf = train_test_split(\n",
    "    X_clf, y_clf, test_size=0.3, random_state=42\n",
    ")\n",
    "\n",
    "print(f\"Formato dos dados de treino: {X_train_clf.shape}\")\n",
    "print(f\"Formato dos dados de teste: {X_test_clf.shape}\")"
   ]
  },
  {
   "cell_type": "code",
   "execution_count": 13,
   "metadata": {},
   "outputs": [
    {
     "name": "stdout",
     "output_type": "stream",
     "text": [
      "Acurácia: 1.0000\n",
      "OOB Score: 0.9524\n"
     ]
    }
   ],
   "source": [
    "# Treinamento de Random Forest para Classificação\n",
    "# Criar e treinar o modelo\n",
    "rf_clf = RandomForestClassifier(\n",
    "    n_estimators=100,      # Número de árvores\n",
    "    max_depth=3,           # Profundidade máxima de cada árvore\n",
    "    random_state=42,       # Semente para reprodutibilidade\n",
    "    oob_score=True         # Habilita cálculo do score OOB\n",
    ")\n",
    "rf_clf.fit(X_train_clf, y_train_clf)\n",
    "\n",
    "# Fazer previsões\n",
    "y_pred_clf = rf_clf.predict(X_test_clf)\n",
    "\n",
    "# Avaliar o modelo\n",
    "accuracy = accuracy_score(y_test_clf, y_pred_clf)\n",
    "print(f\"Acurácia: {accuracy:.4f}\")\n",
    "print(f\"OOB Score: {rf_clf.oob_score_:.4f}\")  # Out-of-Bag score"
   ]
  },
  {
   "cell_type": "markdown",
   "metadata": {},
   "source": [
    "# Avaliação do Modelo de Classificação\n",
    "\n",
    "## Métricas de Avaliação:\n",
    "- **Acurácia**: Proporção de previsões corretas\n",
    "- **Matriz de Confusão**: Mostra erros por classe\n",
    "- **Relatório de Classificação**:\n",
    "  - Precisão: Proporção de verdadeiros positivos entre todas as previsões positivas\n",
    "  - Recall: Proporção de verdadeiros positivos entre todas as instâncias positivas reais\n",
    "  - F1-score: Média harmônica entre precisão e recall\n",
    "\n",
    "## O que é OOB Score?\n",
    "- **Out-of-Bag Score**: Estimativa de precisão usando amostras não incluídas no bootstrap de cada árvore\n",
    "- Funciona como uma validação cruzada interna\n",
    "- Útil quando temos dados limitados"
   ]
  },
  {
   "cell_type": "code",
   "execution_count": 14,
   "metadata": {},
   "outputs": [
    {
     "data": {
      "image/png": "[encoded data removed]",
      "text/plain": [
       "<Figure size 720x432 with 2 Axes>"
      ]
     },
     "metadata": {},
     "output_type": "display_data"
    },
    {
     "name": "stdout",
     "output_type": "stream",
     "text": [
      "\n",
      "Relatório de Classificação:\n",
      "              precision    recall  f1-score   support\n",
      "\n",
      "      setosa       1.00      1.00      1.00        19\n",
      "  versicolor       1.00      1.00      1.00        13\n",
      "   virginica       1.00      1.00      1.00        13\n",
      "\n",
      "    accuracy                           1.00        45\n",
      "   macro avg       1.00      1.00      1.00        45\n",
      "weighted avg       1.00      1.00      1.00        45\n",
      "\n",
      "Scores de Validação Cruzada: [0.96666667 0.96666667 0.93333333 0.96666667 1.        ]\n",
      "Média dos Scores: 0.9667\n"
     ]
    }
   ],
   "source": [
    "# Visualização da Avaliação de Classificação\n",
    "# Matriz de Confusão\n",
    "cm = confusion_matrix(y_test_clf, y_pred_clf)\n",
    "sns.heatmap(cm, annot=True, fmt='d', cmap='Blues', \n",
    "            xticklabels=target_names, yticklabels=target_names)\n",
    "plt.xlabel('Predito')\n",
    "plt.ylabel('Verdadeiro')\n",
    "plt.title('Matriz de Confusão')\n",
    "plt.show()\n",
    "\n",
    "# Relatório de Classificação\n",
    "print(\"\\nRelatório de Classificação:\")\n",
    "print(classification_report(y_test_clf, y_pred_clf, target_names=target_names))\n",
    "\n",
    "# Validação Cruzada\n",
    "cv_scores = cross_val_score(rf_clf, X_clf, y_clf, cv=5)\n",
    "print(f\"Scores de Validação Cruzada: {cv_scores}\")\n",
    "print(f\"Média dos Scores: {cv_scores.mean():.4f}\")"
   ]
  },
  {
   "cell_type": "markdown",
   "metadata": {},
   "source": [
    "# Importância de Características\n",
    "\n",
    "## Por que é importante?\n",
    "- Identifica quais características mais contribuem para as previsões\n",
    "- Ajuda na seleção de características e interpretação do modelo\n",
    "- Calculada como a redução média na impureza trazida por uma característica\n",
    "\n",
    "## Como interpretar?\n",
    "- Valores maiores = maior importância\n",
    "- Soma total = 1\n",
    "- Relativa ao conjunto de características"
   ]
  },
  {
   "cell_type": "code",
   "execution_count": 15,
   "metadata": {},
   "outputs": [
    {
     "data": {
      "image/png": "[encoded data removed]",
      "text/plain": [
       "<Figure size 720x432 with 1 Axes>"
      ]
     },
     "metadata": {},
     "output_type": "display_data"
    },
    {
     "name": "stdout",
     "output_type": "stream",
     "text": [
      "             Feature  Importance\n",
      "0   petal width (cm)    0.439569\n",
      "1  petal length (cm)    0.433067\n",
      "2  sepal length (cm)    0.102258\n",
      "3   sepal width (cm)    0.025106\n"
     ]
    }
   ],
   "source": [
    "# Visualização da Importância de Características\n",
    "# Obter importâncias\n",
    "importances = rf_clf.feature_importances_\n",
    "indices = np.argsort(importances)[::-1]\n",
    "\n",
    "# Gráfico de barras\n",
    "plt.figure(figsize=(10, 6))\n",
    "plt.title(\"Importância das Características\")\n",
    "plt.bar(range(X_train_clf.shape[1]), importances[indices], align='center')\n",
    "plt.xticks(range(X_train_clf.shape[1]), [feature_names[i] for i in indices], rotation=45)\n",
    "plt.xlabel(\"Características\")\n",
    "plt.ylabel(\"Importância\")\n",
    "plt.tight_layout()\n",
    "plt.show()\n",
    "\n",
    "# DataFrame com importâncias\n",
    "feature_imp_df = pd.DataFrame({\n",
    "    'Feature': [feature_names[i] for i in indices],\n",
    "    'Importance': importances[indices]\n",
    "})\n",
    "print(feature_imp_df)"
   ]
  },
  {
   "cell_type": "markdown",
   "metadata": {},
   "source": [
    "# Random Forest para Regressão\n",
    "\n",
    "## Diferenças Chave:\n",
    "- Previsão contínua em vez de categórica\n",
    "- Critério de divisão: Erro Quadrático Médio (MSE)\n",
    "- Agregação por média em vez de votação\n",
    "\n",
    "## Hiperparâmetros Importantes:\n",
    "- `n_estimators`: Número de árvores (100-500 comum)\n",
    "- `max_depth`: Profundidade máxima das árvores\n",
    "- `min_samples_split`: Número mínimo de amostras para dividir um nó\n",
    "- `min_samples_leaf`: Número mínimo de amostras em uma folha"
   ]
  },
  {
   "cell_type": "code",
   "execution_count": 16,
   "metadata": {},
   "outputs": [],
   "source": [
    "# Preparação de Dados para Regressão\n",
    "# Dataset Diabetes - previsão de progressão da doença\n",
    "diabetes = load_diabetes()\n",
    "X_reg = diabetes.data\n",
    "y_reg = diabetes.target\n",
    "feature_names_reg = diabetes.feature_names\n",
    "\n",
    "# Dividir dados\n",
    "X_train_reg, X_test_reg, y_train_reg, y_test_reg = train_test_split(\n",
    "    X_reg, y_reg, test_size=0.2, random_state=42\n",
    ")"
   ]
  },
  {
   "cell_type": "code",
   "execution_count": 17,
   "metadata": {},
   "outputs": [
    {
     "name": "stdout",
     "output_type": "stream",
     "text": [
      "RMSE: 53.4826\n",
      "OOB Score: 0.4537\n"
     ]
    },
    {
     "data": {
      "image/png": "[encoded data removed]",
      "text/plain": [
       "<Figure size 720x432 with 1 Axes>"
      ]
     },
     "metadata": {},
     "output_type": "display_data"
    }
   ],
   "source": [
    "# Treinamento de Random Forest para Regressão\n",
    "# Criar e treinar o modelo\n",
    "rf_reg = RandomForestRegressor(\n",
    "    n_estimators=200,\n",
    "    max_depth=5,\n",
    "    random_state=42,\n",
    "    oob_score=True\n",
    ")\n",
    "rf_reg.fit(X_train_reg, y_train_reg)\n",
    "\n",
    "# Fazer previsões\n",
    "y_pred_reg = rf_reg.predict(X_test_reg)\n",
    "\n",
    "# Avaliar o modelo\n",
    "mse = mean_squared_error(y_test_reg, y_pred_reg)\n",
    "rmse = np.sqrt(mse)\n",
    "print(f\"RMSE: {rmse:.4f}\")\n",
    "print(f\"OOB Score: {rf_reg.oob_score_:.4f}\")\n",
    "\n",
    "# Visualizar previsões vs reais\n",
    "plt.figure(figsize=(10, 6))\n",
    "plt.scatter(y_test_reg, y_pred_reg, alpha=0.7)\n",
    "plt.plot([min(y_test_reg), max(y_test_reg)], [min(y_test_reg), max(y_test_reg)], 'r--')\n",
    "plt.xlabel('Valores Reais')\n",
    "plt.ylabel('Previsões')\n",
    "plt.title('Random Forest Regression: Reais vs Previstos')\n",
    "plt.show()"
   ]
  },
  {
   "cell_type": "markdown",
   "metadata": {},
   "source": [
    "# Hiperparâmetros e Otimização\n",
    "\n",
    "## Hiperparâmetros Importantes:\n",
    "1. `n_estimators`: Mais árvores geralmente melhoram performance (até ponto de saturação)\n",
    "2. `max_depth`: Controla complexidade (profundidade excessiva causa overfitting)\n",
    "3. `min_samples_split`: Valores maiores previnem overfitting\n",
    "4. `min_samples_leaf`: Similar ao anterior\n",
    "5. `max_features`: Número de características consideradas em cada divisão\n",
    "\n",
    "## Técnicas de Otimização:\n",
    "- **RandomizedSearchCV**: Busca aleatória de hiperparâmetros\n",
    "- **GridSearchCV**: Busca exaustiva em grade de parâmetros\n",
    "- **Validação Cruzada**: Avaliação robusta de performance\n",
    "\n",
    "## Dica Prática:\n",
    "Comece com valores padrão e ajuste gradualmente, monitorando performance em conjunto de validação."
   ]
  },
  {
   "cell_type": "code",
   "execution_count": 19,
   "metadata": {},
   "outputs": [
    {
     "name": "stdout",
     "output_type": "stream",
     "text": [
      "Melhores parâmetros: {'n_estimators': 200, 'min_samples_split': 5, 'min_samples_leaf': 1, 'max_features': 'log2', 'max_depth': None}\n",
      "Acurácia ajustada: 1.0\n"
     ]
    }
   ],
   "source": [
    "# Otimização com RandomizedSearchCV\n",
    "from sklearn.model_selection import RandomizedSearchCV\n",
    "\n",
    "# Espaço de parâmetros\n",
    "param_dist = {\n",
    "    'n_estimators': [50, 100, 200, 300],\n",
    "    'max_depth': [None, 3, 5, 10, 20],\n",
    "    'min_samples_split': [2, 5, 10],\n",
    "    'min_samples_leaf': [1, 2, 4],\n",
    "    'max_features': ['sqrt', 'log2']\n",
    "}\n",
    "\n",
    "# Busca aleatória\n",
    "rf_tuned = RandomizedSearchCV(\n",
    "    estimator=RandomForestClassifier(random_state=42),\n",
    "    param_distributions=param_dist,\n",
    "    n_iter=20,\n",
    "    cv=5,\n",
    "    n_jobs=-1,\n",
    "    random_state=42\n",
    ")\n",
    "\n",
    "rf_tuned.fit(X_train_clf, y_train_clf)\n",
    "\n",
    "# Melhores parâmetros\n",
    "print(\"Melhores parâmetros:\", rf_tuned.best_params_)\n",
    "\n",
    "# Avaliar modelo ajustado\n",
    "best_rf = rf_tuned.best_estimator_\n",
    "y_pred_tuned = best_rf.predict(X_test_clf)\n",
    "print(\"Acurácia ajustada:\", accuracy_score(y_test_clf, y_pred_tuned))"
   ]
  },
  {
   "cell_type": "markdown",
   "metadata": {},
   "source": [
    "# Limitações e Boas Práticas\n",
    "\n",
    "## Limitações das Random Forests:\n",
    "- Menos interpretáveis que árvores individuais\n",
    "- Pode ser computacionalmente intensivo com muitas árvores\n",
    "- Tendência a overfit em datasets muito ruidosos\n",
    "- Desempenho inferior em problemas com características altamente correlacionadas\n",
    "\n",
    "## Boas Práticas:\n",
    "1. Comece com valores padrão e ajuste gradualmente\n",
    "2. Use `n_jobs=-1` para paralelizar o treinamento\n",
    "3. Monitore o OOB score para estimativa de performance\n",
    "4. Visualize a importância de características\n",
    "5. Para problemas desbalanceados, use `class_weight='balanced'`\n",
    "\n",
    "## Quando Usar?\n",
    "- Problemas com relações não-lineares\n",
    "- Quando interpretabilidade moderada é suficiente\n",
    "- Quando precisão é mais importante que velocidade de inferência"
   ]
  },
  {
   "cell_type": "markdown",
   "metadata": {},
   "source": []
  }
 ],
 "metadata": {
  "celltoolbar": "Slideshow",
  "kernelspec": {
   "display_name": "QSARModelingGUI",
   "language": "python",
   "name": "python3"
  },
  "language_info": {
   "codemirror_mode": {
    "name": "ipython",
    "version": 3
   },
   "file_extension": ".py",
   "mimetype": "text/x-python",
   "name": "python",
   "nbconvert_exporter": "python",
   "pygments_lexer": "ipython3",
   "version": "3.8.13"
  }
 },
 "nbformat": 4,
 "nbformat_minor": 2
}
