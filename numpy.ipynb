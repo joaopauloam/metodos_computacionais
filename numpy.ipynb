{
 "cells": [
  {
   "cell_type": "markdown",
   "metadata": {
    "slideshow": {
     "slide_type": "slide"
    }
   },
   "source": [
    "# NumPy\n",
    "\n",
    "+ O NumPy é uma biblioteca Python que é usada principalmente para realizar cálculos em Arrays Multidimensionais homogêneos.\n",
    "+ Um array em NumPy é uma tabela de elementos (geralmente números), todos do mesmo tipo, indexados por tuplas.\n",
    "+ Em NumPy as dimensões são chamadas de eixos."
   ]
  },
  {
   "cell_type": "markdown",
   "metadata": {
    "slideshow": {
     "slide_type": "slide"
    }
   },
   "source": [
    "Exemplo"
   ]
  },
  {
   "cell_type": "code",
   "execution_count": null,
   "metadata": {
    "slideshow": {
     "slide_type": "fragment"
    }
   },
   "outputs": [],
   "source": [
    "import numpy as np # aqui estamos importando a biblioteca NumPy e dando o \"apelido\" para ela de np\n",
    "X = np.array([[1,2,1],[0,1,1]]) # aqui criamos um array bidimensional\n",
    "print(X)\n",
    "print(type(X))"
   ]
  },
  {
   "cell_type": "markdown",
   "metadata": {
    "slideshow": {
     "slide_type": "slide"
    }
   },
   "source": [
    "+ No exemplo anterior criamos um array bidimensional (uma matriz) de dimensões 2 X 3. Podemos enxergar o array como uma lista de listas onde cada lista interna é uma linha da matriz.\n",
    "+ Nesse caso temos uma matriz com 2 linhas e três colunas.\n",
    "+ Os elementos da matriz podem ser acessados por meio dos seus índices. Assim como acontece para as listas, cada dimensão se inicia no índice 0."
   ]
  },
  {
   "cell_type": "code",
   "execution_count": null,
   "metadata": {
    "slideshow": {
     "slide_type": "fragment"
    }
   },
   "outputs": [],
   "source": [
    "print(X)\n",
    "print(X[0,1])\n",
    "print(X[1,2])"
   ]
  },
  {
   "cell_type": "markdown",
   "metadata": {
    "slideshow": {
     "slide_type": "slide"
    }
   },
   "source": [
    "A classe ndarray oferece diversos métodos para manipular objetos do tipo array NumPy e atributos que contêm informações importantes desses objetos.\n",
    "\n",
    "O atributo **ndim** retorna quantas dimensões têm o array."
   ]
  },
  {
   "cell_type": "code",
   "execution_count": null,
   "metadata": {
    "slideshow": {
     "slide_type": "fragment"
    }
   },
   "outputs": [],
   "source": [
    "print(X)\n",
    "print(X.ndim)"
   ]
  },
  {
   "cell_type": "markdown",
   "metadata": {
    "slideshow": {
     "slide_type": "slide"
    }
   },
   "source": [
    "O atributo **shape** retorna uma tupla com as dimensões do array."
   ]
  },
  {
   "cell_type": "code",
   "execution_count": null,
   "metadata": {
    "slideshow": {
     "slide_type": "fragment"
    }
   },
   "outputs": [],
   "source": [
    "print(X)\n",
    "print(X.shape)"
   ]
  },
  {
   "cell_type": "markdown",
   "metadata": {
    "slideshow": {
     "slide_type": "slide"
    }
   },
   "source": [
    "O atributo **size** retorna o número de elementos do array."
   ]
  },
  {
   "cell_type": "code",
   "execution_count": null,
   "metadata": {
    "slideshow": {
     "slide_type": "fragment"
    }
   },
   "outputs": [],
   "source": [
    "print(X)\n",
    "print(X.size)"
   ]
  },
  {
   "cell_type": "markdown",
   "metadata": {
    "slideshow": {
     "slide_type": "slide"
    }
   },
   "source": [
    "Para criar um array você deve passar uma lista como parâmetro para o construtor array."
   ]
  },
  {
   "cell_type": "code",
   "execution_count": null,
   "metadata": {
    "slideshow": {
     "slide_type": "fragment"
    }
   },
   "outputs": [],
   "source": [
    "meu_array = np.array([1,2,3,4])\n",
    "print(meu_array)\n",
    "print(meu_array.ndim)\n",
    "print(meu_array.shape)\n",
    "print(meu_array.size)"
   ]
  },
  {
   "cell_type": "markdown",
   "metadata": {
    "slideshow": {
     "slide_type": "slide"
    }
   },
   "source": [
    "As funções **zeros** e **ones** criam arrays contendo apenas zeros e uns, respectivamente, de acordo com as dimensões passadas como parâmetros. Se o array for multidimensional as dimensões devem ser passadas na forma de tupla."
   ]
  },
  {
   "cell_type": "code",
   "execution_count": null,
   "metadata": {
    "slideshow": {
     "slide_type": "fragment"
    }
   },
   "outputs": [],
   "source": [
    "A = np.zeros(5)\n",
    "print(A)\n",
    "B = np.ones((3,4))\n",
    "print(B)"
   ]
  },
  {
   "cell_type": "markdown",
   "metadata": {
    "slideshow": {
     "slide_type": "slide"
    }
   },
   "source": [
    "A matriz identidade pode ser criada por meio da função **eye**."
   ]
  },
  {
   "cell_type": "code",
   "execution_count": null,
   "metadata": {
    "slideshow": {
     "slide_type": "fragment"
    }
   },
   "outputs": [],
   "source": [
    "I = np.eye(3)\n",
    "print(I)"
   ]
  },
  {
   "cell_type": "markdown",
   "metadata": {
    "slideshow": {
     "slide_type": "slide"
    }
   },
   "source": [
    "Para criar arrays com números aleatórios usamos a função **random** do pacote **random**. Assim como para as funções **zeros** e **ones**, o parâmetro passado para a função random é uma tupla."
   ]
  },
  {
   "cell_type": "code",
   "execution_count": null,
   "metadata": {
    "slideshow": {
     "slide_type": "fragment"
    }
   },
   "outputs": [],
   "source": [
    "A = np.random.random((2,2))\n",
    "print(A)\n",
    "B = np.random.random((2,2))\n",
    "print(B)"
   ]
  },
  {
   "cell_type": "markdown",
   "metadata": {
    "slideshow": {
     "slide_type": "slide"
    }
   },
   "source": [
    "Os operadores aritméticos podem ser usados com os arrays. Nesse caso a operação artimética é aplicada elemento a elemento."
   ]
  },
  {
   "cell_type": "code",
   "execution_count": null,
   "metadata": {
    "slideshow": {
     "slide_type": "subslide"
    }
   },
   "outputs": [],
   "source": [
    "A = np.array([[1,2],[3,4]])\n",
    "print(A)\n",
    "B = np.array([[5,6],[7,8]])\n",
    "print(B)\n",
    "print(A+B)\n",
    "print(B-A)\n",
    "print(A*B)\n",
    "print(A/B)"
   ]
  },
  {
   "cell_type": "markdown",
   "metadata": {
    "slideshow": {
     "slide_type": "slide"
    }
   },
   "source": [
    "Para efetuar o produto matricial deve-se utilizar a função **dot** ou o método de mesmo nome."
   ]
  },
  {
   "cell_type": "code",
   "execution_count": null,
   "metadata": {
    "slideshow": {
     "slide_type": "fragment"
    }
   },
   "outputs": [],
   "source": [
    "C = np.dot(A,B)\n",
    "print(C)\n",
    "D = B.dot(A)\n",
    "print(D)"
   ]
  },
  {
   "cell_type": "markdown",
   "metadata": {
    "slideshow": {
     "slide_type": "slide"
    }
   },
   "source": [
    "Os objetos do tipo array NumPy possuem os métodos **sum**, **max** e **min** que podem ser aplicados à matriz como um todo ou a cada dimensão separadamente por meio da palavra chave *axis*."
   ]
  },
  {
   "cell_type": "code",
   "execution_count": null,
   "metadata": {
    "slideshow": {
     "slide_type": "fragment"
    }
   },
   "outputs": [],
   "source": [
    "M = np.array([[5,2,4],[6,1,3]])\n",
    "print(M)\n",
    "print(M.sum()) # soma todos os elementos da matriz\n",
    "print(M.max(axis=0)) # retorna o valor máximo de cada coluna\n",
    "print(M.min(axis=1)) # retorna o valor mínimo de cada linha"
   ]
  },
  {
   "cell_type": "markdown",
   "metadata": {
    "slideshow": {
     "slide_type": "slide"
    }
   },
   "source": [
    "Funções podem ser aplicadas a todos os elementos de um array."
   ]
  },
  {
   "cell_type": "code",
   "execution_count": null,
   "metadata": {
    "slideshow": {
     "slide_type": "fragment"
    }
   },
   "outputs": [],
   "source": [
    "print(M)\n",
    "print(np.sin(M))\n",
    "print(np.exp(M))\n",
    "print(np.sqrt(M))"
   ]
  },
  {
   "cell_type": "markdown",
   "metadata": {
    "slideshow": {
     "slide_type": "slide"
    }
   },
   "source": [
    "É possível acessar fatias (slices) de um array por meio do operador :"
   ]
  },
  {
   "cell_type": "code",
   "execution_count": null,
   "metadata": {
    "slideshow": {
     "slide_type": "fragment"
    }
   },
   "outputs": [],
   "source": [
    "X = np.random.random((4,6))\n",
    "print(X)\n",
    "print(\"---------------------------------------------\")\n",
    "print(X[:,3])\n",
    "print(\"---------------------------------------------\")\n",
    "print(X[2,:])\n",
    "print(\"---------------------------------------------\")\n",
    "print(X[1:4,2:5])"
   ]
  },
  {
   "cell_type": "markdown",
   "metadata": {
    "slideshow": {
     "slide_type": "slide"
    }
   },
   "source": [
    "Você pode obter a transposta uma matriz com o atributo **T**."
   ]
  },
  {
   "cell_type": "code",
   "execution_count": null,
   "metadata": {
    "slideshow": {
     "slide_type": "fragment"
    }
   },
   "outputs": [],
   "source": [
    "print(M)\n",
    "print(\"---------------------------------------------\")\n",
    "print(M.T)"
   ]
  },
  {
   "cell_type": "markdown",
   "metadata": {
    "slideshow": {
     "slide_type": "slide"
    }
   },
   "source": [
    "Você pode alterar a forma de um array por meio do método **reshape**."
   ]
  },
  {
   "cell_type": "code",
   "execution_count": null,
   "metadata": {
    "slideshow": {
     "slide_type": "fragment"
    }
   },
   "outputs": [],
   "source": [
    "X = np.arange(12)\n",
    "Y = X.reshape(3,4)\n",
    "print(X)\n",
    "print(\"---------------------------------------------\")\n",
    "print(Y)"
   ]
  },
  {
   "cell_type": "markdown",
   "metadata": {
    "slideshow": {
     "slide_type": "slide"
    }
   },
   "source": [
    "Você pode empilhar arrays verticalmente ou horizontalmente por meio das funções **vstack** e **hstack**, respectivamente."
   ]
  },
  {
   "cell_type": "code",
   "execution_count": null,
   "metadata": {
    "slideshow": {
     "slide_type": "subslide"
    }
   },
   "outputs": [],
   "source": [
    "print(A)\n",
    "print(\"---------------------------------------------\")\n",
    "print(B)\n",
    "print(\"---------------------------------------------\")\n",
    "print(np.vstack((A,B)))\n",
    "print(\"---------------------------------------------\")\n",
    "print(np.hstack((A,B)))"
   ]
  },
  {
   "cell_type": "markdown",
   "metadata": {
    "slideshow": {
     "slide_type": "slide"
    }
   },
   "source": [
    "NumPy inclui funções estatísticas que podem ser aplicadas à matriz como um todo ou separadamente às linhas ou colunas, da mesma maneira que ocorre com as funções **sum**, **max** e **min**."
   ]
  },
  {
   "cell_type": "code",
   "execution_count": null,
   "metadata": {
    "slideshow": {
     "slide_type": "subslide"
    }
   },
   "outputs": [],
   "source": [
    "E = np.floor(10*np.random.random((5,8)))\n",
    "print(E)\n",
    "print(\"---------------------------------------------\")\n",
    "print(np.mean(E,axis=0)) # média dos elementos de coluna\n",
    "print(\"---------------------------------------------\")\n",
    "print(np.var(E)) # variância da matriz\n",
    "print(\"---------------------------------------------\")\n",
    "print(np.std(E,axis=1)) # desvio padrão das linhas da matriz com nenhum grau de liberdade\n",
    "print(\"---------------------------------------------\")\n",
    "print(np.std(E,axis=1,ddof=1)) # desvio padrão das linhas da matriz com um grau de liberdade"
   ]
  },
  {
   "cell_type": "markdown",
   "metadata": {
    "slideshow": {
     "slide_type": "slide"
    }
   },
   "source": [
    "O pacote **linalg** da biblioteca NumPy inclui funções que realizam operações importantes em álgebra linear."
   ]
  },
  {
   "cell_type": "code",
   "execution_count": null,
   "metadata": {
    "slideshow": {
     "slide_type": "subslide"
    }
   },
   "outputs": [],
   "source": [
    "print(A)\n",
    "print(\"---------------------------------------------\")\n",
    "print(np.linalg.inv(A)) # calcula a matriz inversa de A\n",
    "b = np.array([5,7])\n",
    "print(\"---------------------------------------------\")\n",
    "print(np.linalg.solve(A,b)) # resolve o sistema linear Ax = b e devolve o vetor x\n",
    "l,v = np.linalg.eig(A) # retorna os autovalores e autovetores de A\n",
    "print(\"---------------------------------------------\")\n",
    "print(l) \n",
    "print(\"---------------------------------------------\")\n",
    "print(v)"
   ]
  },
  {
   "cell_type": "code",
   "execution_count": null,
   "metadata": {
    "slideshow": {
     "slide_type": "subslide"
    }
   },
   "outputs": [],
   "source": [
    "U,s,V = np.linalg.svd(A) # retorna o resultado da decomposição em valores singulares de A\n",
    "print(\"---------------------------------------------\")\n",
    "print(U)\n",
    "print(\"---------------------------------------------\")\n",
    "print(s)\n",
    "print(\"---------------------------------------------\")\n",
    "print(V)"
   ]
  },
  {
   "cell_type": "markdown",
   "metadata": {
    "slideshow": {
     "slide_type": "slide"
    }
   },
   "source": [
    "Essa é a matriz reconstruída"
   ]
  },
  {
   "cell_type": "code",
   "execution_count": null,
   "metadata": {
    "slideshow": {
     "slide_type": "fragment"
    }
   },
   "outputs": [],
   "source": [
    "print(A)\n",
    "print(\"---------------------------------------------\")\n",
    "print(U.dot(np.diag(s)).dot(V))"
   ]
  }
 ],
 "metadata": {
  "celltoolbar": "Slideshow",
  "kernelspec": {
   "display_name": "Python 3",
   "language": "python",
   "name": "python3"
  },
  "language_info": {
   "codemirror_mode": {
    "name": "ipython",
    "version": 3
   },
   "file_extension": ".py",
   "mimetype": "text/x-python",
   "name": "python",
   "nbconvert_exporter": "python",
   "pygments_lexer": "ipython3",
   "version": "3.6.8"
  }
 },
 "nbformat": 4,
 "nbformat_minor": 2
}
