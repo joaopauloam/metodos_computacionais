{
 "cells": [
  {
   "cell_type": "markdown",
   "metadata": {},
   "source": [
    "# Exercício\n",
    "1. Abra o arquivo consumo_alcool.xlsx de modo que a coluna país seja o índice das linhas (use a função read_excel).\n",
    "+ Determine o total de consumo de destilados em L/ano para os países listados.\n",
    "+ Determine a média de consumo de cada tipo de bebida por ano.\n",
    "+ Determine qual país é maior consumidor de cada tipo de bebida.\n",
    "+ Faça uma tabela contendo os dados apenas dos países que consomem 100 ou mais litros de cerveja por ano (Use compreensão de listas).\n",
    "+ Adicione uma coluna à tabela contendo a a porcentagem de consumo de vinho que cada país consome em relação ao total dos países pesquisados.\n",
    "+ Faça um gráfico de pizza da coluna nova coluna adicionada destacando o consumo da Austrália.\n",
    "+ Faça um gráfico do consumo dos 3 tipos de bebida versus a expectativa de vida. Dê um título ao gráfico assim como títulos para os eixos e coloque legendas para cada tipo de bebida. Você consegue observar alguma relação linear entre eles?\n",
    "+ Faça um gráfico do consumo dos 3 tipos de bebida versus a taxa de problemas cardíacos. Dê um título ao gráfico assim como títulos para os eixos e coloque legendas para cada tipo de bebida. Você consegue observar alguma relação linear entre eles?"
   ]
  },
  {
   "cell_type": "code",
   "execution_count": null,
   "metadata": {},
   "outputs": [],
   "source": [
    "# Responda aqui"
   ]
  }
 ],
 "metadata": {
  "kernelspec": {
   "display_name": "Python 3",
   "language": "python",
   "name": "python3"
  },
  "language_info": {
   "codemirror_mode": {
    "name": "ipython",
    "version": 3
   },
   "file_extension": ".py",
   "mimetype": "text/x-python",
   "name": "python",
   "nbconvert_exporter": "python",
   "pygments_lexer": "ipython3",
   "version": "3.7.1"
  }
 },
 "nbformat": 4,
 "nbformat_minor": 2
}
