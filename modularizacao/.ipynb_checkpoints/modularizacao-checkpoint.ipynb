{
 "cells": [
  {
   "cell_type": "markdown",
   "metadata": {
    "slideshow": {
     "slide_type": "slide"
    }
   },
   "source": [
    "# Modularização"
   ]
  },
  {
   "cell_type": "markdown",
   "metadata": {
    "slideshow": {
     "slide_type": "subslide"
    }
   },
   "source": [
    "+ Situação\n",
    "    + Resolução de problemas grandes e/ou complexos.\n",
    "+ Solução\n",
    "    + Dividir o problema grande e/ou complexo em problemas menores e mais simples.\n",
    "    + A solução dos problemas mais simples é implementada utilizando subprogramas.\n",
    "+ Subprograma\n",
    "    + A solução do problema original é implementada por meio da composição dos subprogramas.\n",
    "    + Subprogramas podem ser vistos como blocos de construção com os quais montamos um programa.\n",
    "    + Esta técnica de construção de programas é chamada de MODULARIZAÇÃO."
   ]
  },
  {
   "cell_type": "markdown",
   "metadata": {
    "slideshow": {
     "slide_type": "slide"
    }
   },
   "source": [
    "### Subprograma\n",
    "+ Um subprograma é um bloco de programa constituído por um conjunto de declarações e por um conjunto de \n",
    "comandos e identificado por um nome.\n",
    "+ Exemplo:"
   ]
  },
  {
   "cell_type": "code",
   "execution_count": null,
   "metadata": {
    "slideshow": {
     "slide_type": "fragment"
    }
   },
   "outputs": [],
   "source": [
    "def adicao():\n",
    "    a = int(input())\n",
    "    b = int(input())\n",
    "    c = a + b\n",
    "    print(c)\n",
    "    \n",
    "adicao()"
   ]
  },
  {
   "cell_type": "markdown",
   "metadata": {
    "slideshow": {
     "slide_type": "slide"
    }
   },
   "source": [
    "### Função\n",
    "Sintaxe em Python:\n",
    "\n",
    "def nome_função(lista_parâmetros):\n",
    "    \n",
    "    lista_de_comandos_da_função"
   ]
  },
  {
   "cell_type": "markdown",
   "metadata": {
    "slideshow": {
     "slide_type": "slide"
    }
   },
   "source": [
    "Exemplo:\n",
    "+ Calcular o valor da soma de dois números reais."
   ]
  },
  {
   "cell_type": "code",
   "execution_count": null,
   "metadata": {
    "slideshow": {
     "slide_type": "fragment"
    }
   },
   "outputs": [],
   "source": [
    "def soma(a, b):\n",
    "    aux = a + b\n",
    "    return aux"
   ]
  },
  {
   "cell_type": "markdown",
   "metadata": {
    "slideshow": {
     "slide_type": "slide"
    }
   },
   "source": [
    "Exemplo de chamada a uma função:"
   ]
  },
  {
   "cell_type": "code",
   "execution_count": null,
   "metadata": {
    "slideshow": {
     "slide_type": "fragment"
    }
   },
   "outputs": [],
   "source": [
    "x = float(input(\"Digite X: \"))\n",
    "y = float(input(\"Digite Y: \")) \n",
    "z = soma(x,y) \n",
    "print(\"Soma: \",z) "
   ]
  },
  {
   "cell_type": "markdown",
   "metadata": {
    "slideshow": {
     "slide_type": "slide"
    }
   },
   "source": [
    "+ Definição:\n",
    "    + A definição de uma função associa um nome a um bloco de declarações e comandos.\n",
    "    + Os comandos que compõem o bloco da função têm a “missão” de calcular um valor que deve ser informado pela \n",
    "    função.\n",
    "+ Chamada (execução) de Função:\n",
    "    + Uma referência a um nome de função dentro de um programa provoca a execução do bloco de comandos da função.\n",
    "    + Ao término da execução da função, a execução do programa continua a partir do ponto onde a função foi chamada."
   ]
  },
  {
   "cell_type": "markdown",
   "metadata": {
    "slideshow": {
     "slide_type": "slide"
    }
   },
   "source": [
    "Resultado de uma função\n",
    "+ O comando return é utilizado pela função para informar o valor calculado\n",
    "+ O valor retornado pela função deve ser “capturado” pelo programa e:\n",
    "    + Armazenado em uma variável, ou;\n",
    "    + Exibido ao usuário, ou;\n",
    "    + Utilizado em uma expressão para a realização de um cálculo mais complexo.\n",
    "+ Obs: Quando a função não retorna nenhum valor ela costuma ser chamada de **procedimento**."
   ]
  },
  {
   "cell_type": "markdown",
   "metadata": {
    "slideshow": {
     "slide_type": "slide"
    }
   },
   "source": [
    "Outro exemplo de chamada a uma função:"
   ]
  },
  {
   "cell_type": "code",
   "execution_count": null,
   "metadata": {
    "slideshow": {
     "slide_type": "fragment"
    }
   },
   "outputs": [],
   "source": [
    "x = float(input(\"Digite X: \"))\n",
    "y = float(input(\"Digite Y: \")) \n",
    "print(\"Soma: \",soma(x,y)) "
   ]
  },
  {
   "cell_type": "markdown",
   "metadata": {
    "slideshow": {
     "slide_type": "slide"
    }
   },
   "source": [
    "Outro exemplo de chamada a uma função:"
   ]
  },
  {
   "cell_type": "code",
   "execution_count": null,
   "metadata": {
    "slideshow": {
     "slide_type": "fragment"
    }
   },
   "outputs": [],
   "source": [
    "def fat(n): \n",
    "    f=1 \n",
    "    for i in range(n,0,-1): \n",
    "        f = f * i \n",
    "    return f \n",
    "num1 = int(input(\"Digite o numero 1: \")) \n",
    "num2 = int(input(\"Digite o numero 2: \")) \n",
    "if (num1 >= 0 and num2 >= 0): \n",
    "    num3 = fat(num1) + fat (num2) \n",
    "print(num3) "
   ]
  },
  {
   "cell_type": "markdown",
   "metadata": {
    "slideshow": {
     "slide_type": "slide"
    }
   },
   "source": [
    "### Escopo de Variáveis\n",
    "+ O escopo de uma variável é a parte do código do programa onde a variável é visível e, portanto, pode ser utilizada.\n",
    "+ Com relação ao escopo, as variáveis se dividem em:\n",
    "    + Globais;\n",
    "    + Locais."
   ]
  },
  {
   "cell_type": "markdown",
   "metadata": {
    "slideshow": {
     "slide_type": "slide"
    }
   },
   "source": [
    "+ Variáveis Globais\n",
    "    + São as variáveis declaradas fora dos procedimentos e das funções;\n",
    "    + São visíveis e podem ser utilizadas em toda a extensão do programa;\n",
    "+ Variáveis Locais\n",
    "    + São as variáveis declaradas dentro dos procedimentos e das funções;\n",
    "    + São visíveis e podem ser utilizadas apenas dentro do subprograma que as declarou."
   ]
  },
  {
   "cell_type": "code",
   "execution_count": null,
   "metadata": {
    "slideshow": {
     "slide_type": "slide"
    }
   },
   "outputs": [],
   "source": [
    "num = 10\n",
    "w = 50\n",
    "def soma5(w):\n",
    "    print(\"num dentro da função: {}\".format(num))\n",
    "    print(\"w dentro da funcao: {}\".format(w))\n",
    "    return w+5\n",
    "print(\"resultado da funcao: {}\".format(soma5(18)))\n",
    "print(\"w fora da funcao: {}\".format(w))"
   ]
  },
  {
   "cell_type": "markdown",
   "metadata": {
    "slideshow": {
     "slide_type": "slide"
    }
   },
   "source": [
    "Parâmetros\n",
    "+ O Uso Matemático\n",
    "    + Exemplo: $f(x) = x^2 + 2x + 6$\n",
    "    + Se x = 2 então $f(x) = f(2) = 2^2 + 2 x 2 + 6 = 14$\n",
    "    + Se x = 3 então $f(x) = f(3) = 3^2 + 2 x 3 + 6 = 21$\n",
    "    + x é o parâmetro da função f.\n",
    "+ O Uso Computacional\n",
    "    + Parâmetros são utilizados em computação para possibilitar a construção de subprogramas genéricos.    "
   ]
  },
  {
   "cell_type": "code",
   "execution_count": null,
   "metadata": {
    "slideshow": {
     "slide_type": "subslide"
    }
   },
   "outputs": [],
   "source": [
    "def calcularMedia(soma, cont):\n",
    "    media = soma/cont\n",
    "    return media"
   ]
  },
  {
   "cell_type": "markdown",
   "metadata": {
    "slideshow": {
     "slide_type": "slide"
    }
   },
   "source": [
    "### Mecanismos de Passagem de Parâmetros\n",
    "+ Parâmetros Formais\n",
    "    + Parâmetros formais são as variáveis declaradas no cabeçalho do subprograma.\n",
    "+ Parâmetros Reais\n",
    "    + Parâmetros reais são as variáveis passadas no instante da chamada do subprograma."
   ]
  },
  {
   "cell_type": "markdown",
   "metadata": {
    "slideshow": {
     "slide_type": "slide"
    }
   },
   "source": [
    "### Passagem de Parâmetro por Valor\n",
    "+ No instante da chamada do subprograma, o parâmetro formal recebe uma cópia do valor do parâmetro real correspondente.\n",
    "+ Alterações feitas nos parâmetros formais não refletem nos parâmetros reais correspondentes.\n",
    "+ Caracteriza-se por ser um mecanismo de entrada de dados para o subprograma."
   ]
  },
  {
   "cell_type": "markdown",
   "metadata": {
    "slideshow": {
     "slide_type": "slide"
    }
   },
   "source": [
    "Exemplo:"
   ]
  },
  {
   "cell_type": "code",
   "execution_count": null,
   "metadata": {
    "slideshow": {
     "slide_type": "fragment"
    }
   },
   "outputs": [],
   "source": [
    "def somaDobro(a, b):\n",
    "    a = 2*a\n",
    "    b = 2*b\n",
    "    soma = a+b\n",
    "    return soma\n",
    "x = int(input()) \n",
    "y = int(input()) \n",
    "z = somaDobro(x, y)  \n",
    "print(\"A soma do dobro dos numeros {} e {} é {}\".format(x, y, z))"
   ]
  },
  {
   "cell_type": "markdown",
   "metadata": {
    "slideshow": {
     "slide_type": "slide"
    }
   },
   "source": [
    "![alt_text](fig.png)"
   ]
  },
  {
   "cell_type": "markdown",
   "metadata": {
    "slideshow": {
     "slide_type": "slide"
    }
   },
   "source": [
    "Exemplo:"
   ]
  },
  {
   "cell_type": "code",
   "execution_count": null,
   "metadata": {
    "slideshow": {
     "slide_type": "fragment"
    }
   },
   "outputs": [],
   "source": [
    "def troca(a, b):\n",
    "    temp = a\n",
    "    a = b\n",
    "    b = temp\n",
    "    print(a)\n",
    "    print(b)\n",
    "x = 5 \n",
    "y = 10 \n",
    "troca(x ,y) \n",
    "print(x) \n",
    "print(y) "
   ]
  },
  {
   "cell_type": "code",
   "execution_count": null,
   "metadata": {
    "slideshow": {
     "slide_type": "slide"
    }
   },
   "outputs": [],
   "source": [
    "y,x = x,y\n",
    "print(x)\n",
    "print(y)"
   ]
  },
  {
   "cell_type": "markdown",
   "metadata": {
    "slideshow": {
     "slide_type": "slide"
    }
   },
   "source": [
    "### Passagem de Parâmetro por Referência\n",
    "+ Na passagem por referência, ao invés de se criar uma cópia da variável passada como parâmetro, passa-se o \n",
    "endereço da variável para a função.\n",
    "+ Isso faz com que alterações feitas nos parâmetros formais se reflitam nos parâmetros reais correspondentes.\n",
    "+ A passagem de arrays como parâmetros sempre é feita por referência."
   ]
  },
  {
   "cell_type": "markdown",
   "metadata": {
    "slideshow": {
     "slide_type": "slide"
    }
   },
   "source": [
    "Exemplo:"
   ]
  },
  {
   "cell_type": "code",
   "execution_count": null,
   "metadata": {
    "slideshow": {
     "slide_type": "fragment"
    }
   },
   "outputs": [],
   "source": [
    "def dobra(l):\n",
    "    for i in range(len(l)):\n",
    "        l[i] = 2*l[i]\n",
    "l1 = [1,2,3,4,5]\n",
    "print(l1)\n",
    "dobra(l1)\n",
    "print(l1)"
   ]
  }
 ],
 "metadata": {
  "celltoolbar": "Slideshow",
  "kernelspec": {
   "display_name": "Python 3",
   "language": "python",
   "name": "python3"
  },
  "language_info": {
   "codemirror_mode": {
    "name": "ipython",
    "version": 3
   },
   "file_extension": ".py",
   "mimetype": "text/x-python",
   "name": "python",
   "nbconvert_exporter": "python",
   "pygments_lexer": "ipython3",
   "version": "3.6.8"
  }
 },
 "nbformat": 4,
 "nbformat_minor": 2
}
