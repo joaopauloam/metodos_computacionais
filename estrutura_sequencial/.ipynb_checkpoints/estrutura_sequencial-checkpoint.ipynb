{
 "cells": [
  {
   "cell_type": "markdown",
   "metadata": {
    "slideshow": {
     "slide_type": "slide"
    }
   },
   "source": [
    "# Estrutura sequencial"
   ]
  },
  {
   "cell_type": "markdown",
   "metadata": {
    "slideshow": {
     "slide_type": "fragment"
    }
   },
   "source": [
    "+ Uma estrutura de controle é uma instrução de controle e sua coleção de comandos cuja execução ela controla.\n",
    "+ Tipos de Instrução de Controle\n",
    "![alt text](fig1.png)"
   ]
  },
  {
   "cell_type": "markdown",
   "metadata": {
    "slideshow": {
     "slide_type": "slide"
    }
   },
   "source": [
    "+ O fluxo de controle mais comum é a composição sequencial de dois ou mais comandos.\n",
    "+ Sintaxe:\n",
    "\n",
    "C1<br>C2\n",
    "+ Semântica: O comando C1 deve ser executado imediatamente antes do comando C2."
   ]
  },
  {
   "cell_type": "markdown",
   "metadata": {
    "slideshow": {
     "slide_type": "slide"
    }
   },
   "source": [
    "A construção de um algoritmo possui as seguintes etapas:\n",
    "1. Entendimento do problema;\n",
    "2. Elaboração da solução algorítmica;\n",
    "3. Codificação da solução na linguagem Python;\n",
    "4. Testar o algoritmo para verificar sua corretude.\n",
    "\n",
    "Geralmente, a etapa 2 é a mais complexa, pois depende da habilidade e experiência do \"construtor\""
   ]
  },
  {
   "cell_type": "markdown",
   "metadata": {
    "slideshow": {
     "slide_type": "slide"
    }
   },
   "source": [
    "Exemplo 1: Faça um programa que calcule a média aritmética de dois números quaisquer\n",
    "+ Etapa 1: Entendimento do Problema\n",
    "+ Etapa 2: Elaboração da Solução Algorítmica\n",
    "    + Quais são os dados necessários?\n",
    "\n",
    "    São os dois valores **valor1** e **valor2** <br>\n",
    "    Estes dados serão fornecidos pelo usuário e que serão armazenados em duas variáveis\n",
    "\n",
    "    + Qual o tipo de cada variável?\n",
    "\n",
    "    Duas variáveis do tipo numérico real"
   ]
  },
  {
   "cell_type": "markdown",
   "metadata": {
    "slideshow": {
     "slide_type": "slide"
    }
   },
   "source": [
    "Etapa 2: Elaboração da Solução Algorítmica (cont.)\n",
    "+ Quais os passos necessários para produzir a informação requerida?\n",
    "    1. Obter os dados (valor1 e valor2)\n",
    "    2. Fazer o cálculo da média\n",
    "    3. Armazenar o resultado em uma variável (também do tipo numérico real)\n",
    "    4. Exibir o resultado"
   ]
  },
  {
   "cell_type": "code",
   "execution_count": null,
   "metadata": {
    "slideshow": {
     "slide_type": "subslide"
    }
   },
   "outputs": [],
   "source": [
    "valor1 = float(input(\"Digite o primeiro valor: \"))\n",
    "valor2 = float(input(\"Digite o segundo valor: \"))\n",
    "media_aritmetica = (valor1+valor2)/2\n",
    "print(\"A media aritmetica de {} e {} é {}\".format(valor1,valor2,media_aritmetica))"
   ]
  },
  {
   "cell_type": "markdown",
   "metadata": {
    "slideshow": {
     "slide_type": "slide"
    }
   },
   "source": [
    "Etapa 4: Testar o algoritmo\n",
    "+ Executar o algoritmo várias vezes\n",
    "    + Em cada execução fornecer dados diferentes.\n",
    "    + Verificar se o resultado impresso em cada execução é o esperado."
   ]
  },
  {
   "cell_type": "markdown",
   "metadata": {
    "slideshow": {
     "slide_type": "slide"
    }
   },
   "source": [
    "Calcule a área de um círculo.\n",
    "+ Etapa 1: Entendimento do problema;\n",
    "+ Etapa 2: Elaboração da solução algorítmica;\n",
    "+ Etapa 3: Codificação da solução na linguagem Python;\n",
    "+ Etapa 4: Testar o algoritmo para verificar sua corretude."
   ]
  },
  {
   "cell_type": "code",
   "execution_count": null,
   "metadata": {
    "slideshow": {
     "slide_type": "fragment"
    }
   },
   "outputs": [],
   "source": [
    "# Resolva aqui\n",
    "import math\n",
    "raio = float(input(\"Digite o raio do círculo: \"))\n",
    "area = math.pi*raio**2\n",
    "print(\"A área do círculo de raio {} é {:.2f}\".format(raio,area))"
   ]
  },
  {
   "cell_type": "markdown",
   "metadata": {
    "slideshow": {
     "slide_type": "slide"
    }
   },
   "source": [
    "Calcular o valor da hipotenusa de um triângulo retângulo a partir dos valores de seus catetos."
   ]
  },
  {
   "cell_type": "code",
   "execution_count": null,
   "metadata": {
    "slideshow": {
     "slide_type": "fragment"
    }
   },
   "outputs": [],
   "source": [
    "# Resolva aqui\n",
    "import math\n",
    "cateto1 = float(input(\"Digite o valor do primeiro cateto: \"))\n",
    "cateto2 = float(input(\"Digite o valor do segundo cateto: \"))\n",
    "hipotenusa = math.sqrt(cateto1**2 + cateto2**2)\n",
    "print(\"A hipotenusa do triângulo retângulo de lados {} e {} é {}\".format(cateto1,cateto2,hipotenusa))"
   ]
  },
  {
   "cell_type": "markdown",
   "metadata": {
    "slideshow": {
     "slide_type": "slide"
    }
   },
   "source": [
    "Calcular o novo preço de um produto, sabendo que o preço atual sofreu um desconto de 10%."
   ]
  },
  {
   "cell_type": "code",
   "execution_count": null,
   "metadata": {
    "slideshow": {
     "slide_type": "fragment"
    }
   },
   "outputs": [],
   "source": [
    "# Resolva aqui\n",
    "preco_atual = float(input(\"Digite o preço atual: \"))\n",
    "novo_preco = 0.9*preco_atual\n",
    "print(\"O novo preço do produto é {}\".format(novo_preco))"
   ]
  },
  {
   "cell_type": "markdown",
   "metadata": {
    "slideshow": {
     "slide_type": "slide"
    }
   },
   "source": [
    "Calcular, dado o valor do salário mínimo e o valor do salário de um funcionário, quantos salários mínimos este funcionário recebe."
   ]
  },
  {
   "cell_type": "code",
   "execution_count": null,
   "metadata": {
    "slideshow": {
     "slide_type": "fragment"
    }
   },
   "outputs": [],
   "source": [
    "# Resolva aqui\n",
    "salario_funcionario = float(input(\"Digite o valor do salário do funcionário: \"))\n",
    "salario_minimo = float(input(\"Digite o valor do salário mínimo: \"))\n",
    "num_salarios_minimos = salario_funcionario/salario_minimo\n",
    "print(\"O funcionário recebe {} salários mínimos\".format(num_salarios_minimos))"
   ]
  }
 ],
 "metadata": {
  "celltoolbar": "Slideshow",
  "kernelspec": {
   "display_name": "Python 3",
   "language": "python",
   "name": "python3"
  },
  "language_info": {
   "codemirror_mode": {
    "name": "ipython",
    "version": 3
   },
   "file_extension": ".py",
   "mimetype": "text/x-python",
   "name": "python",
   "nbconvert_exporter": "python",
   "pygments_lexer": "ipython3",
   "version": "3.7.6"
  }
 },
 "nbformat": 4,
 "nbformat_minor": 2
}
