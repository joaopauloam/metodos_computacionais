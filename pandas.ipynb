{
 "cells": [
  {
   "cell_type": "markdown",
   "metadata": {
    "slideshow": {
     "slide_type": "slide"
    }
   },
   "source": [
    "# Pandas\n",
    "\n",
    "+ Pandas é uma biblioteca Python que fornece ferramentas de análise de dados e estruturas de dados de alta performance e fáceis de usar.\n",
    "+ Pandas é construída sobre a biblioteca NumPy e sua estrutura de dados principal é chamada de **DataFrame**.\n",
    "+ Um DataFrame permite que se armazene e se manipule tabelas de dados nas quais as linhas são as observações e as colunas as variáveis."
   ]
  },
  {
   "cell_type": "code",
   "execution_count": null,
   "metadata": {
    "slideshow": {
     "slide_type": "fragment"
    }
   },
   "outputs": [],
   "source": [
    "import pandas as pd # aqui importamos a biblioteca e damos a ela o \"apelido\" pd"
   ]
  },
  {
   "cell_type": "markdown",
   "metadata": {
    "slideshow": {
     "slide_type": "slide"
    }
   },
   "source": [
    "Existem diversas formas de se criar um DataFrame"
   ]
  },
  {
   "cell_type": "markdown",
   "metadata": {
    "slideshow": {
     "slide_type": "slide"
    }
   },
   "source": [
    "Usando dicionários"
   ]
  },
  {
   "cell_type": "code",
   "execution_count": null,
   "metadata": {
    "slideshow": {
     "slide_type": "fragment"
    }
   },
   "outputs": [],
   "source": [
    "dic = {\"country\": [\"Brazil\", \"Russia\", \"India\", \"China\", \"South Africa\"],\n",
    "       \"capital\": [\"Brasilia\", \"Moscow\", \"New Dehli\", \"Beijing\", \"Pretoria\"],\n",
    "       \"area\": [8.516, 17.10, 3.286, 9.597, 1.221],\n",
    "       \"population\": [200.4, 143.5, 1252, 1357, 52.98] }\n",
    "brics = pd.DataFrame(dic)\n",
    "brics"
   ]
  },
  {
   "cell_type": "markdown",
   "metadata": {
    "slideshow": {
     "slide_type": "slide"
    }
   },
   "source": [
    "O atributo **index** contém os títulos das linhas do DataFrame. Se no momento da criação do DataFrame nenhum índice for informado os índices são criados automaticamente a partir do 0."
   ]
  },
  {
   "cell_type": "code",
   "execution_count": null,
   "metadata": {
    "slideshow": {
     "slide_type": "fragment"
    }
   },
   "outputs": [],
   "source": [
    "print(brics.index)"
   ]
  },
  {
   "cell_type": "markdown",
   "metadata": {
    "slideshow": {
     "slide_type": "slide"
    }
   },
   "source": [
    "Os índices podem ser alterados a qualquer momento e com dados de quaisquer tipos."
   ]
  },
  {
   "cell_type": "code",
   "execution_count": null,
   "metadata": {
    "slideshow": {
     "slide_type": "fragment"
    }
   },
   "outputs": [],
   "source": [
    "brics.index = [\"BR\",\"RU\",\"IN\",\"CH\",\"SA\"]\n",
    "brics"
   ]
  },
  {
   "cell_type": "markdown",
   "metadata": {
    "slideshow": {
     "slide_type": "slide"
    }
   },
   "source": [
    "O atributo **index** retorna uma visão dos títulos das linhas enquanto que o atributo **columns** retorna uma visão dos títulos das colunas."
   ]
  },
  {
   "cell_type": "code",
   "execution_count": null,
   "metadata": {
    "slideshow": {
     "slide_type": "fragment"
    }
   },
   "outputs": [],
   "source": [
    "print(brics.index)\n",
    "print(brics.columns)"
   ]
  },
  {
   "cell_type": "markdown",
   "metadata": {
    "slideshow": {
     "slide_type": "slide"
    }
   },
   "source": [
    "Outra maneira de se criar um DataFrame é importando um arquivo csv"
   ]
  },
  {
   "cell_type": "code",
   "execution_count": null,
   "metadata": {
    "slideshow": {
     "slide_type": "fragment"
    }
   },
   "outputs": [],
   "source": [
    "import pandas as pd\n",
    "flavonoides = pd.read_csv(\"flavonoides.csv\",sep='\\t')\n",
    "flavonoides"
   ]
  },
  {
   "cell_type": "markdown",
   "metadata": {
    "slideshow": {
     "slide_type": "slide"
    }
   },
   "source": [
    "Observem que o separador de colunas desse arquivo, tabulação, foi especificado por meio do parâmetro *sep='\\t'*. Quando o separador das colunas é a vírgula esse parâmetro pode ser omitido."
   ]
  },
  {
   "cell_type": "markdown",
   "metadata": {
    "slideshow": {
     "slide_type": "slide"
    }
   },
   "source": [
    "Para que o comando interprete que a primeira coluna representa os índices, o parâmetro **index_col** deve ser acresentado."
   ]
  },
  {
   "cell_type": "code",
   "execution_count": null,
   "metadata": {
    "scrolled": true,
    "slideshow": {
     "slide_type": "fragment"
    }
   },
   "outputs": [],
   "source": [
    "flavonoides = pd.read_csv(\"flavonoides.csv\",sep='\\t',index_col=0)\n",
    "flavonoides"
   ]
  },
  {
   "cell_type": "markdown",
   "metadata": {
    "slideshow": {
     "slide_type": "slide"
    }
   },
   "source": [
    "Você pode visualizar apenas as primeiras linhas do DataFrame por meio do comando **head** ou apenas as últimas por meio do comando **tail**."
   ]
  },
  {
   "cell_type": "code",
   "execution_count": null,
   "metadata": {
    "slideshow": {
     "slide_type": "fragment"
    }
   },
   "outputs": [],
   "source": [
    "flavonoides.head()"
   ]
  },
  {
   "cell_type": "code",
   "execution_count": null,
   "metadata": {
    "slideshow": {
     "slide_type": "fragment"
    }
   },
   "outputs": [],
   "source": [
    "flavonoides.tail(2)"
   ]
  },
  {
   "cell_type": "markdown",
   "metadata": {
    "slideshow": {
     "slide_type": "slide"
    }
   },
   "source": [
    "Existem diversas maneiras de se acessar fatias (slices) de um DataFrame. A mais simples é usando colchetes, assim como é feito para listas e arrays."
   ]
  },
  {
   "cell_type": "code",
   "execution_count": null,
   "metadata": {
    "slideshow": {
     "slide_type": "fragment"
    }
   },
   "outputs": [],
   "source": [
    "flavonoides[\"MW[2]\"] # acessando uma coluna"
   ]
  },
  {
   "cell_type": "code",
   "execution_count": null,
   "metadata": {
    "slideshow": {
     "slide_type": "subslide"
    }
   },
   "outputs": [],
   "source": [
    "flavonoides[[\"Lumo\",\"Homo\",\"Gap\"]] # acessando uma lista de colunas"
   ]
  },
  {
   "cell_type": "markdown",
   "metadata": {
    "slideshow": {
     "slide_type": "slide"
    }
   },
   "source": [
    "As linhas podem ser acessadas por meio da faixa de linhas desejadas entre colchetes."
   ]
  },
  {
   "cell_type": "code",
   "execution_count": null,
   "metadata": {
    "slideshow": {
     "slide_type": "fragment"
    }
   },
   "outputs": [],
   "source": [
    "flavonoides[2:5]"
   ]
  },
  {
   "cell_type": "markdown",
   "metadata": {
    "slideshow": {
     "slide_type": "slide"
    }
   },
   "source": [
    "O método **loc** pode ser usado com dois índices e permite acessar linhas e colunas por meio dos respectivos títulos."
   ]
  },
  {
   "cell_type": "code",
   "execution_count": null,
   "metadata": {
    "slideshow": {
     "slide_type": "fragment"
    }
   },
   "outputs": [],
   "source": [
    "flavonoides.loc[:,[\"Lumo\",\"Homo\",\"Gap\"]] # todas as linhas e algumas colunas"
   ]
  },
  {
   "cell_type": "code",
   "execution_count": null,
   "metadata": {
    "slideshow": {
     "slide_type": "subslide"
    }
   },
   "outputs": [],
   "source": [
    "flavonoides.loc[[\"mol3\",\"mol8\",\"mol5\",\"mol20\"],:] # acessando algumas linhas e todas as colunas"
   ]
  },
  {
   "cell_type": "code",
   "execution_count": null,
   "metadata": {
    "slideshow": {
     "slide_type": "subslide"
    }
   },
   "outputs": [],
   "source": [
    "flavonoides.loc[[\"mol3\",\"mol8\",\"mol5\",\"mol20\"],[\"Lumo\",\"Homo\",\"Gap\"]] # acessando algumas linhas e algumas colunas"
   ]
  },
  {
   "cell_type": "markdown",
   "metadata": {
    "slideshow": {
     "slide_type": "slide"
    }
   },
   "source": [
    "O método **iloc** pode ser usado de maneira semelhante ao método **loc**, exceto que ele utiliza como parâmetros os índices ao ínvés dos títulos das linhas ou colunas."
   ]
  },
  {
   "cell_type": "code",
   "execution_count": null,
   "metadata": {
    "slideshow": {
     "slide_type": "fragment"
    }
   },
   "outputs": [],
   "source": [
    "flavonoides.iloc[2] # passando apenas um parâmetro, a linha selecionada é acessada (mol3)"
   ]
  },
  {
   "cell_type": "code",
   "execution_count": null,
   "metadata": {
    "slideshow": {
     "slide_type": "subslide"
    }
   },
   "outputs": [],
   "source": [
    "flavonoides.iloc[[2,5,8],551:555] # uma lista ou uma faixa de valores podem ser passados como parâmetros"
   ]
  },
  {
   "cell_type": "markdown",
   "metadata": {
    "slideshow": {
     "slide_type": "slide"
    }
   },
   "source": [
    "Assim como os arrays, os DataFrame também possuem os atributos **shape** e **size**"
   ]
  },
  {
   "cell_type": "code",
   "execution_count": null,
   "metadata": {
    "slideshow": {
     "slide_type": "fragment"
    }
   },
   "outputs": [],
   "source": [
    "print(flavonoides.shape)\n",
    "print(flavonoides.size)"
   ]
  },
  {
   "cell_type": "markdown",
   "metadata": {
    "slideshow": {
     "slide_type": "slide"
    }
   },
   "source": [
    "O método **describe** fornece um resumo da estatística por colunas referente ao DataFrame"
   ]
  },
  {
   "cell_type": "code",
   "execution_count": null,
   "metadata": {
    "slideshow": {
     "slide_type": "fragment"
    }
   },
   "outputs": [],
   "source": [
    "brics.describe()"
   ]
  },
  {
   "cell_type": "markdown",
   "metadata": {
    "slideshow": {
     "slide_type": "slide"
    }
   },
   "source": [
    "No entanto, essas estatísticas podem ser obtidas individualmente por meio dos métodos mean, std, etc. Além disso é possível obter as estatísticas por linha especificando a dimensão desejada."
   ]
  },
  {
   "cell_type": "code",
   "execution_count": null,
   "metadata": {
    "slideshow": {
     "slide_type": "fragment"
    }
   },
   "outputs": [],
   "source": [
    "print(brics.mean())\n",
    "print(\"-------------------------------\")\n",
    "print(brics.std(axis=1))"
   ]
  },
  {
   "cell_type": "markdown",
   "metadata": {
    "slideshow": {
     "slide_type": "slide"
    }
   },
   "source": [
    "Os métodos **sum**, **min** e **max** também podem ser usados nos DataFrames."
   ]
  },
  {
   "cell_type": "code",
   "execution_count": null,
   "metadata": {
    "slideshow": {
     "slide_type": "fragment"
    }
   },
   "outputs": [],
   "source": [
    "print(\"Maior valor de cada coluna\")\n",
    "print(brics.max())\n",
    "print(\"Soma dos valores de cada coluna numérica\")\n",
    "print(brics.sum(numeric_only=True))\n",
    "print(\"Menor valor de cada linha\")\n",
    "print(brics.min(axis=1))"
   ]
  },
  {
   "cell_type": "markdown",
   "metadata": {
    "slideshow": {
     "slide_type": "slide"
    }
   },
   "source": [
    "Do mesmo modo que ocorre com os Arrays, o DataFrame transposto pode ser acessado por meio do atributo **T**."
   ]
  },
  {
   "cell_type": "code",
   "execution_count": null,
   "metadata": {
    "slideshow": {
     "slide_type": "fragment"
    }
   },
   "outputs": [],
   "source": [
    "brics"
   ]
  },
  {
   "cell_type": "code",
   "execution_count": null,
   "metadata": {
    "slideshow": {
     "slide_type": "fragment"
    }
   },
   "outputs": [],
   "source": [
    "brics.T"
   ]
  },
  {
   "cell_type": "markdown",
   "metadata": {
    "slideshow": {
     "slide_type": "slide"
    }
   },
   "source": [
    "Você pode ordenar um DataFrame pelo título do índice com o método **sort_index** especificando qual dimensão será usada com a palavra chave *axis*."
   ]
  },
  {
   "cell_type": "code",
   "execution_count": null,
   "metadata": {
    "slideshow": {
     "slide_type": "fragment"
    }
   },
   "outputs": [],
   "source": [
    "brics.sort_index(axis=1,ascending=False) # ordenando as colunas pelo título em ordem decrescente"
   ]
  },
  {
   "cell_type": "markdown",
   "metadata": {
    "slideshow": {
     "slide_type": "slide"
    }
   },
   "source": [
    "Você pode escolher uma linha ou coluna para ordenar o DataFrame com o método **sort_values**."
   ]
  },
  {
   "cell_type": "code",
   "execution_count": null,
   "metadata": {
    "slideshow": {
     "slide_type": "fragment"
    }
   },
   "outputs": [],
   "source": [
    "brics.sort_values(by=\"population\")"
   ]
  },
  {
   "cell_type": "markdown",
   "metadata": {
    "slideshow": {
     "slide_type": "slide"
    }
   },
   "source": [
    "O método **concat** concatena as linhas de uma lista de DataFrames diferentes"
   ]
  },
  {
   "cell_type": "code",
   "execution_count": null,
   "metadata": {
    "slideshow": {
     "slide_type": "fragment"
    }
   },
   "outputs": [],
   "source": [
    "df1 = brics[0:1]\n",
    "print(df1)\n",
    "df2 = brics[2:4]\n",
    "print(df2)\n",
    "pd.concat([df1,df2])"
   ]
  },
  {
   "cell_type": "markdown",
   "metadata": {
    "slideshow": {
     "slide_type": "slide"
    }
   },
   "source": [
    "Para concatenar colunas utilizamos o método **join**."
   ]
  },
  {
   "cell_type": "code",
   "execution_count": null,
   "metadata": {
    "slideshow": {
     "slide_type": "fragment"
    }
   },
   "outputs": [],
   "source": [
    "df1 = brics.loc[:,[\"country\",\"population\"]]\n",
    "print(df1)\n",
    "df2 = brics.loc[:,[\"area\"]]\n",
    "print(df2)\n",
    "# df1.merge(df2,left_index=True,right_index=True)\n",
    "df1.join(df2)"
   ]
  },
  {
   "cell_type": "markdown",
   "metadata": {
    "slideshow": {
     "slide_type": "slide"
    }
   },
   "source": [
    "O DataFrame pode ser salvo em arquivo csv ou excel, por exemplo."
   ]
  },
  {
   "cell_type": "code",
   "execution_count": null,
   "metadata": {
    "slideshow": {
     "slide_type": "fragment"
    }
   },
   "outputs": [],
   "source": [
    "brics.to_csv(\"brics.csv\")\n",
    "brics.to_excel(\"brics.xlsx\")"
   ]
  },
  {
   "cell_type": "markdown",
   "metadata": {
    "slideshow": {
     "slide_type": "slide"
    }
   },
   "source": [
    "### Exercício\n",
    "\n",
    "+ Crie um DataFrame com os nomes, idades, pesos e alturas dos estudantes da turma (Arquivo IMC.csv que está no github na página da disciplina)\n",
    "+ Inclua uma nova coluna no DataFrame contendo o IMC de cada estudante ($peso/altura^2$)\n",
    "+ Salve o DataFrame em um arquivo xlsx e abra no excel para ver o resultado\n",
    "+ Crie um DataFrame contendo apenas nomes e idades\n",
    "+ Crie um DataFrame contendo apenas os 5 estudantes mais altos\n",
    "+ Crie um novo DataFrame ordenado pelo IMC\n",
    "+ Determine quem é o estudante mais alto, quem é o mais novo e a soma dos pesos de todos os estudantes\n",
    "+ Calcule a média e o desvio padrão dos valores de IMC"
   ]
  },
  {
   "cell_type": "code",
   "execution_count": 1,
   "metadata": {
    "slideshow": {
     "slide_type": "fragment"
    }
   },
   "outputs": [],
   "source": [
    "# Responda aqui\n",
    "import pandas as pd"
   ]
  },
  {
   "cell_type": "code",
   "execution_count": 4,
   "metadata": {},
   "outputs": [],
   "source": [
    "df = pd.read_csv(\"IMC.csv\",index_col=0)"
   ]
  },
  {
   "cell_type": "code",
   "execution_count": 14,
   "metadata": {},
   "outputs": [],
   "source": [
    "df[\"IMC\"] = df[\"Peso\"]/df[\"Altura\"]**2"
   ]
  },
  {
   "cell_type": "code",
   "execution_count": 15,
   "metadata": {},
   "outputs": [
    {
     "data": {
      "text/html": [
       "<div>\n",
       "<style scoped>\n",
       "    .dataframe tbody tr th:only-of-type {\n",
       "        vertical-align: middle;\n",
       "    }\n",
       "\n",
       "    .dataframe tbody tr th {\n",
       "        vertical-align: top;\n",
       "    }\n",
       "\n",
       "    .dataframe thead th {\n",
       "        text-align: right;\n",
       "    }\n",
       "</style>\n",
       "<table border=\"1\" class=\"dataframe\">\n",
       "  <thead>\n",
       "    <tr style=\"text-align: right;\">\n",
       "      <th></th>\n",
       "      <th>idade</th>\n",
       "      <th>Peso</th>\n",
       "      <th>Altura</th>\n",
       "      <th>IMC</th>\n",
       "    </tr>\n",
       "    <tr>\n",
       "      <th>Nome</th>\n",
       "      <th></th>\n",
       "      <th></th>\n",
       "      <th></th>\n",
       "      <th></th>\n",
       "    </tr>\n",
       "  </thead>\n",
       "  <tbody>\n",
       "    <tr>\n",
       "      <th>Maria</th>\n",
       "      <td>25</td>\n",
       "      <td>50</td>\n",
       "      <td>1.62</td>\n",
       "      <td>19.051974</td>\n",
       "    </tr>\n",
       "    <tr>\n",
       "      <th>Telma</th>\n",
       "      <td>27</td>\n",
       "      <td>46</td>\n",
       "      <td>1.65</td>\n",
       "      <td>16.896235</td>\n",
       "    </tr>\n",
       "    <tr>\n",
       "      <th>Jéssica</th>\n",
       "      <td>19</td>\n",
       "      <td>55</td>\n",
       "      <td>1.70</td>\n",
       "      <td>19.031142</td>\n",
       "    </tr>\n",
       "    <tr>\n",
       "      <th>Sílvia</th>\n",
       "      <td>20</td>\n",
       "      <td>65</td>\n",
       "      <td>1.71</td>\n",
       "      <td>22.229062</td>\n",
       "    </tr>\n",
       "    <tr>\n",
       "      <th>Cláudia</th>\n",
       "      <td>19</td>\n",
       "      <td>68</td>\n",
       "      <td>1.70</td>\n",
       "      <td>23.529412</td>\n",
       "    </tr>\n",
       "    <tr>\n",
       "      <th>David</th>\n",
       "      <td>21</td>\n",
       "      <td>54</td>\n",
       "      <td>1.73</td>\n",
       "      <td>18.042701</td>\n",
       "    </tr>\n",
       "    <tr>\n",
       "      <th>Augusto</th>\n",
       "      <td>16</td>\n",
       "      <td>69</td>\n",
       "      <td>1.78</td>\n",
       "      <td>21.777553</td>\n",
       "    </tr>\n",
       "    <tr>\n",
       "      <th>Leandro</th>\n",
       "      <td>19</td>\n",
       "      <td>74</td>\n",
       "      <td>1.80</td>\n",
       "      <td>22.839506</td>\n",
       "    </tr>\n",
       "    <tr>\n",
       "      <th>Guilherme</th>\n",
       "      <td>21</td>\n",
       "      <td>60</td>\n",
       "      <td>1.76</td>\n",
       "      <td>19.369835</td>\n",
       "    </tr>\n",
       "    <tr>\n",
       "      <th>Paulo</th>\n",
       "      <td>25</td>\n",
       "      <td>115</td>\n",
       "      <td>1.75</td>\n",
       "      <td>37.551020</td>\n",
       "    </tr>\n",
       "    <tr>\n",
       "      <th>Vagner</th>\n",
       "      <td>27</td>\n",
       "      <td>72</td>\n",
       "      <td>1.72</td>\n",
       "      <td>24.337480</td>\n",
       "    </tr>\n",
       "  </tbody>\n",
       "</table>\n",
       "</div>"
      ],
      "text/plain": [
       "           idade  Peso  Altura        IMC\n",
       "Nome                                     \n",
       "Maria         25    50    1.62  19.051974\n",
       "Telma         27    46    1.65  16.896235\n",
       "Jéssica       19    55    1.70  19.031142\n",
       "Sílvia        20    65    1.71  22.229062\n",
       "Cláudia       19    68    1.70  23.529412\n",
       "David         21    54    1.73  18.042701\n",
       "Augusto       16    69    1.78  21.777553\n",
       "Leandro       19    74    1.80  22.839506\n",
       "Guilherme     21    60    1.76  19.369835\n",
       "Paulo         25   115    1.75  37.551020\n",
       "Vagner        27    72    1.72  24.337480"
      ]
     },
     "execution_count": 15,
     "metadata": {},
     "output_type": "execute_result"
    }
   ],
   "source": [
    "df"
   ]
  },
  {
   "cell_type": "code",
   "execution_count": 16,
   "metadata": {},
   "outputs": [],
   "source": [
    "df.to_excel(\"IMC.xlsx\")"
   ]
  },
  {
   "cell_type": "code",
   "execution_count": 17,
   "metadata": {},
   "outputs": [],
   "source": [
    "df2 = df.loc[:,\"idade\"]"
   ]
  },
  {
   "cell_type": "code",
   "execution_count": 18,
   "metadata": {},
   "outputs": [
    {
     "data": {
      "text/plain": [
       "Nome\n",
       "Maria        25\n",
       "Telma        27\n",
       "Jéssica      19\n",
       "Sílvia       20\n",
       "Cláudia      19\n",
       "David        21\n",
       "Augusto      16\n",
       "Leandro      19\n",
       "Guilherme    21\n",
       "Paulo        25\n",
       "Vagner       27\n",
       "Name: idade, dtype: int64"
      ]
     },
     "execution_count": 18,
     "metadata": {},
     "output_type": "execute_result"
    }
   ],
   "source": [
    "df2"
   ]
  },
  {
   "cell_type": "code",
   "execution_count": 19,
   "metadata": {},
   "outputs": [
    {
     "data": {
      "text/html": [
       "<div>\n",
       "<style scoped>\n",
       "    .dataframe tbody tr th:only-of-type {\n",
       "        vertical-align: middle;\n",
       "    }\n",
       "\n",
       "    .dataframe tbody tr th {\n",
       "        vertical-align: top;\n",
       "    }\n",
       "\n",
       "    .dataframe thead th {\n",
       "        text-align: right;\n",
       "    }\n",
       "</style>\n",
       "<table border=\"1\" class=\"dataframe\">\n",
       "  <thead>\n",
       "    <tr style=\"text-align: right;\">\n",
       "      <th></th>\n",
       "      <th>idade</th>\n",
       "      <th>Peso</th>\n",
       "      <th>Altura</th>\n",
       "      <th>IMC</th>\n",
       "    </tr>\n",
       "    <tr>\n",
       "      <th>Nome</th>\n",
       "      <th></th>\n",
       "      <th></th>\n",
       "      <th></th>\n",
       "      <th></th>\n",
       "    </tr>\n",
       "  </thead>\n",
       "  <tbody>\n",
       "    <tr>\n",
       "      <th>Maria</th>\n",
       "      <td>25</td>\n",
       "      <td>50</td>\n",
       "      <td>1.62</td>\n",
       "      <td>19.051974</td>\n",
       "    </tr>\n",
       "    <tr>\n",
       "      <th>Telma</th>\n",
       "      <td>27</td>\n",
       "      <td>46</td>\n",
       "      <td>1.65</td>\n",
       "      <td>16.896235</td>\n",
       "    </tr>\n",
       "    <tr>\n",
       "      <th>Jéssica</th>\n",
       "      <td>19</td>\n",
       "      <td>55</td>\n",
       "      <td>1.70</td>\n",
       "      <td>19.031142</td>\n",
       "    </tr>\n",
       "    <tr>\n",
       "      <th>Sílvia</th>\n",
       "      <td>20</td>\n",
       "      <td>65</td>\n",
       "      <td>1.71</td>\n",
       "      <td>22.229062</td>\n",
       "    </tr>\n",
       "    <tr>\n",
       "      <th>Cláudia</th>\n",
       "      <td>19</td>\n",
       "      <td>68</td>\n",
       "      <td>1.70</td>\n",
       "      <td>23.529412</td>\n",
       "    </tr>\n",
       "    <tr>\n",
       "      <th>David</th>\n",
       "      <td>21</td>\n",
       "      <td>54</td>\n",
       "      <td>1.73</td>\n",
       "      <td>18.042701</td>\n",
       "    </tr>\n",
       "    <tr>\n",
       "      <th>Augusto</th>\n",
       "      <td>16</td>\n",
       "      <td>69</td>\n",
       "      <td>1.78</td>\n",
       "      <td>21.777553</td>\n",
       "    </tr>\n",
       "    <tr>\n",
       "      <th>Leandro</th>\n",
       "      <td>19</td>\n",
       "      <td>74</td>\n",
       "      <td>1.80</td>\n",
       "      <td>22.839506</td>\n",
       "    </tr>\n",
       "    <tr>\n",
       "      <th>Guilherme</th>\n",
       "      <td>21</td>\n",
       "      <td>60</td>\n",
       "      <td>1.76</td>\n",
       "      <td>19.369835</td>\n",
       "    </tr>\n",
       "    <tr>\n",
       "      <th>Paulo</th>\n",
       "      <td>25</td>\n",
       "      <td>115</td>\n",
       "      <td>1.75</td>\n",
       "      <td>37.551020</td>\n",
       "    </tr>\n",
       "    <tr>\n",
       "      <th>Vagner</th>\n",
       "      <td>27</td>\n",
       "      <td>72</td>\n",
       "      <td>1.72</td>\n",
       "      <td>24.337480</td>\n",
       "    </tr>\n",
       "  </tbody>\n",
       "</table>\n",
       "</div>"
      ],
      "text/plain": [
       "           idade  Peso  Altura        IMC\n",
       "Nome                                     \n",
       "Maria         25    50    1.62  19.051974\n",
       "Telma         27    46    1.65  16.896235\n",
       "Jéssica       19    55    1.70  19.031142\n",
       "Sílvia        20    65    1.71  22.229062\n",
       "Cláudia       19    68    1.70  23.529412\n",
       "David         21    54    1.73  18.042701\n",
       "Augusto       16    69    1.78  21.777553\n",
       "Leandro       19    74    1.80  22.839506\n",
       "Guilherme     21    60    1.76  19.369835\n",
       "Paulo         25   115    1.75  37.551020\n",
       "Vagner        27    72    1.72  24.337480"
      ]
     },
     "execution_count": 19,
     "metadata": {},
     "output_type": "execute_result"
    }
   ],
   "source": [
    "df"
   ]
  },
  {
   "cell_type": "code",
   "execution_count": 22,
   "metadata": {},
   "outputs": [],
   "source": [
    "df3 = df.sort_values(by=\"Altura\",ascending=False).iloc[:5,:]"
   ]
  },
  {
   "cell_type": "code",
   "execution_count": 23,
   "metadata": {},
   "outputs": [
    {
     "data": {
      "text/html": [
       "<div>\n",
       "<style scoped>\n",
       "    .dataframe tbody tr th:only-of-type {\n",
       "        vertical-align: middle;\n",
       "    }\n",
       "\n",
       "    .dataframe tbody tr th {\n",
       "        vertical-align: top;\n",
       "    }\n",
       "\n",
       "    .dataframe thead th {\n",
       "        text-align: right;\n",
       "    }\n",
       "</style>\n",
       "<table border=\"1\" class=\"dataframe\">\n",
       "  <thead>\n",
       "    <tr style=\"text-align: right;\">\n",
       "      <th></th>\n",
       "      <th>idade</th>\n",
       "      <th>Peso</th>\n",
       "      <th>Altura</th>\n",
       "      <th>IMC</th>\n",
       "    </tr>\n",
       "    <tr>\n",
       "      <th>Nome</th>\n",
       "      <th></th>\n",
       "      <th></th>\n",
       "      <th></th>\n",
       "      <th></th>\n",
       "    </tr>\n",
       "  </thead>\n",
       "  <tbody>\n",
       "    <tr>\n",
       "      <th>Leandro</th>\n",
       "      <td>19</td>\n",
       "      <td>74</td>\n",
       "      <td>1.80</td>\n",
       "      <td>22.839506</td>\n",
       "    </tr>\n",
       "    <tr>\n",
       "      <th>Augusto</th>\n",
       "      <td>16</td>\n",
       "      <td>69</td>\n",
       "      <td>1.78</td>\n",
       "      <td>21.777553</td>\n",
       "    </tr>\n",
       "    <tr>\n",
       "      <th>Guilherme</th>\n",
       "      <td>21</td>\n",
       "      <td>60</td>\n",
       "      <td>1.76</td>\n",
       "      <td>19.369835</td>\n",
       "    </tr>\n",
       "    <tr>\n",
       "      <th>Paulo</th>\n",
       "      <td>25</td>\n",
       "      <td>115</td>\n",
       "      <td>1.75</td>\n",
       "      <td>37.551020</td>\n",
       "    </tr>\n",
       "    <tr>\n",
       "      <th>David</th>\n",
       "      <td>21</td>\n",
       "      <td>54</td>\n",
       "      <td>1.73</td>\n",
       "      <td>18.042701</td>\n",
       "    </tr>\n",
       "  </tbody>\n",
       "</table>\n",
       "</div>"
      ],
      "text/plain": [
       "           idade  Peso  Altura        IMC\n",
       "Nome                                     \n",
       "Leandro       19    74    1.80  22.839506\n",
       "Augusto       16    69    1.78  21.777553\n",
       "Guilherme     21    60    1.76  19.369835\n",
       "Paulo         25   115    1.75  37.551020\n",
       "David         21    54    1.73  18.042701"
      ]
     },
     "execution_count": 23,
     "metadata": {},
     "output_type": "execute_result"
    }
   ],
   "source": [
    "df3"
   ]
  },
  {
   "cell_type": "code",
   "execution_count": 24,
   "metadata": {},
   "outputs": [],
   "source": [
    "df4 = df.sort_values(by=\"IMC\")"
   ]
  },
  {
   "cell_type": "code",
   "execution_count": 25,
   "metadata": {},
   "outputs": [
    {
     "data": {
      "text/html": [
       "<div>\n",
       "<style scoped>\n",
       "    .dataframe tbody tr th:only-of-type {\n",
       "        vertical-align: middle;\n",
       "    }\n",
       "\n",
       "    .dataframe tbody tr th {\n",
       "        vertical-align: top;\n",
       "    }\n",
       "\n",
       "    .dataframe thead th {\n",
       "        text-align: right;\n",
       "    }\n",
       "</style>\n",
       "<table border=\"1\" class=\"dataframe\">\n",
       "  <thead>\n",
       "    <tr style=\"text-align: right;\">\n",
       "      <th></th>\n",
       "      <th>idade</th>\n",
       "      <th>Peso</th>\n",
       "      <th>Altura</th>\n",
       "      <th>IMC</th>\n",
       "    </tr>\n",
       "    <tr>\n",
       "      <th>Nome</th>\n",
       "      <th></th>\n",
       "      <th></th>\n",
       "      <th></th>\n",
       "      <th></th>\n",
       "    </tr>\n",
       "  </thead>\n",
       "  <tbody>\n",
       "    <tr>\n",
       "      <th>Telma</th>\n",
       "      <td>27</td>\n",
       "      <td>46</td>\n",
       "      <td>1.65</td>\n",
       "      <td>16.896235</td>\n",
       "    </tr>\n",
       "    <tr>\n",
       "      <th>David</th>\n",
       "      <td>21</td>\n",
       "      <td>54</td>\n",
       "      <td>1.73</td>\n",
       "      <td>18.042701</td>\n",
       "    </tr>\n",
       "    <tr>\n",
       "      <th>Jéssica</th>\n",
       "      <td>19</td>\n",
       "      <td>55</td>\n",
       "      <td>1.70</td>\n",
       "      <td>19.031142</td>\n",
       "    </tr>\n",
       "    <tr>\n",
       "      <th>Maria</th>\n",
       "      <td>25</td>\n",
       "      <td>50</td>\n",
       "      <td>1.62</td>\n",
       "      <td>19.051974</td>\n",
       "    </tr>\n",
       "    <tr>\n",
       "      <th>Guilherme</th>\n",
       "      <td>21</td>\n",
       "      <td>60</td>\n",
       "      <td>1.76</td>\n",
       "      <td>19.369835</td>\n",
       "    </tr>\n",
       "    <tr>\n",
       "      <th>Augusto</th>\n",
       "      <td>16</td>\n",
       "      <td>69</td>\n",
       "      <td>1.78</td>\n",
       "      <td>21.777553</td>\n",
       "    </tr>\n",
       "    <tr>\n",
       "      <th>Sílvia</th>\n",
       "      <td>20</td>\n",
       "      <td>65</td>\n",
       "      <td>1.71</td>\n",
       "      <td>22.229062</td>\n",
       "    </tr>\n",
       "    <tr>\n",
       "      <th>Leandro</th>\n",
       "      <td>19</td>\n",
       "      <td>74</td>\n",
       "      <td>1.80</td>\n",
       "      <td>22.839506</td>\n",
       "    </tr>\n",
       "    <tr>\n",
       "      <th>Cláudia</th>\n",
       "      <td>19</td>\n",
       "      <td>68</td>\n",
       "      <td>1.70</td>\n",
       "      <td>23.529412</td>\n",
       "    </tr>\n",
       "    <tr>\n",
       "      <th>Vagner</th>\n",
       "      <td>27</td>\n",
       "      <td>72</td>\n",
       "      <td>1.72</td>\n",
       "      <td>24.337480</td>\n",
       "    </tr>\n",
       "    <tr>\n",
       "      <th>Paulo</th>\n",
       "      <td>25</td>\n",
       "      <td>115</td>\n",
       "      <td>1.75</td>\n",
       "      <td>37.551020</td>\n",
       "    </tr>\n",
       "  </tbody>\n",
       "</table>\n",
       "</div>"
      ],
      "text/plain": [
       "           idade  Peso  Altura        IMC\n",
       "Nome                                     \n",
       "Telma         27    46    1.65  16.896235\n",
       "David         21    54    1.73  18.042701\n",
       "Jéssica       19    55    1.70  19.031142\n",
       "Maria         25    50    1.62  19.051974\n",
       "Guilherme     21    60    1.76  19.369835\n",
       "Augusto       16    69    1.78  21.777553\n",
       "Sílvia        20    65    1.71  22.229062\n",
       "Leandro       19    74    1.80  22.839506\n",
       "Cláudia       19    68    1.70  23.529412\n",
       "Vagner        27    72    1.72  24.337480\n",
       "Paulo         25   115    1.75  37.551020"
      ]
     },
     "execution_count": 25,
     "metadata": {},
     "output_type": "execute_result"
    }
   ],
   "source": [
    "df4"
   ]
  },
  {
   "cell_type": "code",
   "execution_count": 28,
   "metadata": {},
   "outputs": [
    {
     "data": {
      "text/plain": [
       "'Leandro'"
      ]
     },
     "execution_count": 28,
     "metadata": {},
     "output_type": "execute_result"
    }
   ],
   "source": [
    "df[\"Altura\"].idxmax()"
   ]
  },
  {
   "cell_type": "code",
   "execution_count": 29,
   "metadata": {},
   "outputs": [
    {
     "data": {
      "text/plain": [
       "'Augusto'"
      ]
     },
     "execution_count": 29,
     "metadata": {},
     "output_type": "execute_result"
    }
   ],
   "source": [
    "df[\"idade\"].idxmin()"
   ]
  },
  {
   "cell_type": "code",
   "execution_count": 33,
   "metadata": {},
   "outputs": [
    {
     "data": {
      "text/plain": [
       "728"
      ]
     },
     "execution_count": 33,
     "metadata": {},
     "output_type": "execute_result"
    }
   ],
   "source": [
    "df[\"Peso\"].sum()"
   ]
  },
  {
   "cell_type": "code",
   "execution_count": 34,
   "metadata": {},
   "outputs": [
    {
     "data": {
      "text/plain": [
       "22.24144725802304"
      ]
     },
     "execution_count": 34,
     "metadata": {},
     "output_type": "execute_result"
    }
   ],
   "source": [
    "df[\"IMC\"].mean()"
   ]
  },
  {
   "cell_type": "code",
   "execution_count": 35,
   "metadata": {},
   "outputs": [
    {
     "data": {
      "text/plain": [
       "5.620800506702645"
      ]
     },
     "execution_count": 35,
     "metadata": {},
     "output_type": "execute_result"
    }
   ],
   "source": [
    "df[\"IMC\"].std(ddof=1)"
   ]
  },
  {
   "cell_type": "code",
   "execution_count": 37,
   "metadata": {},
   "outputs": [
    {
     "data": {
      "text/html": [
       "<div>\n",
       "<style scoped>\n",
       "    .dataframe tbody tr th:only-of-type {\n",
       "        vertical-align: middle;\n",
       "    }\n",
       "\n",
       "    .dataframe tbody tr th {\n",
       "        vertical-align: top;\n",
       "    }\n",
       "\n",
       "    .dataframe thead th {\n",
       "        text-align: right;\n",
       "    }\n",
       "</style>\n",
       "<table border=\"1\" class=\"dataframe\">\n",
       "  <thead>\n",
       "    <tr style=\"text-align: right;\">\n",
       "      <th></th>\n",
       "      <th>idade</th>\n",
       "      <th>Peso</th>\n",
       "      <th>Altura</th>\n",
       "      <th>IMC</th>\n",
       "    </tr>\n",
       "    <tr>\n",
       "      <th>Nome</th>\n",
       "      <th></th>\n",
       "      <th></th>\n",
       "      <th></th>\n",
       "      <th></th>\n",
       "    </tr>\n",
       "  </thead>\n",
       "  <tbody>\n",
       "    <tr>\n",
       "      <th>Paulo</th>\n",
       "      <td>25</td>\n",
       "      <td>115</td>\n",
       "      <td>1.75</td>\n",
       "      <td>37.55102</td>\n",
       "    </tr>\n",
       "  </tbody>\n",
       "</table>\n",
       "</div>"
      ],
      "text/plain": [
       "       idade  Peso  Altura       IMC\n",
       "Nome                                \n",
       "Paulo     25   115    1.75  37.55102"
      ]
     },
     "execution_count": 37,
     "metadata": {},
     "output_type": "execute_result"
    }
   ],
   "source": [
    "df[df[\"IMC\"]>25]"
   ]
  },
  {
   "cell_type": "code",
   "execution_count": 39,
   "metadata": {},
   "outputs": [],
   "source": [
    "df[\"Condicao\"] = \"\""
   ]
  },
  {
   "cell_type": "code",
   "execution_count": 41,
   "metadata": {},
   "outputs": [
    {
     "name": "stderr",
     "output_type": "stream",
     "text": [
      "/home/jpam/.local/lib/python3.7/site-packages/ipykernel_launcher.py:3: SettingWithCopyWarning: \n",
      "A value is trying to be set on a copy of a slice from a DataFrame\n",
      "\n",
      "See the caveats in the documentation: https://pandas.pydata.org/pandas-docs/stable/user_guide/indexing.html#returning-a-view-versus-a-copy\n",
      "  This is separate from the ipykernel package so we can avoid doing imports until\n",
      "/home/jpam/.local/lib/python3.7/site-packages/ipykernel_launcher.py:5: SettingWithCopyWarning: \n",
      "A value is trying to be set on a copy of a slice from a DataFrame\n",
      "\n",
      "See the caveats in the documentation: https://pandas.pydata.org/pandas-docs/stable/user_guide/indexing.html#returning-a-view-versus-a-copy\n",
      "  \"\"\"\n",
      "/home/jpam/.local/lib/python3.7/site-packages/ipykernel_launcher.py:11: SettingWithCopyWarning: \n",
      "A value is trying to be set on a copy of a slice from a DataFrame\n",
      "\n",
      "See the caveats in the documentation: https://pandas.pydata.org/pandas-docs/stable/user_guide/indexing.html#returning-a-view-versus-a-copy\n",
      "  # This is added back by InteractiveShellApp.init_path()\n"
     ]
    }
   ],
   "source": [
    "for i in range(len(df)):\n",
    "    if df[\"IMC\"][i] < 20:\n",
    "        df[\"Condicao\"][i] = \"Normal\"\n",
    "    elif df[\"IMC\"][i] < 25:\n",
    "        df[\"Condicao\"][i] = \"Sobrepeso\"\n",
    "    elif df[\"IMC\"][i] < 30:\n",
    "        df[\"Condicao\"][i] = \"Obesidade grau 1\"        \n",
    "    elif df[\"IMC\"][i] < 35:\n",
    "        df[\"Condicao\"][i] = \"Obesidade grau 2\"            \n",
    "    else:\n",
    "        df[\"Condicao\"][i] = \"Obesidade grau 3\"                "
   ]
  },
  {
   "cell_type": "code",
   "execution_count": 42,
   "metadata": {},
   "outputs": [
    {
     "data": {
      "text/html": [
       "<div>\n",
       "<style scoped>\n",
       "    .dataframe tbody tr th:only-of-type {\n",
       "        vertical-align: middle;\n",
       "    }\n",
       "\n",
       "    .dataframe tbody tr th {\n",
       "        vertical-align: top;\n",
       "    }\n",
       "\n",
       "    .dataframe thead th {\n",
       "        text-align: right;\n",
       "    }\n",
       "</style>\n",
       "<table border=\"1\" class=\"dataframe\">\n",
       "  <thead>\n",
       "    <tr style=\"text-align: right;\">\n",
       "      <th></th>\n",
       "      <th>idade</th>\n",
       "      <th>Peso</th>\n",
       "      <th>Altura</th>\n",
       "      <th>IMC</th>\n",
       "      <th>Condicao</th>\n",
       "    </tr>\n",
       "    <tr>\n",
       "      <th>Nome</th>\n",
       "      <th></th>\n",
       "      <th></th>\n",
       "      <th></th>\n",
       "      <th></th>\n",
       "      <th></th>\n",
       "    </tr>\n",
       "  </thead>\n",
       "  <tbody>\n",
       "    <tr>\n",
       "      <th>Maria</th>\n",
       "      <td>25</td>\n",
       "      <td>50</td>\n",
       "      <td>1.62</td>\n",
       "      <td>19.051974</td>\n",
       "      <td>Normal</td>\n",
       "    </tr>\n",
       "    <tr>\n",
       "      <th>Telma</th>\n",
       "      <td>27</td>\n",
       "      <td>46</td>\n",
       "      <td>1.65</td>\n",
       "      <td>16.896235</td>\n",
       "      <td>Normal</td>\n",
       "    </tr>\n",
       "    <tr>\n",
       "      <th>Jéssica</th>\n",
       "      <td>19</td>\n",
       "      <td>55</td>\n",
       "      <td>1.70</td>\n",
       "      <td>19.031142</td>\n",
       "      <td>Normal</td>\n",
       "    </tr>\n",
       "    <tr>\n",
       "      <th>Sílvia</th>\n",
       "      <td>20</td>\n",
       "      <td>65</td>\n",
       "      <td>1.71</td>\n",
       "      <td>22.229062</td>\n",
       "      <td>Sobrepeso</td>\n",
       "    </tr>\n",
       "    <tr>\n",
       "      <th>Cláudia</th>\n",
       "      <td>19</td>\n",
       "      <td>68</td>\n",
       "      <td>1.70</td>\n",
       "      <td>23.529412</td>\n",
       "      <td>Sobrepeso</td>\n",
       "    </tr>\n",
       "    <tr>\n",
       "      <th>David</th>\n",
       "      <td>21</td>\n",
       "      <td>54</td>\n",
       "      <td>1.73</td>\n",
       "      <td>18.042701</td>\n",
       "      <td>Normal</td>\n",
       "    </tr>\n",
       "    <tr>\n",
       "      <th>Augusto</th>\n",
       "      <td>16</td>\n",
       "      <td>69</td>\n",
       "      <td>1.78</td>\n",
       "      <td>21.777553</td>\n",
       "      <td>Sobrepeso</td>\n",
       "    </tr>\n",
       "    <tr>\n",
       "      <th>Leandro</th>\n",
       "      <td>19</td>\n",
       "      <td>74</td>\n",
       "      <td>1.80</td>\n",
       "      <td>22.839506</td>\n",
       "      <td>Sobrepeso</td>\n",
       "    </tr>\n",
       "    <tr>\n",
       "      <th>Guilherme</th>\n",
       "      <td>21</td>\n",
       "      <td>60</td>\n",
       "      <td>1.76</td>\n",
       "      <td>19.369835</td>\n",
       "      <td>Normal</td>\n",
       "    </tr>\n",
       "    <tr>\n",
       "      <th>Paulo</th>\n",
       "      <td>25</td>\n",
       "      <td>115</td>\n",
       "      <td>1.75</td>\n",
       "      <td>37.551020</td>\n",
       "      <td>Obesidade grau 3</td>\n",
       "    </tr>\n",
       "    <tr>\n",
       "      <th>Vagner</th>\n",
       "      <td>27</td>\n",
       "      <td>72</td>\n",
       "      <td>1.72</td>\n",
       "      <td>24.337480</td>\n",
       "      <td>Sobrepeso</td>\n",
       "    </tr>\n",
       "  </tbody>\n",
       "</table>\n",
       "</div>"
      ],
      "text/plain": [
       "           idade  Peso  Altura        IMC          Condicao\n",
       "Nome                                                       \n",
       "Maria         25    50    1.62  19.051974            Normal\n",
       "Telma         27    46    1.65  16.896235            Normal\n",
       "Jéssica       19    55    1.70  19.031142            Normal\n",
       "Sílvia        20    65    1.71  22.229062         Sobrepeso\n",
       "Cláudia       19    68    1.70  23.529412         Sobrepeso\n",
       "David         21    54    1.73  18.042701            Normal\n",
       "Augusto       16    69    1.78  21.777553         Sobrepeso\n",
       "Leandro       19    74    1.80  22.839506         Sobrepeso\n",
       "Guilherme     21    60    1.76  19.369835            Normal\n",
       "Paulo         25   115    1.75  37.551020  Obesidade grau 3\n",
       "Vagner        27    72    1.72  24.337480         Sobrepeso"
      ]
     },
     "execution_count": 42,
     "metadata": {},
     "output_type": "execute_result"
    }
   ],
   "source": [
    "df"
   ]
  },
  {
   "cell_type": "code",
   "execution_count": 43,
   "metadata": {},
   "outputs": [],
   "source": [
    "df.to_excel(\"IMC.xlsx\")"
   ]
  },
  {
   "cell_type": "code",
   "execution_count": 44,
   "metadata": {},
   "outputs": [],
   "source": [
    "import os"
   ]
  },
  {
   "cell_type": "code",
   "execution_count": 46,
   "metadata": {},
   "outputs": [
    {
     "name": "stdout",
     "output_type": "stream",
     "text": [
      "strings\n",
      "exercicios_listas_respondido.ipynb\n",
      "listas.ipynb\n",
      "exercicios_listas.pdf\n",
      "dicionarios.ipynb\n",
      "flavonoides.csv\n",
      "pandas.ipynb\n",
      "lista1.pdf\n",
      "index.ipynb\n",
      "estrutura_repeticao\n",
      "consumo_alcool.xlsx\n",
      "graficos.ipynb\n",
      "figura.png\n",
      "exercicio_numpy.ipynb\n",
      "estrutura_sequencial\n",
      "README.md\n",
      "plotly.ipynb\n",
      "Untitled1.ipynb\n",
      "estrutura_condicional\n",
      "brics.xlsx\n",
      ".git\n",
      "exercicio_pandas_graficos.ipynb\n",
      "IMC.csv\n",
      "introducao.pdf\n",
      "brics.csv\n",
      "pressao_vapor_completo.csv\n",
      "modularizacao\n",
      "environment.yml\n",
      "IMC.xlsx\n",
      "pressao_vapor.csv\n",
      "exercicio_strings.ipynb\n",
      "aprendizado_maquina\n",
      "linhas.html\n",
      "exercicio_strings_respondido.ipynb\n",
      "01.mol2\n",
      "conceitos_basicos.pdf\n",
      "Untitled.ipynb\n",
      "numpy.ipynb\n",
      ".ipynb_checkpoints\n"
     ]
    }
   ],
   "source": [
    "for arq in os.listdir(os.getcwd()):\n",
    "    print(arq)"
   ]
  },
  {
   "cell_type": "code",
   "execution_count": null,
   "metadata": {},
   "outputs": [],
   "source": []
  }
 ],
 "metadata": {
  "celltoolbar": "Slideshow",
  "kernelspec": {
   "display_name": "Python 3",
   "language": "python",
   "name": "python3"
  },
  "language_info": {
   "codemirror_mode": {
    "name": "ipython",
    "version": 3
   },
   "file_extension": ".py",
   "mimetype": "text/x-python",
   "name": "python",
   "nbconvert_exporter": "python",
   "pygments_lexer": "ipython3",
   "version": "3.7.6"
  }
 },
 "nbformat": 4,
 "nbformat_minor": 2
}
