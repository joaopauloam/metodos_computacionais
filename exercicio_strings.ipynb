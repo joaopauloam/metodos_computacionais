{
 "cells": [
  {
   "cell_type": "markdown",
   "metadata": {},
   "source": [
    "# Exercício"
   ]
  },
  {
   "cell_type": "markdown",
   "metadata": {},
   "source": [
    "1. Escreva um programa para ler o arquivo texto 01.mol2 e criar uma lista na qual cada elemento se refere a um átomo da molécula. Cada elemento da lista conterá um dicionário contendo as seguintes informações:\n",
    "    + Átomo em questão (2ª coluna)\n",
    "    + Tupla contendo as coordenadas x, y e z do átomo (3ª, 4ª e 5ª colunas)\n",
    "    + Tipo do átomo (6ª coluna)\n",
    "    + Carga atômica parcial do átomo (9ª coluna)"
   ]
  },
  {
   "cell_type": "markdown",
   "metadata": {},
   "source": [
    "2. Escreva um programa que lê o arquivo 01.mol2 e monta uma lista com as ligações existentes na molécula (2ª e 3ª colunas da seção BOND. Cada elemento da lista será uma tupla contendo o par de átomos que forma a ligação. Depois que montar a lista seu programa deve percorrê-la e imprimir quais átomos formam a ligação com base nas informações coletadas na questão 1."
   ]
  },
  {
   "cell_type": "code",
   "execution_count": 1,
   "metadata": {},
   "outputs": [],
   "source": [
    "s = \"      1 S          -0.8790   -1.4290   -0.0740 S.3       1 LIG     -0.300200\""
   ]
  },
  {
   "cell_type": "code",
   "execution_count": 2,
   "metadata": {},
   "outputs": [],
   "source": [
    "lista = s.split()"
   ]
  },
  {
   "cell_type": "code",
   "execution_count": 3,
   "metadata": {},
   "outputs": [
    {
     "data": {
      "text/plain": [
       "['1', 'S', '-0.8790', '-1.4290', '-0.0740', 'S.3', '1', 'LIG', '-0.300200']"
      ]
     },
     "execution_count": 3,
     "metadata": {},
     "output_type": "execute_result"
    }
   ],
   "source": [
    "lista"
   ]
  },
  {
   "cell_type": "code",
   "execution_count": 4,
   "metadata": {},
   "outputs": [],
   "source": [
    "atomo = lista[1]"
   ]
  },
  {
   "cell_type": "code",
   "execution_count": 5,
   "metadata": {},
   "outputs": [],
   "source": [
    "coordenadas = (lista[2],lista[3],lista[4])"
   ]
  },
  {
   "cell_type": "code",
   "execution_count": 6,
   "metadata": {},
   "outputs": [],
   "source": [
    "tipo = lista[5]"
   ]
  },
  {
   "cell_type": "code",
   "execution_count": 7,
   "metadata": {},
   "outputs": [],
   "source": [
    "carga = lista[8]"
   ]
  },
  {
   "cell_type": "code",
   "execution_count": 8,
   "metadata": {},
   "outputs": [],
   "source": [
    "dic = {\"atomo\":lista[1],\"coordenadas\":(lista[2],lista[3],lista[4]),\"tipo\":lista[5],\"carga\":lista[8]}"
   ]
  },
  {
   "cell_type": "code",
   "execution_count": 9,
   "metadata": {},
   "outputs": [
    {
     "data": {
      "text/plain": [
       "{'atomo': 'S',\n",
       " 'coordenadas': ('-0.8790', '-1.4290', '-0.0740'),\n",
       " 'tipo': 'S.3',\n",
       " 'carga': '-0.300200'}"
      ]
     },
     "execution_count": 9,
     "metadata": {},
     "output_type": "execute_result"
    }
   ],
   "source": [
    "dic"
   ]
  },
  {
   "cell_type": "code",
   "execution_count": 10,
   "metadata": {},
   "outputs": [],
   "source": [
    "f = open(\"01.mol2\",'r')"
   ]
  },
  {
   "cell_type": "code",
   "execution_count": 11,
   "metadata": {},
   "outputs": [],
   "source": [
    "f.close()"
   ]
  },
  {
   "cell_type": "code",
   "execution_count": 13,
   "metadata": {},
   "outputs": [],
   "source": [
    "with open(\"01.mol2\",'r') as f:\n",
    "    linhas = f.readlines()"
   ]
  },
  {
   "cell_type": "code",
   "execution_count": 22,
   "metadata": {},
   "outputs": [],
   "source": [
    "pos = 0\n",
    "while not linhas[pos].startswith(\"@<TRIPOS>ATOM\"):\n",
    "    pos += 1\n",
    "lista = []\n",
    "pos += 1\n",
    "while not linhas[pos].startswith(\"@<TRIPOS>BOND\"):\n",
    "    linha = linhas[pos]\n",
    "    l = linha.split()\n",
    "    lista.append({\"atomo\":l[1],\n",
    "                  \"coordenadas\":(l[2],l[3],l[4]),\n",
    "                  \"tipo\":l[5],\n",
    "                  \"carga\":l[8]})\n",
    "    pos += 1"
   ]
  },
  {
   "cell_type": "code",
   "execution_count": 23,
   "metadata": {},
   "outputs": [
    {
     "data": {
      "text/plain": [
       "[{'atomo': 'S',\n",
       "  'coordenadas': ('-0.8790', '-1.4290', '-0.0740'),\n",
       "  'tipo': 'S.3',\n",
       "  'carga': '-0.300200'},\n",
       " {'atomo': 'O',\n",
       "  'coordenadas': ('-4.7320', '-1.2760', '-0.7270'),\n",
       "  'tipo': 'O.2',\n",
       "  'carga': '-0.611100'},\n",
       " {'atomo': 'N',\n",
       "  'coordenadas': ('-3.6270', '-1.3330', '1.2540'),\n",
       "  'tipo': 'N.am',\n",
       "  'carga': '-0.665000'},\n",
       " {'atomo': 'H',\n",
       "  'coordenadas': ('-4.4600', '-1.6170', '1.7450'),\n",
       "  'tipo': 'H',\n",
       "  'carga': '0.318500'},\n",
       " {'atomo': 'H1',\n",
       "  'coordenadas': ('-2.7470', '-1.2830', '1.7440'),\n",
       "  'tipo': 'H',\n",
       "  'carga': '0.318500'},\n",
       " {'atomo': 'C',\n",
       "  'coordenadas': ('0.3930', '-0.1980', '-0.6770'),\n",
       "  'tipo': 'C.3',\n",
       "  'carga': '0.122000'},\n",
       " {'atomo': 'H2',\n",
       "  'coordenadas': ('0.3210', '-0.2180', '-1.7660'),\n",
       "  'tipo': 'H',\n",
       "  'carga': '0.081700'},\n",
       " {'atomo': 'C1',\n",
       "  'coordenadas': ('1.7770', '-0.7110', '-0.3070'),\n",
       "  'tipo': 'C.ar',\n",
       "  'carga': '-0.081800'},\n",
       " {'atomo': 'C2',\n",
       "  'coordenadas': ('2.8010', '-0.6220', '-1.2570'),\n",
       "  'tipo': 'C.ar',\n",
       "  'carga': '-0.116750'},\n",
       " {'atomo': 'H3',\n",
       "  'coordenadas': ('2.5830', '-0.2200', '-2.2410'),\n",
       "  'tipo': 'H',\n",
       "  'carga': '0.138000'},\n",
       " {'atomo': 'C3',\n",
       "  'coordenadas': ('4.0950', '-1.0400', '-0.9580'),\n",
       "  'tipo': 'C.ar',\n",
       "  'carga': '-0.127750'},\n",
       " {'atomo': 'H4',\n",
       "  'coordenadas': ('4.8720', '-0.9630', '-1.7090'),\n",
       "  'tipo': 'H',\n",
       "  'carga': '0.135250'},\n",
       " {'atomo': 'C4',\n",
       "  'coordenadas': ('4.3870', '-1.5610', '0.3010'),\n",
       "  'tipo': 'C.ar',\n",
       "  'carga': '-0.122000'},\n",
       " {'atomo': 'H5',\n",
       "  'coordenadas': ('5.3920', '-1.8920', '0.5360'),\n",
       "  'tipo': 'H',\n",
       "  'carga': '0.134500'},\n",
       " {'atomo': 'C5',\n",
       "  'coordenadas': ('3.3740', '-1.6630', '1.2530'),\n",
       "  'tipo': 'C.ar',\n",
       "  'carga': '-0.127750'},\n",
       " {'atomo': 'H6',\n",
       "  'coordenadas': ('3.5880', '-2.0770', '2.2320'),\n",
       "  'tipo': 'H',\n",
       "  'carga': '0.135250'},\n",
       " {'atomo': 'C6',\n",
       "  'coordenadas': ('2.0800', '-1.2420', '0.9520'),\n",
       "  'tipo': 'C.ar',\n",
       "  'carga': '-0.116750'},\n",
       " {'atomo': 'H7',\n",
       "  'coordenadas': ('1.3020', '-1.3430', '1.6990'),\n",
       "  'tipo': 'H',\n",
       "  'carga': '0.138000'},\n",
       " {'atomo': 'C7',\n",
       "  'coordenadas': ('0.1130', '1.2240', '-0.2220'),\n",
       "  'tipo': 'C.ar',\n",
       "  'carga': '-0.081800'},\n",
       " {'atomo': 'C8',\n",
       "  'coordenadas': ('0.1740', '1.6050', '1.1240'),\n",
       "  'tipo': 'C.ar',\n",
       "  'carga': '-0.116750'},\n",
       " {'atomo': 'H8',\n",
       "  'coordenadas': ('0.4200', '0.8700', '1.8810'),\n",
       "  'tipo': 'H',\n",
       "  'carga': '0.138000'},\n",
       " {'atomo': 'C9',\n",
       "  'coordenadas': ('-0.0760', '2.9190', '1.5030'),\n",
       "  'tipo': 'C.ar',\n",
       "  'carga': '-0.127750'},\n",
       " {'atomo': 'H9',\n",
       "  'coordenadas': ('-0.0200', '3.1960', '2.5500'),\n",
       "  'tipo': 'H',\n",
       "  'carga': '0.135250'},\n",
       " {'atomo': 'C10',\n",
       "  'coordenadas': ('-0.3960', '3.8810', '0.5430'),\n",
       "  'tipo': 'C.ar',\n",
       "  'carga': '-0.122000'},\n",
       " {'atomo': 'H10',\n",
       "  'coordenadas': ('-0.5910', '4.9050', '0.8400'),\n",
       "  'tipo': 'H',\n",
       "  'carga': '0.134500'},\n",
       " {'atomo': 'C11',\n",
       "  'coordenadas': ('-0.4630', '3.5160', '-0.7980'),\n",
       "  'tipo': 'C.ar',\n",
       "  'carga': '-0.127750'},\n",
       " {'atomo': 'H11',\n",
       "  'coordenadas': ('-0.7120', '4.2530', '-1.5530'),\n",
       "  'tipo': 'H',\n",
       "  'carga': '0.135250'},\n",
       " {'atomo': 'C12',\n",
       "  'coordenadas': ('-0.2110', '2.1960', '-1.1750'),\n",
       "  'tipo': 'C.ar',\n",
       "  'carga': '-0.116750'},\n",
       " {'atomo': 'H12',\n",
       "  'coordenadas': ('-0.2630', '1.9200', '-2.2230'),\n",
       "  'tipo': 'H',\n",
       "  'carga': '0.138000'},\n",
       " {'atomo': 'C13',\n",
       "  'coordenadas': ('-2.4120', '-0.7070', '-0.7870'),\n",
       "  'tipo': 'C.3',\n",
       "  'carga': '-0.108300'},\n",
       " {'atomo': 'H13',\n",
       "  'coordenadas': ('-2.3530', '0.3820', '-0.6990'),\n",
       "  'tipo': 'H',\n",
       "  'carga': '0.098700'},\n",
       " {'atomo': 'H14',\n",
       "  'coordenadas': ('-2.5090', '-0.9720', '-1.8390'),\n",
       "  'tipo': 'H',\n",
       "  'carga': '0.098700'},\n",
       " {'atomo': 'C14',\n",
       "  'coordenadas': ('-3.7000', '-1.1520', '-0.0920'),\n",
       "  'tipo': 'C.2',\n",
       "  'carga': '0.673100'}]"
      ]
     },
     "execution_count": 23,
     "metadata": {},
     "output_type": "execute_result"
    }
   ],
   "source": [
    "lista"
   ]
  },
  {
   "cell_type": "code",
   "execution_count": 24,
   "metadata": {},
   "outputs": [
    {
     "data": {
      "text/plain": [
       "{'atomo': 'H3',\n",
       " 'coordenadas': ('2.5830', '-0.2200', '-2.2410'),\n",
       " 'tipo': 'H',\n",
       " 'carga': '0.138000'}"
      ]
     },
     "execution_count": 24,
     "metadata": {},
     "output_type": "execute_result"
    }
   ],
   "source": [
    "lista[9]"
   ]
  },
  {
   "cell_type": "code",
   "execution_count": 26,
   "metadata": {},
   "outputs": [
    {
     "data": {
      "text/plain": [
       "('H3', 'C2')"
      ]
     },
     "execution_count": 26,
     "metadata": {},
     "output_type": "execute_result"
    }
   ],
   "source": [
    "(lista[9]['atomo'],lista[8]['atomo'])"
   ]
  },
  {
   "cell_type": "code",
   "execution_count": null,
   "metadata": {},
   "outputs": [],
   "source": []
  }
 ],
 "metadata": {
  "kernelspec": {
   "display_name": "Python 3",
   "language": "python",
   "name": "python3"
  },
  "language_info": {
   "codemirror_mode": {
    "name": "ipython",
    "version": 3
   },
   "file_extension": ".py",
   "mimetype": "text/x-python",
   "name": "python",
   "nbconvert_exporter": "python",
   "pygments_lexer": "ipython3",
   "version": "3.7.6"
  }
 },
 "nbformat": 4,
 "nbformat_minor": 2
}
