{
 "cells": [
  {
   "cell_type": "markdown",
   "metadata": {},
   "source": [
    "# Exercício"
   ]
  },
  {
   "cell_type": "markdown",
   "metadata": {},
   "source": [
    "1. Escreva um programa para ler o arquivo texto 01.mol2 e criar uma lista na qual cada elemento se refere a um átomo da molécula. Cada elemento da lista conterá um dicionário contendo as seguintes informações:\n",
    "    + Átomo em questão (2ª coluna)\n",
    "    + Tupla contendo as coordenadas x, y e z do átomo (3ª, 4ª e 5ª colunas)\n",
    "    + Tipo do átomo (6ª coluna)\n",
    "    + Carga atômica parcial do átomo (9ª coluna)"
   ]
  },
  {
   "cell_type": "markdown",
   "metadata": {},
   "source": [
    "2. Escreva um programa que lê o arquivo 01.mol2 e monta uma lista com as ligações existentes na molécula (2ª e 3ª colunas da seção BOND. Cada elemento da lista será uma tupla contendo o par de átomos que forma a ligação. Depois que montar a lista seu programa deve percorrê-la e imprimir quais átomos formam a ligação com base nas informações coletadas na questão 1."
   ]
  },
  {
   "cell_type": "code",
   "execution_count": null,
   "metadata": {},
   "outputs": [],
   "source": []
  }
 ],
 "metadata": {
  "kernelspec": {
   "display_name": "Python 3",
   "language": "python",
   "name": "python3"
  },
  "language_info": {
   "codemirror_mode": {
    "name": "ipython",
    "version": 3
   },
   "file_extension": ".py",
   "mimetype": "text/x-python",
   "name": "python",
   "nbconvert_exporter": "python",
   "pygments_lexer": "ipython3",
   "version": "3.7.1"
  }
 },
 "nbformat": 4,
 "nbformat_minor": 2
}
