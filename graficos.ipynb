{
 "cells": [
  {
   "cell_type": "markdown",
   "metadata": {
    "slideshow": {
     "slide_type": "slide"
    }
   },
   "source": [
    "# Gráficos em Python\n",
    "\n",
    "Existem diversas bibliotecas para a construção de gráficos em Python, dentre as quais destacam-se:\n",
    "+ Matplotlib\n",
    "+ Bokeh"
   ]
  },
  {
   "cell_type": "markdown",
   "metadata": {
    "slideshow": {
     "slide_type": "slide"
    }
   },
   "source": [
    "## Matplotlib\n",
    "\n",
    "**matplotlib.pyplot** é uma biblioteca de gráficos usada para construir gráficos 2D em Python\n",
    "\n",
    "Existem diversos tipos de gráficos que podem ser criados usando matplotlib.\n",
    "\n",
    "Exemplo"
   ]
  },
  {
   "cell_type": "code",
   "execution_count": null,
   "metadata": {
    "slideshow": {
     "slide_type": "fragment"
    }
   },
   "outputs": [],
   "source": [
    "import matplotlib.pyplot as plt # importando o pacote pyplot da biblioteca matplotlib com o \"apelido\" plt"
   ]
  },
  {
   "cell_type": "markdown",
   "metadata": {
    "slideshow": {
     "slide_type": "slide"
    }
   },
   "source": [
    "A maneira mais simples de se criar um gráfico é passando as coordenadas do eixo das abcissas e do eixo das ordenadas como parâmetro."
   ]
  },
  {
   "cell_type": "code",
   "execution_count": null,
   "metadata": {
    "slideshow": {
     "slide_type": "fragment"
    }
   },
   "outputs": [],
   "source": [
    "plt.plot([1,2,3],[4,5,1])\n",
    "plt.show()"
   ]
  },
  {
   "cell_type": "markdown",
   "metadata": {
    "slideshow": {
     "slide_type": "slide"
    }
   },
   "source": [
    "O objeto **plt** possui diversos métodos e parâmetros que podem aprimorar o gráfico construído."
   ]
  },
  {
   "cell_type": "code",
   "execution_count": null,
   "metadata": {
    "slideshow": {
     "slide_type": "fragment"
    }
   },
   "outputs": [],
   "source": [
    "import numpy as np\n",
    "x = np.linspace(0, 2, 100)\n",
    "plt.plot(x, x, label='linear')\n",
    "plt.plot(x, x**2, label='quadratic')\n",
    "plt.plot(x, x**3, label='cubic')\n",
    "plt.xlabel('x label')\n",
    "plt.ylabel('y label')\n",
    "plt.title(\"Simple Plot\")\n",
    "plt.legend()\n",
    "plt.show()"
   ]
  },
  {
   "cell_type": "markdown",
   "metadata": {
    "slideshow": {
     "slide_type": "slide"
    }
   },
   "source": [
    "Com o matplotlib você pode plotar mais de um gráfico na mesma janela, mudar as cores das linhas e marcadores, a espessura das linhas, adicionar grade, etc"
   ]
  },
  {
   "cell_type": "code",
   "execution_count": null,
   "metadata": {
    "slideshow": {
     "slide_type": "subslide"
    }
   },
   "outputs": [],
   "source": [
    "x = [5,8,10]\n",
    "y = [12,16,6]\n",
    "x2 = [6,9,11]\n",
    "y2 = [6,15,7]\n",
    "plt.plot(x,y,'g',label='line one', linewidth=5) # primeiro gráfico com cor verde (g) e espessura 5\n",
    "plt.plot(x2,y2,'c',label='line two',linewidth=5) #  segundo gráfico com cor ciano (6) e espessura 5\n",
    "plt.title('Título')\n",
    "plt.ylabel('Eixo Y')\n",
    "plt.xlabel('Eixo X')\n",
    "plt.legend() # aqui mostra-se a legenda para cada gráfico com o rótulo definido na criação dos mesmos\n",
    "plt.grid(True,color='k')\n",
    "plt.show()"
   ]
  },
  {
   "cell_type": "markdown",
   "metadata": {
    "slideshow": {
     "slide_type": "slide"
    }
   },
   "source": [
    "Exemplo de gráfico de barras"
   ]
  },
  {
   "cell_type": "code",
   "execution_count": null,
   "metadata": {
    "slideshow": {
     "slide_type": "fragment"
    }
   },
   "outputs": [],
   "source": [
    "plt.bar([0.25,1.25,2.25,3.25,4.25],[50,40,70,80,20],\n",
    "label=\"BMW\", color='b', width=.5)\n",
    "plt.bar([.75,1.75,2.75,3.75,4.75],[80,20,20,50,60],\n",
    "label=\"Audi\", color='r',width=.5)\n",
    "plt.legend()\n",
    "plt.xlabel('Days')\n",
    "plt.ylabel('Distance (kms)')\n",
    "plt.title('Information')\n",
    "plt.show()"
   ]
  },
  {
   "cell_type": "markdown",
   "metadata": {
    "slideshow": {
     "slide_type": "slide"
    }
   },
   "source": [
    "Você pode plotar apenas pontos também com o comando **scatter**"
   ]
  },
  {
   "cell_type": "code",
   "execution_count": null,
   "metadata": {
    "slideshow": {
     "slide_type": "subslide"
    }
   },
   "outputs": [],
   "source": [
    "x = [1,1.5,2,2.5,3,3.5,3.6]\n",
    "y = [7.5,8,8.5,9,9.5,10,10.5]\n",
    " \n",
    "x1=[8,8.5,9,9.5,10,10.5,11]\n",
    "y1=[3,3.5,3.7,4,4.5,5,5.2]\n",
    " \n",
    "plt.scatter(x,y, label='high income low saving',color='r')\n",
    "plt.scatter(x1,y1,label='low income high savings',color='b')\n",
    "plt.xlabel('saving*100')\n",
    "plt.ylabel('income*1000')\n",
    "plt.title('Scatter Plot')\n",
    "plt.legend()\n",
    "plt.show()"
   ]
  },
  {
   "cell_type": "markdown",
   "metadata": {
    "slideshow": {
     "slide_type": "subslide"
    }
   },
   "source": [
    "Ou então"
   ]
  },
  {
   "cell_type": "code",
   "execution_count": null,
   "metadata": {
    "slideshow": {
     "slide_type": "fragment"
    }
   },
   "outputs": [],
   "source": [
    "plt.plot(x,y,'ro', label='high income low saving')\n",
    "plt.plot(x1,y1,'bo', label='low income high savings')\n",
    "plt.xlabel('saving*100')\n",
    "plt.ylabel('income*1000')\n",
    "plt.title('Scatter Plot')\n",
    "plt.legend()\n",
    "plt.show()"
   ]
  },
  {
   "cell_type": "markdown",
   "metadata": {
    "slideshow": {
     "slide_type": "slide"
    }
   },
   "source": [
    "Combinando linhas e pontos"
   ]
  },
  {
   "cell_type": "code",
   "execution_count": null,
   "metadata": {
    "slideshow": {
     "slide_type": "fragment"
    }
   },
   "outputs": [],
   "source": [
    "plt.plot(x,y,'ro-', label='high income low saving')\n",
    "plt.plot(x1,y1,'bo-', label='low income high savings')\n",
    "plt.xlabel('saving*100')\n",
    "plt.ylabel('income*1000')\n",
    "plt.title('Scatter Plot')\n",
    "plt.legend()\n",
    "plt.show()"
   ]
  },
  {
   "cell_type": "markdown",
   "metadata": {
    "slideshow": {
     "slide_type": "slide"
    }
   },
   "source": [
    "Gráfico de pizza"
   ]
  },
  {
   "cell_type": "code",
   "execution_count": null,
   "metadata": {
    "slideshow": {
     "slide_type": "subslide"
    }
   },
   "outputs": [],
   "source": [
    "slices = [7,2,2,13]\n",
    "activities = ['sleeping','eating','working','playing']\n",
    "cols = ['c','m','r','b']\n",
    " \n",
    "plt.pie(slices,\n",
    "  labels=activities,\n",
    "  colors=cols,\n",
    "  startangle=90,\n",
    "  shadow= True,\n",
    "  explode=(0,0.1,0,0),\n",
    "  autopct='%1.1f%%')\n",
    " \n",
    "plt.title('Pie Plot')\n",
    "plt.show()"
   ]
  },
  {
   "cell_type": "markdown",
   "metadata": {
    "slideshow": {
     "slide_type": "slide"
    }
   },
   "source": [
    "A biblioteca matplotlib está integrada ao pandas e pode ser usada diretamente nos DataFrames"
   ]
  },
  {
   "cell_type": "code",
   "execution_count": null,
   "metadata": {
    "slideshow": {
     "slide_type": "fragment"
    }
   },
   "outputs": [],
   "source": [
    "import pandas as pd\n",
    "brics = pd.read_excel(\"brics.xlsx\",index_col=0)\n",
    "plt.figure() # esse comando cria um objeto figure que será usado para manipular os atributos que desejamos adicionar ao gráfico\n",
    "brics.plot(legend=True)"
   ]
  },
  {
   "cell_type": "markdown",
   "metadata": {
    "slideshow": {
     "slide_type": "slide"
    }
   },
   "source": [
    "Plotando o gráfico das linhas"
   ]
  },
  {
   "cell_type": "code",
   "execution_count": null,
   "metadata": {
    "slideshow": {
     "slide_type": "fragment"
    }
   },
   "outputs": [],
   "source": [
    "df = brics.T[2:] # pegando apenas as linhas que são numéricas\n",
    "print(df)\n",
    "plt.figure()\n",
    "df.plot()"
   ]
  },
  {
   "cell_type": "markdown",
   "metadata": {
    "slideshow": {
     "slide_type": "slide"
    }
   },
   "source": [
    "É possível fazer mais de um gráfico na mesma figura usando **subplot**"
   ]
  },
  {
   "cell_type": "code",
   "execution_count": null,
   "metadata": {
    "slideshow": {
     "slide_type": "fragment"
    }
   },
   "outputs": [],
   "source": [
    "def f(t):\n",
    "    return np.exp(-t) * np.cos(2*np.pi*t)\n",
    "t1 = np.arange(0.0, 5.0, 0.1)\n",
    "t2 = np.arange(0.0, 5.0, 0.02)\n",
    "plt.subplot(211)\n",
    "plt.plot(t1, f(t1), 'bo', t2, f(t2))\n",
    "plt.subplot(212)\n",
    "plt.plot(t2, np.cos(2*np.pi*t2),'r--')\n",
    "plt.show()"
   ]
  },
  {
   "cell_type": "markdown",
   "metadata": {
    "slideshow": {
     "slide_type": "slide"
    }
   },
   "source": [
    "A função **subplot** define uma grade onde serão plotados os gráficos e recebe como argumento um número de 3 \n",
    "dígitos os quais o primeiro representa o número de linhas da grade, o segundo o número de colunas da grade e o \n",
    "terceiro a posição da grade onde será plotado o gráfico em questão."
   ]
  },
  {
   "cell_type": "markdown",
   "metadata": {
    "slideshow": {
     "slide_type": "slide"
    }
   },
   "source": [
    "A função **add_subplot** pode ser usada para se manipular cada **subplot** individualmente."
   ]
  },
  {
   "cell_type": "code",
   "execution_count": null,
   "metadata": {
    "slideshow": {
     "slide_type": "fragment"
    }
   },
   "outputs": [],
   "source": [
    "def f(t):\n",
    "    return np.exp(-t) * np.cos(2*np.pi*t)\n",
    "def fp(t):\n",
    "    return -2*np.pi * np.exp(-t) * np.sin(2*np.pi*t) - np.e**(-t)*np.cos(2*np.pi*t)\n",
    "def g(t):\n",
    "    return np.sin(t) * np.cos(1/(t))\n",
    "python_course_green = \"#476042\"\n",
    "fig = plt.figure(figsize=(6, 4))\n",
    "t = np.arange(-5.0, 1.0, 0.1)\n",
    "sub1 = fig.add_subplot(221) \n",
    "sub1.set_title('The function f')        \n",
    "sub1.plot(t, f(t))\n",
    "sub2 = fig.add_subplot(222, facecolor=\"lightgrey\")\n",
    "sub2.set_title('fp, the derivation of f')\n",
    "sub2.plot(t, fp(t))\n",
    "t = np.arange(-3.0, 2.0, 0.02)\n",
    "sub3 = fig.add_subplot(223)\n",
    "sub3.set_title('The function g')\n",
    "sub3.plot(t, g(t))\n",
    "t = np.arange(-0.2, 0.2, 0.001)\n",
    "sub4 = fig.add_subplot(224, facecolor=\"lightgrey\")\n",
    "sub4.set_title('A closer look at g')\n",
    "sub4.set_xticks([-0.2, -0.1, 0, 0.1, 0.2])\n",
    "sub4.set_yticks([-0.15, -0.1, 0, 0.1, 0.15])\n",
    "sub4.plot(t, g(t))\n",
    "plt.plot(t, g(t))\n",
    "plt.tight_layout()\n",
    "plt.show()\n",
    "plt.savefig(\"figura.png\")"
   ]
  },
  {
   "cell_type": "markdown",
   "metadata": {
    "slideshow": {
     "slide_type": "slide"
    }
   },
   "source": [
    "# Bokeh"
   ]
  },
  {
   "cell_type": "markdown",
   "metadata": {
    "slideshow": {
     "slide_type": "fragment"
    }
   },
   "source": [
    "+ Bokeh é uma biblioteca de visualização interativa que utiliza o browser para apresentação.\n",
    "+ Seu objetivo é prover a construção elegante e concisa de gráficos versáteis e estender sua capacidade com interatividade de alta performance sobre grande conjuntos de dados.\n",
    "+ Bokeh pode ajudar quem deseja criar facilmente e rapidamente gráficos interativos, painéis e aplicações com dados."
   ]
  },
  {
   "cell_type": "code",
   "execution_count": null,
   "metadata": {
    "slideshow": {
     "slide_type": "slide"
    }
   },
   "outputs": [],
   "source": [
    "from bokeh.plotting import figure, output_notebook, show\n",
    "\n",
    "# aqui determina-se que os gráficos serão mostrados no próprio notebook\n",
    "output_notebook()\n",
    "\n",
    "# criando um novo gráfico com um título e rótulos para os eixos\n",
    "p = figure(title=\"Exemplo gráfico de linha\", x_axis_label='x', y_axis_label='y')\n",
    "\n",
    "# adicionando uma linha com legenda e espessura da linha\n",
    "p.line([1,2,3],[4,5,1], legend_label=\"Temp.\", line_width=2)\n",
    "\n",
    "# mostrando os resultados\n",
    "show(p)"
   ]
  },
  {
   "cell_type": "code",
   "execution_count": null,
   "metadata": {
    "slideshow": {
     "slide_type": "slide"
    }
   },
   "outputs": [],
   "source": [
    "# o mesmo gráfico sendo mostrado em um outro arquivo HTML\n",
    "from bokeh.plotting import output_file\n",
    "\n",
    "output_file(\"linhas.html\")\n",
    "p = figure(title=\"Exemplo gráfico de linha\", x_axis_label='x', y_axis_label='y')\n",
    "p.line([1,2,3],[4,5,1], legend_label=\"Temp.\", line_width=2)\n",
    "show(p)"
   ]
  },
  {
   "cell_type": "code",
   "execution_count": null,
   "metadata": {
    "slideshow": {
     "slide_type": "slide"
    }
   },
   "outputs": [],
   "source": [
    "from bokeh.plotting import reset_output\n",
    "\n",
    "# limpando o arquivo de saida para que o gráfico seja mostrado apenas no notebook\n",
    "reset_output()\n",
    "\n",
    "#mostrando no notebook\n",
    "output_notebook()\n",
    "\n",
    "# para gerar um gráfico de barras\n",
    "p = figure(plot_width=400, plot_height=400)\n",
    "p.vbar(x=[1, 2, 3], width=0.5, bottom=0,\n",
    "       top=[1.2, 2.5, 3.7], color=\"firebrick\")\n",
    "\n",
    "show(p)"
   ]
  },
  {
   "cell_type": "code",
   "execution_count": null,
   "metadata": {
    "slideshow": {
     "slide_type": "slide"
    }
   },
   "outputs": [],
   "source": [
    "from bokeh.models import Range1d\n",
    "\n",
    "# você pode determinar a faixa de variação dos eixos x e y usando tuplas\n",
    "p = figure(plot_width=400, plot_height=400, x_range=(0, 20))\n",
    "\n",
    "# usando o objeto Range1d\n",
    "p.y_range = Range1d(0, 15)\n",
    "\n",
    "p.circle([1, 2, 3, 4, 5], [2, 5, 8, 2, 7], size=10)\n",
    "\n",
    "show(p)"
   ]
  },
  {
   "cell_type": "code",
   "execution_count": null,
   "metadata": {
    "slideshow": {
     "slide_type": "slide"
    }
   },
   "outputs": [],
   "source": [
    "# você pode fazer gráficos com dados qualitativos determinando qual eixo receberá as categorias\n",
    "factors = [\"a\", \"b\", \"c\", \"d\", \"e\", \"f\", \"g\", \"h\"]\n",
    "x = [50, 40, 65, 10, 25, 37, 80, 60]\n",
    "\n",
    "p = figure(y_range=factors)\n",
    "\n",
    "p.circle(x, factors, size=15, fill_color=\"orange\", line_color=\"green\", line_width=3)\n",
    "\n",
    "show(p)"
   ]
  },
  {
   "cell_type": "code",
   "execution_count": null,
   "metadata": {
    "slideshow": {
     "slide_type": "slide"
    }
   },
   "outputs": [],
   "source": [
    "from numpy import pi, arange, sin, linspace\n",
    "\n",
    "from bokeh.models import LinearAxis, Range1d\n",
    "\n",
    "x = arange(-2*pi, 2*pi, 0.1)\n",
    "y = sin(x)\n",
    "y2 = linspace(0, 100, len(y))\n",
    "\n",
    "p = figure(x_range=(-6.5, 6.5), y_range=(-1.1, 1.1))\n",
    "\n",
    "p.circle(x, y, color=\"red\")\n",
    "\n",
    "p.extra_y_ranges = {\"foo\": Range1d(start=0, end=100)}\n",
    "p.circle(x, y2, color=\"blue\", y_range_name=\"foo\")\n",
    "p.add_layout(LinearAxis(y_range_name=\"foo\"), 'left')\n",
    "\n",
    "show(p)"
   ]
  },
  {
   "cell_type": "code",
   "execution_count": null,
   "metadata": {
    "slideshow": {
     "slide_type": "slide"
    }
   },
   "outputs": [],
   "source": [
    "# dados de entrada\n",
    "x = [0.1, 0.5, 1.0, 1.5, 2.0, 2.5, 3.0]\n",
    "y0 = [i**2 for i in x]\n",
    "y1 = [10**i for i in x]\n",
    "y2 = [10**(i**2) for i in x]\n",
    "\n",
    "# criando um novo gráfico\n",
    "p = figure(\n",
    "   tools=\"pan,box_zoom,reset,save\",\n",
    "   y_axis_type=\"log\", y_range=[0.001, 10**11], title=\"Exemplo com eixo na escala logarítmica\",\n",
    "   x_axis_label='sections', y_axis_label='particles'\n",
    ")\n",
    "\n",
    "# adicionando os gráficos que serão mostrados\n",
    "p.line(x, x, legend_label=\"y=x\")\n",
    "p.circle(x, x, legend_label=\"y=x\", fill_color=\"white\", size=8)\n",
    "p.line(x, y0, legend_label=\"y=x^2\", line_width=3)\n",
    "p.line(x, y1, legend_label=\"y=10^x\", line_color=\"red\")\n",
    "p.circle(x, y1, legend_label=\"y=10^x\", fill_color=\"red\", line_color=\"red\", size=6)\n",
    "p.line(x, y2, legend_label=\"y=10^x^2\", line_color=\"orange\", line_dash=\"4 4\")\n",
    "\n",
    "# show the results\n",
    "show(p)\n"
   ]
  },
  {
   "cell_type": "code",
   "execution_count": null,
   "metadata": {
    "slideshow": {
     "slide_type": "slide"
    }
   },
   "outputs": [],
   "source": [
    "import numpy as np\n",
    "\n",
    "from bokeh.layouts import gridplot\n",
    "\n",
    "# gerando os dados\n",
    "N = 100\n",
    "x = np.linspace(0, 4*np.pi, N)\n",
    "y0 = np.sin(x)\n",
    "y1 = np.cos(x)\n",
    "y2 = np.sin(x) + np.cos(x)\n",
    "\n",
    "# criando um novo gráfico\n",
    "s1 = figure(width=250, plot_height=250, title=None)\n",
    "s1.circle(x, y0, size=10, color=\"navy\", alpha=0.5)\n",
    "\n",
    "# criando um novo gráfico e compartilhando as faixas de variação de ambos os eixos\n",
    "s2 = figure(width=250, height=250, x_range=s1.x_range, y_range=s1.y_range, title=None)\n",
    "s2.triangle(x, y1, size=10, color=\"firebrick\", alpha=0.5)\n",
    "\n",
    "# criando um novo gráfico e compartilhando apenas a faixa de variação do eixo X\n",
    "s3 = figure(width=250, height=250, x_range=s1.x_range, title=None)\n",
    "s3.square(x, y2, size=10, color=\"olive\", alpha=0.5)\n",
    "\n",
    "# colocando os subgráficos em um grid plot e omitindo a barra de ferramentas\n",
    "p = gridplot([[s1, s2, s3]], toolbar_location=None)\n",
    "\n",
    "# mostrando os resultados\n",
    "show(p)\n"
   ]
  },
  {
   "cell_type": "code",
   "execution_count": null,
   "metadata": {
    "slideshow": {
     "slide_type": "slide"
    }
   },
   "outputs": [],
   "source": [
    "from bokeh.plotting import *\n",
    "from bokeh.models import ColumnDataSource\n",
    "\n",
    "# gerando os dados\n",
    "N = 300\n",
    "x = np.linspace(0, 4*np.pi, N)\n",
    "y0 = np.sin(x)\n",
    "y1 = np.cos(x)\n",
    "\n",
    "# criando um columndatasource para os gráficos compartilharem\n",
    "source = ColumnDataSource(data=dict(x=x, y0=y0, y1=y1))\n",
    "\n",
    "TOOLS = \"pan,wheel_zoom,box_zoom,reset,save,box_select,lasso_select\"\n",
    "\n",
    "# criando um novo gráfico\n",
    "left = figure(tools=TOOLS, width=350, height=350, title=None)\n",
    "left.circle('x', 'y0', source=source)\n",
    "\n",
    "# criando um novo gráfico\n",
    "right = figure(tools=TOOLS, width=350, height=350, title=None)\n",
    "right.circle('x', 'y1', source=source)\n",
    "\n",
    "# colocando os subgráficos em um grid\n",
    "p = gridplot([[left, right]])\n",
    "\n",
    "# mostrando os resultados\n",
    "show(p)"
   ]
  },
  {
   "cell_type": "code",
   "execution_count": null,
   "metadata": {
    "slideshow": {
     "slide_type": "slide"
    }
   },
   "outputs": [],
   "source": [
    "# é possível fazer gráficos  utilizando as colunas de um DataFrame Pandas\n",
    "from bokeh.sampledata.iris import flowers as df\n",
    "\n",
    "print(df)"
   ]
  },
  {
   "cell_type": "code",
   "execution_count": null,
   "metadata": {
    "slideshow": {
     "slide_type": "slide"
    }
   },
   "outputs": [],
   "source": [
    "p = figure(plot_width=400, plot_height=400)\n",
    "p.circle('petal_length', 'petal_width', source=df)\n",
    "show(p)"
   ]
  },
  {
   "cell_type": "code",
   "execution_count": null,
   "metadata": {
    "slideshow": {
     "slide_type": "slide"
    }
   },
   "outputs": [],
   "source": [
    "# dicionário que contém as cores nomeadas\n",
    "from matplotlib.colors import cnames\n",
    "\n",
    "colors = list(cnames.keys())\n",
    "\n",
    "p = figure(plot_width=400, plot_height=400)\n",
    "for i,column in enumerate(df.columns):\n",
    "    if column != \"petal_length\":\n",
    "        p.circle(\"petal_length\", column, source=df, color=colors[i+10])\n",
    "show(p)"
   ]
  },
  {
   "cell_type": "markdown",
   "metadata": {
    "slideshow": {
     "slide_type": "slide"
    }
   },
   "source": [
    "### Exercício\n",
    "+ Abra o arquivo pressao_vapor.csv que contém valores de pressão de vapor do tetracloreto de carbono e as respectivas temperaturas de ebulição.\n",
    "+ Construa uma nova tabela onde estarão apresentados também a temperatura em Kelvin, o recíproco da temperatura absoluta, o respectivo valor médio da pressão (p) a ela associada, a razão p/p\\*, na qual p\\* é 760 mmHg e o logaritmo neperiano dessa razão.\n",
    "+ Fazer um gráfico de ln p/p\\* em função do recíproco da temperatura absoluta.\n",
    "+ Determinar os coeficientes da melhor reta por meio do método de regressão linear\n",
    "+ Traçar a melhor reta escrevendo a equação da mesma na legenda do gráfico.\n",
    "+ Calcular o valor do calor de vaporização do tetracloreto de carbono sabendo-se que \n",
    "    + $\\ln \\frac{p}{p*} = - \\frac{\\Delta_{vap}H_m}{R}\\frac{1}{T} + \\frac{\\Delta_{vap}H_m}{R}\\frac{1}{T*}$"
   ]
  }
 ],
 "metadata": {
  "celltoolbar": "Slideshow",
  "kernelspec": {
   "display_name": "QSARModelingGUI",
   "language": "python",
   "name": "python3"
  },
  "language_info": {
   "codemirror_mode": {
    "name": "ipython",
    "version": 3
   },
   "file_extension": ".py",
   "mimetype": "text/x-python",
   "name": "python",
   "nbconvert_exporter": "python",
   "pygments_lexer": "ipython3",
   "version": "3.8.13"
  }
 },
 "nbformat": 4,
 "nbformat_minor": 2
}
