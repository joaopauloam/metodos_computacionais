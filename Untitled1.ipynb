{
 "cells": [
  {
   "cell_type": "code",
   "execution_count": 1,
   "metadata": {},
   "outputs": [],
   "source": [
    "import pandas as pd"
   ]
  },
  {
   "cell_type": "code",
   "execution_count": 4,
   "metadata": {},
   "outputs": [],
   "source": [
    "df = pd.read_csv(\"pressao_vapor_completo.csv\",index_col = 0)"
   ]
  },
  {
   "cell_type": "code",
   "execution_count": 5,
   "metadata": {},
   "outputs": [
    {
     "data": {
      "text/html": [
       "<div>\n",
       "<style scoped>\n",
       "    .dataframe tbody tr th:only-of-type {\n",
       "        vertical-align: middle;\n",
       "    }\n",
       "\n",
       "    .dataframe tbody tr th {\n",
       "        vertical-align: top;\n",
       "    }\n",
       "\n",
       "    .dataframe thead th {\n",
       "        text-align: right;\n",
       "    }\n",
       "</style>\n",
       "<table border=\"1\" class=\"dataframe\">\n",
       "  <thead>\n",
       "    <tr style=\"text-align: right;\">\n",
       "      <th></th>\n",
       "      <th>p1/mmHg</th>\n",
       "      <th>p2/mmHg</th>\n",
       "      <th>t/°C</th>\n",
       "      <th>p/p*</th>\n",
       "      <th>ln(p/p*)</th>\n",
       "      <th>T/K</th>\n",
       "      <th>1/T</th>\n",
       "    </tr>\n",
       "  </thead>\n",
       "  <tbody>\n",
       "    <tr>\n",
       "      <th>0</th>\n",
       "      <td>696.0</td>\n",
       "      <td>693</td>\n",
       "      <td>74.0</td>\n",
       "      <td>0.913816</td>\n",
       "      <td>-0.090126</td>\n",
       "      <td>347.15</td>\n",
       "      <td>0.002881</td>\n",
       "    </tr>\n",
       "    <tr>\n",
       "      <th>1</th>\n",
       "      <td>636.0</td>\n",
       "      <td>639</td>\n",
       "      <td>65.5</td>\n",
       "      <td>0.838816</td>\n",
       "      <td>-0.175764</td>\n",
       "      <td>338.65</td>\n",
       "      <td>0.002953</td>\n",
       "    </tr>\n",
       "    <tr>\n",
       "      <th>2</th>\n",
       "      <td>608.5</td>\n",
       "      <td>605</td>\n",
       "      <td>63.0</td>\n",
       "      <td>0.798355</td>\n",
       "      <td>-0.225202</td>\n",
       "      <td>336.15</td>\n",
       "      <td>0.002975</td>\n",
       "    </tr>\n",
       "    <tr>\n",
       "      <th>3</th>\n",
       "      <td>574.0</td>\n",
       "      <td>578</td>\n",
       "      <td>60.5</td>\n",
       "      <td>0.757895</td>\n",
       "      <td>-0.277211</td>\n",
       "      <td>333.65</td>\n",
       "      <td>0.002997</td>\n",
       "    </tr>\n",
       "    <tr>\n",
       "      <th>4</th>\n",
       "      <td>556.0</td>\n",
       "      <td>554</td>\n",
       "      <td>56.6</td>\n",
       "      <td>0.730263</td>\n",
       "      <td>-0.314350</td>\n",
       "      <td>329.75</td>\n",
       "      <td>0.003033</td>\n",
       "    </tr>\n",
       "    <tr>\n",
       "      <th>5</th>\n",
       "      <td>525.0</td>\n",
       "      <td>520</td>\n",
       "      <td>52.0</td>\n",
       "      <td>0.687500</td>\n",
       "      <td>-0.374693</td>\n",
       "      <td>325.15</td>\n",
       "      <td>0.003076</td>\n",
       "    </tr>\n",
       "  </tbody>\n",
       "</table>\n",
       "</div>"
      ],
      "text/plain": [
       "   p1/mmHg  p2/mmHg  t/°C      p/p*  ln(p/p*)     T/K       1/T\n",
       "0    696.0      693  74.0  0.913816 -0.090126  347.15  0.002881\n",
       "1    636.0      639  65.5  0.838816 -0.175764  338.65  0.002953\n",
       "2    608.5      605  63.0  0.798355 -0.225202  336.15  0.002975\n",
       "3    574.0      578  60.5  0.757895 -0.277211  333.65  0.002997\n",
       "4    556.0      554  56.6  0.730263 -0.314350  329.75  0.003033\n",
       "5    525.0      520  52.0  0.687500 -0.374693  325.15  0.003076"
      ]
     },
     "execution_count": 5,
     "metadata": {},
     "output_type": "execute_result"
    }
   ],
   "source": [
    "df"
   ]
  },
  {
   "cell_type": "code",
   "execution_count": 6,
   "metadata": {},
   "outputs": [],
   "source": [
    "from scipy import stats"
   ]
  },
  {
   "cell_type": "code",
   "execution_count": 7,
   "metadata": {},
   "outputs": [],
   "source": [
    "results = stats.linregress(df[\"1/T\"], df[\"ln(p/p*)\"])"
   ]
  },
  {
   "cell_type": "code",
   "execution_count": 8,
   "metadata": {},
   "outputs": [
    {
     "data": {
      "text/plain": [
       "-1503.4319530816801"
      ]
     },
     "execution_count": 8,
     "metadata": {},
     "output_type": "execute_result"
    }
   ],
   "source": [
    "results.slope"
   ]
  },
  {
   "cell_type": "code",
   "execution_count": 9,
   "metadata": {},
   "outputs": [
    {
     "data": {
      "text/plain": [
       "4.245760251447936"
      ]
     },
     "execution_count": 9,
     "metadata": {},
     "output_type": "execute_result"
    }
   ],
   "source": [
    "results.intercept"
   ]
  },
  {
   "cell_type": "code",
   "execution_count": 11,
   "metadata": {},
   "outputs": [
    {
     "data": {
      "text/plain": [
       "0.9874462539670181"
      ]
     },
     "execution_count": 11,
     "metadata": {},
     "output_type": "execute_result"
    }
   ],
   "source": [
    "results.rvalue**2"
   ]
  },
  {
   "cell_type": "code",
   "execution_count": null,
   "metadata": {},
   "outputs": [],
   "source": []
  }
 ],
 "metadata": {
  "kernelspec": {
   "display_name": "Python 3",
   "language": "python",
   "name": "python3"
  },
  "language_info": {
   "codemirror_mode": {
    "name": "ipython",
    "version": 3
   },
   "file_extension": ".py",
   "mimetype": "text/x-python",
   "name": "python",
   "nbconvert_exporter": "python",
   "pygments_lexer": "ipython3",
   "version": "3.7.6"
  }
 },
 "nbformat": 4,
 "nbformat_minor": 4
}
