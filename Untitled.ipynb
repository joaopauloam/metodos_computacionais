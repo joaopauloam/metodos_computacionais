{
 "cells": [
  {
   "cell_type": "code",
   "execution_count": 3,
   "metadata": {},
   "outputs": [
    {
     "name": "stdout",
     "output_type": "stream",
     "text": [
      "Digite o valor de a: 1\n",
      "Digite o valor de b: 1\n",
      "Digite o valor de c: 20\n",
      "A equação não possui raízes reais\n"
     ]
    }
   ],
   "source": [
    "import math\n",
    "a = float(input(\"Digite o valor de a: \"))\n",
    "b = float(input(\"Digite o valor de b: \"))\n",
    "c = float(input(\"Digite o valor de c: \"))\n",
    "delta = b**2 - 4*a*c\n",
    "if delta < 0:\n",
    "    print(\"A equação não possui raízes reais\")\n",
    "else:\n",
    "    x1 = (-b + math.sqrt(delta))/(2*a)\n",
    "    x2 = (-b - math.sqrt(delta))/(2*a)\n",
    "    print(\"As raízes da equação são {} e {}\".format(x1,x2))"
   ]
  },
  {
   "cell_type": "code",
   "execution_count": 8,
   "metadata": {},
   "outputs": [
    {
     "name": "stdout",
     "output_type": "stream",
     "text": [
      "Digite o dia: 20\n",
      "Digite o mês: 06\n",
      "Digite o ano: -5\n",
      "Data inválida!\n"
     ]
    }
   ],
   "source": [
    "# Faça um programa para receber três números inteiros: um representando um dia, outro\n",
    "# representando um mês e um terceiro representando um ano d.C. O programa deverá decidir se\n",
    "# juntos os três números formam uma data válida.\n",
    "\n",
    "dia = int(input(\"Digite o dia: \"))\n",
    "mes = int(input(\"Digite o mês: \"))\n",
    "ano = int(input(\"Digite o ano: \"))\n",
    "\n",
    "if ano <= 0:\n",
    "    print(\"Data inválida!\")\n",
    "else:\n",
    "    if mes < 1 or mes > 12:\n",
    "        print(\"Data inválida!\")\n",
    "    else:\n",
    "        if dia < 1 or dia > 31:\n",
    "            print(\"Data inválida!\")\n",
    "        else:\n",
    "            print(\"A data informada foi {}/{}/{}\".format(dia,mes,ano))"
   ]
  },
  {
   "cell_type": "code",
   "execution_count": 15,
   "metadata": {},
   "outputs": [
    {
     "name": "stdout",
     "output_type": "stream",
     "text": [
      "Digite o valor do lado 1: 4\n",
      "Digite o valor do lado 2: 4\n",
      "Digite o valor do lado 3: 4\n",
      "Triângulo equilátero\n"
     ]
    }
   ],
   "source": [
    "#Faça um programa para ler os comprimentos dos três lados de um suposto triângulo e \n",
    "#determinar, caso formem um triângulo, se o mesmo é um triângulo equilátero, isósceles \n",
    "#ou escaleno.\n",
    "\n",
    "lado1 = float(input(\"Digite o valor do lado 1: \"))\n",
    "lado2 = float(input(\"Digite o valor do lado 2: \"))\n",
    "lado3 = float(input(\"Digite o valor do lado 3: \"))\n",
    "\n",
    "if lado1 >= lado2 + lado3 or lado2 >= lado1 + lado3 or lado3 >= lado1 + lado2:\n",
    "    print(\"Os valores dos lados informados, não formam um triângulo\")\n",
    "else:\n",
    "    if lado1 == lado2 and lado2 == lado3:\n",
    "        print(\"Triângulo equilátero\")\n",
    "    elif lado1 == lado2 or lado2 == lado3 or lado1 == lado3:\n",
    "        print(\"Triângulo isósceles\")\n",
    "    else:\n",
    "        print(\"Triângulo escaleno\")"
   ]
  },
  {
   "cell_type": "code",
   "execution_count": 22,
   "metadata": {},
   "outputs": [
    {
     "name": "stdout",
     "output_type": "stream",
     "text": [
      "Digite o valor do primeiro número: 49\n",
      "Digite o valor do segundo número: 35\n",
      "O MDC é 7\n"
     ]
    }
   ],
   "source": [
    "# O máximo divisor comum de dois inteiros é o maior número que divide ambos sem deixar resto. Escreva um programa em Python que lê dois inteiros positivos (ou seja, maiores que zero) e calcula\n",
    "# o seu máximo divisor comum.\n",
    "\n",
    "num1 = int(input(\"Digite o valor do primeiro número: \"))\n",
    "num2 = int(input(\"Digite o valor do segundo número: \"))\n",
    "\n",
    "# testar se o primeiro número é maior que o segundo. Se não for trocar\n",
    "\n",
    "while num2 != 0:\n",
    "    resto = num1 - num2\n",
    "#     num1 = max(num2,resto)\n",
    "#     num2 = min(num2,resto)\n",
    "#     if num2 > resto:\n",
    "#         num1 = num2\n",
    "#         num2 = resto\n",
    "#     else:\n",
    "#         num1 = resto\n",
    "    num1 = num2 if num2 > resto else resto\n",
    "    num2 = resto if num2 > resto else num2\n",
    "print(\"O MDC é {}\".format(num1))"
   ]
  },
  {
   "cell_type": "code",
   "execution_count": 23,
   "metadata": {},
   "outputs": [
    {
     "name": "stdout",
     "output_type": "stream",
     "text": [
      "18446744073709551615\n"
     ]
    }
   ],
   "source": [
    "soma = 0\n",
    "for i in range(64):\n",
    "    soma = soma + 2**i\n",
    "print(soma)"
   ]
  },
  {
   "cell_type": "code",
   "execution_count": 24,
   "metadata": {},
   "outputs": [
    {
     "name": "stdout",
     "output_type": "stream",
     "text": [
      "35\n"
     ]
    }
   ],
   "source": [
    "popA = 5000000\n",
    "popB = 7000000\n",
    "taxaA = 0.03\n",
    "taxaB = 0.02\n",
    "anos = 0\n",
    "while popB > popA:\n",
    "    popA = popA + taxaA*popA\n",
    "    popB = popB + taxaB*popB\n",
    "    anos += 1\n",
    "print(anos)"
   ]
  },
  {
   "cell_type": "code",
   "execution_count": 32,
   "metadata": {},
   "outputs": [
    {
     "name": "stdout",
     "output_type": "stream",
     "text": [
      "Digite o primeiro número: 10\n",
      "Digite o segundo número: 8\n",
      "Digite o terceiro número: 5\n",
      "Digite o quarto número: 12\n",
      "5.0 8.0 10.0 12.0\n"
     ]
    }
   ],
   "source": [
    "# Faça um programa em Python que receba três números em ordem decrescente. O programa deve\n",
    "# verificar se os números recebidos estão realmente em ordem decrescente. Caso positivo, o programa\n",
    "# deve então receber um quarto número que não siga a regra de ordem decrescente e deve exibir os\n",
    "# quatro números recebidos em ordem crescente. Se os três primeiros números recebidos não\n",
    "# estiverem em ordem decrescente, o programa deverá apenas exibir uma mensagem de erro!\n",
    "\n",
    "num1 = float(input(\"Digite o primeiro número: \"))\n",
    "num2 = float(input(\"Digite o segundo número: \"))\n",
    "num3 = float(input(\"Digite o terceiro número: \"))\n",
    "\n",
    "if num1 > num2 and num2 > num3:\n",
    "    num4 = float(input(\"Digite o quarto número: \"))\n",
    "    if num4 < num3:\n",
    "        print(num4,num3,num2,num1)\n",
    "    elif num4 < num2:\n",
    "        print(num3,num4,num2,num1)\n",
    "    elif num4 < num1:\n",
    "        print(num3,num2,num4,num1)\n",
    "    else:\n",
    "        print(num3,num2,num1,num4)\n",
    "else:\n",
    "    print(\"Os números digitados não estão em ordem decrescente\")"
   ]
  },
  {
   "cell_type": "code",
   "execution_count": 34,
   "metadata": {},
   "outputs": [
    {
     "name": "stdout",
     "output_type": "stream",
     "text": [
      "Digite o valor de N: 5\n",
      "8.7\n"
     ]
    }
   ],
   "source": [
    "N = int(input(\"Digite o valor de N: \"))\n",
    "S = 0\n",
    "for i in range(1,N+1):\n",
    "    S = S + i/(N-(i-1))\n",
    "print(S)"
   ]
  },
  {
   "cell_type": "code",
   "execution_count": 39,
   "metadata": {},
   "outputs": [
    {
     "name": "stdout",
     "output_type": "stream",
     "text": [
      "\n",
      "Menu principal\n",
      "1 - Converter de Fahrenheit para Celsius\n",
      "2 - Converter de Celsius para Fahrenheit\n",
      "3 - Sair\n",
      "Digite a opção desejada: 1\n",
      "Digite a temperatura em graus Fahrenheit: 104\n",
      "\n",
      "Essa temperatura em graus Celsius é 40.0\n",
      "\n",
      "Menu principal\n",
      "1 - Converter de Fahrenheit para Celsius\n",
      "2 - Converter de Celsius para Fahrenheit\n",
      "3 - Sair\n",
      "Digite a opção desejada: 3\n",
      "Programa encerrado!\n"
     ]
    }
   ],
   "source": [
    "def F2C(tempF):\n",
    "    tempC = 5*(tempF-32)/9\n",
    "    return tempC\n",
    "\n",
    "def C2F(tempC):\n",
    "    tempF = 9*tempC/5 + 32\n",
    "    return tempF\n",
    "\n",
    "# programa principal\n",
    "opcao = 0\n",
    "while opcao != 3:\n",
    "    print(\"\\nMenu principal\")\n",
    "    print(\"1 - Converter de Fahrenheit para Celsius\")\n",
    "    print(\"2 - Converter de Celsius para Fahrenheit\")\n",
    "    print(\"3 - Sair\")\n",
    "    opcao = int(input(\"Digite a opção desejada: \"))\n",
    "    if opcao == 1:\n",
    "        temp = float(input(\"Digite a temperatura em graus Fahrenheit: \"))\n",
    "        print(\"\\nEssa temperatura em graus Celsius é {}\".format(F2C(temp)))\n",
    "    elif opcao == 2:\n",
    "        temp = float(input(\"Digite a temperatura em graus Celsius: \"))\n",
    "        print(\"\\nEssa temperatura em graus Fahrenheit é {}\".format(C2F(temp)))    \n",
    "    elif opcao == 3:\n",
    "        print(\"Programa encerrado!\")\n",
    "    else:\n",
    "        print(\"Opção inválida!\")"
   ]
  },
  {
   "cell_type": "code",
   "execution_count": 43,
   "metadata": {},
   "outputs": [
    {
     "name": "stdout",
     "output_type": "stream",
     "text": [
      "2.7182815255731922\n"
     ]
    }
   ],
   "source": [
    "def fatorial(n):\n",
    "    if n == 0 or n==1:\n",
    "        return 1\n",
    "    else:\n",
    "        return n*fatorial(n-1)\n",
    "\n",
    "N = 10\n",
    "e = 0\n",
    "for i in range(N):\n",
    "    e = e + 1/fatorial(i)\n",
    "print(e)"
   ]
  },
  {
   "cell_type": "code",
   "execution_count": null,
   "metadata": {},
   "outputs": [],
   "source": []
  }
 ],
 "metadata": {
  "kernelspec": {
   "display_name": "Python 3",
   "language": "python",
   "name": "python3"
  },
  "language_info": {
   "codemirror_mode": {
    "name": "ipython",
    "version": 3
   },
   "file_extension": ".py",
   "mimetype": "text/x-python",
   "name": "python",
   "nbconvert_exporter": "python",
   "pygments_lexer": "ipython3",
   "version": "3.7.6"
  }
 },
 "nbformat": 4,
 "nbformat_minor": 4
}
