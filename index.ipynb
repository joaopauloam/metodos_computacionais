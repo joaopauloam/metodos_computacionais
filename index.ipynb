{
 "cells": [
  {
   "cell_type": "markdown",
   "metadata": {},
   "source": [
    "# Introdução à análise de dados\n",
    "\n",
    "Aqui estão os slides e notebooks das aulas que serão ministradas na disciplina\n",
    "\n",
    "1. [Introdução a algoritmos](introducao.pdf)\n",
    "2. [Conceitos básicos](conceitos_basicos.pdf)\n",
    "3. [Estrutura sequencial](estrutura_sequencial/estrutura_sequencial.ipynb)\n",
    "4. [Estrutura condicional](estrutura_condicional/estrutura_condicional.ipynb)\n",
    "5. [Estruturas de repetição](estrutura_repeticao/estrutura_repeticao.ipynb)\n",
    "6. [Modularização](modularizacao/modularizacao.ipynb)\n",
    "    + [Exercícios](lista1.pdf)\n",
    "7. [Listas](listas.ipynb)\n",
    "    + [Exercícios](exercicios_listas.pdf)\n",
    "8. [Strings](strings/strings.ipynb)    \n",
    "8. [Dicionários](dicionarios.ipynb)\n",
    "    + [Exercícios](exercicio_strings.ipynb)\n",
    "9. [NumPy](numpy.ipynb)\n",
    "    + [Exercícios](exercicio_numpy.ipynb)\n",
    "10. [Pandas](pandas.ipynb)\n",
    "12. [Gráficos](graficos.ipynb)\n",
    "    + [Exercícios](exercicio_pandas_graficos.ipynb)\n",
    "11. [Aprendizado de máquina](aprendizado_maquina/aprendizado_maquina.ipynb)"
   ]
  }
 ],
 "metadata": {
  "kernelspec": {
   "display_name": "Python 3",
   "language": "python",
   "name": "python3"
  },
  "language_info": {
   "codemirror_mode": {
    "name": "ipython",
    "version": 3
   },
   "file_extension": ".py",
   "mimetype": "text/x-python",
   "name": "python",
   "nbconvert_exporter": "python",
   "pygments_lexer": "ipython3",
   "version": "3.7.6"
  }
 },
 "nbformat": 4,
 "nbformat_minor": 2
}
