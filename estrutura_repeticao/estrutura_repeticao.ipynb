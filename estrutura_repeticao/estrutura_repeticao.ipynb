{
 "cells": [
  {
   "cell_type": "markdown",
   "metadata": {
    "slideshow": {
     "slide_type": "slide"
    }
   },
   "source": [
    "# Estruturas de repetição"
   ]
  },
  {
   "cell_type": "markdown",
   "metadata": {
    "slideshow": {
     "slide_type": "fragment"
    }
   },
   "source": [
    "+ Na vida real é necessário muitas vezes realizar um mesmo conjunto de ações sobre conjuntos de dados diferentes.\n",
    "+ Exemplo\n",
    "    + Calcular a média aritmética das duas notas de 2 alunos de uma disciplina.\n",
    "+ Agora faça o mesmo para 30 alunos."
   ]
  },
  {
   "cell_type": "markdown",
   "metadata": {
    "slideshow": {
     "slide_type": "slide"
    }
   },
   "source": [
    "Solução sem estrutura de repetição:"
   ]
  },
  {
   "cell_type": "code",
   "execution_count": null,
   "metadata": {
    "slideshow": {
     "slide_type": "fragment"
    }
   },
   "outputs": [],
   "source": [
    "nota1 = float(input(\"Digite a nota 1 do aluno 1: \"))\n",
    "nota2 = float(input(\"Digite a nota 2 do aluno 1: \"))\n",
    "media = (nota1+nota2)/2\n",
    "print(\"A média do aluno 1 é {}\".format(media))\n",
    "# Realizar esse mesmo conjunto de ações mais 29 vezes ... "
   ]
  },
  {
   "cell_type": "markdown",
   "metadata": {
    "slideshow": {
     "slide_type": "slide"
    }
   },
   "source": [
    "Existe um conjunto de estruturas sintáticas que permitem que um trecho de um algoritmo (um comando ou uma lista \n",
    "de comandos) seja repetido um determinado número de vezes (zero, uma ou mais vezes), sem que o código \n",
    "correspondente tenha que ser escrito mais de uma vez.\n",
    "\n",
    "Tipos de Estruturas de Repetição\n",
    "+ Controladas por uma condição\n",
    "+ Controladas por um contador"
   ]
  },
  {
   "cell_type": "markdown",
   "metadata": {
    "slideshow": {
     "slide_type": "slide"
    }
   },
   "source": [
    "### Estrutura de Repetição Controlada por uma Condição\n",
    "Enquanto condição faça\n",
    "\n",
    "    comando ou bloco de comandos\n",
    "![alt_text](fig2.png)"
   ]
  },
  {
   "cell_type": "markdown",
   "metadata": {
    "slideshow": {
     "slide_type": "slide"
    }
   },
   "source": [
    "Sintaxe em Python\n",
    "\n",
    "while (condição):\n",
    "    \n",
    "    comando ou bloco de comandos\n",
    "    \n",
    "O comando ou o bloco de comandos será executado enquanto a condição for verdadeira."
   ]
  },
  {
   "cell_type": "markdown",
   "metadata": {
    "slideshow": {
     "slide_type": "slide"
    }
   },
   "source": [
    "Exemplo 1\n",
    "![alt_text](fig4.png)\n",
    "O que será impresso?"
   ]
  },
  {
   "cell_type": "code",
   "execution_count": null,
   "metadata": {
    "slideshow": {
     "slide_type": "subslide"
    }
   },
   "outputs": [],
   "source": [
    "num = 1\n",
    "while num < 10:\n",
    "    num = num +1\n",
    "print(num)"
   ]
  },
  {
   "cell_type": "markdown",
   "metadata": {
    "slideshow": {
     "slide_type": "slide"
    }
   },
   "source": [
    "Exemplo 2\n",
    "![alt_text](fig6.png)\n",
    "O que será impresso?"
   ]
  },
  {
   "cell_type": "code",
   "execution_count": null,
   "metadata": {
    "slideshow": {
     "slide_type": "subslide"
    }
   },
   "outputs": [],
   "source": [
    "num = 0\n",
    "while num <= 10:\n",
    "    num = num + 1\n",
    "    print(num)"
   ]
  },
  {
   "cell_type": "markdown",
   "metadata": {
    "slideshow": {
     "slide_type": "slide"
    }
   },
   "source": [
    "Solução para o problema do cálculo da média dos alunos"
   ]
  },
  {
   "cell_type": "code",
   "execution_count": null,
   "metadata": {
    "slideshow": {
     "slide_type": "fragment"
    }
   },
   "outputs": [],
   "source": [
    "contador = 1\n",
    "while contador <= 3:\n",
    "    nota1 = float(input(\"Digite a nota 1 do aluno {}: \".format(contador)))\n",
    "    nota2 = float(input(\"Digite a nota 2 do aluno {}: \".format(contador)))\n",
    "    media = (nota1+nota2)/2\n",
    "    print(\"A média do aluno {} é {}\".format(contador,media))\n",
    "    contador += 1"
   ]
  },
  {
   "cell_type": "markdown",
   "metadata": {
    "slideshow": {
     "slide_type": "slide"
    }
   },
   "source": [
    "OBS: É fundamental que o construtor do algoritmo certifique-se que a condição que mantém as iterações (repetições)\n",
    "seja satisfeita em algum momento para que o algoritmo não entre em um laço infinito (loop infinito!).\n",
    "\n",
    "Exemplo:    "
   ]
  },
  {
   "cell_type": "code",
   "execution_count": null,
   "metadata": {
    "slideshow": {
     "slide_type": "fragment"
    }
   },
   "outputs": [],
   "source": [
    "num = 1\n",
    "while num < 10:\n",
    "    print(num)"
   ]
  },
  {
   "cell_type": "markdown",
   "metadata": {
    "slideshow": {
     "slide_type": "slide"
    }
   },
   "source": [
    "### Estrutura de Repetição Controlada por um Contador\n",
    "+ Esta estrutura costuma ser utilizada quando se quer um número determinado de repetições.\n",
    "+ A contagem das repetições é feita por uma variável de controle do tipo **contador**."
   ]
  },
  {
   "cell_type": "markdown",
   "metadata": {
    "slideshow": {
     "slide_type": "slide"
    }
   },
   "source": [
    "Em Python: Comando for\n",
    "\n",
    "for contador in range(faixa de variação):\n",
    "\n",
    "    comando ou bloco de comandos\n",
    "![alt_text](fig14.png)    "
   ]
  },
  {
   "cell_type": "markdown",
   "metadata": {
    "slideshow": {
     "slide_type": "slide"
    }
   },
   "source": [
    "Exemplo 3\n",
    "<img src=\"fig16.png\" alt=\"fig16\" width=\"300\"/>\n",
    "O que será impresso?"
   ]
  },
  {
   "cell_type": "code",
   "execution_count": null,
   "metadata": {
    "slideshow": {
     "slide_type": "subslide"
    }
   },
   "outputs": [],
   "source": [
    "for cont in range(11):\n",
    "    print(cont)"
   ]
  },
  {
   "cell_type": "markdown",
   "metadata": {
    "slideshow": {
     "slide_type": "slide"
    }
   },
   "source": [
    "+ É interessante notar que a mesma estrutura lógica pode ser implementada usando as estruturas for ou while.\n",
    "+ As seguintes instruções são plenamente equivalentes:\n",
    "![alt_text](fig17.png)"
   ]
  },
  {
   "cell_type": "code",
   "execution_count": null,
   "metadata": {
    "slideshow": {
     "slide_type": "subslide"
    }
   },
   "outputs": [],
   "source": [
    "i = 0\n",
    "while i <= 10:\n",
    "    print(i)\n",
    "    i += 1"
   ]
  },
  {
   "cell_type": "code",
   "execution_count": null,
   "metadata": {
    "slideshow": {
     "slide_type": "subslide"
    }
   },
   "outputs": [],
   "source": [
    "for i in range(11):\n",
    "    print(i)"
   ]
  },
  {
   "cell_type": "markdown",
   "metadata": {
    "slideshow": {
     "slide_type": "slide"
    }
   },
   "source": [
    "É interessante lembrar que no loop for também podemos ter:\n",
    "+ Decremento da variável de controle;\n",
    "+ Incremento de dois ou qualquer outro valor;\n",
    "+ Bloco de comandos."
   ]
  },
  {
   "cell_type": "markdown",
   "metadata": {
    "slideshow": {
     "slide_type": "slide"
    }
   },
   "source": [
    "Exemplo: Decremento da variável de controle"
   ]
  },
  {
   "cell_type": "code",
   "execution_count": null,
   "metadata": {
    "slideshow": {
     "slide_type": "fragment"
    }
   },
   "outputs": [],
   "source": [
    "for cont in range(10,2,-1):\n",
    "    print(cont)"
   ]
  },
  {
   "cell_type": "markdown",
   "metadata": {
    "slideshow": {
     "slide_type": "slide"
    }
   },
   "source": [
    "Exemplo: Incremento de dois"
   ]
  },
  {
   "cell_type": "code",
   "execution_count": null,
   "metadata": {
    "slideshow": {
     "slide_type": "fragment"
    }
   },
   "outputs": [],
   "source": [
    "for cont in range(0,11,2):\n",
    "    print(cont)"
   ]
  },
  {
   "cell_type": "markdown",
   "metadata": {
    "slideshow": {
     "slide_type": "slide"
    }
   },
   "source": [
    "Exemplo: Bloco de comandos"
   ]
  },
  {
   "cell_type": "code",
   "execution_count": null,
   "metadata": {
    "slideshow": {
     "slide_type": "fragment"
    }
   },
   "outputs": [],
   "source": [
    "for cont in range(1,15,5):\n",
    "    temp = cont + 100\n",
    "    print(temp)"
   ]
  },
  {
   "cell_type": "markdown",
   "metadata": {
    "slideshow": {
     "slide_type": "slide"
    }
   },
   "source": [
    "Exercícios\n",
    "+ A sequência abaixo é conhecida como série de Fibonacci. Faça um programa em Python para escrever esta série até o seu trigésimo termo. Série de Fibonacci: 1,1,2,3,5,8,13,21,34,55,..."
   ]
  },
  {
   "cell_type": "code",
   "execution_count": null,
   "metadata": {
    "slideshow": {
     "slide_type": "fragment"
    }
   },
   "outputs": [],
   "source": [
    "# responda aqui\n",
    "penultimo = 1\n",
    "print(\"O termo 1 da série é {}\".format(penultimo))\n",
    "ultimo = 1\n",
    "print(\"O termo 2 da série é {}\".format(ultimo))\n",
    "for i in range(3,31):\n",
    "    atual = ultimo + penultimo\n",
    "    print(\"O termo {} da série é {}\".format(i,atual))\n",
    "    penultimo = ultimo    \n",
    "    ultimo = atual    "
   ]
  },
  {
   "cell_type": "markdown",
   "metadata": {
    "slideshow": {
     "slide_type": "slide"
    }
   },
   "source": [
    "+ Faça um programa em Python para exibir todos os números inteiros divisíveis por 4, maiores ou iguais a 1050 e menores ou iguais a 2400."
   ]
  },
  {
   "cell_type": "code",
   "execution_count": null,
   "metadata": {
    "slideshow": {
     "slide_type": "fragment"
    }
   },
   "outputs": [],
   "source": [
    "# responda aqui\n",
    "for i in range(1052,2401,4):\n",
    "    print(i)"
   ]
  },
  {
   "cell_type": "markdown",
   "metadata": {
    "slideshow": {
     "slide_type": "slide"
    }
   },
   "source": [
    "+ Faça um programa em Python para calcular e exibir a soma dos N primeiros números inteiros maiores que zero, onde N (quantidade de números a serem somados) é um valor informado pelo usuário."
   ]
  },
  {
   "cell_type": "code",
   "execution_count": null,
   "metadata": {
    "slideshow": {
     "slide_type": "fragment"
    }
   },
   "outputs": [],
   "source": [
    "# responda aqui\n",
    "N = int(input(\"Digite o valor de N: \"))\n",
    "soma = 0\n",
    "for i in range(1,N+1):\n",
    "    soma = soma + i\n",
    "print(\"A soma dos {} primeiros números inteiros é {}\".format(N,soma))"
   ]
  },
  {
   "cell_type": "markdown",
   "metadata": {
    "slideshow": {
     "slide_type": "slide"
    }
   },
   "source": [
    "+ Faça um programa em Python para solicitar um número inteiro ao usuário e calcular e exibir o fatorial deste número.\n",
    "+ Lembretes:\n",
    "    + $0! = 1$\n",
    "    + $1! = 1$\n",
    "    + Se N $>$ 1, então $N! = N * (N-1) * (N-2) * ... * 2 * 1$\n",
    "    + Não existe fatorial de número negativo."
   ]
  },
  {
   "cell_type": "code",
   "execution_count": null,
   "metadata": {
    "slideshow": {
     "slide_type": "fragment"
    }
   },
   "outputs": [],
   "source": [
    "# responda aqui\n",
    "N = int(input(\"Digite um número inteiro: \"))\n",
    "if N == 0:\n",
    "    print(\"O fatorial de 0 é 1\")\n",
    "if N == 1:\n",
    "    print(\"O fatorial de 1 é 1\")\n",
    "if N < 0:\n",
    "    print(\"Não existe fatorial de número negativo!\")\n",
    "if N > 1:\n",
    "    fatorial = 1\n",
    "    for i in range(N,1,-1):\n",
    "        fatorial = fatorial * i\n",
    "    print(\"O fatorial de {} é {}\".format(N,fatorial))"
   ]
  },
  {
   "cell_type": "code",
   "execution_count": null,
   "metadata": {},
   "outputs": [],
   "source": []
  }
 ],
 "metadata": {
  "celltoolbar": "Slideshow",
  "kernelspec": {
   "display_name": "Python 3",
   "language": "python",
   "name": "python3"
  },
  "language_info": {
   "codemirror_mode": {
    "name": "ipython",
    "version": 3
   },
   "file_extension": ".py",
   "mimetype": "text/x-python",
   "name": "python",
   "nbconvert_exporter": "python",
   "pygments_lexer": "ipython3",
   "version": "3.7.6"
  }
 },
 "nbformat": 4,
 "nbformat_minor": 2
}
