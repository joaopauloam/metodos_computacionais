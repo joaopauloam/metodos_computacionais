{
 "cells": [
  {
   "cell_type": "code",
   "execution_count": 4,
   "metadata": {},
   "outputs": [],
   "source": [
    "# 2 – Construa uma função que receba uma lista de inteiros e retorne a média dos elementos da lista\n",
    "\n",
    "def media(lista):\n",
    "    x = sum(lista)/len(lista)\n",
    "    return x"
   ]
  },
  {
   "cell_type": "code",
   "execution_count": 5,
   "metadata": {},
   "outputs": [],
   "source": [
    "l = [1,6,4,8,9,3,5]"
   ]
  },
  {
   "cell_type": "code",
   "execution_count": 6,
   "metadata": {},
   "outputs": [
    {
     "data": {
      "text/plain": [
       "5.142857142857143"
      ]
     },
     "execution_count": 6,
     "metadata": {},
     "output_type": "execute_result"
    }
   ],
   "source": [
    "media(l)"
   ]
  },
  {
   "cell_type": "code",
   "execution_count": 7,
   "metadata": {},
   "outputs": [
    {
     "data": {
      "text/plain": [
       "36"
      ]
     },
     "execution_count": 7,
     "metadata": {},
     "output_type": "execute_result"
    }
   ],
   "source": [
    "1+6+4+8+9+3+5"
   ]
  },
  {
   "cell_type": "code",
   "execution_count": 8,
   "metadata": {},
   "outputs": [
    {
     "data": {
      "text/plain": [
       "5.142857142857143"
      ]
     },
     "execution_count": 8,
     "metadata": {},
     "output_type": "execute_result"
    }
   ],
   "source": [
    "36/7"
   ]
  },
  {
   "cell_type": "code",
   "execution_count": 10,
   "metadata": {},
   "outputs": [
    {
     "name": "stdout",
     "output_type": "stream",
     "text": [
      "Digite o número de elementos da sua lista: 7\n",
      "Digite o elemento 0 da lista: 1\n",
      "Digite o elemento 1 da lista: 6\n",
      "Digite o elemento 2 da lista: 4\n",
      "Digite o elemento 3 da lista: 8\n",
      "Digite o elemento 4 da lista: 9\n",
      "Digite o elemento 5 da lista: 3\n",
      "Digite o elemento 6 da lista: 5\n",
      "A média dos elementos da lista é 5.142857142857143\n"
     ]
    }
   ],
   "source": [
    "num_elementos = int(input(\"Digite o número de elementos da sua lista: \"))\n",
    "l1 = []\n",
    "for i in range(num_elementos):\n",
    "    elemento = float(input(\"Digite o elemento {} da lista: \".format(i)))\n",
    "    l.append(elemento)\n",
    "print(\"A média dos elementos da lista é {}\".format(media(l1)))"
   ]
  },
  {
   "cell_type": "code",
   "execution_count": 15,
   "metadata": {},
   "outputs": [
    {
     "name": "stdout",
     "output_type": "stream",
     "text": [
      "Digite um novo elemento da lista: 5\n",
      "Deseja inserir um novo elemento? \n",
      " \n",
      "1 - Sim\n",
      "2- Não1\n",
      "Digite um novo elemento da lista: 2\n",
      "Deseja inserir um novo elemento? \n",
      " \n",
      "1 - Sim\n",
      "2- Não1\n",
      "Digite um novo elemento da lista: 4\n",
      "Deseja inserir um novo elemento? \n",
      " \n",
      "1 - Sim\n",
      "2- Não1\n",
      "Digite um novo elemento da lista: 6\n",
      "Deseja inserir um novo elemento? \n",
      " \n",
      "1 - Sim\n",
      "2- Não1\n",
      "Digite um novo elemento da lista: 1\n",
      "Deseja inserir um novo elemento? \n",
      " \n",
      "1 - Sim\n",
      "2- Não1\n",
      "Digite um novo elemento da lista: 3\n",
      "Deseja inserir um novo elemento? \n",
      " \n",
      "1 - Sim\n",
      "2- Não2\n",
      "A média dos elementos da lista é 3.5\n"
     ]
    }
   ],
   "source": [
    "opcao = '0'\n",
    "l2 = []\n",
    "while opcao != '2':\n",
    "    elemento = float(input(\"Digite um novo elemento da lista: \"))\n",
    "    l2.append(elemento)\n",
    "    opcao = '0'\n",
    "    while opcao != '1' and opcao !='2':    \n",
    "        opcao = input(\"Deseja inserir um novo elemento? \\n \\n1 - Sim\\n2- Não\")\n",
    "        if opcao != '1' and opcao !='2':\n",
    "            print(\"Opção inválida! Digite 1 ou 2\")\n",
    "\n",
    "print(\"A média dos elementos da lista é {}\".format(media(l2)))     "
   ]
  },
  {
   "cell_type": "code",
   "execution_count": 17,
   "metadata": {},
   "outputs": [],
   "source": [
    "# Questão 3\n",
    "\n",
    "def meu_zip(lista1,lista2):\n",
    "    final = min(len(lista1),len(lista2))\n",
    "    lista_zip = []\n",
    "    for i in range(final):\n",
    "        elemento = (lista1[i],lista2[i])\n",
    "        lista_zip.append(elemento)\n",
    "    return lista_zip"
   ]
  },
  {
   "cell_type": "code",
   "execution_count": 20,
   "metadata": {},
   "outputs": [
    {
     "data": {
      "text/plain": [
       "[(1, 'a'), (2, 'b'), (3, 'c')]"
      ]
     },
     "execution_count": 20,
     "metadata": {},
     "output_type": "execute_result"
    }
   ],
   "source": [
    " meu_zip([1,2,3,4],\"abc\")"
   ]
  },
  {
   "cell_type": "code",
   "execution_count": 29,
   "metadata": {},
   "outputs": [],
   "source": [
    "def meu_zip2(lista1,lista2):\n",
    "    if lista1 == [] or lista2 == []:\n",
    "        return []\n",
    "    else:\n",
    "        if len(lista1) != 1 and len(lista2) != 1:\n",
    "            return [(lista1[0],lista2[0])] + meu_zip2(lista1[1:],lista2[1:])\n",
    "        elif len(lista1) == 1:\n",
    "            return [(lista1[0],lista2[0])] + meu_zip2([],lista2[1:])\n",
    "        else:\n",
    "            return [(lista1[0],lista2[0])] + meu_zip2(lista1[1:],[])"
   ]
  },
  {
   "cell_type": "code",
   "execution_count": 30,
   "metadata": {},
   "outputs": [
    {
     "data": {
      "text/plain": [
       "[(1, 'a'), (2, 'b'), (3, 'c')]"
      ]
     },
     "execution_count": 30,
     "metadata": {},
     "output_type": "execute_result"
    }
   ],
   "source": [
    "meu_zip2([1,2,3,4],\"abc\")"
   ]
  },
  {
   "cell_type": "code",
   "execution_count": 35,
   "metadata": {},
   "outputs": [],
   "source": [
    "# Questão 4: Ex: merge([1,3,8],[2,4,5,7]) = [1,2,3,4,5,7,8]\n",
    "def merge(lista1,lista2):\n",
    "    pos1 = 0\n",
    "    pos2 = 0\n",
    "    lista_final = []\n",
    "    while pos1 < len(lista1) and pos2 < len(lista2):\n",
    "        if lista1[pos1] < lista2[pos2]:\n",
    "            lista_final.append(lista1[pos1])\n",
    "            pos1 += 1\n",
    "        else:\n",
    "            lista_final.append(lista2[pos2])\n",
    "            pos2 += 1\n",
    "    if pos1 < len(lista1):\n",
    "        lista_final += lista1[pos1:]\n",
    "    if pos2 < len(lista2):\n",
    "        lista_final += lista2[pos2:]\n",
    "    return lista_final"
   ]
  },
  {
   "cell_type": "code",
   "execution_count": 38,
   "metadata": {},
   "outputs": [
    {
     "data": {
      "text/plain": [
       "[1, 2, 3, 4, 8]"
      ]
     },
     "execution_count": 38,
     "metadata": {},
     "output_type": "execute_result"
    }
   ],
   "source": [
    "merge([1,3,8],[2,4])"
   ]
  },
  {
   "cell_type": "code",
   "execution_count": 55,
   "metadata": {},
   "outputs": [],
   "source": [
    "def merge2(lista1,lista2):\n",
    "    if lista1 == []:\n",
    "        return lista2\n",
    "    elif lista2 == []:\n",
    "        return lista1\n",
    "    else:\n",
    "        if lista1[0] < lista2[0]:\n",
    "            if len(lista1) == 1:\n",
    "                return [lista1[0]] + merge([],lista2)\n",
    "            else:\n",
    "                return [lista1[0]] + merge(lista1[1:],lista2)\n",
    "        else:\n",
    "            if len(lista2) == 1:\n",
    "                return [lista2[0]] + merge(lista1,[])\n",
    "            else:\n",
    "                return [lista2[0]] + merge(lista1,lista2[1:])"
   ]
  },
  {
   "cell_type": "code",
   "execution_count": 57,
   "metadata": {},
   "outputs": [
    {
     "data": {
      "text/plain": [
       "[1, 2, 3, 4, 5, 7, 8]"
      ]
     },
     "execution_count": 57,
     "metadata": {},
     "output_type": "execute_result"
    }
   ],
   "source": [
    "merge2([1,3,8],[2,4,5,7])"
   ]
  },
  {
   "cell_type": "code",
   "execution_count": 40,
   "metadata": {},
   "outputs": [],
   "source": [
    "# Questão 5\n",
    "\n",
    "def divisores(n):\n",
    "    lista = []\n",
    "    for i in range(1,n+1):\n",
    "        if n % i == 0:\n",
    "            lista.append(i)\n",
    "    return lista"
   ]
  },
  {
   "cell_type": "code",
   "execution_count": 41,
   "metadata": {},
   "outputs": [
    {
     "data": {
      "text/plain": [
       "[1, 2, 3, 5, 6, 10, 15, 30]"
      ]
     },
     "execution_count": 41,
     "metadata": {},
     "output_type": "execute_result"
    }
   ],
   "source": [
    "divisores(30)"
   ]
  },
  {
   "cell_type": "code",
   "execution_count": 42,
   "metadata": {},
   "outputs": [],
   "source": [
    "def divisores2(n):\n",
    "    return [i for i in range(1,n+1) if n % i == 0]"
   ]
  },
  {
   "cell_type": "code",
   "execution_count": 46,
   "metadata": {},
   "outputs": [
    {
     "data": {
      "text/plain": [
       "[1, 2, 3, 4, 5, 6, 10, 12, 15, 20, 30, 60]"
      ]
     },
     "execution_count": 46,
     "metadata": {},
     "output_type": "execute_result"
    }
   ],
   "source": [
    "divisores2(60)"
   ]
  },
  {
   "cell_type": "code",
   "execution_count": 52,
   "metadata": {},
   "outputs": [],
   "source": [
    "# 6 – Construa uma função que retorna uma lista dos números primos entre 1 e n.\n",
    "\n",
    "def crivo(lista):\n",
    "    if lista == []:\n",
    "        return []\n",
    "    elif len(lista) != 1:\n",
    "        return [lista[0]] + crivo([x for x in lista[1:] if x % lista[0] != 0])\n",
    "    else:\n",
    "        return [lista[0]] + crivo([])"
   ]
  },
  {
   "cell_type": "code",
   "execution_count": 53,
   "metadata": {},
   "outputs": [],
   "source": [
    "def primos(n):\n",
    "    return crivo(list(range(2,n+1)))"
   ]
  },
  {
   "cell_type": "code",
   "execution_count": 54,
   "metadata": {},
   "outputs": [
    {
     "data": {
      "text/plain": [
       "[2, 3, 5, 7, 11, 13, 17, 19, 23, 29]"
      ]
     },
     "execution_count": 54,
     "metadata": {},
     "output_type": "execute_result"
    }
   ],
   "source": [
    "primos(30)"
   ]
  },
  {
   "cell_type": "code",
   "execution_count": 60,
   "metadata": {},
   "outputs": [],
   "source": [
    "# 7 – Construa uma função que recebe uma lista de listas e retorna uma lista contendo as médias das listas dadas.\n",
    "\n",
    "def medias(lista):\n",
    "    lista_final = []\n",
    "    for l in lista:\n",
    "        lista_final.append(media(l))\n",
    "    return lista_final"
   ]
  },
  {
   "cell_type": "code",
   "execution_count": 61,
   "metadata": {},
   "outputs": [
    {
     "data": {
      "text/plain": [
       "[2.0, 11.5, 6.25]"
      ]
     },
     "execution_count": 61,
     "metadata": {},
     "output_type": "execute_result"
    }
   ],
   "source": [
    "medias([[1,2,3],[8,15],[9,12,1,3]])"
   ]
  },
  {
   "cell_type": "code",
   "execution_count": 62,
   "metadata": {},
   "outputs": [],
   "source": [
    "def medias2(lista):\n",
    "    return [media(l) for l in lista]"
   ]
  },
  {
   "cell_type": "code",
   "execution_count": 63,
   "metadata": {},
   "outputs": [
    {
     "data": {
      "text/plain": [
       "[2.0, 11.5, 6.25]"
      ]
     },
     "execution_count": 63,
     "metadata": {},
     "output_type": "execute_result"
    }
   ],
   "source": [
    "medias2([[1,2,3],[8,15],[9,12,1,3]])"
   ]
  },
  {
   "cell_type": "code",
   "execution_count": null,
   "metadata": {},
   "outputs": [],
   "source": []
  }
 ],
 "metadata": {
  "kernelspec": {
   "display_name": "Python 3",
   "language": "python",
   "name": "python3"
  },
  "language_info": {
   "codemirror_mode": {
    "name": "ipython",
    "version": 3
   },
   "file_extension": ".py",
   "mimetype": "text/x-python",
   "name": "python",
   "nbconvert_exporter": "python",
   "pygments_lexer": "ipython3",
   "version": "3.7.6"
  }
 },
 "nbformat": 4,
 "nbformat_minor": 4
}
