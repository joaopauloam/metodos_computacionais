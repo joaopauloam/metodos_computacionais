{
 "cells": [
  {
   "cell_type": "markdown",
   "metadata": {
    "slideshow": {
     "slide_type": "slide"
    }
   },
   "source": [
    "# Estrutura Condicional"
   ]
  },
  {
   "cell_type": "markdown",
   "metadata": {
    "slideshow": {
     "slide_type": "fragment"
    }
   },
   "source": [
    "+ Na vida real toma-se decisões a todo o momento baseadas em uma situação existente.\n",
    "+ Em um algoritmo, chamamos esta situação de **condição**.\n",
    "+ Associada a uma condição, existirá uma alternativa possível de ações.\n",
    "+ Exemplo: \"se tiver R$ 20,00 sobrando então irei ao cinema hoje à noite.\" "
   ]
  },
  {
   "cell_type": "markdown",
   "metadata": {
    "slideshow": {
     "slide_type": "slide"
    }
   },
   "source": [
    "Exemplo 1: \"se tiver R$ 20,00 sobrando então irei ao cinema hoje à noite.\"\n",
    "\n",
    "+ Condição: \"tiver R\\$ 20,00 sobrando\"\n",
    "    + É uma expressão lógica.\n",
    "    + A pergunta \"Tenho R$ 20,00 sobrando?\" tem que ser respondida com \"Sim\" ou \"Não\".\n",
    "+ Ação: \"irei ao cinema\"\n",
    "    + Se a resposta à pergunta \"Tenho dinheiro suficiente?\" for \"Sim\", a ação a ser executada é \n",
    "\t\"irei ao cinema\"!"
   ]
  },
  {
   "cell_type": "markdown",
   "metadata": {
    "slideshow": {
     "slide_type": "slide"
    }
   },
   "source": [
    "+ Em um algoritmo, toda condição tem que ser uma expressão lógica, algo que seja avaliado como \"isto é VERDADE ?\" ou\n",
    "\"isto é FALSO ?\"\n",
    "+ E as ações são um ou mais passos (comandos) que serão realizados apenas se a avaliação da condição resulta em VERDADE.\n",
    "+ Em Python o tipo de dados bool pode assumir os valores True e False."
   ]
  },
  {
   "cell_type": "markdown",
   "metadata": {
    "slideshow": {
     "slide_type": "slide"
    }
   },
   "source": [
    "+ O comando somente será executado se a expressão condicional for avaliada como VERDADE.\n",
    "+ Se (expressão condicional) então comando;\n",
    "![alt text](fig1.png)"
   ]
  },
  {
   "cell_type": "markdown",
   "metadata": {
    "slideshow": {
     "slide_type": "slide"
    }
   },
   "source": [
    "Exemplo 1: \"se tiver R\\$ 20,00 sobrando então irei ao cinema hoje à noite.\"\n",
    "![alt text](fig2.png)"
   ]
  },
  {
   "cell_type": "markdown",
   "metadata": {
    "slideshow": {
     "slide_type": "slide"
    }
   },
   "source": [
    "Sintaxe em Python:\n",
    "\n",
    "if (expressão condicional):\n",
    "\n",
    "    comando"
   ]
  },
  {
   "cell_type": "markdown",
   "metadata": {
    "slideshow": {
     "slide_type": "slide"
    }
   },
   "source": [
    "Exemplo 1:"
   ]
  },
  {
   "cell_type": "code",
   "execution_count": null,
   "metadata": {
    "slideshow": {
     "slide_type": "fragment"
    }
   },
   "outputs": [],
   "source": [
    "valor = float(input(\"Digite quanto em R$ tem sobrando: \"))\n",
    "if (valor >= 20.0):\n",
    "    print (\"Vou ao cinema!\")\n",
    "print(\"Segue o fluxo normal\")"
   ]
  },
  {
   "cell_type": "markdown",
   "metadata": {
    "slideshow": {
     "slide_type": "slide"
    }
   },
   "source": [
    "Exemplo 2: Se a hora for menor ou igual a 12h então exibir a mensagem \"Bom Dia!\"\n",
    "![alt text](fig3.png)"
   ]
  },
  {
   "cell_type": "code",
   "execution_count": null,
   "metadata": {
    "slideshow": {
     "slide_type": "subslide"
    }
   },
   "outputs": [],
   "source": [
    "hora = int(input(\"Obter a hora atual: \"))\n",
    "if (hora <= 12): \n",
    "    print(\"Bom dia!\")"
   ]
  },
  {
   "cell_type": "markdown",
   "metadata": {
    "slideshow": {
     "slide_type": "slide"
    }
   },
   "source": [
    "### Expressões relacionais\n",
    "+ Um operador relacional compara os valores de seus dois operandos; \n",
    "+ Uma expressão relacional é composta por **dois operandos de um mesmo tipo** e por um **operador relacional**;\n",
    "+ O resultado de uma expressão relacional é um valor lógico (VERDADE ou FALSO)."
   ]
  },
  {
   "cell_type": "markdown",
   "metadata": {
    "slideshow": {
     "slide_type": "slide"
    }
   },
   "source": [
    "### Operadores Relacionais\n",
    "+ $==$\n",
    "+ $!=$\n",
    "+ $<$\n",
    "+ $<=$\n",
    "+ $>$\n",
    "+ $>=$"
   ]
  },
  {
   "cell_type": "markdown",
   "metadata": {
    "slideshow": {
     "slide_type": "slide"
    }
   },
   "source": [
    "Exemplo 3: Se o aluno obteve uma nota menor que sete exibir a mensagem que ele foi reprovado na disciplina.\n",
    "![alt text](fig4.png)    "
   ]
  },
  {
   "cell_type": "code",
   "execution_count": null,
   "metadata": {
    "slideshow": {
     "slide_type": "subslide"
    }
   },
   "outputs": [],
   "source": [
    "nota = float(input(\"Digite a nota do aluno: \"))\n",
    "if (nota < 7): \n",
    "    print(\"Reprovado!\")"
   ]
  },
  {
   "cell_type": "markdown",
   "metadata": {
    "slideshow": {
     "slide_type": "slide"
    }
   },
   "source": [
    "Exercício 1: <br>\n",
    "Faça um programa que recebe dois números e imprime o resultado apenas se a soma for maior que 10."
   ]
  },
  {
   "cell_type": "code",
   "execution_count": null,
   "metadata": {
    "slideshow": {
     "slide_type": "fragment"
    }
   },
   "outputs": [],
   "source": [
    "# responda aqui"
   ]
  },
  {
   "cell_type": "markdown",
   "metadata": {
    "slideshow": {
     "slide_type": "slide"
    }
   },
   "source": [
    "Exercício 2: <br>\n",
    "Faça um programa que recebe um número e se o mesmo for par deve imprimir uma mensagem."
   ]
  },
  {
   "cell_type": "code",
   "execution_count": null,
   "metadata": {
    "slideshow": {
     "slide_type": "fragment"
    }
   },
   "outputs": [],
   "source": [
    "# responda aqui"
   ]
  },
  {
   "cell_type": "markdown",
   "metadata": {
    "slideshow": {
     "slide_type": "slide"
    }
   },
   "source": [
    "### Estrutura Condicional Composta\n",
    "+ Por questões de eficiência, a maioria das linguagens de programação permite associar um comando a ser executado \n",
    "se a expressão condicional for avaliada como FALSA.\n",
    "![alt_text](fig1comp.png)\n",
    "+ O comando1 somente será executado se a condição for verdadeira, caso contrário o comando2 será executado "
   ]
  },
  {
   "cell_type": "markdown",
   "metadata": {
    "slideshow": {
     "slide_type": "slide"
    }
   },
   "source": [
    "Exemplo 1: \"se tiver R\\$ 20,00 sobrando então irei ao cinema hoje à noite, senão ficarei em casa assistindo TV.\"\n",
    "![alt_text](fig2comp.png)    "
   ]
  },
  {
   "cell_type": "markdown",
   "metadata": {
    "slideshow": {
     "slide_type": "slide"
    }
   },
   "source": [
    "Sintaxe em Python:\n",
    "    \n",
    "if (expressão condicional):\n",
    "    \n",
    "    comando1\n",
    "    \n",
    "else:\n",
    "    \n",
    "    comando2"
   ]
  },
  {
   "cell_type": "markdown",
   "metadata": {
    "slideshow": {
     "slide_type": "slide"
    }
   },
   "source": [
    "Exemplo 2:"
   ]
  },
  {
   "cell_type": "code",
   "execution_count": null,
   "metadata": {
    "slideshow": {
     "slide_type": "fragment"
    }
   },
   "outputs": [],
   "source": [
    "valor = float(input(\"Digite quanto em R$ tem sobrando: \")) \n",
    "if (valor >= 20.0): \n",
    "    print(\"Vou ao cinema!\") \n",
    "else: \n",
    "    print(\"Vou ficar em casa assistindo TV!\")"
   ]
  },
  {
   "cell_type": "markdown",
   "metadata": {
    "slideshow": {
     "slide_type": "slide"
    }
   },
   "source": [
    "Exemplo 3: Se a hora for menor ou igual a 12h então exibir a mensagem \"Bom Dia!\", senão exibir a mensagem \"Boa Tarde!\"\n",
    "![alt_text](fig3comp.png)"
   ]
  },
  {
   "cell_type": "markdown",
   "metadata": {
    "slideshow": {
     "slide_type": "slide"
    }
   },
   "source": [
    "Código em Python"
   ]
  },
  {
   "cell_type": "code",
   "execution_count": null,
   "metadata": {
    "slideshow": {
     "slide_type": "fragment"
    }
   },
   "outputs": [],
   "source": [
    "hora = int(input(\"Obter a hora atual: \")) \n",
    "if (hora <= 12): \n",
    "    print(\"Bom dia!\")\n",
    "else:\n",
    "    print(\"Boa tarde!\")"
   ]
  },
  {
   "cell_type": "markdown",
   "metadata": {
    "slideshow": {
     "slide_type": "slide"
    }
   },
   "source": [
    "Exemplo 4: Se o aluno obteve uma nota menor que sete exibir a mensagem que ele foi reprovado na disciplina,\n",
    "senão exibir a mensagem que ele foi aprovado.\n",
    "![alt_text](fig4comp.png)"
   ]
  },
  {
   "cell_type": "markdown",
   "metadata": {
    "slideshow": {
     "slide_type": "slide"
    }
   },
   "source": [
    "Código em Python:"
   ]
  },
  {
   "cell_type": "code",
   "execution_count": null,
   "metadata": {
    "slideshow": {
     "slide_type": "fragment"
    }
   },
   "outputs": [],
   "source": [
    "nota = float(input(\"Digite a nota do aluno: \"))\n",
    "if (nota < 7): \n",
    "    print(\"Reprovado!\")\n",
    "else:\n",
    "    print(\"Aprovado!\")"
   ]
  },
  {
   "cell_type": "markdown",
   "metadata": {
    "slideshow": {
     "slide_type": "slide"
    }
   },
   "source": [
    "Exercício:\n",
    "+ Faça um programa que recebe um número e deve imprimir uma mensagem afirmando se ele é par ou ímpar.     "
   ]
  },
  {
   "cell_type": "code",
   "execution_count": null,
   "metadata": {
    "slideshow": {
     "slide_type": "fragment"
    }
   },
   "outputs": [],
   "source": [
    "# responda aqui"
   ]
  },
  {
   "cell_type": "markdown",
   "metadata": {
    "slideshow": {
     "slide_type": "slide"
    }
   },
   "source": [
    "### Bloco\n",
    "Muitas vezes é necessário a execução de um conjunto de comandos se a expressão condicional for avaliada como VERDADE ou FALSO.\n",
    "![alt_text](fig5comp.png)"
   ]
  },
  {
   "cell_type": "markdown",
   "metadata": {
    "slideshow": {
     "slide_type": "slide"
    }
   },
   "source": [
    "Estrutura Condicional Simples em Python\n",
    "\n",
    "if (expressão condicional):\n",
    "    \n",
    "    comando ou bloco de comandos\n",
    "    \n",
    "Exemplo:\n",
    "![alt_text](fig6comp.png)\n",
    "\n",
    "Em Python um bloco de comandos é caracterizado pela indentação"
   ]
  },
  {
   "cell_type": "markdown",
   "metadata": {
    "slideshow": {
     "slide_type": "slide"
    }
   },
   "source": [
    "Estrutura Condicional Composta em Python\n",
    "\n",
    "if (expressão condicional):\n",
    "    \n",
    "    comando ou bloco de comandos\n",
    "    \n",
    "else:\n",
    "    \n",
    "    comando ou bloco de comandos\n",
    "    \n",
    "Exemplo:\n",
    "![alt_text](fig7comp.png)"
   ]
  },
  {
   "cell_type": "markdown",
   "metadata": {
    "slideshow": {
     "slide_type": "slide"
    }
   },
   "source": [
    "Exercício 1:\n",
    "\n",
    "Faça um programa em Python para calcular e exibir a área de um círculo, fornecido o valor do raio, que deve ser \n",
    "positivo. Se o valor do raio fornecido for negativo uma mensagem deve ser exibida ao usuário informando o\n",
    "problema.    "
   ]
  },
  {
   "cell_type": "code",
   "execution_count": null,
   "metadata": {
    "slideshow": {
     "slide_type": "fragment"
    }
   },
   "outputs": [],
   "source": [
    "# responda aqui"
   ]
  },
  {
   "cell_type": "markdown",
   "metadata": {
    "slideshow": {
     "slide_type": "slide"
    }
   },
   "source": [
    "Exercício 2:\n",
    "    \n",
    "A empresa XKW Ltda. concedeu um bônus de 20% do valor do salário a todos os funcionários com tempo de\n",
    "trabalho na empresa igual ou superior a cinco anos e 10% aos demais. Calcular e exibir o valor do bônus para\n",
    "cada caso. O programa deve obter o salário e o tempo de trabalho na empresa.    "
   ]
  },
  {
   "cell_type": "code",
   "execution_count": null,
   "metadata": {
    "slideshow": {
     "slide_type": "fragment"
    }
   },
   "outputs": [],
   "source": [
    "# responda aqui"
   ]
  },
  {
   "cell_type": "markdown",
   "metadata": {
    "slideshow": {
     "slide_type": "slide"
    }
   },
   "source": [
    "### Expressões compostas e álgebra booleana\n",
    "+ Muitas expressões condicionais são avaliadas sobre várias condições relacionadas.\n",
    "+ Portanto, é necessário a criação de expressões condicionais compostas de mais de uma expressão relacional. \n",
    "+ Chama-se proposição todo o conjunto de palavras ou símbolos que exprimem um pensamento de sentido completo.\n",
    "+ Exemplos:\n",
    "    + Belo Horizonte é a capital de Minas Gerais\n",
    "    + X <= Y"
   ]
  },
  {
   "cell_type": "markdown",
   "metadata": {
    "slideshow": {
     "slide_type": "slide"
    }
   },
   "source": [
    "### Proposições\n",
    "O valor lógico de uma proposição, obtido como resultado de sua avaliação, é *True* se a proposição for verdadeira e \n",
    "*False* se a proposição for falsa.\n",
    "\n",
    "Exemplos:\n",
    "+ O Sol gira em torno da Terra $\\Rightarrow$ False\n",
    "+ sen $\\pi/2$ = 1 $\\Rightarrow$ True"
   ]
  },
  {
   "cell_type": "markdown",
   "metadata": {
    "slideshow": {
     "slide_type": "slide"
    }
   },
   "source": [
    "### Proposições Simples\n",
    "Chama-se proposição simples aquela que não contém nenhuma outra proposição como parte integrante de si mesma.\n",
    "\n",
    "Exemplos:\n",
    "+ A $\\neq$ B \n",
    "+ B $>$ C\n",
    "+ A Terra é um planeta    "
   ]
  },
  {
   "cell_type": "markdown",
   "metadata": {
    "slideshow": {
     "slide_type": "slide"
    }
   },
   "source": [
    "### Proposições Compostas\n",
    "Chama-se proposição composta aquela formada pela composição de duas ou mais proposições.\n",
    "\n",
    "Exemplos:\n",
    "+ A $>$ B e B $>$ C\n",
    "+ O triângulo ABC é equilátero ou é isósceles."
   ]
  },
  {
   "cell_type": "markdown",
   "metadata": {
    "slideshow": {
     "slide_type": "slide"
    }
   },
   "source": [
    "Conectivos\n",
    "+ São palavras utilizadas para formar proposições compostas a partir de proposições mais simples (e, ou, não).\n",
    "+ Exemplos: \n",
    "    + O número 6 é par **e** o número 8 é um cubo perfeito.\n",
    "    + A $>$ B **ou** C = 0\n",
    "    + **Não** está chovendo.\n",
    "\n",
    "Operações Lógicas\n",
    "+ Conjunção (**e**)\n",
    "+ Disjunção (**ou**)\n",
    "+ Negação (**não**)"
   ]
  },
  {
   "cell_type": "markdown",
   "metadata": {
    "slideshow": {
     "slide_type": "slide"
    }
   },
   "source": [
    "Conjunção (**e**)\n",
    "+ Chama-se conjunção de duas proposições P e Q a proposição \"P e Q\", cujo valor lógico é True quando P e Q são ambas verdadeiras e False nos demais casos.\n",
    "+ Tabela-Verdade:\n",
    "![alt_text](fig1Exp.png)"
   ]
  },
  {
   "cell_type": "markdown",
   "metadata": {
    "slideshow": {
     "slide_type": "slide"
    }
   },
   "source": [
    "Disjunção (**ou**)\n",
    "+ Chama-se disjunção de duas proposições P e Q a proposição \"P ou Q\", cujo valor lógico é True quando pelo menos uma das proposições componentes é verdadeira e False nos demais casos.\n",
    "+ Tabela-Verdade:\n",
    "![alt_text](fig2Exp.png)"
   ]
  },
  {
   "cell_type": "markdown",
   "metadata": {
    "slideshow": {
     "slide_type": "slide"
    }
   },
   "source": [
    "Negação (**não**)\n",
    "+ Chama-se negação de uma proposição P a proposição \"não P\", cujo valor lógico é True quando P é falsa e False quando P é verdadeira.\n",
    "+ Tabela-Verdade:\n",
    "![alt_text](fig3Exp.png)"
   ]
  },
  {
   "cell_type": "markdown",
   "metadata": {
    "slideshow": {
     "slide_type": "slide"
    }
   },
   "source": [
    "Operadores Lógicos – Linguagem Python\n",
    "+ Conjunção: and\n",
    "+ Disjunção: or\n",
    "+ Negação: not    "
   ]
  },
  {
   "cell_type": "markdown",
   "metadata": {
    "slideshow": {
     "slide_type": "slide"
    }
   },
   "source": [
    "Expressões Booleanas\n",
    "+ Uma expressão booleana é uma expressão cujos operadores são os operadores lógicos e cujos operandos são relações (expressões relacionais).\n",
    "+ O resultado de uma expressão booleana é um valor do tipo booleano.\n",
    "+ Exemplos:\n",
    "    + A $>$ B and A $>$ C\n",
    "    + num == 0 or num == 1"
   ]
  },
  {
   "cell_type": "markdown",
   "metadata": {
    "slideshow": {
     "slide_type": "slide"
    }
   },
   "source": [
    "A expressão que compõe um comando condicional pode expressar:\n",
    "+ Condição Simples $\\Rightarrow$ Expressão Relacional\n",
    "+ Condição Composta $\\Rightarrow$ Expressão Booleana"
   ]
  },
  {
   "cell_type": "markdown",
   "metadata": {
    "slideshow": {
     "slide_type": "slide"
    }
   },
   "source": [
    "Exemplos:\n",
    "    \n",
    "if (nota $>=$ 70 and nota $<$ 90):\n",
    "    \n",
    "    print(\"Estudante tera conceito B. \")\n",
    "    \n",
    "if (mes $<$ 1 or mes $>$ 12):\n",
    "    \n",
    "    print(\"Mês inválido.\")"
   ]
  },
  {
   "cell_type": "markdown",
   "metadata": {
    "slideshow": {
     "slide_type": "slide"
    }
   },
   "source": [
    "Exemplos:"
   ]
  },
  {
   "cell_type": "code",
   "execution_count": null,
   "metadata": {
    "slideshow": {
     "slide_type": "fragment"
    }
   },
   "outputs": [],
   "source": [
    "hora = int(input(\"Digite a hora atual: \"))\n",
    "if (hora >= 0 and hora < 12):\n",
    "    print(\"Bom dia!\")\n",
    "if (hora >= 12 and hora < 18):\n",
    "    print(\"Boa tarde!\")    \n",
    "if (hora >= 18 and hora < 24):\n",
    "    print(\"Boa noite!\")    \n",
    "if (hora < 0 or hora >= 24):\n",
    "    print(\"Hora inválida!\")        "
   ]
  },
  {
   "cell_type": "markdown",
   "metadata": {
    "slideshow": {
     "slide_type": "slide"
    }
   },
   "source": [
    "### Estrutura Condicional Aninhada\n",
    "+ Muitas aplicações têm a necessidade de tomar outras decisões dentro de uma das alternativas de uma estrutura condicional (if ou else).\n",
    "+ Usar estrutura **condicional aninhada**.\n",
    "+ Problema 1: Ler um número e imprimir se ele é positivo, negativo ou nulo.                    "
   ]
  },
  {
   "cell_type": "markdown",
   "metadata": {
    "slideshow": {
     "slide_type": "slide"
    }
   },
   "source": [
    "Solução 1: Usando estrutura não aninhada"
   ]
  },
  {
   "cell_type": "code",
   "execution_count": null,
   "metadata": {
    "slideshow": {
     "slide_type": "fragment"
    }
   },
   "outputs": [],
   "source": [
    "num = int(input(\"Digite um número: \"))\n",
    "if num > 0:\n",
    "    print(\"O número {} é positivo\".format(num))\n",
    "if num < 0:\n",
    "    print(\"O número {} é negativo\".format(num))\n",
    "if num == 0:\n",
    "    print(\"O número {} é nulo\".format(num))"
   ]
  },
  {
   "cell_type": "markdown",
   "metadata": {
    "slideshow": {
     "slide_type": "slide"
    }
   },
   "source": [
    "Solução 2: Usando estrutura aninhada"
   ]
  },
  {
   "cell_type": "code",
   "execution_count": null,
   "metadata": {
    "slideshow": {
     "slide_type": "fragment"
    }
   },
   "outputs": [],
   "source": [
    "num = int(input(\"Digite um número: \"))\n",
    "if num > 0:\n",
    "    print(\"O número {} é positivo\".format(num))\n",
    "else:\n",
    "    if num < 0:\n",
    "        print(\"O número {} é negativo\".format(num))\n",
    "    else:\n",
    "        print(\"O número {} é nulo\".format(num))"
   ]
  },
  {
   "cell_type": "markdown",
   "metadata": {
    "slideshow": {
     "slide_type": "slide"
    }
   },
   "source": [
    "Solução 3: Usando elif"
   ]
  },
  {
   "cell_type": "code",
   "execution_count": null,
   "metadata": {
    "slideshow": {
     "slide_type": "fragment"
    }
   },
   "outputs": [],
   "source": [
    "num = int(input(\"Digite um número: \"))\n",
    "if num > 0:\n",
    "    print(\"O número {} é positivo\".format(num))\n",
    "elif num < 0:\n",
    "    print(\"O número {} é negativo\".format(num))\n",
    "else:\n",
    "    print(\"O número {} é nulo\".format(num))"
   ]
  },
  {
   "cell_type": "markdown",
   "metadata": {
    "slideshow": {
     "slide_type": "slide"
    }
   },
   "source": [
    "Problema 2: Informar se um número é divisível por 10, por 5, por 2 ou se não é divisível por nenhum destes."
   ]
  },
  {
   "cell_type": "code",
   "execution_count": null,
   "metadata": {
    "slideshow": {
     "slide_type": "fragment"
    }
   },
   "outputs": [],
   "source": [
    "num = int(input(\"Digite um número: \"))\n",
    "if num %10 == 0:\n",
    "    print(\"O número {} é múltiplo de 10\".format(num))\n",
    "if num % 10 != 0 and num % 2 == 0:\n",
    "    print(\"O número {} é múltiplo de 2\".format(num))\n",
    "if num % 10 != 0 and num % 2 != 0 and num % 5 == 0:\n",
    "    print(\"O número {} é múltiplo de 5\".format(num))\n",
    "if num % 10 != 0 and num % 2 != 0 and num % 5 != 0:\n",
    "    print(\"O número {} não é múltiplo de 2, nem de 5, nem de 10\".format(num))"
   ]
  },
  {
   "cell_type": "code",
   "execution_count": null,
   "metadata": {
    "slideshow": {
     "slide_type": "slide"
    }
   },
   "outputs": [],
   "source": [
    "num = int(input(\"Digite um número: \"))\n",
    "if num %10 == 0:\n",
    "    print(\"O número {} é múltiplo de 10\".format(num))\n",
    "if num % 2 == 0:\n",
    "    print(\"O número {} é múltiplo de 2\".format(num))\n",
    "if num % 5 == 0:\n",
    "    print(\"O número {} é múltiplo de 5\".format(num))\n",
    "else:\n",
    "    print(\"O número {} não é múltiplo de 2, nem de 5, nem de 10\".format(num))"
   ]
  },
  {
   "cell_type": "markdown",
   "metadata": {
    "slideshow": {
     "slide_type": "slide"
    }
   },
   "source": [
    "Solução 2 com aninhamento:"
   ]
  },
  {
   "cell_type": "code",
   "execution_count": null,
   "metadata": {
    "slideshow": {
     "slide_type": "fragment"
    }
   },
   "outputs": [],
   "source": [
    "num = int(input(\"Digite um número: \"))\n",
    "if num %10 == 0:\n",
    "    print(\"O número {} é múltiplo de 10\".format(num))\n",
    "elif num % 2 == 0:\n",
    "    print(\"O número {} é múltiplo de 2\".format(num))\n",
    "elif num % 5 == 0:\n",
    "    print(\"O número {} é múltiplo de 5\".format(num))\n",
    "else:\n",
    "    print(\"O número {} não é múltiplo de 2, nem de 5, nem de 10\".format(num))"
   ]
  }
 ],
 "metadata": {
  "celltoolbar": "Slideshow",
  "kernelspec": {
   "display_name": "Python 3",
   "language": "python",
   "name": "python3"
  },
  "language_info": {
   "codemirror_mode": {
    "name": "ipython",
    "version": 3
   },
   "file_extension": ".py",
   "mimetype": "text/x-python",
   "name": "python",
   "nbconvert_exporter": "python",
   "pygments_lexer": "ipython3",
   "version": "3.6.8"
  }
 },
 "nbformat": 4,
 "nbformat_minor": 2
}
